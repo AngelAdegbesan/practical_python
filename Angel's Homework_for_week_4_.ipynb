{
 "cells": [
  {
   "cell_type": "markdown",
   "metadata": {
    "id": "Iz2mPruuLNDG"
   },
   "source": [
    "# Homework for week 4"
   ]
  },
  {
   "cell_type": "markdown",
   "metadata": {
    "id": "J3SAoD1ZLNDa"
   },
   "source": [
    "## Functions"
   ]
  },
  {
   "cell_type": "markdown",
   "metadata": {
    "id": "3UGFoGn8LNDa"
   },
   "source": [
    "#### 1. Convert String Number to Integer\n",
    "Create a function that can take something like ```\"$5,356\"``` or ```\"$250,000\"``` or even ```\"$10.75\"``` and covert into integers like return ```5356```, ```250000``` and ```11``` respectively."
   ]
  },
  {
   "cell_type": "code",
   "execution_count": 88,
   "metadata": {
    "id": "uMP1kvHDLNDb"
   },
   "outputs": [],
   "source": [
    "## build function here\n",
    "\n",
    "def int_num (number):\n",
    "    '''\n",
    "    convert string into an integer\n",
    "    '''\n",
    "    number = number.replace (\"$\", \"\").replace (\",\",\"\")\n",
    "         \n",
    "\n",
    "    return round(float(number)) "
   ]
  },
  {
   "cell_type": "code",
   "execution_count": 89,
   "metadata": {
    "id": "sry36rAfLNDe"
   },
   "outputs": [
    {
     "data": {
      "text/plain": [
       "5356"
      ]
     },
     "execution_count": 89,
     "metadata": {},
     "output_type": "execute_result"
    }
   ],
   "source": [
    "## call the function on \"$5,356\"\n",
    "##Did you get 5356\n",
    "int_num(\"$5,356\")"
   ]
  },
  {
   "cell_type": "code",
   "execution_count": 90,
   "metadata": {
    "id": "JUkBfxMoLNDg"
   },
   "outputs": [
    {
     "data": {
      "text/plain": [
       "11"
      ]
     },
     "execution_count": 90,
     "metadata": {},
     "output_type": "execute_result"
    }
   ],
   "source": [
    "## call the function on \"$10.75\"\n",
    "## Did you get 11?\n",
    "\n",
    "int_num (\"$10.75\")"
   ]
  },
  {
   "cell_type": "code",
   "execution_count": 91,
   "metadata": {
    "id": "sRAqjMx6LNDj"
   },
   "outputs": [
    {
     "data": {
      "text/plain": [
       "<map at 0x7f88e73a3670>"
      ]
     },
     "execution_count": 91,
     "metadata": {},
     "output_type": "execute_result"
    }
   ],
   "source": [
    "## Use map() to run your function on the following list\n",
    "## save result in a list called updated_list\n",
    "my_amounts = [\"$12.24\", \"$4,576.33\", \"$23,629.01\"]\n",
    "map(int_num, my_amounts)"
   ]
  },
  {
   "cell_type": "code",
   "execution_count": 100,
   "metadata": {},
   "outputs": [],
   "source": [
    "updated_list = list(map(int_num, my_amounts))"
   ]
  },
  {
   "cell_type": "code",
   "execution_count": 101,
   "metadata": {},
   "outputs": [
    {
     "data": {
      "text/plain": [
       "[12, 4576, 23629]"
      ]
     },
     "execution_count": 101,
     "metadata": {},
     "output_type": "execute_result"
    }
   ],
   "source": [
    "updated_list"
   ]
  },
  {
   "cell_type": "markdown",
   "metadata": {
    "id": "mmIBlUMgLNDl"
   },
   "source": [
    "### 3. What if we encounter a list that has a mix of numbers as strings and integers and floats?"
   ]
  },
  {
   "cell_type": "code",
   "execution_count": 96,
   "metadata": {
    "id": "fDHpj2KaLNDm"
   },
   "outputs": [],
   "source": [
    "## Run this cell\n",
    "more_amounts = [960, \"$12.24\", \"$4,576.33\", \"$23,629.01\", 23.656]"
   ]
  },
  {
   "cell_type": "code",
   "execution_count": 107,
   "metadata": {
    "id": "BmPYPzVWLNDo"
   },
   "outputs": [],
   "source": [
    "## tweaked the function here to handle all situations\n",
    "\n",
    "\n",
    "def int_num (number):\n",
    "    '''\n",
    "    convert string into an integer\n",
    "    '''\n",
    "    number = number.replace (\"$\", \"\").replace (\",\",\"\")\n",
    "    while number == number:\n",
    "        return round(float(number))\n",
    "            \n",
    "    else:\n",
    "        pass\n",
    "        \n",
    "    return round(float(number))  \n",
    "   \n"
   ]
  },
  {
   "cell_type": "code",
   "execution_count": 108,
   "metadata": {
    "id": "fWfOcyxeLNDq"
   },
   "outputs": [
    {
     "data": {
      "text/plain": [
       "<map at 0x7f88e7443430>"
      ]
     },
     "execution_count": 108,
     "metadata": {},
     "output_type": "execute_result"
    }
   ],
   "source": [
    "## run it on more_amounts using map()\n",
    "map(int_num, more_amounts)"
   ]
  },
  {
   "cell_type": "code",
   "execution_count": 109,
   "metadata": {},
   "outputs": [
    {
     "ename": "AttributeError",
     "evalue": "'int' object has no attribute 'replace'",
     "output_type": "error",
     "traceback": [
      "\u001b[0;31m---------------------------------------------------------------------------\u001b[0m",
      "\u001b[0;31mAttributeError\u001b[0m                            Traceback (most recent call last)",
      "\u001b[0;32m<ipython-input-109-ffb7e8fac8f8>\u001b[0m in \u001b[0;36m<module>\u001b[0;34m\u001b[0m\n\u001b[0;32m----> 1\u001b[0;31m \u001b[0mupdated_list\u001b[0m \u001b[0;34m=\u001b[0m \u001b[0mlist\u001b[0m\u001b[0;34m(\u001b[0m\u001b[0mmap\u001b[0m\u001b[0;34m(\u001b[0m\u001b[0mint_num\u001b[0m\u001b[0;34m,\u001b[0m \u001b[0mmore_amounts\u001b[0m\u001b[0;34m)\u001b[0m\u001b[0;34m)\u001b[0m\u001b[0;34m\u001b[0m\u001b[0;34m\u001b[0m\u001b[0m\n\u001b[0m",
      "\u001b[0;32m<ipython-input-107-934e542d9af1>\u001b[0m in \u001b[0;36mint_num\u001b[0;34m(number)\u001b[0m\n\u001b[1;32m      6\u001b[0m     \u001b[0mconvert\u001b[0m \u001b[0mstring\u001b[0m \u001b[0minto\u001b[0m \u001b[0man\u001b[0m \u001b[0minteger\u001b[0m\u001b[0;34m\u001b[0m\u001b[0;34m\u001b[0m\u001b[0m\n\u001b[1;32m      7\u001b[0m     '''\n\u001b[0;32m----> 8\u001b[0;31m     \u001b[0mnumber\u001b[0m \u001b[0;34m=\u001b[0m \u001b[0mnumber\u001b[0m\u001b[0;34m.\u001b[0m\u001b[0mreplace\u001b[0m \u001b[0;34m(\u001b[0m\u001b[0;34m\"$\"\u001b[0m\u001b[0;34m,\u001b[0m \u001b[0;34m\"\"\u001b[0m\u001b[0;34m)\u001b[0m\u001b[0;34m.\u001b[0m\u001b[0mreplace\u001b[0m \u001b[0;34m(\u001b[0m\u001b[0;34m\",\"\u001b[0m\u001b[0;34m,\u001b[0m\u001b[0;34m\"\"\u001b[0m\u001b[0;34m)\u001b[0m\u001b[0;34m\u001b[0m\u001b[0;34m\u001b[0m\u001b[0m\n\u001b[0m\u001b[1;32m      9\u001b[0m     \u001b[0;32mwhile\u001b[0m \u001b[0mnumber\u001b[0m \u001b[0;34m==\u001b[0m \u001b[0mnumber\u001b[0m\u001b[0;34m:\u001b[0m\u001b[0;34m\u001b[0m\u001b[0;34m\u001b[0m\u001b[0m\n\u001b[1;32m     10\u001b[0m         \u001b[0;32mreturn\u001b[0m \u001b[0mround\u001b[0m\u001b[0;34m(\u001b[0m\u001b[0mfloat\u001b[0m\u001b[0;34m(\u001b[0m\u001b[0mnumber\u001b[0m\u001b[0;34m)\u001b[0m\u001b[0;34m)\u001b[0m\u001b[0;34m\u001b[0m\u001b[0;34m\u001b[0m\u001b[0m\n",
      "\u001b[0;31mAttributeError\u001b[0m: 'int' object has no attribute 'replace'"
     ]
    }
   ],
   "source": [
    "updated_list = list(map(int_num, more_amounts))"
   ]
  },
  {
   "cell_type": "code",
   "execution_count": null,
   "metadata": {},
   "outputs": [],
   "source": []
  }
 ],
 "metadata": {
  "colab": {
   "collapsed_sections": [],
   "name": "Homework-for-week-4_BLANKS.ipynb",
   "provenance": []
  },
  "kernelspec": {
   "display_name": "Python 3",
   "language": "python",
   "name": "python3"
  },
  "language_info": {
   "codemirror_mode": {
    "name": "ipython",
    "version": 3
   },
   "file_extension": ".py",
   "mimetype": "text/x-python",
   "name": "python",
   "nbconvert_exporter": "python",
   "pygments_lexer": "ipython3",
   "version": "3.8.8"
  }
 },
 "nbformat": 4,
 "nbformat_minor": 1
}
