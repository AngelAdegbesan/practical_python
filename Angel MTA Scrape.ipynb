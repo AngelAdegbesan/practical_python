{
 "cells": [
  {
   "cell_type": "code",
   "execution_count": 4,
   "id": "80e5aca3",
   "metadata": {},
   "outputs": [
    {
     "name": "stdout",
     "output_type": "stream",
     "text": [
      "Requirement already satisfied: icecream in /Users/angeladegbesan/opt/anaconda3/lib/python3.8/site-packages (2.1.1)\n",
      "Requirement already satisfied: asttokens>=2.0.1 in /Users/angeladegbesan/opt/anaconda3/lib/python3.8/site-packages (from icecream) (2.0.5)\n",
      "Requirement already satisfied: colorama>=0.3.9 in /Users/angeladegbesan/opt/anaconda3/lib/python3.8/site-packages (from icecream) (0.4.4)\n",
      "Requirement already satisfied: executing>=0.3.1 in /Users/angeladegbesan/opt/anaconda3/lib/python3.8/site-packages (from icecream) (0.8.1)\n",
      "Requirement already satisfied: pygments>=2.2.0 in /Users/angeladegbesan/opt/anaconda3/lib/python3.8/site-packages (from icecream) (2.8.1)\n",
      "Requirement already satisfied: six in /Users/angeladegbesan/opt/anaconda3/lib/python3.8/site-packages (from asttokens>=2.0.1->icecream) (1.15.0)\n",
      "Note: you may need to restart the kernel to use updated packages.\n"
     ]
    }
   ],
   "source": [
    "pip install icecream"
   ]
  },
  {
   "cell_type": "code",
   "execution_count": 5,
   "id": "1acfc811",
   "metadata": {},
   "outputs": [],
   "source": [
    "from bs4 import BeautifulSoup  \n",
    "import requests \n",
    "import time \n",
    "from random import randrange \n",
    "from icecream import ic\n",
    "import itertools\n",
    "import wget"
   ]
  },
  {
   "cell_type": "code",
   "execution_count": 6,
   "id": "cfbb11a4",
   "metadata": {},
   "outputs": [
    {
     "name": "stderr",
     "output_type": "stream",
     "text": [
      "ic| response.status_code: 200\n"
     ]
    },
    {
     "data": {
      "text/plain": [
       "200"
      ]
     },
     "execution_count": 6,
     "metadata": {},
     "output_type": "execute_result"
    }
   ],
   "source": [
    "url = \"http://web.mta.info/developers/turnstile.html\"\n",
    "response = requests.get(url)\n",
    "ic(response.status_code)"
   ]
  },
  {
   "cell_type": "code",
   "execution_count": 7,
   "id": "f792039e",
   "metadata": {},
   "outputs": [],
   "source": [
    "soup = BeautifulSoup (response.text, \"html.parser\")"
   ]
  },
  {
   "cell_type": "code",
   "execution_count": 11,
   "id": "458738cf",
   "metadata": {},
   "outputs": [
    {
     "name": "stderr",
     "output_type": "stream",
     "text": [
      "ic| holder: [<a href=\"data/nyct/turnstile/turnstile_211016.txt\">Saturday, October 16, 2021</a>,\n",
      "             <a href=\"data/nyct/turnstile/turnstile_211009.txt\">Saturday, October 09, 2021</a>,\n",
      "             <a href=\"data/nyct/turnstile/turnstile_211002.txt\">Saturday, October 02, 2021</a>,\n",
      "             <a href=\"data/nyct/turnstile/turnstile_210925.txt\">Saturday, September 25, 2021</a>,\n",
      "             <a href=\"data/nyct/turnstile/turnstile_210918.txt\">Saturday, September 18, 2021</a>,\n",
      "             <a href=\"data/nyct/turnstile/turnstile_210911.txt\">Saturday, September 11, 2021</a>,\n",
      "             <a href=\"data/nyct/turnstile/turnstile_210904.txt\">Saturday, September 04, 2021</a>,\n",
      "             <a href=\"data/nyct/turnstile/turnstile_210828.txt\">Saturday, August 28, 2021</a>,\n",
      "             <a href=\"data/nyct/turnstile/turnstile_210821.txt\">Saturday, August 21, 2021</a>,\n",
      "             <a href=\"data/nyct/turnstile/turnstile_210814.txt\">Saturday, August 14, 2021</a>,\n",
      "             <a href=\"data/nyct/turnstile/turnstile_210807.txt\">Saturday, August 07, 2021</a>,\n",
      "             <a href=\"data/nyct/turnstile/turnstile_210731.txt\">Saturday, July 31, 2021</a>,\n",
      "             <a href=\"data/nyct/turnstile/turnstile_210724.txt\">Saturday, July 24, 2021</a>,\n",
      "             <a href=\"data/nyct/turnstile/turnstile_210717.txt\">Saturday, July 17, 2021</a>,\n",
      "             <a href=\"data/nyct/turnstile/turnstile_210710.txt\">Saturday, July 10, 2021</a>,\n",
      "             <a href=\"data/nyct/turnstile/turnstile_210703.txt\">Saturday, July 03, 2021</a>,\n",
      "             <a href=\"data/nyct/turnstile/turnstile_210626.txt\">Saturday, June 26, 2021</a>,\n",
      "             <a href=\"data/nyct/turnstile/turnstile_210619.txt\">Saturday, June 19, 2021</a>,\n",
      "             <a href=\"data/nyct/turnstile/turnstile_210612.txt\">Saturday, June 12, 2021</a>,\n",
      "             <a href=\"data/nyct/turnstile/turnstile_210605.txt\">Saturday, June 05, 2021</a>,\n",
      "             <a href=\"data/nyct/turnstile/turnstile_210529.txt\">Saturday, May 29, 2021</a>,\n",
      "             <a href=\"data/nyct/turnstile/turnstile_210522.txt\">Saturday, May 22, 2021</a>,\n",
      "             <a href=\"data/nyct/turnstile/turnstile_210515.txt\">Saturday, May 15, 2021</a>,\n",
      "             <a href=\"data/nyct/turnstile/turnstile_210508.txt\">Saturday, May 08, 2021</a>,\n",
      "             <a href=\"data/nyct/turnstile/turnstile_210501.txt\">Saturday, May 01, 2021</a>,\n",
      "             <a href=\"data/nyct/turnstile/turnstile_210424.txt\">Saturday, April 24, 2021</a>,\n",
      "             <a href=\"data/nyct/turnstile/turnstile_210417.txt\">Saturday, April 17, 2021</a>,\n",
      "             <a href=\"data/nyct/turnstile/turnstile_210410.txt\">Saturday, April 10, 2021</a>,\n",
      "             <a href=\"data/nyct/turnstile/turnstile_210403.txt\">Saturday, April 03, 2021</a>,\n",
      "             <a href=\"data/nyct/turnstile/turnstile_210327.txt\">Saturday, March 27, 2021</a>,\n",
      "             <a href=\"data/nyct/turnstile/turnstile_210320.txt\">Saturday, March 20, 2021</a>,\n",
      "             <a href=\"data/nyct/turnstile/turnstile_210313.txt\">Saturday, March 13, 2021</a>,\n",
      "             <a href=\"data/nyct/turnstile/turnstile_210306.txt\">Saturday, March 06, 2021</a>,\n",
      "             <a href=\"data/nyct/turnstile/turnstile_210227.txt\">Saturday, February 27, 2021</a>,\n",
      "             <a href=\"data/nyct/turnstile/turnstile_210220.txt\">Saturday, February 20, 2021</a>,\n",
      "             <a href=\"data/nyct/turnstile/turnstile_210213.txt\">Saturday, February 13, 2021</a>,\n",
      "             <a href=\"data/nyct/turnstile/turnstile_210206.txt\">Saturday, February 06, 2021</a>,\n",
      "             <a href=\"data/nyct/turnstile/turnstile_210130.txt\">Saturday, January 30, 2021</a>,\n",
      "             <a href=\"data/nyct/turnstile/turnstile_210123.txt\">Saturday, January 23, 2021</a>,\n",
      "             <a href=\"data/nyct/turnstile/turnstile_210116.txt\">Saturday, January 16, 2021</a>,\n",
      "             <a href=\"data/nyct/turnstile/turnstile_210109.txt\">Saturday, January 09, 2021</a>,\n",
      "             <a href=\"data/nyct/turnstile/turnstile_210102.txt\">Saturday, January 02, 2021</a>,\n",
      "             <a href=\"data/nyct/turnstile/turnstile_201226.txt\">Saturday, December 26, 2020</a>,\n",
      "             <a href=\"data/nyct/turnstile/turnstile_201219.txt\">Saturday, December 19, 2020</a>,\n",
      "             <a href=\"data/nyct/turnstile/turnstile_201212.txt\">Saturday, December 12, 2020</a>,\n",
      "             <a href=\"data/nyct/turnstile/turnstile_201205.txt\">Saturday, December 05, 2020</a>,\n",
      "             <a href=\"data/nyct/turnstile/turnstile_201128.txt\">Saturday, November 28, 2020</a>,\n",
      "             <a href=\"data/nyct/turnstile/turnstile_201121.txt\">Saturday, November 21, 2020</a>,\n",
      "             <a href=\"data/nyct/turnstile/turnstile_201114.txt\">Saturday, November 14, 2020</a>,\n",
      "             <a href=\"data/nyct/turnstile/turnstile_201107.txt\">Saturday, November 07, 2020</a>,\n",
      "             <a href=\"data/nyct/turnstile/turnstile_201031.txt\">Saturday, October 31, 2020</a>,\n",
      "             <a href=\"data/nyct/turnstile/turnstile_201024.txt\">Saturday, October 24, 2020</a>,\n",
      "             <a href=\"data/nyct/turnstile/turnstile_201017.txt\">Saturday, October 17, 2020</a>,\n",
      "             <a href=\"data/nyct/turnstile/turnstile_201010.txt\">Saturday, October 10, 2020</a>,\n",
      "             <a href=\"data/nyct/turnstile/turnstile_201003.txt\">Saturday, October 03, 2020</a>,\n",
      "             <a href=\"data/nyct/turnstile/turnstile_200926.txt\">Saturday, September 26, 2020</a>,\n",
      "             <a href=\"data/nyct/turnstile/turnstile_200919.txt\">Saturday, September 19, 2020</a>,\n",
      "             <a href=\"data/nyct/turnstile/turnstile_200912.txt\">Saturday, September 12, 2020</a>,\n",
      "             <a href=\"data/nyct/turnstile/turnstile_200905.txt\">Saturday, September 05, 2020</a>,\n",
      "             <a href=\"data/nyct/turnstile/turnstile_200829.txt\">Saturday, August 29, 2020</a>,\n",
      "             <a href=\"data/nyct/turnstile/turnstile_200822.txt\">Saturday, August 22, 2020</a>,\n",
      "             <a href=\"data/nyct/turnstile/turnstile_200815.txt\">Saturday, August 15, 2020</a>,\n",
      "             <a href=\"data/nyct/turnstile/turnstile_200808.txt\">Saturday, August 08, 2020</a>,\n",
      "             <a href=\"data/nyct/turnstile/turnstile_200801.txt\">Saturday, August 01, 2020</a>,\n",
      "             <a href=\"data/nyct/turnstile/turnstile_200725.txt\">Saturday, July 25, 2020</a>,\n",
      "             <a href=\"data/nyct/turnstile/turnstile_200718.txt\">Saturday, July 18, 2020</a>,\n",
      "             <a href=\"data/nyct/turnstile/turnstile_200711.txt\">Saturday, July 11, 2020</a>,\n",
      "             <a href=\"data/nyct/turnstile/turnstile_200704.txt\">Saturday, July 04, 2020</a>,\n",
      "             <a href=\"data/nyct/turnstile/turnstile_200627.txt\">Saturday, June 27, 2020</a>,\n",
      "             <a href=\"data/nyct/turnstile/turnstile_200620.txt\">Saturday, June 20, 2020</a>,\n",
      "             <a href=\"data/nyct/turnstile/turnstile_200613.txt\">Saturday, June 13, 2020</a>,\n",
      "             <a href=\"data/nyct/turnstile/turnstile_200606.txt\">Saturday, June 06, 2020</a>,\n",
      "             <a href=\"data/nyct/turnstile/turnstile_200530.txt\">Saturday, May 30, 2020</a>,\n",
      "             <a href=\"data/nyct/turnstile/turnstile_200523.txt\">Saturday, May 23, 2020</a>,\n",
      "             <a href=\"data/nyct/turnstile/turnstile_200516.txt\">Saturday, May 16, 2020</a>,\n",
      "             <a href=\"data/nyct/turnstile/turnstile_200509.txt\">Saturday, May 09, 2020</a>,\n",
      "             <a href=\"data/nyct/turnstile/turnstile_200502.txt\">Saturday, May 02, 2020</a>,\n",
      "             <a href=\"data/nyct/turnstile/turnstile_200425.txt\">Saturday, April 25, 2020</a>,\n",
      "             <a href=\"data/nyct/turnstile/turnstile_200418.txt\">Saturday, April 18, 2020</a>,\n",
      "             <a href=\"data/nyct/turnstile/turnstile_200411.txt\">Saturday, April 11, 2020</a>,\n",
      "             <a href=\"data/nyct/turnstile/turnstile_200404.txt\">Saturday, April 04, 2020</a>,\n",
      "             <a href=\"data/nyct/turnstile/turnstile_200328.txt\">Saturday, March 28, 2020</a>,\n",
      "             <a href=\"data/nyct/turnstile/turnstile_200321.txt\">Saturday, March 21, 2020</a>,\n",
      "             <a href=\"data/nyct/turnstile/turnstile_200314.txt\">Saturday, March 14, 2020</a>,\n",
      "             <a href=\"data/nyct/turnstile/turnstile_200307.txt\">Saturday, March 07, 2020</a>,\n",
      "             <a href=\"data/nyct/turnstile/turnstile_200229.txt\">Saturday, February 29, 2020</a>,\n"
     ]
    },
    {
     "name": "stderr",
     "output_type": "stream",
     "text": [
      "             <a href=\"data/nyct/turnstile/turnstile_200222.txt\">Saturday, February 22, 2020</a>,\n",
      "             <a href=\"data/nyct/turnstile/turnstile_200215.txt\">Saturday, February 15, 2020</a>,\n",
      "             <a href=\"data/nyct/turnstile/turnstile_200208.txt\">Saturday, February 08, 2020</a>,\n",
      "             <a href=\"data/nyct/turnstile/turnstile_200201.txt\">Saturday, February 01, 2020</a>,\n",
      "             <a href=\"data/nyct/turnstile/turnstile_200125.txt\">Saturday, January 25, 2020</a>,\n",
      "             <a href=\"data/nyct/turnstile/turnstile_200118.txt\">Saturday, January 18, 2020</a>,\n",
      "             <a href=\"data/nyct/turnstile/turnstile_200111.txt\">Saturday, January 11, 2020</a>,\n",
      "             <a href=\"data/nyct/turnstile/turnstile_200104.txt\">Saturday, January 04, 2020</a>,\n",
      "             <a href=\"data/nyct/turnstile/turnstile_191228.txt\">Saturday, December 28, 2019</a>,\n",
      "             <a href=\"data/nyct/turnstile/turnstile_191221.txt\">Saturday, December 21, 2019</a>,\n",
      "             <a href=\"data/nyct/turnstile/turnstile_191214.txt\">Saturday, December 14, 2019</a>,\n",
      "             <a href=\"data/nyct/turnstile/turnstile_191207.txt\">Saturday, December 07, 2019</a>,\n",
      "             <a href=\"data/nyct/turnstile/turnstile_191130.txt\">Saturday, November 30, 2019</a>,\n",
      "             <a href=\"data/nyct/turnstile/turnstile_191123.txt\">Saturday, November 23, 2019</a>,\n",
      "             <a href=\"data/nyct/turnstile/turnstile_191116.txt\">Saturday, November 16, 2019</a>,\n",
      "             <a href=\"data/nyct/turnstile/turnstile_191109.txt\">Saturday, November 09, 2019</a>,\n",
      "             <a href=\"data/nyct/turnstile/turnstile_191102.txt\">Saturday, November 02, 2019</a>,\n",
      "             <a href=\"data/nyct/turnstile/turnstile_191026.txt\">Saturday, October 26, 2019</a>,\n",
      "             <a href=\"data/nyct/turnstile/turnstile_191019.txt\">Saturday, October 19, 2019</a>,\n",
      "             <a href=\"data/nyct/turnstile/turnstile_191012.txt\">Saturday, October 12, 2019</a>,\n",
      "             <a href=\"data/nyct/turnstile/turnstile_191005.txt\">Saturday, October 05, 2019</a>,\n",
      "             <a href=\"data/nyct/turnstile/turnstile_190928.txt\">Saturday, September 28, 2019</a>,\n",
      "             <a href=\"data/nyct/turnstile/turnstile_190921.txt\">Saturday, September 21, 2019</a>,\n",
      "             <a href=\"data/nyct/turnstile/turnstile_190914.txt\">Saturday, September 14, 2019</a>,\n",
      "             <a href=\"data/nyct/turnstile/turnstile_190907.txt\">Saturday, September 07, 2019</a>,\n",
      "             <a href=\"data/nyct/turnstile/turnstile_190831.txt\">Saturday, August 31, 2019</a>,\n",
      "             <a href=\"data/nyct/turnstile/turnstile_190824.txt\">Saturday, August 24, 2019</a>,\n",
      "             <a href=\"data/nyct/turnstile/turnstile_190817.txt\">Saturday, August 17, 2019</a>,\n",
      "             <a href=\"data/nyct/turnstile/turnstile_190810.txt\">Saturday, August 10, 2019</a>,\n",
      "             <a href=\"data/nyct/turnstile/turnstile_190803.txt\">Saturday, August 03, 2019</a>,\n",
      "             <a href=\"data/nyct/turnstile/turnstile_190727.txt\">Saturday, July 27, 2019</a>,\n",
      "             <a href=\"data/nyct/turnstile/turnstile_190720.txt\">Saturday, July 20, 2019</a>,\n",
      "             <a href=\"data/nyct/turnstile/turnstile_190713.txt\">Saturday, July 13, 2019</a>,\n",
      "             <a href=\"data/nyct/turnstile/turnstile_190706.txt\">Saturday, July 06, 2019IOPub message rate exceeded.\n",
      "The notebook server will temporarily stop sending output\n",
      "to the client in order to avoid crashing it.\n",
      "To change this limit, set the config variable\n",
      "`--NotebookApp.iopub_msg_rate_limit`.\n",
      "\n",
      "Current values:\n",
      "NotebookApp.iopub_msg_rate_limit=1000.0 (msgs/sec)\n",
      "NotebookApp.rate_limit_window=3.0 (secs)\n",
      "\n",
      "Saturday, August 25, 2018</a>,\n",
      "             <a href=\"data/nyct/turnstile/turnstile_180818.txt\">Saturday, August 18, 2018</a>,\n",
      "             <a href=\"data/nyct/turnstile/turnstile_180811.txt\">Saturday, August 11, 2018</a>,\n",
      "             <a href=\"data/nyct/turnstile/turnstile_180804.txt\">Saturday, August 04, 2018</a>,\n",
      "             <a href=\"data/nyct/turnstile/turnstile_180728.txt\">Saturday, July 28, 2018</a>,\n",
      "             <a href=\"data/nyct/turnstile/turnstile_180721.txt\">Saturday, July 21, 2018</a>,\n",
      "             <a href=\"data/nyct/turnstile/turnstile_180714.txt\">Saturday, July 14, 2018</a>,\n",
      "             <a href=\"data/nyct/turnstile/turnstile_180707.txt\">Saturday, July 07, 2018</a>,\n",
      "             <a href=\"data/nyct/turnstile/turnstile_180630.txt\">Saturday, June 30, 2018</a>,\n",
      "             <a href=\"data/nyct/turnstile/turnstile_180623.txt\">Saturday, June 23, 2018</a>,\n",
      "             <a href=\"data/nyct/turnstile/turnstile_180616.txt\">Saturday, June 16, 2018</a>,\n",
      "             <a href=\"data/nyct/turnstile/turnstile_180609.txt\">Saturday, June 09, 2018</a>,\n",
      "             <a href=\"data/nyct/turnstile/turnstile_180602.txt\">Saturday, June 02, 2018</a>,\n",
      "             <a href=\"data/nyct/turnstile/turnstile_180526.txt\">Saturday, May 26, 2018</a>,\n",
      "             <a href=\"data/nyct/turnstile/turnstile_180519.txt\">Saturday, May 19, 2018</a>,\n",
      "             <a href=\"data/nyct/turnstile/turnstile_180512.txt\">Saturday, May 12, 2018</a>,\n",
      "             <a href=\"data/nyct/turnstile/turnstile_180505.txt\">Saturday, May 05, 2018</a>,\n",
      "             <a href=\"data/nyct/turnstile/turnstile_180428.txt\">Saturday, April 28, 2018</a>,\n",
      "             <a href=\"data/nyct/turnstile/turnstile_180421.txt\">Saturday, April 21, 2018</a>,\n",
      "             <a href=\"data/nyct/turnstile/turnstile_180414.txt\">Saturday, April 14, 2018</a>,\n",
      "             <a href=\"data/nyct/turnstile/turnstile_180407.txt\">Saturday, April 07, 2018</a>,\n",
      "             <a href=\"data/nyct/turnstile/turnstile_180331.txt\">Saturday, March 31, 2018</a>,\n",
      "             <a href=\"data/nyct/turnstile/turnstile_180324.txt\">Saturday, March 24, 2018</a>,\n",
      "             <a href=\"data/nyct/turnstile/turnstile_180317.txt\">Saturday, March 17, 2018</a>,\n",
      "             <a href=\"data/nyct/turnstile/turnstile_180310.txt\">Saturday, March 10, 2018</a>,\n",
      "             <a href=\"data/nyct/turnstile/turnstile_180303.txt\">Saturday, March 03, 2018</a>,\n",
      "             <a href=\"data/nyct/turnstile/turnstile_180224.txt\">Saturday, February 24, 2018</a>,\n",
      "             <a href=\"data/nyct/turnstile/turnstile_180217.txt\">Saturday, February 17, 2018</a>,\n",
      "             <a href=\"data/nyct/turnstile/turnstile_180210.txt\">Saturday, February 10, 2018</a>,\n",
      "             <a href=\"data/nyct/turnstile/turnstile_180203.txt\">Saturday, February 03, 2018</a>,\n",
      "             <a href=\"data/nyct/turnstile/turnstile_180127.txt\">Saturday, January 27, 2018</a>,\n",
      "             <a href=\"data/nyct/turnstile/turnstile_180120.txt\">Saturday, January 20, 2018</a>,\n",
      "             <a href=\"data/nyct/turnstile/turnstile_180113.txt\">Saturday, January 13, 2018</a>,\n",
      "             <a href=\"data/nyct/turnstile/turnstile_180106.txt\">Saturday, January 06, 2018</a>,\n",
      "             <a href=\"data/nyct/turnstile/turnstile_171230.txt\">Saturday, December 30, 2017</a>,\n",
      "             <a href=\"data/nyct/turnstile/turnstile_171223.txt\">Saturday, December 23, 2017</a>,\n",
      "             <a href=\"data/nyct/turnstile/turnstile_171216.txt\">Saturday, December 16, 2017</a>,\n",
      "             <a href=\"data/nyct/turnstile/turnstile_171209.txt\">Saturday, December 09, 2017</a>,\n",
      "             <a href=\"data/nyct/turnstile/turnstile_171202.txt\">Saturday, December 02, 2017</a>,\n",
      "             <a href=\"data/nyct/turnstile/turnstile_171125.txt\">Saturday, November 25, 2017</a>,\n",
      "             <a href=\"data/nyct/turnstile/turnstile_171118.txt\">Saturday, November 18, 2017</a>,\n",
      "             <a href=\"data/nyct/turnstile/turnstile_171111.txt\">Saturday, November 11, 2017</a>,\n",
      "             <a href=\"data/nyct/turnstile/turnstile_171104.txt\">Saturday, November 04, 2017</a>,\n",
      "             <a href=\"data/nyct/turnstile/turnstile_171028.txt\">Saturday, October 28, 2017</a>,\n",
      "             <a href=\"data/nyct/turnstile/turnstile_171021.txt\">Saturday, October 21, 2017</a>,\n",
      "             <a href=\"data/nyct/turnstile/turnstile_171014.txt\">Saturday, October 14, 2017</a>,\n",
      "             <a href=\"data/nyct/turnstile/turnstile_171007.txt\">Saturday, October 07, 2017</a>,\n",
      "             <a href=\"data/nyct/turnstile/turnstile_170930.txt\">Saturday, September 30, 2017</a>,\n",
      "             <a href=\"data/nyct/turnstile/turnstile_170923.txt\">Saturday, September 23, 2017</a>,\n"
     ]
    },
    {
     "name": "stderr",
     "output_type": "stream",
     "text": [
      "             <a href=\"data/nyct/turnstile/turnstile_170916.txt\">Saturday, September 16, 2017</a>,\n",
      "             <a href=\"data/nyct/turnstile/turnstile_170909.txt\">Saturday, September 09, 2017</a>,\n",
      "             <a href=\"data/nyct/turnstile/turnstile_170902.txt\">Saturday, September 02, 2017</a>,\n",
      "             <a href=\"data/nyct/turnstile/turnstile_170826.txt\">Saturday, August 26, 2017</a>,\n",
      "             <a href=\"data/nyct/turnstile/turnstile_170819.txt\">Saturday, August 19, 2017</a>,\n",
      "             <a href=\"data/nyct/turnstile/turnstile_170812.txt\">Saturday, August 12, 2017</a>,\n",
      "             <a href=\"data/nyct/turnstile/turnstile_170805.txt\">Saturday, August 05, 2017</a>,\n",
      "             <a href=\"data/nyct/turnstile/turnstile_170729.txt\">Saturday, July 29, 2017</a>,\n",
      "             <a href=\"data/nyct/turnstile/turnstile_170722.txt\">Saturday, July 22, 2017</a>,\n",
      "             <a href=\"data/nyct/turnstile/turnstile_170715.txt\">Saturday, July 15, 2017</a>,\n",
      "             <a href=\"data/nyct/turnstile/turnstile_170708.txt\">Saturday, July 08, 2017</a>,\n",
      "             <a href=\"data/nyct/turnstile/turnstile_170701.txt\">Saturday, July 01, 2017</a>,\n",
      "             <a href=\"data/nyct/turnstile/turnstile_170624.txt\">Saturday, June 24, 2017</a>,\n",
      "             <a href=\"data/nyct/turnstile/turnstile_170617.txt\">Saturday, June 17, 2017</a>,\n",
      "             <a href=\"data/nyct/turnstile/turnstile_170610.txt\">Saturday, June 10, 2017</a>,\n",
      "             <a href=\"data/nyct/turnstile/turnstile_170603.txt\">Saturday, June 03, 2017</a>,\n",
      "             <a href=\"data/nyct/turnstile/turnstile_170527.txt\">Saturday, May 27, 2017</a>,\n",
      "             <a href=\"data/nyct/turnstile/turnstile_170520.txt\">Saturday, May 20, 2017</a>,\n",
      "             <a href=\"data/nyct/turnstile/turnstile_170513.txt\">Saturday, May 13, 2017</a>,\n",
      "             <a href=\"data/nyct/turnstile/turnstile_170506.txt\">Saturday, May 06, 2017</a>,\n",
      "             <a href=\"data/nyct/turnstile/turnstile_170429.txt\">Saturday, April 29, 2017</a>,\n",
      "             <a href=\"data/nyct/turnstile/turnstile_170422.txt\">Saturday, April 22, 2017</a>,\n",
      "             <a href=\"data/nyct/turnstile/turnstile_170415.txt\">Saturday, April 15, 2017</a>,\n",
      "             <a href=\"data/nyct/turnstile/turnstile_170408.txt\">Saturday, April 08, 2017</a>,\n",
      "             <a href=\"data/nyct/turnstile/turnstile_170401.txt\">Saturday, April 01, 2017</a>,\n",
      "             <a href=\"data/nyct/turnstile/turnstile_170325.txt\">Saturday, March 25, 2017</a>,\n",
      "             <a href=\"data/nyct/turnstile/turnstile_170318.txt\">Saturday, March 18, 2017</a>,\n",
      "             <a href=\"data/nyct/turnstile/turnstile_170311.txt\">Saturday, March 11, 2017</a>,\n",
      "             <a href=\"data/nyct/turnstile/turnstile_170304.txt\">Saturday, March 04, 2017</a>,\n",
      "             <a href=\"data/nyct/turnstile/turnstile_170225.txt\">Saturday, February 25, 2017</a>,\n",
      "             <a href=\"data/nyct/turnstile/turnstile_170218.txt\">Saturday, February 18, 2017</a>,\n",
      "             <a href=\"data/nyct/turnstile/turnstile_170211.txt\">Saturday, February 11, 2017</a>,\n",
      "             <a href=\"data/nyct/turnstile/turnstile_170204.txt\">Saturday, February 04, 2017</a>,\n",
      "             <a href=\"data/nyct/turnstile/turnstile_170128.txt\">Saturday, January 28, 2017</a>,\n",
      "             <a href=\"data/nyct/turnstile/turnstile_170121.txt\">Saturday, January 21, 2017</a>,\n",
      "             <a href=\"data/nyct/turnstile/turnstile_170114.txt\">Saturday, January 14, 2017</a>,\n",
      "             <a href=\"data/nyct/turnstile/turnstile_170107.txt\">Saturday, January 07, 2017</a>,\n",
      "             <a href=\"data/nyct/turnstile/turnstile_161231.txt\">Saturday, December 31, 2016</a>,\n",
      "             <a href=\"data/nyct/turnstile/turnstile_161224.txt\">Saturday, December 24, 2016</a>,\n",
      "             <a href=\"data/nyct/turnstile/turnstile_161217.txt\">Saturday, December 17, 2016</a>,\n",
      "             <a href=\"data/nyct/turnstile/turnstile_161210.txt\">Saturday, December 10, 2016</a>,\n",
      "             <a href=\"data/nyct/turnstile/turnstile_161203.txt\">Saturday, December 03, 2016</a>,\n",
      "             <a href=\"data/nyct/turnstile/turnstile_161126.txt\">Saturday, November 26, 2016</a>,\n",
      "             <a href=\"data/nyct/turnstile/turnstile_161119.txt\">Saturday, November 19, 2016</a>,\n",
      "             <a href=\"data/nyct/turnstile/turnstile_161112.txt\">Saturday, November 12, 2016</a>,\n",
      "             <a href=\"data/nyct/turnstile/turnstile_161105.txt\">Saturday, November 05, 2016</a>,\n",
      "             <a href=\"data/nyct/turnstile/turnstile_161029.txt\">Saturday, October 29, 2016</a>,\n",
      "             <a href=\"data/nyct/turnstile/turnstile_161022.txt\">Saturday, October 22, 2016</a>,\n",
      "             <a href=\"data/nyct/turnstile/turnstile_161015.txt\">Saturday, October 15, 2016</a>,\n",
      "             <a href=\"data/nyct/turnstile/turnstile_161008.txt\">Saturday, October 08, 2016</a>,\n",
      "             <a href=\"data/nyct/turnstile/turnstile_161001.txt\">Saturday, October 01, 2016</a>,\n",
      "             <a href=\"data/nyct/turnstile/turnstile_160924.txt\">Saturday, September 24, 2016</a>,\n",
      "             <a href=\"data/nyct/turnstile/turnstile_160917.txt\">Saturday, September 17, 2016</a>,\n",
      "             <a href=\"data/nyct/turnstile/turnstile_160910.txt\">Saturday, September 10, 2016</a>,\n",
      "             <a href=\"data/nyct/turnstile/turnstile_160903.txt\">Saturday, September 03, 2016</a>,\n",
      "             <a href=\"data/nyct/turnstile/turnstile_160827.txt\">Saturday, August 27, 2016</a>,\n",
      "             <a href=\"data/nyct/turnstile/turnstile_160820.txt\">Saturday, August 20, 2016</a>,\n",
      "             <a href=\"data/nyct/turnstile/turnstile_160813.txt\">Saturday, August 13, 2016</a>,\n",
      "             <a href=\"data/nyct/turnstile/turnstile_160806.txt\">Saturday, August 06, 2016</a>,\n",
      "             <a href=\"data/nyct/turnstile/turnstile_160730.txt\">Saturday, July 30, 2016</a>,\n",
      "             <a href=\"data/nyct/turnstile/turnstile_160723.txt\">Saturday, July 23, 2016</a>,\n",
      "             <a href=\"data/nyct/turnstile/turnstile_160716.txt\">Saturday, July 16, 2016</a>,\n",
      "             <a href=\"data/nyct/turnstile/turnstile_160709.txt\">Saturday, July 09, 2016</a>,\n",
      "             <a href=\"data/nyct/turnstile/turnstile_160702.txt\">Saturday, July 02, 2016</a>,\n",
      "             <a href=\"data/nyct/turnstile/turnstile_160625.txt\">Saturday, June 25, 2016</a>,\n",
      "             <a href=\"data/nyct/turnstile/turnstile_160618.txt\">Saturday, June 18, 2016</a>,\n",
      "             <a href=\"data/nyct/turnstile/turnstile_160611.txt\">Saturday, June 11, 2016</a>,\n",
      "             <a href=\"data/nyct/turnstile/turnstile_160604.txt\">Saturday, June 04, 2016</a>,\n",
      "             <a href=\"data/nyct/turnstile/turnstile_160528.txt\">Saturday, May 28, 2016</a>,\n",
      "             <a href=\"data/nyct/turnstile/turnstile_160521.txt\">Saturday, May 21, 2016</a>,\n",
      "             <a href=\"data/nyct/turnstile/turnstile_160514.txt\">Saturday, May 14, 2016</a>,\n",
      "             <a href=\"data/nyct/turnstile/turnstile_160507.txt\">IOPub message rate exceeded.\n",
      "The notebook server will temporarily stop sending output\n",
      "to the client in order to avoid crashing it.\n",
      "To change this limit, set the config variable\n",
      "`--NotebookApp.iopub_msg_rate_limit`.\n",
      "\n",
      "Current values:\n",
      "NotebookApp.iopub_msg_rate_limit=1000.0 (msgs/sec)\n",
      "NotebookApp.rate_limit_window=3.0 (secs)\n",
      "\n",
      ",\n",
      "             <a href=\"data/nyct/turnstile/turnstile_150228.txt\">Saturday, February 28, 2015</a>,\n",
      "             <a href=\"data/nyct/turnstile/turnstile_150221.txt\">Saturday, February 21, 2015</a>,\n",
      "             <a href=\"data/nyct/turnstile/turnstile_150214.txt\">Saturday, February 14, 2015</a>,\n",
      "             <a href=\"data/nyct/turnstile/turnstile_150207.txt\">Saturday, February 07, 2015</a>,\n",
      "             <a href=\"data/nyct/turnstile/turnstile_150131.txt\">Saturday, January 31, 2015</a>,\n",
      "             <a href=\"data/nyct/turnstile/turnstile_150124.txt\">Saturday, January 24, 2015</a>,\n",
      "             <a href=\"data/nyct/turnstile/turnstile_150117.txt\">Saturday, January 17, 2015</a>,\n",
      "             <a href=\"data/nyct/turnstile/turnstile_150110.txt\">Saturday, January 10, 2015</a>,\n",
      "             <a href=\"data/nyct/turnstile/turnstile_150103.txt\">Saturday, January 03, 2015</a>,\n",
      "             <a href=\"data/nyct/turnstile/turnstile_141227.txt\">Saturday, December 27, 2014</a>,\n",
      "             <a href=\"data/nyct/turnstile/turnstile_141220.txt\">Saturday, December 20, 2014</a>,\n"
     ]
    },
    {
     "name": "stderr",
     "output_type": "stream",
     "text": [
      "             <a href=\"data/nyct/turnstile/turnstile_141213.txt\">Saturday, December 13, 2014</a>,\n",
      "             <a href=\"data/nyct/turnstile/turnstile_141206.txt\">Saturday, December 06, 2014</a>,\n",
      "             <a href=\"data/nyct/turnstile/turnstile_141129.txt\">Saturday, November 29, 2014</a>,\n",
      "             <a href=\"data/nyct/turnstile/turnstile_141122.txt\">Saturday, November 22, 2014</a>,\n",
      "             <a href=\"data/nyct/turnstile/turnstile_141115.txt\">Saturday, November 15, 2014</a>,\n",
      "             <a href=\"data/nyct/turnstile/turnstile_141108.txt\">Saturday, November 08, 2014</a>,\n",
      "             <a href=\"data/nyct/turnstile/turnstile_141101.txt\">Saturday, November 01, 2014</a>,\n",
      "             <a href=\"data/nyct/turnstile/turnstile_141025.txt\">Saturday, October 25, 2014</a>,\n",
      "             <a href=\"data/nyct/turnstile/turnstile_141018.txt\">Saturday, October 18, 2014</a>,\n",
      "             <a href=\"data/nyct/turnstile/turnstile_141011.txt\">Saturday, October 11, 2014</a>,\n",
      "             <a href=\"data/nyct/turnstile/turnstile_141004.txt\">Saturday, October 04, 2014</a>,\n",
      "             <a href=\"data/nyct/turnstile/turnstile_140927.txt\">Saturday, September 27, 2014</a>,\n",
      "             <a href=\"data/nyct/turnstile/turnstile_140920.txt\">Saturday, September 20, 2014</a>,\n",
      "             <a href=\"data/nyct/turnstile/turnstile_140913.txt\">Saturday, September 13, 2014</a>,\n",
      "             <a href=\"data/nyct/turnstile/turnstile_140906.txt\">Saturday, September 06, 2014</a>,\n",
      "             <a href=\"data/nyct/turnstile/turnstile_140830.txt\">Saturday, August 30, 2014</a>,\n",
      "             <a href=\"data/nyct/turnstile/turnstile_140823.txt\">Saturday, August 23, 2014</a>,\n",
      "             <a href=\"data/nyct/turnstile/turnstile_140816.txt\">Saturday, August 16, 2014</a>,\n",
      "             <a href=\"data/nyct/turnstile/turnstile_140809.txt\">Saturday, August 09, 2014</a>,\n",
      "             <a href=\"data/nyct/turnstile/turnstile_140802.txt\">Saturday, August 02, 2014</a>,\n",
      "             <a href=\"data/nyct/turnstile/turnstile_140726.txt\">Saturday, July 26, 2014</a>,\n",
      "             <a href=\"data/nyct/turnstile/turnstile_140719.txt\">Saturday, July 19, 2014</a>,\n",
      "             <a href=\"data/nyct/turnstile/turnstile_140712.txt\">Saturday, July 12, 2014</a>,\n",
      "             <a href=\"data/nyct/turnstile/turnstile_140705.txt\">Saturday, July 05, 2014</a>,\n",
      "             <a href=\"data/nyct/turnstile/turnstile_140628.txt\">Saturday, June 28, 2014</a>,\n",
      "             <a href=\"data/nyct/turnstile/turnstile_140621.txt\">Saturday, June 21, 2014</a>,\n",
      "             <a href=\"data/nyct/turnstile/turnstile_140614.txt\">Saturday, June 14, 2014</a>,\n",
      "             <a href=\"data/nyct/turnstile/turnstile_140607.txt\">Saturday, June 07, 2014</a>,\n",
      "             <a href=\"data/nyct/turnstile/turnstile_140531.txt\">Saturday, May 31, 2014</a>,\n",
      "             <a href=\"data/nyct/turnstile/turnstile_140524.txt\">Saturday, May 24, 2014</a>,\n",
      "             <a href=\"data/nyct/turnstile/turnstile_140517.txt\">Saturday, May 17, 2014</a>,\n",
      "             <a href=\"data/nyct/turnstile/turnstile_140510.txt\">Saturday, May 10, 2014</a>,\n",
      "             <a href=\"data/nyct/turnstile/turnstile_140503.txt\">Saturday, May 03, 2014</a>,\n",
      "             <a href=\"data/nyct/turnstile/turnstile_140426.txt\">Saturday, April 26, 2014</a>,\n",
      "             <a href=\"data/nyct/turnstile/turnstile_140419.txt\">Saturday, April 19, 2014</a>,\n",
      "             <a href=\"data/nyct/turnstile/turnstile_140412.txt\">Saturday, April 12, 2014</a>,\n",
      "             <a href=\"data/nyct/turnstile/turnstile_140405.txt\">Saturday, April 05, 2014</a>,\n",
      "             <a href=\"data/nyct/turnstile/turnstile_140329.txt\">Saturday, March 29, 2014</a>,\n",
      "             <a href=\"data/nyct/turnstile/turnstile_140322.txt\">Saturday, March 22, 2014</a>,\n",
      "             <a href=\"data/nyct/turnstile/turnstile_140315.txt\">Saturday, March 15, 2014</a>,\n",
      "             <a href=\"data/nyct/turnstile/turnstile_140308.txt\">Saturday, March 08, 2014</a>,\n",
      "             <a href=\"data/nyct/turnstile/turnstile_140301.txt\">Saturday, March 01, 2014</a>,\n",
      "             <a href=\"data/nyct/turnstile/turnstile_140222.txt\">Saturday, February 22, 2014</a>,\n",
      "             <a href=\"data/nyct/turnstile/turnstile_140215.txt\">Saturday, February 15, 2014</a>,\n",
      "             <a href=\"data/nyct/turnstile/turnstile_140208.txt\">Saturday, February 08, 2014</a>,\n",
      "             <a href=\"data/nyct/turnstile/turnstile_140201.txt\">Saturday, February 01, 2014</a>,\n",
      "             <a href=\"data/nyct/turnstile/turnstile_140125.txt\">Saturday, January 25, 2014</a>,\n",
      "             <a href=\"data/nyct/turnstile/turnstile_140118.txt\">Saturday, January 18, 2014</a>,\n",
      "             <a href=\"data/nyct/turnstile/turnstile_140111.txt\">Saturday, January 11, 2014</a>,\n",
      "             <a href=\"data/nyct/turnstile/turnstile_140104.txt\">Saturday, January 04, 2014</a>,\n",
      "             <a href=\"data/nyct/turnstile/turnstile_131228.txt\">Saturday, December 28, 2013</a>,\n",
      "             <a href=\"data/nyct/turnstile/turnstile_131221.txt\">Saturday, December 21, 2013</a>,\n",
      "             <a href=\"data/nyct/turnstile/turnstile_131214.txt\">Saturday, December 14, 2013</a>,\n",
      "             <a href=\"data/nyct/turnstile/turnstile_131207.txt\">Saturday, December 07, 2013</a>,\n",
      "             <a href=\"data/nyct/turnstile/turnstile_131130.txt\">Saturday, November 30, 2013</a>,\n",
      "             <a href=\"data/nyct/turnstile/turnstile_131123.txt\">Saturday, November 23, 2013</a>,\n",
      "             <a href=\"data/nyct/turnstile/turnstile_131116.txt\">Saturday, November 16, 2013</a>,\n",
      "             <a href=\"data/nyct/turnstile/turnstile_131109.txt\">Saturday, November 09, 2013</a>,\n",
      "             <a href=\"data/nyct/turnstile/turnstile_131102.txt\">Saturday, November 02, 2013</a>,\n",
      "             <a href=\"data/nyct/turnstile/turnstile_131026.txt\">Saturday, October 26, 2013</a>,\n",
      "             <a href=\"data/nyct/turnstile/turnstile_131019.txt\">Saturday, October 19, 2013</a>,\n",
      "             <a href=\"data/nyct/turnstile/turnstile_131012.txt\">Saturday, October 12, 2013</a>,\n",
      "             <a href=\"data/nyct/turnstile/turnstile_131005.txt\">Saturday, October 05, 2013</a>,\n",
      "             <a href=\"data/nyct/turnstile/turnstile_130928.txt\">Saturday, September 28, 2013</a>,\n",
      "             <a href=\"data/nyct/turnstile/turnstile_130921.txt\">Saturday, September 21, 2013</a>,\n",
      "             <a href=\"data/nyct/turnstile/turnstile_130914.txt\">Saturday, September 14, 2013</a>,\n",
      "             <a href=\"data/nyct/turnstile/turnstile_130907.txt\">Saturday, September 07, 2013</a>,\n",
      "             <a href=\"data/nyct/turnstile/turnstile_130831.txt\">Saturday, August 31, 2013</a>,\n",
      "             <a href=\"data/nyct/turnstile/turnstile_130824.txt\">Saturday, August 24, 2013</a>,\n",
      "             <a href=\"data/nyct/turnstile/turnstile_130817.txt\">Saturday, August 17, 2013</a>,\n",
      "             <a href=\"data/nyct/turnstile/turnstile_130810.txt\">Saturday, August 10, 2013</a>,\n",
      "             <a href=\"data/nyct/turnstile/turnstile_130803.txt\">Saturday, August 03, 2013</a>,\n",
      "             <a href=\"data/nyct/turnstile/turnstile_130727.txt\">Saturday, July 27, 2013</a>,\n",
      "             <a href=\"data/nyct/turnstile/turnstile_130720.txt\">Saturday, July 20, 2013</a>,\n",
      "             <a href=\"data/nyct/turnstile/turnstile_130713.txt\">Saturday, July 13, 2013</a>,\n",
      "             <a href=\"data/nyct/turnstile/turnstile_130706.txt\">Saturday, July 06, 2013</a>,\n",
      "             <a href=\"data/nyct/turnstile/turnstile_130629.txt\">Saturday, June 29, 2013</a>,\n",
      "             <a href=\"data/nyct/turnstile/turnstile_130622.txt\">Saturday, June 22, 2013</a>,\n",
      "             <a href=\"data/nyct/turnstile/turnstile_130615.txt\">Saturday, June 15, 2013</a>,\n",
      "             <a href=\"data/nyct/turnstile/turnstile_130608.txt\">Saturday, June 08, 2013</a>,\n",
      "             <a href=\"data/nyct/turnstile/turnstile_130601.txt\">Saturday, June 01, 2013</a>,\n",
      "             <a href=\"data/nyct/turnstile/turnstile_130525.txt\">Saturday, May 25, 2013</a>,\n",
      "             <a href=\"data/nyct/turnstile/turnstile_130518.txt\">Saturday, May 18, 2013</a>,\n",
      "             <a href=\"data/nyct/turnstile/turnstile_130511.txt\">Saturday, May 11, 2013</a>,\n",
      "             <a href=\"data/nyct/turnstile/turnstile_130504.txt\">Saturday, May 04, 2013</a>,\n",
      "             <a href=\"data/nyct/turnstile/turnstile_130427.txt\">Saturday, April 27, 2013</a>,\n"
     ]
    },
    {
     "name": "stderr",
     "output_type": "stream",
     "text": [
      "             <a href=\"data/nyct/turnstile/turnstile_130420.txt\">Saturday, April 20, 2013</a>,\n",
      "             <a href=\"data/nyct/turnstile/turnstile_130413.txt\">Saturday, April 13, 2013</a>,\n",
      "             <a href=\"data/nyct/turnstile/turnstile_130406.txt\">Saturday, April 06, 2013</a>,\n",
      "             <a href=\"data/nyct/turnstile/turnstile_130330.txt\">Saturday, March 30, 2013</a>,\n",
      "             <a href=\"data/nyct/turnstile/turnstile_130323.txt\">Saturday, March 23, 2013</a>,\n",
      "             <a href=\"data/nyct/turnstile/turnstile_130316.txt\">Saturday, March 16, 2013</a>,\n",
      "             <a href=\"data/nyct/turnstile/turnstile_130309.txt\">Saturday, March 09, 2013</a>,\n",
      "             <a href=\"data/nyct/turnstile/turnstile_130302.txt\">Saturday, March 02, 2013</a>,\n",
      "             <a href=\"data/nyct/turnstile/turnstile_130223.txt\">Saturday, February 23, 2013</a>,\n",
      "             <a href=\"data/nyct/turnstile/turnstile_130216.txt\">Saturday, February 16, 2013</a>,\n",
      "             <a href=\"data/nyct/turnstile/turnstile_130209.txt\">Saturday, February 09, 2013</a>,\n",
      "             <a href=\"data/nyct/turnstile/turnstile_130202.txt\">Saturday, February 02, 2013</a>,\n",
      "             <a href=\"data/nyct/turnstile/turnstile_130126.txt\">Saturday, January 26, 2013</a>,\n",
      "             <a href=\"data/nyct/turnstile/turnstile_130119.txt\">Saturday, January 19, 2013</a>,\n",
      "             <a href=\"data/nyct/turnstile/turnstile_130112.txt\">Saturday, January 12, 2013</a>,\n",
      "             <a href=\"data/nyct/turnstile/turnstile_130105.txt\">Saturday, January 05, 2013</a>,\n",
      "             <a href=\"data/nyct/turnstile/turnstile_121229.txt\">Saturday, December 29, 2012</a>,\n",
      "             <a href=\"data/nyct/turnstile/turnstile_121222.txt\">Saturday, December 22, 2012</a>,\n",
      "             <a href=\"data/nyct/turnstile/turnstile_121215.txt\">Saturday, December 15, 2012</a>,\"data/nyct/turnstile/turnstile_121013.txt\">Saturday, October 13, 2012</a>,\n",
      "             <a href=\"data/nyct/turnstile/turnstile_121006.txt\">Saturday, October 06, 2012</a>,\n",
      "             <a href=\"data/nyct/turnstile/turnstile_120929.txt\">Saturday, September 29, 2012</a>,\n",
      "             <a href=\"data/nyct/turnstile/turnstile_120922.txt\">Saturday, September 22, 2012</a>,\n",
      "             <a hrefIOPub message rate exceeded.\n",
      "The notebook server will temporarily stop sending output\n",
      "to the client in order to avoid crashing it.\n",
      "To change this limit, set the config variable\n",
      "`--NotebookApp.iopub_msg_rate_limit`.\n",
      "\n",
      "Current values:\n",
      "NotebookApp.iopub_msg_rate_limit=1000.0 (msgs/sec)\n",
      "NotebookApp.rate_limit_window=3.0 (secs)\n",
      "\n",
      "=\"data/nyct/turnstile/turnstile_110319.txt\">Saturday, March 19, 2011</a>,\n",
      "             <a href=\"data/nyct/turnstile/turnstile_110312.txt\">Saturday, March 12, 2011</a>,\n",
      "             <a href=\"data/nyct/turnstile/turnstile_110305.txt\">Saturday, March 05, 2011</a>,\n",
      "             <a href=\"data/nyct/turnstile/turnstile_110226.txt\">Saturday, February 26, 2011</a>,\n",
      "             <a href=\"data/nyct/turnstile/turnstile_110219.txt\">Saturday, February 19, 2011</a>,\n",
      "             <a href=\"data/nyct/turnstile/turnstile_110212.txt\">Saturday, February 12, 2011</a>,\n",
      "             <a href=\"data/nyct/turnstile/turnstile_110205.txt\">Saturday, February 05, 2011</a>,\n",
      "             <a href=\"data/nyct/turnstile/turnstile_110129.txt\">Saturday, January 29, 2011</a>,\n",
      "             <a href=\"data/nyct/turnstile/turnstile_110122.txt\">Saturday, January 22, 2011</a>,\n",
      "             <a href=\"data/nyct/turnstile/turnstile_110115.txt\">Saturday, January 15, 2011</a>,\n",
      "             <a href=\"data/nyct/turnstile/turnstile_110108.txt\">Saturday, January 08, 2011</a>,\n",
      "             <a href=\"data/nyct/turnstile/turnstile_110101.txt\">Saturday, January 01, 2011</a>,\n",
      "             <a href=\"data/nyct/turnstile/turnstile_101225.txt\">Saturday, December 25, 2010</a>,\n",
      "             <a href=\"data/nyct/turnstile/turnstile_101218.txt\">Saturday, December 18, 2010</a>,\n",
      "             <a href=\"data/nyct/turnstile/turnstile_101211.txt\">Saturday, December 11, 2010</a>,\n",
      "             <a href=\"data/nyct/turnstile/turnstile_101204.txt\">Saturday, December 04, 2010</a>,\n",
      "             <a href=\"data/nyct/turnstile/turnstile_101127.txt\">Saturday, November 27, 2010</a>,\n",
      "             <a href=\"data/nyct/turnstile/turnstile_101120.txt\">Saturday, November 20, 2010</a>,\n",
      "             <a href=\"data/nyct/turnstile/turnstile_101113.txt\">Saturday, November 13, 2010</a>,\n",
      "             <a href=\"data/nyct/turnstile/turnstile_101106.txt\">Saturday, November 06, 2010</a>,\n",
      "             <a href=\"data/nyct/turnstile/turnstile_100821.txt\">Saturday, August 21, 2010</a>,\n",
      "             <a href=\"data/nyct/turnstile/turnstile_100814.txt\">Saturday, August 14, 2010</a>,\n",
      "             <a href=\"data/nyct/turnstile/turnstile_100807.txt\">Saturday, August 07, 2010</a>,\n",
      "             <a href=\"data/nyct/turnstile/turnstile_100731.txt\">Saturday, July 31, 2010</a>,\n",
      "             <a href=\"data/nyct/turnstile/turnstile_100724.txt\">Saturday, July 24, 2010</a>,\n",
      "             <a href=\"data/nyct/turnstile/turnstile_100717.txt\">Saturday, July 17, 2010</a>,\n",
      "             <a href=\"data/nyct/turnstile/turnstile_100710.txt\">Saturday, July 10, 2010</a>,\n",
      "             <a href=\"data/nyct/turnstile/turnstile_100703.txt\">Saturday, July 03, 2010</a>,\n",
      "             <a href=\"data/nyct/turnstile/turnstile_100626.txt\">Saturday, June 26, 2010</a>,\n",
      "             <a href=\"data/nyct/turnstile/turnstile_100619.txt\">Saturday, June 19, 2010</a>,\n",
      "             <a href=\"data/nyct/turnstile/turnstile_100612.txt\">Saturday, June 12, 2010</a>,\n",
      "             <a href=\"data/nyct/turnstile/turnstile_100605.txt\">Saturday, June 05, 2010</a>,\n",
      "             <a href=\"data/nyct/turnstile/turnstile_100522.txt\">Saturday, May 22, 2010</a>,\n",
      "             <a href=\"data/nyct/turnstile/turnstile_100515.txt\">Saturday, May 15, 2010</a>,\n",
      "             <a href=\"data/nyct/turnstile/turnstile_100508.txt\">Saturday, May 08, 2010</a>,\n",
      "             <a href=\"data/nyct/turnstile/turnstile_100505.txt\">Wednesday, May 05, 2010</a>]\n"
     ]
    },
    {
     "data": {
      "text/plain": [
       "[<a href=\"data/nyct/turnstile/turnstile_211016.txt\">Saturday, October 16, 2021</a>,\n",
       " <a href=\"data/nyct/turnstile/turnstile_211009.txt\">Saturday, October 09, 2021</a>,\n",
       " <a href=\"data/nyct/turnstile/turnstile_211002.txt\">Saturday, October 02, 2021</a>,\n",
       " <a href=\"data/nyct/turnstile/turnstile_210925.txt\">Saturday, September 25, 2021</a>,\n",
       " <a href=\"data/nyct/turnstile/turnstile_210918.txt\">Saturday, September 18, 2021</a>,\n",
       " <a href=\"data/nyct/turnstile/turnstile_210911.txt\">Saturday, September 11, 2021</a>,\n",
       " <a href=\"data/nyct/turnstile/turnstile_210904.txt\">Saturday, September 04, 2021</a>,\n",
       " <a href=\"data/nyct/turnstile/turnstile_210828.txt\">Saturday, August 28, 2021</a>,\n",
       " <a href=\"data/nyct/turnstile/turnstile_210821.txt\">Saturday, August 21, 2021</a>,\n",
       " <a href=\"data/nyct/turnstile/turnstile_210814.txt\">Saturday, August 14, 2021</a>,\n",
       " <a href=\"data/nyct/turnstile/turnstile_210807.txt\">Saturday, August 07, 2021</a>,\n",
       " <a href=\"data/nyct/turnstile/turnstile_210731.txt\">Saturday, July 31, 2021</a>,\n",
       " <a href=\"data/nyct/turnstile/turnstile_210724.txt\">Saturday, July 24, 2021</a>,\n",
       " <a href=\"data/nyct/turnstile/turnstile_210717.txt\">Saturday, July 17, 2021</a>,\n",
       " <a href=\"data/nyct/turnstile/turnstile_210710.txt\">Saturday, July 10, 2021</a>,\n",
       " <a href=\"data/nyct/turnstile/turnstile_210703.txt\">Saturday, July 03, 2021</a>,\n",
       " <a href=\"data/nyct/turnstile/turnstile_210626.txt\">Saturday, June 26, 2021</a>,\n",
       " <a href=\"data/nyct/turnstile/turnstile_210619.txt\">Saturday, June 19, 2021</a>,\n",
       " <a href=\"data/nyct/turnstile/turnstile_210612.txt\">Saturday, June 12, 2021</a>,\n",
       " <a href=\"data/nyct/turnstile/turnstile_210605.txt\">Saturday, June 05, 2021</a>,\n",
       " <a href=\"data/nyct/turnstile/turnstile_210529.txt\">Saturday, May 29, 2021</a>,\n",
       " <a href=\"data/nyct/turnstile/turnstile_210522.txt\">Saturday, May 22, 2021</a>,\n",
       " <a href=\"data/nyct/turnstile/turnstile_210515.txt\">Saturday, May 15, 2021</a>,\n",
       " <a href=\"data/nyct/turnstile/turnstile_210508.txt\">Saturday, May 08, 2021</a>,\n",
       " <a href=\"data/nyct/turnstile/turnstile_210501.txt\">Saturday, May 01, 2021</a>,\n",
       " <a href=\"data/nyct/turnstile/turnstile_210424.txt\">Saturday, April 24, 2021</a>,\n",
       " <a href=\"data/nyct/turnstile/turnstile_210417.txt\">Saturday, April 17, 2021</a>,\n",
       " <a href=\"data/nyct/turnstile/turnstile_210410.txt\">Saturday, April 10, 2021</a>,\n",
       " <a href=\"data/nyct/turnstile/turnstile_210403.txt\">Saturday, April 03, 2021</a>,\n",
       " <a href=\"data/nyct/turnstile/turnstile_210327.txt\">Saturday, March 27, 2021</a>,\n",
       " <a href=\"data/nyct/turnstile/turnstile_210320.txt\">Saturday, March 20, 2021</a>,\n",
       " <a href=\"data/nyct/turnstile/turnstile_210313.txt\">Saturday, March 13, 2021</a>,\n",
       " <a href=\"data/nyct/turnstile/turnstile_210306.txt\">Saturday, March 06, 2021</a>,\n",
       " <a href=\"data/nyct/turnstile/turnstile_210227.txt\">Saturday, February 27, 2021</a>,\n",
       " <a href=\"data/nyct/turnstile/turnstile_210220.txt\">Saturday, February 20, 2021</a>,\n",
       " <a href=\"data/nyct/turnstile/turnstile_210213.txt\">Saturday, February 13, 2021</a>,\n",
       " <a href=\"data/nyct/turnstile/turnstile_210206.txt\">Saturday, February 06, 2021</a>,\n",
       " <a href=\"data/nyct/turnstile/turnstile_210130.txt\">Saturday, January 30, 2021</a>,\n",
       " <a href=\"data/nyct/turnstile/turnstile_210123.txt\">Saturday, January 23, 2021</a>,\n",
       " <a href=\"data/nyct/turnstile/turnstile_210116.txt\">Saturday, January 16, 2021</a>,\n",
       " <a href=\"data/nyct/turnstile/turnstile_210109.txt\">Saturday, January 09, 2021</a>,\n",
       " <a href=\"data/nyct/turnstile/turnstile_210102.txt\">Saturday, January 02, 2021</a>,\n",
       " <a href=\"data/nyct/turnstile/turnstile_201226.txt\">Saturday, December 26, 2020</a>,\n",
       " <a href=\"data/nyct/turnstile/turnstile_201219.txt\">Saturday, December 19, 2020</a>,\n",
       " <a href=\"data/nyct/turnstile/turnstile_201212.txt\">Saturday, December 12, 2020</a>,\n",
       " <a href=\"data/nyct/turnstile/turnstile_201205.txt\">Saturday, December 05, 2020</a>,\n",
       " <a href=\"data/nyct/turnstile/turnstile_201128.txt\">Saturday, November 28, 2020</a>,\n",
       " <a href=\"data/nyct/turnstile/turnstile_201121.txt\">Saturday, November 21, 2020</a>,\n",
       " <a href=\"data/nyct/turnstile/turnstile_201114.txt\">Saturday, November 14, 2020</a>,\n",
       " <a href=\"data/nyct/turnstile/turnstile_201107.txt\">Saturday, November 07, 2020</a>,\n",
       " <a href=\"data/nyct/turnstile/turnstile_201031.txt\">Saturday, October 31, 2020</a>,\n",
       " <a href=\"data/nyct/turnstile/turnstile_201024.txt\">Saturday, October 24, 2020</a>,\n",
       " <a href=\"data/nyct/turnstile/turnstile_201017.txt\">Saturday, October 17, 2020</a>,\n",
       " <a href=\"data/nyct/turnstile/turnstile_201010.txt\">Saturday, October 10, 2020</a>,\n",
       " <a href=\"data/nyct/turnstile/turnstile_201003.txt\">Saturday, October 03, 2020</a>,\n",
       " <a href=\"data/nyct/turnstile/turnstile_200926.txt\">Saturday, September 26, 2020</a>,\n",
       " <a href=\"data/nyct/turnstile/turnstile_200919.txt\">Saturday, September 19, 2020</a>,\n",
       " <a href=\"data/nyct/turnstile/turnstile_200912.txt\">Saturday, September 12, 2020</a>,\n",
       " <a href=\"data/nyct/turnstile/turnstile_200905.txt\">Saturday, September 05, 2020</a>,\n",
       " <a href=\"data/nyct/turnstile/turnstile_200829.txt\">Saturday, August 29, 2020</a>,\n",
       " <a href=\"data/nyct/turnstile/turnstile_200822.txt\">Saturday, August 22, 2020</a>,\n",
       " <a href=\"data/nyct/turnstile/turnstile_200815.txt\">Saturday, August 15, 2020</a>,\n",
       " <a href=\"data/nyct/turnstile/turnstile_200808.txt\">Saturday, August 08, 2020</a>,\n",
       " <a href=\"data/nyct/turnstile/turnstile_200801.txt\">Saturday, August 01, 2020</a>,\n",
       " <a href=\"data/nyct/turnstile/turnstile_200725.txt\">Saturday, July 25, 2020</a>,\n",
       " <a href=\"data/nyct/turnstile/turnstile_200718.txt\">Saturday, July 18, 2020</a>,\n",
       " <a href=\"data/nyct/turnstile/turnstile_200711.txt\">Saturday, July 11, 2020</a>,\n",
       " <a href=\"data/nyct/turnstile/turnstile_200704.txt\">Saturday, July 04, 2020</a>,\n",
       " <a href=\"data/nyct/turnstile/turnstile_200627.txt\">Saturday, June 27, 2020</a>,\n",
       " <a href=\"data/nyct/turnstile/turnstile_200620.txt\">Saturday, June 20, 2020</a>,\n",
       " <a href=\"data/nyct/turnstile/turnstile_200613.txt\">Saturday, June 13, 2020</a>,\n",
       " <a href=\"data/nyct/turnstile/turnstile_200606.txt\">Saturday, June 06, 2020</a>,\n",
       " <a href=\"data/nyct/turnstile/turnstile_200530.txt\">Saturday, May 30, 2020</a>,\n",
       " <a href=\"data/nyct/turnstile/turnstile_200523.txt\">Saturday, May 23, 2020</a>,\n",
       " <a href=\"data/nyct/turnstile/turnstile_200516.txt\">Saturday, May 16, 2020</a>,\n",
       " <a href=\"data/nyct/turnstile/turnstile_200509.txt\">Saturday, May 09, 2020</a>,\n",
       " <a href=\"data/nyct/turnstile/turnstile_200502.txt\">Saturday, May 02, 2020</a>,\n",
       " <a href=\"data/nyct/turnstile/turnstile_200425.txt\">Saturday, April 25, 2020</a>,\n",
       " <a href=\"data/nyct/turnstile/turnstile_200418.txt\">Saturday, April 18, 2020</a>,\n",
       " <a href=\"data/nyct/turnstile/turnstile_200411.txt\">Saturday, April 11, 2020</a>,\n",
       " <a href=\"data/nyct/turnstile/turnstile_200404.txt\">Saturday, April 04, 2020</a>,\n",
       " <a href=\"data/nyct/turnstile/turnstile_200328.txt\">Saturday, March 28, 2020</a>,\n",
       " <a href=\"data/nyct/turnstile/turnstile_200321.txt\">Saturday, March 21, 2020</a>,\n",
       " <a href=\"data/nyct/turnstile/turnstile_200314.txt\">Saturday, March 14, 2020</a>,\n",
       " <a href=\"data/nyct/turnstile/turnstile_200307.txt\">Saturday, March 07, 2020</a>,\n",
       " <a href=\"data/nyct/turnstile/turnstile_200229.txt\">Saturday, February 29, 2020</a>,\n",
       " <a href=\"data/nyct/turnstile/turnstile_200222.txt\">Saturday, February 22, 2020</a>,\n",
       " <a href=\"data/nyct/turnstile/turnstile_200215.txt\">Saturday, February 15, 2020</a>,\n",
       " <a href=\"data/nyct/turnstile/turnstile_200208.txt\">Saturday, February 08, 2020</a>,\n",
       " <a href=\"data/nyct/turnstile/turnstile_200201.txt\">Saturday, February 01, 2020</a>,\n",
       " <a href=\"data/nyct/turnstile/turnstile_200125.txt\">Saturday, January 25, 2020</a>,\n",
       " <a href=\"data/nyct/turnstile/turnstile_200118.txt\">Saturday, January 18, 2020</a>,\n",
       " <a href=\"data/nyct/turnstile/turnstile_200111.txt\">Saturday, January 11, 2020</a>,\n",
       " <a href=\"data/nyct/turnstile/turnstile_200104.txt\">Saturday, January 04, 2020</a>,\n",
       " <a href=\"data/nyct/turnstile/turnstile_191228.txt\">Saturday, December 28, 2019</a>,\n",
       " <a href=\"data/nyct/turnstile/turnstile_191221.txt\">Saturday, December 21, 2019</a>,\n",
       " <a href=\"data/nyct/turnstile/turnstile_191214.txt\">Saturday, December 14, 2019</a>,\n",
       " <a href=\"data/nyct/turnstile/turnstile_191207.txt\">Saturday, December 07, 2019</a>,\n",
       " <a href=\"data/nyct/turnstile/turnstile_191130.txt\">Saturday, November 30, 2019</a>,\n",
       " <a href=\"data/nyct/turnstile/turnstile_191123.txt\">Saturday, November 23, 2019</a>,\n",
       " <a href=\"data/nyct/turnstile/turnstile_191116.txt\">Saturday, November 16, 2019</a>,\n",
       " <a href=\"data/nyct/turnstile/turnstile_191109.txt\">Saturday, November 09, 2019</a>,\n",
       " <a href=\"data/nyct/turnstile/turnstile_191102.txt\">Saturday, November 02, 2019</a>,\n",
       " <a href=\"data/nyct/turnstile/turnstile_191026.txt\">Saturday, October 26, 2019</a>,\n",
       " <a href=\"data/nyct/turnstile/turnstile_191019.txt\">Saturday, October 19, 2019</a>,\n",
       " <a href=\"data/nyct/turnstile/turnstile_191012.txt\">Saturday, October 12, 2019</a>,\n",
       " <a href=\"data/nyct/turnstile/turnstile_191005.txt\">Saturday, October 05, 2019</a>,\n",
       " <a href=\"data/nyct/turnstile/turnstile_190928.txt\">Saturday, September 28, 2019</a>,\n",
       " <a href=\"data/nyct/turnstile/turnstile_190921.txt\">Saturday, September 21, 2019</a>,\n",
       " <a href=\"data/nyct/turnstile/turnstile_190914.txt\">Saturday, September 14, 2019</a>,\n",
       " <a href=\"data/nyct/turnstile/turnstile_190907.txt\">Saturday, September 07, 2019</a>,\n",
       " <a href=\"data/nyct/turnstile/turnstile_190831.txt\">Saturday, August 31, 2019</a>,\n",
       " <a href=\"data/nyct/turnstile/turnstile_190824.txt\">Saturday, August 24, 2019</a>,\n",
       " <a href=\"data/nyct/turnstile/turnstile_190817.txt\">Saturday, August 17, 2019</a>,\n",
       " <a href=\"data/nyct/turnstile/turnstile_190810.txt\">Saturday, August 10, 2019</a>,\n",
       " <a href=\"data/nyct/turnstile/turnstile_190803.txt\">Saturday, August 03, 2019</a>,\n",
       " <a href=\"data/nyct/turnstile/turnstile_190727.txt\">Saturday, July 27, 2019</a>,\n",
       " <a href=\"data/nyct/turnstile/turnstile_190720.txt\">Saturday, July 20, 2019</a>,\n",
       " <a href=\"data/nyct/turnstile/turnstile_190713.txt\">Saturday, July 13, 2019</a>,\n",
       " <a href=\"data/nyct/turnstile/turnstile_190706.txt\">Saturday, July 06, 2019</a>,\n",
       " <a href=\"data/nyct/turnstile/turnstile_190629.txt\">Saturday, June 29, 2019</a>,\n",
       " <a href=\"data/nyct/turnstile/turnstile_190622.txt\">Saturday, June 22, 2019</a>,\n",
       " <a href=\"data/nyct/turnstile/turnstile_190615.txt\">Saturday, June 15, 2019</a>,\n",
       " <a href=\"data/nyct/turnstile/turnstile_190608.txt\">Saturday, June 08, 2019</a>,\n",
       " <a href=\"data/nyct/turnstile/turnstile_190601.txt\">Saturday, June 01, 2019</a>,\n",
       " <a href=\"data/nyct/turnstile/turnstile_190525.txt\">Saturday, May 25, 2019</a>,\n",
       " <a href=\"data/nyct/turnstile/turnstile_190518.txt\">Saturday, May 18, 2019</a>,\n",
       " <a href=\"data/nyct/turnstile/turnstile_190511.txt\">Saturday, May 11, 2019</a>,\n",
       " <a href=\"data/nyct/turnstile/turnstile_190504.txt\">Saturday, May 04, 2019</a>,\n",
       " <a href=\"data/nyct/turnstile/turnstile_190427.txt\">Saturday, April 27, 2019</a>,\n",
       " <a href=\"data/nyct/turnstile/turnstile_190420.txt\">Saturday, April 20, 2019</a>,\n",
       " <a href=\"data/nyct/turnstile/turnstile_190413.txt\">Saturday, April 13, 2019</a>,\n",
       " <a href=\"data/nyct/turnstile/turnstile_190406.txt\">Saturday, April 06, 2019</a>,\n",
       " <a href=\"data/nyct/turnstile/turnstile_190330.txt\">Saturday, March 30, 2019</a>,\n",
       " <a href=\"data/nyct/turnstile/turnstile_190323.txt\">Saturday, March 23, 2019</a>,\n",
       " <a href=\"data/nyct/turnstile/turnstile_190316.txt\">Saturday, March 16, 2019</a>,\n",
       " <a href=\"data/nyct/turnstile/turnstile_190309.txt\">Saturday, March 09, 2019</a>,\n",
       " <a href=\"data/nyct/turnstile/turnstile_190302.txt\">Saturday, March 02, 2019</a>,\n",
       " <a href=\"data/nyct/turnstile/turnstile_190223.txt\">Saturday, February 23, 2019</a>,\n",
       " <a href=\"data/nyct/turnstile/turnstile_190216.txt\">Saturday, February 16, 2019</a>,\n",
       " <a href=\"data/nyct/turnstile/turnstile_190209.txt\">Saturday, February 09, 2019</a>,\n",
       " <a href=\"data/nyct/turnstile/turnstile_190202.txt\">Saturday, February 02, 2019</a>,\n",
       " <a href=\"data/nyct/turnstile/turnstile_190126.txt\">Saturday, January 26, 2019</a>,\n",
       " <a href=\"data/nyct/turnstile/turnstile_190119.txt\">Saturday, January 19, 2019</a>,\n",
       " <a href=\"data/nyct/turnstile/turnstile_190112.txt\">Saturday, January 12, 2019</a>,\n",
       " <a href=\"data/nyct/turnstile/turnstile_190105.txt\">Saturday, January 05, 2019</a>,\n",
       " <a href=\"data/nyct/turnstile/turnstile_181229.txt\">Saturday, December 29, 2018</a>,\n",
       " <a href=\"data/nyct/turnstile/turnstile_181222.txt\">Saturday, December 22, 2018</a>,\n",
       " <a href=\"data/nyct/turnstile/turnstile_181215.txt\">Saturday, December 15, 2018</a>,\n",
       " <a href=\"data/nyct/turnstile/turnstile_181208.txt\">Saturday, December 08, 2018</a>,\n",
       " <a href=\"data/nyct/turnstile/turnstile_181201.txt\">Saturday, December 01, 2018</a>,\n",
       " <a href=\"data/nyct/turnstile/turnstile_181124.txt\">Saturday, November 24, 2018</a>,\n",
       " <a href=\"data/nyct/turnstile/turnstile_181117.txt\">Saturday, November 17, 2018</a>,\n",
       " <a href=\"data/nyct/turnstile/turnstile_181110.txt\">Saturday, November 10, 2018</a>,\n",
       " <a href=\"data/nyct/turnstile/turnstile_181103.txt\">Saturday, November 03, 2018</a>,\n",
       " <a href=\"data/nyct/turnstile/turnstile_181027.txt\">Saturday, October 27, 2018</a>,\n",
       " <a href=\"data/nyct/turnstile/turnstile_181020.txt\">Saturday, October 20, 2018</a>,\n",
       " <a href=\"data/nyct/turnstile/turnstile_181013.txt\">Saturday, October 13, 2018</a>,\n",
       " <a href=\"data/nyct/turnstile/turnstile_181006.txt\">Saturday, October 06, 2018</a>,\n",
       " <a href=\"data/nyct/turnstile/turnstile_180929.txt\">Saturday, September 29, 2018</a>,\n",
       " <a href=\"data/nyct/turnstile/turnstile_180922.txt\">Saturday, September 22, 2018</a>,\n",
       " <a href=\"data/nyct/turnstile/turnstile_180915.txt\">Saturday, September 15, 2018</a>,\n",
       " <a href=\"data/nyct/turnstile/turnstile_180908.txt\">Saturday, September 08, 2018</a>,\n",
       " <a href=\"data/nyct/turnstile/turnstile_180901.txt\">Saturday, September 01, 2018</a>,\n",
       " <a href=\"data/nyct/turnstile/turnstile_180825.txt\">Saturday, August 25, 2018</a>,\n",
       " <a href=\"data/nyct/turnstile/turnstile_180818.txt\">Saturday, August 18, 2018</a>,\n",
       " <a href=\"data/nyct/turnstile/turnstile_180811.txt\">Saturday, August 11, 2018</a>,\n",
       " <a href=\"data/nyct/turnstile/turnstile_180804.txt\">Saturday, August 04, 2018</a>,\n",
       " <a href=\"data/nyct/turnstile/turnstile_180728.txt\">Saturday, July 28, 2018</a>,\n",
       " <a href=\"data/nyct/turnstile/turnstile_180721.txt\">Saturday, July 21, 2018</a>,\n",
       " <a href=\"data/nyct/turnstile/turnstile_180714.txt\">Saturday, July 14, 2018</a>,\n",
       " <a href=\"data/nyct/turnstile/turnstile_180707.txt\">Saturday, July 07, 2018</a>,\n",
       " <a href=\"data/nyct/turnstile/turnstile_180630.txt\">Saturday, June 30, 2018</a>,\n",
       " <a href=\"data/nyct/turnstile/turnstile_180623.txt\">Saturday, June 23, 2018</a>,\n",
       " <a href=\"data/nyct/turnstile/turnstile_180616.txt\">Saturday, June 16, 2018</a>,\n",
       " <a href=\"data/nyct/turnstile/turnstile_180609.txt\">Saturday, June 09, 2018</a>,\n",
       " <a href=\"data/nyct/turnstile/turnstile_180602.txt\">Saturday, June 02, 2018</a>,\n",
       " <a href=\"data/nyct/turnstile/turnstile_180526.txt\">Saturday, May 26, 2018</a>,\n",
       " <a href=\"data/nyct/turnstile/turnstile_180519.txt\">Saturday, May 19, 2018</a>,\n",
       " <a href=\"data/nyct/turnstile/turnstile_180512.txt\">Saturday, May 12, 2018</a>,\n",
       " <a href=\"data/nyct/turnstile/turnstile_180505.txt\">Saturday, May 05, 2018</a>,\n",
       " <a href=\"data/nyct/turnstile/turnstile_180428.txt\">Saturday, April 28, 2018</a>,\n",
       " <a href=\"data/nyct/turnstile/turnstile_180421.txt\">Saturday, April 21, 2018</a>,\n",
       " <a href=\"data/nyct/turnstile/turnstile_180414.txt\">Saturday, April 14, 2018</a>,\n",
       " <a href=\"data/nyct/turnstile/turnstile_180407.txt\">Saturday, April 07, 2018</a>,\n",
       " <a href=\"data/nyct/turnstile/turnstile_180331.txt\">Saturday, March 31, 2018</a>,\n",
       " <a href=\"data/nyct/turnstile/turnstile_180324.txt\">Saturday, March 24, 2018</a>,\n",
       " <a href=\"data/nyct/turnstile/turnstile_180317.txt\">Saturday, March 17, 2018</a>,\n",
       " <a href=\"data/nyct/turnstile/turnstile_180310.txt\">Saturday, March 10, 2018</a>,\n",
       " <a href=\"data/nyct/turnstile/turnstile_180303.txt\">Saturday, March 03, 2018</a>,\n",
       " <a href=\"data/nyct/turnstile/turnstile_180224.txt\">Saturday, February 24, 2018</a>,\n",
       " <a href=\"data/nyct/turnstile/turnstile_180217.txt\">Saturday, February 17, 2018</a>,\n",
       " <a href=\"data/nyct/turnstile/turnstile_180210.txt\">Saturday, February 10, 2018</a>,\n",
       " <a href=\"data/nyct/turnstile/turnstile_180203.txt\">Saturday, February 03, 2018</a>,\n",
       " <a href=\"data/nyct/turnstile/turnstile_180127.txt\">Saturday, January 27, 2018</a>,\n",
       " <a href=\"data/nyct/turnstile/turnstile_180120.txt\">Saturday, January 20, 2018</a>,\n",
       " <a href=\"data/nyct/turnstile/turnstile_180113.txt\">Saturday, January 13, 2018</a>,\n",
       " <a href=\"data/nyct/turnstile/turnstile_180106.txt\">Saturday, January 06, 2018</a>,\n",
       " <a href=\"data/nyct/turnstile/turnstile_171230.txt\">Saturday, December 30, 2017</a>,\n",
       " <a href=\"data/nyct/turnstile/turnstile_171223.txt\">Saturday, December 23, 2017</a>,\n",
       " <a href=\"data/nyct/turnstile/turnstile_171216.txt\">Saturday, December 16, 2017</a>,\n",
       " <a href=\"data/nyct/turnstile/turnstile_171209.txt\">Saturday, December 09, 2017</a>,\n",
       " <a href=\"data/nyct/turnstile/turnstile_171202.txt\">Saturday, December 02, 2017</a>,\n",
       " <a href=\"data/nyct/turnstile/turnstile_171125.txt\">Saturday, November 25, 2017</a>,\n",
       " <a href=\"data/nyct/turnstile/turnstile_171118.txt\">Saturday, November 18, 2017</a>,\n",
       " <a href=\"data/nyct/turnstile/turnstile_171111.txt\">Saturday, November 11, 2017</a>,\n",
       " <a href=\"data/nyct/turnstile/turnstile_171104.txt\">Saturday, November 04, 2017</a>,\n",
       " <a href=\"data/nyct/turnstile/turnstile_171028.txt\">Saturday, October 28, 2017</a>,\n",
       " <a href=\"data/nyct/turnstile/turnstile_171021.txt\">Saturday, October 21, 2017</a>,\n",
       " <a href=\"data/nyct/turnstile/turnstile_171014.txt\">Saturday, October 14, 2017</a>,\n",
       " <a href=\"data/nyct/turnstile/turnstile_171007.txt\">Saturday, October 07, 2017</a>,\n",
       " <a href=\"data/nyct/turnstile/turnstile_170930.txt\">Saturday, September 30, 2017</a>,\n",
       " <a href=\"data/nyct/turnstile/turnstile_170923.txt\">Saturday, September 23, 2017</a>,\n",
       " <a href=\"data/nyct/turnstile/turnstile_170916.txt\">Saturday, September 16, 2017</a>,\n",
       " <a href=\"data/nyct/turnstile/turnstile_170909.txt\">Saturday, September 09, 2017</a>,\n",
       " <a href=\"data/nyct/turnstile/turnstile_170902.txt\">Saturday, September 02, 2017</a>,\n",
       " <a href=\"data/nyct/turnstile/turnstile_170826.txt\">Saturday, August 26, 2017</a>,\n",
       " <a href=\"data/nyct/turnstile/turnstile_170819.txt\">Saturday, August 19, 2017</a>,\n",
       " <a href=\"data/nyct/turnstile/turnstile_170812.txt\">Saturday, August 12, 2017</a>,\n",
       " <a href=\"data/nyct/turnstile/turnstile_170805.txt\">Saturday, August 05, 2017</a>,\n",
       " <a href=\"data/nyct/turnstile/turnstile_170729.txt\">Saturday, July 29, 2017</a>,\n",
       " <a href=\"data/nyct/turnstile/turnstile_170722.txt\">Saturday, July 22, 2017</a>,\n",
       " <a href=\"data/nyct/turnstile/turnstile_170715.txt\">Saturday, July 15, 2017</a>,\n",
       " <a href=\"data/nyct/turnstile/turnstile_170708.txt\">Saturday, July 08, 2017</a>,\n",
       " <a href=\"data/nyct/turnstile/turnstile_170701.txt\">Saturday, July 01, 2017</a>,\n",
       " <a href=\"data/nyct/turnstile/turnstile_170624.txt\">Saturday, June 24, 2017</a>,\n",
       " <a href=\"data/nyct/turnstile/turnstile_170617.txt\">Saturday, June 17, 2017</a>,\n",
       " <a href=\"data/nyct/turnstile/turnstile_170610.txt\">Saturday, June 10, 2017</a>,\n",
       " <a href=\"data/nyct/turnstile/turnstile_170603.txt\">Saturday, June 03, 2017</a>,\n",
       " <a href=\"data/nyct/turnstile/turnstile_170527.txt\">Saturday, May 27, 2017</a>,\n",
       " <a href=\"data/nyct/turnstile/turnstile_170520.txt\">Saturday, May 20, 2017</a>,\n",
       " <a href=\"data/nyct/turnstile/turnstile_170513.txt\">Saturday, May 13, 2017</a>,\n",
       " <a href=\"data/nyct/turnstile/turnstile_170506.txt\">Saturday, May 06, 2017</a>,\n",
       " <a href=\"data/nyct/turnstile/turnstile_170429.txt\">Saturday, April 29, 2017</a>,\n",
       " <a href=\"data/nyct/turnstile/turnstile_170422.txt\">Saturday, April 22, 2017</a>,\n",
       " <a href=\"data/nyct/turnstile/turnstile_170415.txt\">Saturday, April 15, 2017</a>,\n",
       " <a href=\"data/nyct/turnstile/turnstile_170408.txt\">Saturday, April 08, 2017</a>,\n",
       " <a href=\"data/nyct/turnstile/turnstile_170401.txt\">Saturday, April 01, 2017</a>,\n",
       " <a href=\"data/nyct/turnstile/turnstile_170325.txt\">Saturday, March 25, 2017</a>,\n",
       " <a href=\"data/nyct/turnstile/turnstile_170318.txt\">Saturday, March 18, 2017</a>,\n",
       " <a href=\"data/nyct/turnstile/turnstile_170311.txt\">Saturday, March 11, 2017</a>,\n",
       " <a href=\"data/nyct/turnstile/turnstile_170304.txt\">Saturday, March 04, 2017</a>,\n",
       " <a href=\"data/nyct/turnstile/turnstile_170225.txt\">Saturday, February 25, 2017</a>,\n",
       " <a href=\"data/nyct/turnstile/turnstile_170218.txt\">Saturday, February 18, 2017</a>,\n",
       " <a href=\"data/nyct/turnstile/turnstile_170211.txt\">Saturday, February 11, 2017</a>,\n",
       " <a href=\"data/nyct/turnstile/turnstile_170204.txt\">Saturday, February 04, 2017</a>,\n",
       " <a href=\"data/nyct/turnstile/turnstile_170128.txt\">Saturday, January 28, 2017</a>,\n",
       " <a href=\"data/nyct/turnstile/turnstile_170121.txt\">Saturday, January 21, 2017</a>,\n",
       " <a href=\"data/nyct/turnstile/turnstile_170114.txt\">Saturday, January 14, 2017</a>,\n",
       " <a href=\"data/nyct/turnstile/turnstile_170107.txt\">Saturday, January 07, 2017</a>,\n",
       " <a href=\"data/nyct/turnstile/turnstile_161231.txt\">Saturday, December 31, 2016</a>,\n",
       " <a href=\"data/nyct/turnstile/turnstile_161224.txt\">Saturday, December 24, 2016</a>,\n",
       " <a href=\"data/nyct/turnstile/turnstile_161217.txt\">Saturday, December 17, 2016</a>,\n",
       " <a href=\"data/nyct/turnstile/turnstile_161210.txt\">Saturday, December 10, 2016</a>,\n",
       " <a href=\"data/nyct/turnstile/turnstile_161203.txt\">Saturday, December 03, 2016</a>,\n",
       " <a href=\"data/nyct/turnstile/turnstile_161126.txt\">Saturday, November 26, 2016</a>,\n",
       " <a href=\"data/nyct/turnstile/turnstile_161119.txt\">Saturday, November 19, 2016</a>,\n",
       " <a href=\"data/nyct/turnstile/turnstile_161112.txt\">Saturday, November 12, 2016</a>,\n",
       " <a href=\"data/nyct/turnstile/turnstile_161105.txt\">Saturday, November 05, 2016</a>,\n",
       " <a href=\"data/nyct/turnstile/turnstile_161029.txt\">Saturday, October 29, 2016</a>,\n",
       " <a href=\"data/nyct/turnstile/turnstile_161022.txt\">Saturday, October 22, 2016</a>,\n",
       " <a href=\"data/nyct/turnstile/turnstile_161015.txt\">Saturday, October 15, 2016</a>,\n",
       " <a href=\"data/nyct/turnstile/turnstile_161008.txt\">Saturday, October 08, 2016</a>,\n",
       " <a href=\"data/nyct/turnstile/turnstile_161001.txt\">Saturday, October 01, 2016</a>,\n",
       " <a href=\"data/nyct/turnstile/turnstile_160924.txt\">Saturday, September 24, 2016</a>,\n",
       " <a href=\"data/nyct/turnstile/turnstile_160917.txt\">Saturday, September 17, 2016</a>,\n",
       " <a href=\"data/nyct/turnstile/turnstile_160910.txt\">Saturday, September 10, 2016</a>,\n",
       " <a href=\"data/nyct/turnstile/turnstile_160903.txt\">Saturday, September 03, 2016</a>,\n",
       " <a href=\"data/nyct/turnstile/turnstile_160827.txt\">Saturday, August 27, 2016</a>,\n",
       " <a href=\"data/nyct/turnstile/turnstile_160820.txt\">Saturday, August 20, 2016</a>,\n",
       " <a href=\"data/nyct/turnstile/turnstile_160813.txt\">Saturday, August 13, 2016</a>,\n",
       " <a href=\"data/nyct/turnstile/turnstile_160806.txt\">Saturday, August 06, 2016</a>,\n",
       " <a href=\"data/nyct/turnstile/turnstile_160730.txt\">Saturday, July 30, 2016</a>,\n",
       " <a href=\"data/nyct/turnstile/turnstile_160723.txt\">Saturday, July 23, 2016</a>,\n",
       " <a href=\"data/nyct/turnstile/turnstile_160716.txt\">Saturday, July 16, 2016</a>,\n",
       " <a href=\"data/nyct/turnstile/turnstile_160709.txt\">Saturday, July 09, 2016</a>,\n",
       " <a href=\"data/nyct/turnstile/turnstile_160702.txt\">Saturday, July 02, 2016</a>,\n",
       " <a href=\"data/nyct/turnstile/turnstile_160625.txt\">Saturday, June 25, 2016</a>,\n",
       " <a href=\"data/nyct/turnstile/turnstile_160618.txt\">Saturday, June 18, 2016</a>,\n",
       " <a href=\"data/nyct/turnstile/turnstile_160611.txt\">Saturday, June 11, 2016</a>,\n",
       " <a href=\"data/nyct/turnstile/turnstile_160604.txt\">Saturday, June 04, 2016</a>,\n",
       " <a href=\"data/nyct/turnstile/turnstile_160528.txt\">Saturday, May 28, 2016</a>,\n",
       " <a href=\"data/nyct/turnstile/turnstile_160521.txt\">Saturday, May 21, 2016</a>,\n",
       " <a href=\"data/nyct/turnstile/turnstile_160514.txt\">Saturday, May 14, 2016</a>,\n",
       " <a href=\"data/nyct/turnstile/turnstile_160507.txt\">Saturday, May 07, 2016</a>,\n",
       " <a href=\"data/nyct/turnstile/turnstile_160430.txt\">Saturday, April 30, 2016</a>,\n",
       " <a href=\"data/nyct/turnstile/turnstile_160423.txt\">Saturday, April 23, 2016</a>,\n",
       " <a href=\"data/nyct/turnstile/turnstile_160416.txt\">Saturday, April 16, 2016</a>,\n",
       " <a href=\"data/nyct/turnstile/turnstile_160409.txt\">Saturday, April 09, 2016</a>,\n",
       " <a href=\"data/nyct/turnstile/turnstile_160402.txt\">Saturday, April 02, 2016</a>,\n",
       " <a href=\"data/nyct/turnstile/turnstile_160326.txt\">Saturday, March 26, 2016</a>,\n",
       " <a href=\"data/nyct/turnstile/turnstile_160319.txt\">Saturday, March 19, 2016</a>,\n",
       " <a href=\"data/nyct/turnstile/turnstile_160312.txt\">Saturday, March 12, 2016</a>,\n",
       " <a href=\"data/nyct/turnstile/turnstile_160305.txt\">Saturday, March 05, 2016</a>,\n",
       " <a href=\"data/nyct/turnstile/turnstile_160227.txt\">Saturday, February 27, 2016</a>,\n",
       " <a href=\"data/nyct/turnstile/turnstile_160220.txt\">Saturday, February 20, 2016</a>,\n",
       " <a href=\"data/nyct/turnstile/turnstile_160213.txt\">Saturday, February 13, 2016</a>,\n",
       " <a href=\"data/nyct/turnstile/turnstile_160206.txt\">Saturday, February 06, 2016</a>,\n",
       " <a href=\"data/nyct/turnstile/turnstile_160130.txt\">Saturday, January 30, 2016</a>,\n",
       " <a href=\"data/nyct/turnstile/turnstile_160123.txt\">Saturday, January 23, 2016</a>,\n",
       " <a href=\"data/nyct/turnstile/turnstile_160116.txt\">Saturday, January 16, 2016</a>,\n",
       " <a href=\"data/nyct/turnstile/turnstile_160109.txt\">Saturday, January 09, 2016</a>,\n",
       " <a href=\"data/nyct/turnstile/turnstile_160102.txt\">Saturday, January 02, 2016</a>,\n",
       " <a href=\"data/nyct/turnstile/turnstile_151226.txt\">Saturday, December 26, 2015</a>,\n",
       " <a href=\"data/nyct/turnstile/turnstile_151219.txt\">Saturday, December 19, 2015</a>,\n",
       " <a href=\"data/nyct/turnstile/turnstile_151212.txt\">Saturday, December 12, 2015</a>,\n",
       " <a href=\"data/nyct/turnstile/turnstile_151205.txt\">Saturday, December 05, 2015</a>,\n",
       " <a href=\"data/nyct/turnstile/turnstile_151128.txt\">Saturday, November 28, 2015</a>,\n",
       " <a href=\"data/nyct/turnstile/turnstile_151121.txt\">Saturday, November 21, 2015</a>,\n",
       " <a href=\"data/nyct/turnstile/turnstile_151114.txt\">Saturday, November 14, 2015</a>,\n",
       " <a href=\"data/nyct/turnstile/turnstile_151107.txt\">Saturday, November 07, 2015</a>,\n",
       " <a href=\"data/nyct/turnstile/turnstile_151031.txt\">Saturday, October 31, 2015</a>,\n",
       " <a href=\"data/nyct/turnstile/turnstile_151024.txt\">Saturday, October 24, 2015</a>,\n",
       " <a href=\"data/nyct/turnstile/turnstile_151017.txt\">Saturday, October 17, 2015</a>,\n",
       " <a href=\"data/nyct/turnstile/turnstile_151010.txt\">Saturday, October 10, 2015</a>,\n",
       " <a href=\"data/nyct/turnstile/turnstile_151003.txt\">Saturday, October 03, 2015</a>,\n",
       " <a href=\"data/nyct/turnstile/turnstile_150926.txt\">Saturday, September 26, 2015</a>,\n",
       " <a href=\"data/nyct/turnstile/turnstile_150919.txt\">Saturday, September 19, 2015</a>,\n",
       " <a href=\"data/nyct/turnstile/turnstile_150912.txt\">Saturday, September 12, 2015</a>,\n",
       " <a href=\"data/nyct/turnstile/turnstile_150905.txt\">Saturday, September 05, 2015</a>,\n",
       " <a href=\"data/nyct/turnstile/turnstile_150829.txt\">Saturday, August 29, 2015</a>,\n",
       " <a href=\"data/nyct/turnstile/turnstile_150822.txt\">Saturday, August 22, 2015</a>,\n",
       " <a href=\"data/nyct/turnstile/turnstile_150815.txt\">Saturday, August 15, 2015</a>,\n",
       " <a href=\"data/nyct/turnstile/turnstile_150808.txt\">Saturday, August 08, 2015</a>,\n",
       " <a href=\"data/nyct/turnstile/turnstile_150801.txt\">Saturday, August 01, 2015</a>,\n",
       " <a href=\"data/nyct/turnstile/turnstile_150725.txt\">Saturday, July 25, 2015</a>,\n",
       " <a href=\"data/nyct/turnstile/turnstile_150718.txt\">Saturday, July 18, 2015</a>,\n",
       " <a href=\"data/nyct/turnstile/turnstile_150711.txt\">Saturday, July 11, 2015</a>,\n",
       " <a href=\"data/nyct/turnstile/turnstile_150704.txt\">Saturday, July 04, 2015</a>,\n",
       " <a href=\"data/nyct/turnstile/turnstile_150627.txt\">Saturday, June 27, 2015</a>,\n",
       " <a href=\"data/nyct/turnstile/turnstile_150620.txt\">Saturday, June 20, 2015</a>,\n",
       " <a href=\"data/nyct/turnstile/turnstile_150613.txt\">Saturday, June 13, 2015</a>,\n",
       " <a href=\"data/nyct/turnstile/turnstile_150606.txt\">Saturday, June 06, 2015</a>,\n",
       " <a href=\"data/nyct/turnstile/turnstile_150530.txt\">Saturday, May 30, 2015</a>,\n",
       " <a href=\"data/nyct/turnstile/turnstile_150523.txt\">Saturday, May 23, 2015</a>,\n",
       " <a href=\"data/nyct/turnstile/turnstile_150516.txt\">Saturday, May 16, 2015</a>,\n",
       " <a href=\"data/nyct/turnstile/turnstile_150509.txt\">Saturday, May 09, 2015</a>,\n",
       " <a href=\"data/nyct/turnstile/turnstile_150502.txt\">Saturday, May 02, 2015</a>,\n",
       " <a href=\"data/nyct/turnstile/turnstile_150425.txt\">Saturday, April 25, 2015</a>,\n",
       " <a href=\"data/nyct/turnstile/turnstile_150418.txt\">Saturday, April 18, 2015</a>,\n",
       " <a href=\"data/nyct/turnstile/turnstile_150411.txt\">Saturday, April 11, 2015</a>,\n",
       " <a href=\"data/nyct/turnstile/turnstile_150404.txt\">Saturday, April 04, 2015</a>,\n",
       " <a href=\"data/nyct/turnstile/turnstile_150328.txt\">Saturday, March 28, 2015</a>,\n",
       " <a href=\"data/nyct/turnstile/turnstile_150321.txt\">Saturday, March 21, 2015</a>,\n",
       " <a href=\"data/nyct/turnstile/turnstile_150314.txt\">Saturday, March 14, 2015</a>,\n",
       " <a href=\"data/nyct/turnstile/turnstile_150307.txt\">Saturday, March 07, 2015</a>,\n",
       " <a href=\"data/nyct/turnstile/turnstile_150228.txt\">Saturday, February 28, 2015</a>,\n",
       " <a href=\"data/nyct/turnstile/turnstile_150221.txt\">Saturday, February 21, 2015</a>,\n",
       " <a href=\"data/nyct/turnstile/turnstile_150214.txt\">Saturday, February 14, 2015</a>,\n",
       " <a href=\"data/nyct/turnstile/turnstile_150207.txt\">Saturday, February 07, 2015</a>,\n",
       " <a href=\"data/nyct/turnstile/turnstile_150131.txt\">Saturday, January 31, 2015</a>,\n",
       " <a href=\"data/nyct/turnstile/turnstile_150124.txt\">Saturday, January 24, 2015</a>,\n",
       " <a href=\"data/nyct/turnstile/turnstile_150117.txt\">Saturday, January 17, 2015</a>,\n",
       " <a href=\"data/nyct/turnstile/turnstile_150110.txt\">Saturday, January 10, 2015</a>,\n",
       " <a href=\"data/nyct/turnstile/turnstile_150103.txt\">Saturday, January 03, 2015</a>,\n",
       " <a href=\"data/nyct/turnstile/turnstile_141227.txt\">Saturday, December 27, 2014</a>,\n",
       " <a href=\"data/nyct/turnstile/turnstile_141220.txt\">Saturday, December 20, 2014</a>,\n",
       " <a href=\"data/nyct/turnstile/turnstile_141213.txt\">Saturday, December 13, 2014</a>,\n",
       " <a href=\"data/nyct/turnstile/turnstile_141206.txt\">Saturday, December 06, 2014</a>,\n",
       " <a href=\"data/nyct/turnstile/turnstile_141129.txt\">Saturday, November 29, 2014</a>,\n",
       " <a href=\"data/nyct/turnstile/turnstile_141122.txt\">Saturday, November 22, 2014</a>,\n",
       " <a href=\"data/nyct/turnstile/turnstile_141115.txt\">Saturday, November 15, 2014</a>,\n",
       " <a href=\"data/nyct/turnstile/turnstile_141108.txt\">Saturday, November 08, 2014</a>,\n",
       " <a href=\"data/nyct/turnstile/turnstile_141101.txt\">Saturday, November 01, 2014</a>,\n",
       " <a href=\"data/nyct/turnstile/turnstile_141025.txt\">Saturday, October 25, 2014</a>,\n",
       " <a href=\"data/nyct/turnstile/turnstile_141018.txt\">Saturday, October 18, 2014</a>,\n",
       " <a href=\"data/nyct/turnstile/turnstile_141011.txt\">Saturday, October 11, 2014</a>,\n",
       " <a href=\"data/nyct/turnstile/turnstile_141004.txt\">Saturday, October 04, 2014</a>,\n",
       " <a href=\"data/nyct/turnstile/turnstile_140927.txt\">Saturday, September 27, 2014</a>,\n",
       " <a href=\"data/nyct/turnstile/turnstile_140920.txt\">Saturday, September 20, 2014</a>,\n",
       " <a href=\"data/nyct/turnstile/turnstile_140913.txt\">Saturday, September 13, 2014</a>,\n",
       " <a href=\"data/nyct/turnstile/turnstile_140906.txt\">Saturday, September 06, 2014</a>,\n",
       " <a href=\"data/nyct/turnstile/turnstile_140830.txt\">Saturday, August 30, 2014</a>,\n",
       " <a href=\"data/nyct/turnstile/turnstile_140823.txt\">Saturday, August 23, 2014</a>,\n",
       " <a href=\"data/nyct/turnstile/turnstile_140816.txt\">Saturday, August 16, 2014</a>,\n",
       " <a href=\"data/nyct/turnstile/turnstile_140809.txt\">Saturday, August 09, 2014</a>,\n",
       " <a href=\"data/nyct/turnstile/turnstile_140802.txt\">Saturday, August 02, 2014</a>,\n",
       " <a href=\"data/nyct/turnstile/turnstile_140726.txt\">Saturday, July 26, 2014</a>,\n",
       " <a href=\"data/nyct/turnstile/turnstile_140719.txt\">Saturday, July 19, 2014</a>,\n",
       " <a href=\"data/nyct/turnstile/turnstile_140712.txt\">Saturday, July 12, 2014</a>,\n",
       " <a href=\"data/nyct/turnstile/turnstile_140705.txt\">Saturday, July 05, 2014</a>,\n",
       " <a href=\"data/nyct/turnstile/turnstile_140628.txt\">Saturday, June 28, 2014</a>,\n",
       " <a href=\"data/nyct/turnstile/turnstile_140621.txt\">Saturday, June 21, 2014</a>,\n",
       " <a href=\"data/nyct/turnstile/turnstile_140614.txt\">Saturday, June 14, 2014</a>,\n",
       " <a href=\"data/nyct/turnstile/turnstile_140607.txt\">Saturday, June 07, 2014</a>,\n",
       " <a href=\"data/nyct/turnstile/turnstile_140531.txt\">Saturday, May 31, 2014</a>,\n",
       " <a href=\"data/nyct/turnstile/turnstile_140524.txt\">Saturday, May 24, 2014</a>,\n",
       " <a href=\"data/nyct/turnstile/turnstile_140517.txt\">Saturday, May 17, 2014</a>,\n",
       " <a href=\"data/nyct/turnstile/turnstile_140510.txt\">Saturday, May 10, 2014</a>,\n",
       " <a href=\"data/nyct/turnstile/turnstile_140503.txt\">Saturday, May 03, 2014</a>,\n",
       " <a href=\"data/nyct/turnstile/turnstile_140426.txt\">Saturday, April 26, 2014</a>,\n",
       " <a href=\"data/nyct/turnstile/turnstile_140419.txt\">Saturday, April 19, 2014</a>,\n",
       " <a href=\"data/nyct/turnstile/turnstile_140412.txt\">Saturday, April 12, 2014</a>,\n",
       " <a href=\"data/nyct/turnstile/turnstile_140405.txt\">Saturday, April 05, 2014</a>,\n",
       " <a href=\"data/nyct/turnstile/turnstile_140329.txt\">Saturday, March 29, 2014</a>,\n",
       " <a href=\"data/nyct/turnstile/turnstile_140322.txt\">Saturday, March 22, 2014</a>,\n",
       " <a href=\"data/nyct/turnstile/turnstile_140315.txt\">Saturday, March 15, 2014</a>,\n",
       " <a href=\"data/nyct/turnstile/turnstile_140308.txt\">Saturday, March 08, 2014</a>,\n",
       " <a href=\"data/nyct/turnstile/turnstile_140301.txt\">Saturday, March 01, 2014</a>,\n",
       " <a href=\"data/nyct/turnstile/turnstile_140222.txt\">Saturday, February 22, 2014</a>,\n",
       " <a href=\"data/nyct/turnstile/turnstile_140215.txt\">Saturday, February 15, 2014</a>,\n",
       " <a href=\"data/nyct/turnstile/turnstile_140208.txt\">Saturday, February 08, 2014</a>,\n",
       " <a href=\"data/nyct/turnstile/turnstile_140201.txt\">Saturday, February 01, 2014</a>,\n",
       " <a href=\"data/nyct/turnstile/turnstile_140125.txt\">Saturday, January 25, 2014</a>,\n",
       " <a href=\"data/nyct/turnstile/turnstile_140118.txt\">Saturday, January 18, 2014</a>,\n",
       " <a href=\"data/nyct/turnstile/turnstile_140111.txt\">Saturday, January 11, 2014</a>,\n",
       " <a href=\"data/nyct/turnstile/turnstile_140104.txt\">Saturday, January 04, 2014</a>,\n",
       " <a href=\"data/nyct/turnstile/turnstile_131228.txt\">Saturday, December 28, 2013</a>,\n",
       " <a href=\"data/nyct/turnstile/turnstile_131221.txt\">Saturday, December 21, 2013</a>,\n",
       " <a href=\"data/nyct/turnstile/turnstile_131214.txt\">Saturday, December 14, 2013</a>,\n",
       " <a href=\"data/nyct/turnstile/turnstile_131207.txt\">Saturday, December 07, 2013</a>,\n",
       " <a href=\"data/nyct/turnstile/turnstile_131130.txt\">Saturday, November 30, 2013</a>,\n",
       " <a href=\"data/nyct/turnstile/turnstile_131123.txt\">Saturday, November 23, 2013</a>,\n",
       " <a href=\"data/nyct/turnstile/turnstile_131116.txt\">Saturday, November 16, 2013</a>,\n",
       " <a href=\"data/nyct/turnstile/turnstile_131109.txt\">Saturday, November 09, 2013</a>,\n",
       " <a href=\"data/nyct/turnstile/turnstile_131102.txt\">Saturday, November 02, 2013</a>,\n",
       " <a href=\"data/nyct/turnstile/turnstile_131026.txt\">Saturday, October 26, 2013</a>,\n",
       " <a href=\"data/nyct/turnstile/turnstile_131019.txt\">Saturday, October 19, 2013</a>,\n",
       " <a href=\"data/nyct/turnstile/turnstile_131012.txt\">Saturday, October 12, 2013</a>,\n",
       " <a href=\"data/nyct/turnstile/turnstile_131005.txt\">Saturday, October 05, 2013</a>,\n",
       " <a href=\"data/nyct/turnstile/turnstile_130928.txt\">Saturday, September 28, 2013</a>,\n",
       " <a href=\"data/nyct/turnstile/turnstile_130921.txt\">Saturday, September 21, 2013</a>,\n",
       " <a href=\"data/nyct/turnstile/turnstile_130914.txt\">Saturday, September 14, 2013</a>,\n",
       " <a href=\"data/nyct/turnstile/turnstile_130907.txt\">Saturday, September 07, 2013</a>,\n",
       " <a href=\"data/nyct/turnstile/turnstile_130831.txt\">Saturday, August 31, 2013</a>,\n",
       " <a href=\"data/nyct/turnstile/turnstile_130824.txt\">Saturday, August 24, 2013</a>,\n",
       " <a href=\"data/nyct/turnstile/turnstile_130817.txt\">Saturday, August 17, 2013</a>,\n",
       " <a href=\"data/nyct/turnstile/turnstile_130810.txt\">Saturday, August 10, 2013</a>,\n",
       " <a href=\"data/nyct/turnstile/turnstile_130803.txt\">Saturday, August 03, 2013</a>,\n",
       " <a href=\"data/nyct/turnstile/turnstile_130727.txt\">Saturday, July 27, 2013</a>,\n",
       " <a href=\"data/nyct/turnstile/turnstile_130720.txt\">Saturday, July 20, 2013</a>,\n",
       " <a href=\"data/nyct/turnstile/turnstile_130713.txt\">Saturday, July 13, 2013</a>,\n",
       " <a href=\"data/nyct/turnstile/turnstile_130706.txt\">Saturday, July 06, 2013</a>,\n",
       " <a href=\"data/nyct/turnstile/turnstile_130629.txt\">Saturday, June 29, 2013</a>,\n",
       " <a href=\"data/nyct/turnstile/turnstile_130622.txt\">Saturday, June 22, 2013</a>,\n",
       " <a href=\"data/nyct/turnstile/turnstile_130615.txt\">Saturday, June 15, 2013</a>,\n",
       " <a href=\"data/nyct/turnstile/turnstile_130608.txt\">Saturday, June 08, 2013</a>,\n",
       " <a href=\"data/nyct/turnstile/turnstile_130601.txt\">Saturday, June 01, 2013</a>,\n",
       " <a href=\"data/nyct/turnstile/turnstile_130525.txt\">Saturday, May 25, 2013</a>,\n",
       " <a href=\"data/nyct/turnstile/turnstile_130518.txt\">Saturday, May 18, 2013</a>,\n",
       " <a href=\"data/nyct/turnstile/turnstile_130511.txt\">Saturday, May 11, 2013</a>,\n",
       " <a href=\"data/nyct/turnstile/turnstile_130504.txt\">Saturday, May 04, 2013</a>,\n",
       " <a href=\"data/nyct/turnstile/turnstile_130427.txt\">Saturday, April 27, 2013</a>,\n",
       " <a href=\"data/nyct/turnstile/turnstile_130420.txt\">Saturday, April 20, 2013</a>,\n",
       " <a href=\"data/nyct/turnstile/turnstile_130413.txt\">Saturday, April 13, 2013</a>,\n",
       " <a href=\"data/nyct/turnstile/turnstile_130406.txt\">Saturday, April 06, 2013</a>,\n",
       " <a href=\"data/nyct/turnstile/turnstile_130330.txt\">Saturday, March 30, 2013</a>,\n",
       " <a href=\"data/nyct/turnstile/turnstile_130323.txt\">Saturday, March 23, 2013</a>,\n",
       " <a href=\"data/nyct/turnstile/turnstile_130316.txt\">Saturday, March 16, 2013</a>,\n",
       " <a href=\"data/nyct/turnstile/turnstile_130309.txt\">Saturday, March 09, 2013</a>,\n",
       " <a href=\"data/nyct/turnstile/turnstile_130302.txt\">Saturday, March 02, 2013</a>,\n",
       " <a href=\"data/nyct/turnstile/turnstile_130223.txt\">Saturday, February 23, 2013</a>,\n",
       " <a href=\"data/nyct/turnstile/turnstile_130216.txt\">Saturday, February 16, 2013</a>,\n",
       " <a href=\"data/nyct/turnstile/turnstile_130209.txt\">Saturday, February 09, 2013</a>,\n",
       " <a href=\"data/nyct/turnstile/turnstile_130202.txt\">Saturday, February 02, 2013</a>,\n",
       " <a href=\"data/nyct/turnstile/turnstile_130126.txt\">Saturday, January 26, 2013</a>,\n",
       " <a href=\"data/nyct/turnstile/turnstile_130119.txt\">Saturday, January 19, 2013</a>,\n",
       " <a href=\"data/nyct/turnstile/turnstile_130112.txt\">Saturday, January 12, 2013</a>,\n",
       " <a href=\"data/nyct/turnstile/turnstile_130105.txt\">Saturday, January 05, 2013</a>,\n",
       " <a href=\"data/nyct/turnstile/turnstile_121229.txt\">Saturday, December 29, 2012</a>,\n",
       " <a href=\"data/nyct/turnstile/turnstile_121222.txt\">Saturday, December 22, 2012</a>,\n",
       " <a href=\"data/nyct/turnstile/turnstile_121215.txt\">Saturday, December 15, 2012</a>,\n",
       " <a href=\"data/nyct/turnstile/turnstile_121208.txt\">Saturday, December 08, 2012</a>,\n",
       " <a href=\"data/nyct/turnstile/turnstile_121201.txt\">Saturday, December 01, 2012</a>,\n",
       " <a href=\"data/nyct/turnstile/turnstile_121124.txt\">Saturday, November 24, 2012</a>,\n",
       " <a href=\"data/nyct/turnstile/turnstile_121117.txt\">Saturday, November 17, 2012</a>,\n",
       " <a href=\"data/nyct/turnstile/turnstile_121110.txt\">Saturday, November 10, 2012</a>,\n",
       " <a href=\"data/nyct/turnstile/turnstile_121103.txt\">Saturday, November 03, 2012</a>,\n",
       " <a href=\"data/nyct/turnstile/turnstile_121027.txt\">Saturday, October 27, 2012</a>,\n",
       " <a href=\"data/nyct/turnstile/turnstile_121020.txt\">Saturday, October 20, 2012</a>,\n",
       " <a href=\"data/nyct/turnstile/turnstile_121013.txt\">Saturday, October 13, 2012</a>,\n",
       " <a href=\"data/nyct/turnstile/turnstile_121006.txt\">Saturday, October 06, 2012</a>,\n",
       " <a href=\"data/nyct/turnstile/turnstile_120929.txt\">Saturday, September 29, 2012</a>,\n",
       " <a href=\"data/nyct/turnstile/turnstile_120922.txt\">Saturday, September 22, 2012</a>,\n",
       " <a href=\"data/nyct/turnstile/turnstile_120915.txt\">Saturday, September 15, 2012</a>,\n",
       " <a href=\"data/nyct/turnstile/turnstile_120908.txt\">Saturday, September 08, 2012</a>,\n",
       " <a href=\"data/nyct/turnstile/turnstile_120901.txt\">Saturday, September 01, 2012</a>,\n",
       " <a href=\"data/nyct/turnstile/turnstile_120825.txt\">Saturday, August 25, 2012</a>,\n",
       " <a href=\"data/nyct/turnstile/turnstile_120818.txt\">Saturday, August 18, 2012</a>,\n",
       " <a href=\"data/nyct/turnstile/turnstile_120811.txt\">Saturday, August 11, 2012</a>,\n",
       " <a href=\"data/nyct/turnstile/turnstile_120804.txt\">Saturday, August 04, 2012</a>,\n",
       " <a href=\"data/nyct/turnstile/turnstile_120728.txt\">Saturday, July 28, 2012</a>,\n",
       " <a href=\"data/nyct/turnstile/turnstile_120721.txt\">Saturday, July 21, 2012</a>,\n",
       " <a href=\"data/nyct/turnstile/turnstile_120714.txt\">Saturday, July 14, 2012</a>,\n",
       " <a href=\"data/nyct/turnstile/turnstile_120707.txt\">Saturday, July 07, 2012</a>,\n",
       " <a href=\"data/nyct/turnstile/turnstile_120630.txt\">Saturday, June 30, 2012</a>,\n",
       " <a href=\"data/nyct/turnstile/turnstile_120623.txt\">Saturday, June 23, 2012</a>,\n",
       " <a href=\"data/nyct/turnstile/turnstile_120616.txt\">Saturday, June 16, 2012</a>,\n",
       " <a href=\"data/nyct/turnstile/turnstile_120609.txt\">Saturday, June 09, 2012</a>,\n",
       " <a href=\"data/nyct/turnstile/turnstile_120602.txt\">Saturday, June 02, 2012</a>,\n",
       " <a href=\"data/nyct/turnstile/turnstile_120526.txt\">Saturday, May 26, 2012</a>,\n",
       " <a href=\"data/nyct/turnstile/turnstile_120519.txt\">Saturday, May 19, 2012</a>,\n",
       " <a href=\"data/nyct/turnstile/turnstile_120512.txt\">Saturday, May 12, 2012</a>,\n",
       " <a href=\"data/nyct/turnstile/turnstile_120505.txt\">Saturday, May 05, 2012</a>,\n",
       " <a href=\"data/nyct/turnstile/turnstile_120428.txt\">Saturday, April 28, 2012</a>,\n",
       " <a href=\"data/nyct/turnstile/turnstile_120421.txt\">Saturday, April 21, 2012</a>,\n",
       " <a href=\"data/nyct/turnstile/turnstile_120414.txt\">Saturday, April 14, 2012</a>,\n",
       " <a href=\"data/nyct/turnstile/turnstile_120407.txt\">Saturday, April 07, 2012</a>,\n",
       " <a href=\"data/nyct/turnstile/turnstile_120331.txt\">Saturday, March 31, 2012</a>,\n",
       " <a href=\"data/nyct/turnstile/turnstile_120324.txt\">Saturday, March 24, 2012</a>,\n",
       " <a href=\"data/nyct/turnstile/turnstile_120317.txt\">Saturday, March 17, 2012</a>,\n",
       " <a href=\"data/nyct/turnstile/turnstile_120310.txt\">Saturday, March 10, 2012</a>,\n",
       " <a href=\"data/nyct/turnstile/turnstile_120303.txt\">Saturday, March 03, 2012</a>,\n",
       " <a href=\"data/nyct/turnstile/turnstile_120225.txt\">Saturday, February 25, 2012</a>,\n",
       " <a href=\"data/nyct/turnstile/turnstile_120218.txt\">Saturday, February 18, 2012</a>,\n",
       " <a href=\"data/nyct/turnstile/turnstile_120211.txt\">Saturday, February 11, 2012</a>,\n",
       " <a href=\"data/nyct/turnstile/turnstile_120204.txt\">Saturday, February 04, 2012</a>,\n",
       " <a href=\"data/nyct/turnstile/turnstile_120128.txt\">Saturday, January 28, 2012</a>,\n",
       " <a href=\"data/nyct/turnstile/turnstile_120121.txt\">Saturday, January 21, 2012</a>,\n",
       " <a href=\"data/nyct/turnstile/turnstile_120114.txt\">Saturday, January 14, 2012</a>,\n",
       " <a href=\"data/nyct/turnstile/turnstile_120107.txt\">Saturday, January 07, 2012</a>,\n",
       " <a href=\"data/nyct/turnstile/turnstile_111231.txt\">Saturday, December 31, 2011</a>,\n",
       " <a href=\"data/nyct/turnstile/turnstile_111224.txt\">Saturday, December 24, 2011</a>,\n",
       " <a href=\"data/nyct/turnstile/turnstile_111219.txt\">Monday, December 19, 2011</a>,\n",
       " <a href=\"data/nyct/turnstile/turnstile_111210.txt\">Saturday, December 10, 2011</a>,\n",
       " <a href=\"data/nyct/turnstile/turnstile_111203.txt\">Saturday, December 03, 2011</a>,\n",
       " <a href=\"data/nyct/turnstile/turnstile_111126.txt\">Saturday, November 26, 2011</a>,\n",
       " <a href=\"data/nyct/turnstile/turnstile_111119.txt\">Saturday, November 19, 2011</a>,\n",
       " <a href=\"data/nyct/turnstile/turnstile_111112.txt\">Saturday, November 12, 2011</a>,\n",
       " <a href=\"data/nyct/turnstile/turnstile_111105.txt\">Saturday, November 05, 2011</a>,\n",
       " <a href=\"data/nyct/turnstile/turnstile_111029.txt\">Saturday, October 29, 2011</a>,\n",
       " <a href=\"data/nyct/turnstile/turnstile_111022.txt\">Saturday, October 22, 2011</a>,\n",
       " <a href=\"data/nyct/turnstile/turnstile_111015.txt\">Saturday, October 15, 2011</a>,\n",
       " <a href=\"data/nyct/turnstile/turnstile_111008.txt\">Saturday, October 08, 2011</a>,\n",
       " <a href=\"data/nyct/turnstile/turnstile_111001.txt\">Saturday, October 01, 2011</a>,\n",
       " <a href=\"data/nyct/turnstile/turnstile_110924.txt\">Saturday, September 24, 2011</a>,\n",
       " <a href=\"data/nyct/turnstile/turnstile_110917.txt\">Saturday, September 17, 2011</a>,\n",
       " <a href=\"data/nyct/turnstile/turnstile_110910.txt\">Saturday, September 10, 2011</a>,\n",
       " <a href=\"data/nyct/turnstile/turnstile_110903.txt\">Saturday, September 03, 2011</a>,\n",
       " <a href=\"data/nyct/turnstile/turnstile_110827.txt\">Saturday, August 27, 2011</a>,\n",
       " <a href=\"data/nyct/turnstile/turnstile_110820.txt\">Saturday, August 20, 2011</a>,\n",
       " <a href=\"data/nyct/turnstile/turnstile_110813.txt\">Saturday, August 13, 2011</a>,\n",
       " <a href=\"data/nyct/turnstile/turnstile_110806.txt\">Saturday, August 06, 2011</a>,\n",
       " <a href=\"data/nyct/turnstile/turnstile_110730.txt\">Saturday, July 30, 2011</a>,\n",
       " <a href=\"data/nyct/turnstile/turnstile_110723.txt\">Saturday, July 23, 2011</a>,\n",
       " <a href=\"data/nyct/turnstile/turnstile_110716.txt\">Saturday, July 16, 2011</a>,\n",
       " <a href=\"data/nyct/turnstile/turnstile_110709.txt\">Saturday, July 09, 2011</a>,\n",
       " <a href=\"data/nyct/turnstile/turnstile_110702.txt\">Saturday, July 02, 2011</a>,\n",
       " <a href=\"data/nyct/turnstile/turnstile_110625.txt\">Saturday, June 25, 2011</a>,\n",
       " <a href=\"data/nyct/turnstile/turnstile_110618.txt\">Saturday, June 18, 2011</a>,\n",
       " <a href=\"data/nyct/turnstile/turnstile_110611.txt\">Saturday, June 11, 2011</a>,\n",
       " <a href=\"data/nyct/turnstile/turnstile_110604.txt\">Saturday, June 04, 2011</a>,\n",
       " <a href=\"data/nyct/turnstile/turnstile_110528.txt\">Saturday, May 28, 2011</a>,\n",
       " <a href=\"data/nyct/turnstile/turnstile_110521.txt\">Saturday, May 21, 2011</a>,\n",
       " <a href=\"data/nyct/turnstile/turnstile_110514.txt\">Saturday, May 14, 2011</a>,\n",
       " <a href=\"data/nyct/turnstile/turnstile_110507.txt\">Saturday, May 07, 2011</a>,\n",
       " <a href=\"data/nyct/turnstile/turnstile_110430.txt\">Saturday, April 30, 2011</a>,\n",
       " <a href=\"data/nyct/turnstile/turnstile_110423.txt\">Saturday, April 23, 2011</a>,\n",
       " <a href=\"data/nyct/turnstile/turnstile_110416.txt\">Saturday, April 16, 2011</a>,\n",
       " <a href=\"data/nyct/turnstile/turnstile_110409.txt\">Saturday, April 09, 2011</a>,\n",
       " <a href=\"data/nyct/turnstile/turnstile_110402.txt\">Saturday, April 02, 2011</a>,\n",
       " <a href=\"data/nyct/turnstile/turnstile_110326.txt\">Saturday, March 26, 2011</a>,\n",
       " <a href=\"data/nyct/turnstile/turnstile_110319.txt\">Saturday, March 19, 2011</a>,\n",
       " <a href=\"data/nyct/turnstile/turnstile_110312.txt\">Saturday, March 12, 2011</a>,\n",
       " <a href=\"data/nyct/turnstile/turnstile_110305.txt\">Saturday, March 05, 2011</a>,\n",
       " <a href=\"data/nyct/turnstile/turnstile_110226.txt\">Saturday, February 26, 2011</a>,\n",
       " <a href=\"data/nyct/turnstile/turnstile_110219.txt\">Saturday, February 19, 2011</a>,\n",
       " <a href=\"data/nyct/turnstile/turnstile_110212.txt\">Saturday, February 12, 2011</a>,\n",
       " <a href=\"data/nyct/turnstile/turnstile_110205.txt\">Saturday, February 05, 2011</a>,\n",
       " <a href=\"data/nyct/turnstile/turnstile_110129.txt\">Saturday, January 29, 2011</a>,\n",
       " <a href=\"data/nyct/turnstile/turnstile_110122.txt\">Saturday, January 22, 2011</a>,\n",
       " <a href=\"data/nyct/turnstile/turnstile_110115.txt\">Saturday, January 15, 2011</a>,\n",
       " <a href=\"data/nyct/turnstile/turnstile_110108.txt\">Saturday, January 08, 2011</a>,\n",
       " <a href=\"data/nyct/turnstile/turnstile_110101.txt\">Saturday, January 01, 2011</a>,\n",
       " <a href=\"data/nyct/turnstile/turnstile_101225.txt\">Saturday, December 25, 2010</a>,\n",
       " <a href=\"data/nyct/turnstile/turnstile_101218.txt\">Saturday, December 18, 2010</a>,\n",
       " <a href=\"data/nyct/turnstile/turnstile_101211.txt\">Saturday, December 11, 2010</a>,\n",
       " <a href=\"data/nyct/turnstile/turnstile_101204.txt\">Saturday, December 04, 2010</a>,\n",
       " <a href=\"data/nyct/turnstile/turnstile_101127.txt\">Saturday, November 27, 2010</a>,\n",
       " <a href=\"data/nyct/turnstile/turnstile_101120.txt\">Saturday, November 20, 2010</a>,\n",
       " <a href=\"data/nyct/turnstile/turnstile_101113.txt\">Saturday, November 13, 2010</a>,\n",
       " <a href=\"data/nyct/turnstile/turnstile_101106.txt\">Saturday, November 06, 2010</a>,\n",
       " <a href=\"data/nyct/turnstile/turnstile_101030.txt\">Saturday, October 30, 2010</a>,\n",
       " <a href=\"data/nyct/turnstile/turnstile_101023.txt\">Saturday, October 23, 2010</a>,\n",
       " <a href=\"data/nyct/turnstile/turnstile_101016.txt\">Saturday, October 16, 2010</a>,\n",
       " <a href=\"data/nyct/turnstile/turnstile_101009.txt\">Saturday, October 09, 2010</a>,\n",
       " <a href=\"data/nyct/turnstile/turnstile_101002.txt\">Saturday, October 02, 2010</a>,\n",
       " <a href=\"data/nyct/turnstile/turnstile_100925.txt\">Saturday, September 25, 2010</a>,\n",
       " <a href=\"data/nyct/turnstile/turnstile_100918.txt\">Saturday, September 18, 2010</a>,\n",
       " <a href=\"data/nyct/turnstile/turnstile_100911.txt\">Saturday, September 11, 2010</a>,\n",
       " <a href=\"data/nyct/turnstile/turnstile_100904.txt\">Saturday, September 04, 2010</a>,\n",
       " <a href=\"data/nyct/turnstile/turnstile_100828.txt\">Saturday, August 28, 2010</a>,\n",
       " <a href=\"data/nyct/turnstile/turnstile_100821.txt\">Saturday, August 21, 2010</a>,\n",
       " <a href=\"data/nyct/turnstile/turnstile_100814.txt\">Saturday, August 14, 2010</a>,\n",
       " <a href=\"data/nyct/turnstile/turnstile_100807.txt\">Saturday, August 07, 2010</a>,\n",
       " <a href=\"data/nyct/turnstile/turnstile_100731.txt\">Saturday, July 31, 2010</a>,\n",
       " <a href=\"data/nyct/turnstile/turnstile_100724.txt\">Saturday, July 24, 2010</a>,\n",
       " <a href=\"data/nyct/turnstile/turnstile_100717.txt\">Saturday, July 17, 2010</a>,\n",
       " <a href=\"data/nyct/turnstile/turnstile_100710.txt\">Saturday, July 10, 2010</a>,\n",
       " <a href=\"data/nyct/turnstile/turnstile_100703.txt\">Saturday, July 03, 2010</a>,\n",
       " <a href=\"data/nyct/turnstile/turnstile_100626.txt\">Saturday, June 26, 2010</a>,\n",
       " <a href=\"data/nyct/turnstile/turnstile_100619.txt\">Saturday, June 19, 2010</a>,\n",
       " <a href=\"data/nyct/turnstile/turnstile_100612.txt\">Saturday, June 12, 2010</a>,\n",
       " <a href=\"data/nyct/turnstile/turnstile_100605.txt\">Saturday, June 05, 2010</a>,\n",
       " <a href=\"data/nyct/turnstile/turnstile_100522.txt\">Saturday, May 22, 2010</a>,\n",
       " <a href=\"data/nyct/turnstile/turnstile_100515.txt\">Saturday, May 15, 2010</a>,\n",
       " <a href=\"data/nyct/turnstile/turnstile_100508.txt\">Saturday, May 08, 2010</a>,\n",
       " <a href=\"data/nyct/turnstile/turnstile_100505.txt\">Wednesday, May 05, 2010</a>]"
      ]
     },
     "execution_count": 11,
     "metadata": {},
     "output_type": "execute_result"
    }
   ],
   "source": [
    "holder = soup.find(\"div\", class_=\"span-84\").find_all(\"a\")\n",
    "ic(holder)"
   ]
  },
  {
   "cell_type": "code",
   "execution_count": 12,
   "id": "389b2e01",
   "metadata": {},
   "outputs": [
    {
     "data": {
      "text/plain": [
       "bs4.element.ResultSet"
      ]
     },
     "execution_count": 12,
     "metadata": {},
     "output_type": "execute_result"
    }
   ],
   "source": [
    "type(holder)"
   ]
  },
  {
   "cell_type": "code",
   "execution_count": 13,
   "id": "cf6b10c7",
   "metadata": {},
   "outputs": [
    {
     "data": {
      "text/plain": [
       "598"
      ]
     },
     "execution_count": 13,
     "metadata": {},
     "output_type": "execute_result"
    }
   ],
   "source": [
    "len(holder)"
   ]
  },
  {
   "cell_type": "code",
   "execution_count": 14,
   "id": "7c5dfe0a",
   "metadata": {},
   "outputs": [],
   "source": [
    "base_url = \"http://web.mta.info/developers/\""
   ]
  },
  {
   "cell_type": "code",
   "execution_count": 15,
   "id": "bc95c47d",
   "metadata": {
    "collapsed": true
   },
   "outputs": [
    {
     "data": {
      "text/plain": [
       "['http://web.mta.info/developers/data/nyct/turnstile/turnstile_211016.txt',\n",
       " 'http://web.mta.info/developers/data/nyct/turnstile/turnstile_211009.txt',\n",
       " 'http://web.mta.info/developers/data/nyct/turnstile/turnstile_211002.txt',\n",
       " 'http://web.mta.info/developers/data/nyct/turnstile/turnstile_210925.txt',\n",
       " 'http://web.mta.info/developers/data/nyct/turnstile/turnstile_210918.txt',\n",
       " 'http://web.mta.info/developers/data/nyct/turnstile/turnstile_210911.txt',\n",
       " 'http://web.mta.info/developers/data/nyct/turnstile/turnstile_210904.txt',\n",
       " 'http://web.mta.info/developers/data/nyct/turnstile/turnstile_210828.txt',\n",
       " 'http://web.mta.info/developers/data/nyct/turnstile/turnstile_210821.txt',\n",
       " 'http://web.mta.info/developers/data/nyct/turnstile/turnstile_210814.txt',\n",
       " 'http://web.mta.info/developers/data/nyct/turnstile/turnstile_210807.txt',\n",
       " 'http://web.mta.info/developers/data/nyct/turnstile/turnstile_210731.txt',\n",
       " 'http://web.mta.info/developers/data/nyct/turnstile/turnstile_210724.txt',\n",
       " 'http://web.mta.info/developers/data/nyct/turnstile/turnstile_210717.txt',\n",
       " 'http://web.mta.info/developers/data/nyct/turnstile/turnstile_210710.txt',\n",
       " 'http://web.mta.info/developers/data/nyct/turnstile/turnstile_210703.txt',\n",
       " 'http://web.mta.info/developers/data/nyct/turnstile/turnstile_210626.txt',\n",
       " 'http://web.mta.info/developers/data/nyct/turnstile/turnstile_210619.txt',\n",
       " 'http://web.mta.info/developers/data/nyct/turnstile/turnstile_210612.txt',\n",
       " 'http://web.mta.info/developers/data/nyct/turnstile/turnstile_210605.txt',\n",
       " 'http://web.mta.info/developers/data/nyct/turnstile/turnstile_210529.txt',\n",
       " 'http://web.mta.info/developers/data/nyct/turnstile/turnstile_210522.txt',\n",
       " 'http://web.mta.info/developers/data/nyct/turnstile/turnstile_210515.txt',\n",
       " 'http://web.mta.info/developers/data/nyct/turnstile/turnstile_210508.txt',\n",
       " 'http://web.mta.info/developers/data/nyct/turnstile/turnstile_210501.txt',\n",
       " 'http://web.mta.info/developers/data/nyct/turnstile/turnstile_210424.txt',\n",
       " 'http://web.mta.info/developers/data/nyct/turnstile/turnstile_210417.txt',\n",
       " 'http://web.mta.info/developers/data/nyct/turnstile/turnstile_210410.txt',\n",
       " 'http://web.mta.info/developers/data/nyct/turnstile/turnstile_210403.txt',\n",
       " 'http://web.mta.info/developers/data/nyct/turnstile/turnstile_210327.txt',\n",
       " 'http://web.mta.info/developers/data/nyct/turnstile/turnstile_210320.txt',\n",
       " 'http://web.mta.info/developers/data/nyct/turnstile/turnstile_210313.txt',\n",
       " 'http://web.mta.info/developers/data/nyct/turnstile/turnstile_210306.txt',\n",
       " 'http://web.mta.info/developers/data/nyct/turnstile/turnstile_210227.txt',\n",
       " 'http://web.mta.info/developers/data/nyct/turnstile/turnstile_210220.txt',\n",
       " 'http://web.mta.info/developers/data/nyct/turnstile/turnstile_210213.txt',\n",
       " 'http://web.mta.info/developers/data/nyct/turnstile/turnstile_210206.txt',\n",
       " 'http://web.mta.info/developers/data/nyct/turnstile/turnstile_210130.txt',\n",
       " 'http://web.mta.info/developers/data/nyct/turnstile/turnstile_210123.txt',\n",
       " 'http://web.mta.info/developers/data/nyct/turnstile/turnstile_210116.txt',\n",
       " 'http://web.mta.info/developers/data/nyct/turnstile/turnstile_210109.txt',\n",
       " 'http://web.mta.info/developers/data/nyct/turnstile/turnstile_210102.txt',\n",
       " 'http://web.mta.info/developers/data/nyct/turnstile/turnstile_201226.txt',\n",
       " 'http://web.mta.info/developers/data/nyct/turnstile/turnstile_201219.txt',\n",
       " 'http://web.mta.info/developers/data/nyct/turnstile/turnstile_201212.txt',\n",
       " 'http://web.mta.info/developers/data/nyct/turnstile/turnstile_201205.txt',\n",
       " 'http://web.mta.info/developers/data/nyct/turnstile/turnstile_201128.txt',\n",
       " 'http://web.mta.info/developers/data/nyct/turnstile/turnstile_201121.txt',\n",
       " 'http://web.mta.info/developers/data/nyct/turnstile/turnstile_201114.txt',\n",
       " 'http://web.mta.info/developers/data/nyct/turnstile/turnstile_201107.txt',\n",
       " 'http://web.mta.info/developers/data/nyct/turnstile/turnstile_201031.txt',\n",
       " 'http://web.mta.info/developers/data/nyct/turnstile/turnstile_201024.txt',\n",
       " 'http://web.mta.info/developers/data/nyct/turnstile/turnstile_201017.txt',\n",
       " 'http://web.mta.info/developers/data/nyct/turnstile/turnstile_201010.txt',\n",
       " 'http://web.mta.info/developers/data/nyct/turnstile/turnstile_201003.txt',\n",
       " 'http://web.mta.info/developers/data/nyct/turnstile/turnstile_200926.txt',\n",
       " 'http://web.mta.info/developers/data/nyct/turnstile/turnstile_200919.txt',\n",
       " 'http://web.mta.info/developers/data/nyct/turnstile/turnstile_200912.txt',\n",
       " 'http://web.mta.info/developers/data/nyct/turnstile/turnstile_200905.txt',\n",
       " 'http://web.mta.info/developers/data/nyct/turnstile/turnstile_200829.txt',\n",
       " 'http://web.mta.info/developers/data/nyct/turnstile/turnstile_200822.txt',\n",
       " 'http://web.mta.info/developers/data/nyct/turnstile/turnstile_200815.txt',\n",
       " 'http://web.mta.info/developers/data/nyct/turnstile/turnstile_200808.txt',\n",
       " 'http://web.mta.info/developers/data/nyct/turnstile/turnstile_200801.txt',\n",
       " 'http://web.mta.info/developers/data/nyct/turnstile/turnstile_200725.txt',\n",
       " 'http://web.mta.info/developers/data/nyct/turnstile/turnstile_200718.txt',\n",
       " 'http://web.mta.info/developers/data/nyct/turnstile/turnstile_200711.txt',\n",
       " 'http://web.mta.info/developers/data/nyct/turnstile/turnstile_200704.txt',\n",
       " 'http://web.mta.info/developers/data/nyct/turnstile/turnstile_200627.txt',\n",
       " 'http://web.mta.info/developers/data/nyct/turnstile/turnstile_200620.txt',\n",
       " 'http://web.mta.info/developers/data/nyct/turnstile/turnstile_200613.txt',\n",
       " 'http://web.mta.info/developers/data/nyct/turnstile/turnstile_200606.txt',\n",
       " 'http://web.mta.info/developers/data/nyct/turnstile/turnstile_200530.txt',\n",
       " 'http://web.mta.info/developers/data/nyct/turnstile/turnstile_200523.txt',\n",
       " 'http://web.mta.info/developers/data/nyct/turnstile/turnstile_200516.txt',\n",
       " 'http://web.mta.info/developers/data/nyct/turnstile/turnstile_200509.txt',\n",
       " 'http://web.mta.info/developers/data/nyct/turnstile/turnstile_200502.txt',\n",
       " 'http://web.mta.info/developers/data/nyct/turnstile/turnstile_200425.txt',\n",
       " 'http://web.mta.info/developers/data/nyct/turnstile/turnstile_200418.txt',\n",
       " 'http://web.mta.info/developers/data/nyct/turnstile/turnstile_200411.txt',\n",
       " 'http://web.mta.info/developers/data/nyct/turnstile/turnstile_200404.txt',\n",
       " 'http://web.mta.info/developers/data/nyct/turnstile/turnstile_200328.txt',\n",
       " 'http://web.mta.info/developers/data/nyct/turnstile/turnstile_200321.txt',\n",
       " 'http://web.mta.info/developers/data/nyct/turnstile/turnstile_200314.txt',\n",
       " 'http://web.mta.info/developers/data/nyct/turnstile/turnstile_200307.txt',\n",
       " 'http://web.mta.info/developers/data/nyct/turnstile/turnstile_200229.txt',\n",
       " 'http://web.mta.info/developers/data/nyct/turnstile/turnstile_200222.txt',\n",
       " 'http://web.mta.info/developers/data/nyct/turnstile/turnstile_200215.txt',\n",
       " 'http://web.mta.info/developers/data/nyct/turnstile/turnstile_200208.txt',\n",
       " 'http://web.mta.info/developers/data/nyct/turnstile/turnstile_200201.txt',\n",
       " 'http://web.mta.info/developers/data/nyct/turnstile/turnstile_200125.txt',\n",
       " 'http://web.mta.info/developers/data/nyct/turnstile/turnstile_200118.txt',\n",
       " 'http://web.mta.info/developers/data/nyct/turnstile/turnstile_200111.txt',\n",
       " 'http://web.mta.info/developers/data/nyct/turnstile/turnstile_200104.txt',\n",
       " 'http://web.mta.info/developers/data/nyct/turnstile/turnstile_191228.txt',\n",
       " 'http://web.mta.info/developers/data/nyct/turnstile/turnstile_191221.txt',\n",
       " 'http://web.mta.info/developers/data/nyct/turnstile/turnstile_191214.txt',\n",
       " 'http://web.mta.info/developers/data/nyct/turnstile/turnstile_191207.txt',\n",
       " 'http://web.mta.info/developers/data/nyct/turnstile/turnstile_191130.txt',\n",
       " 'http://web.mta.info/developers/data/nyct/turnstile/turnstile_191123.txt',\n",
       " 'http://web.mta.info/developers/data/nyct/turnstile/turnstile_191116.txt',\n",
       " 'http://web.mta.info/developers/data/nyct/turnstile/turnstile_191109.txt',\n",
       " 'http://web.mta.info/developers/data/nyct/turnstile/turnstile_191102.txt',\n",
       " 'http://web.mta.info/developers/data/nyct/turnstile/turnstile_191026.txt',\n",
       " 'http://web.mta.info/developers/data/nyct/turnstile/turnstile_191019.txt',\n",
       " 'http://web.mta.info/developers/data/nyct/turnstile/turnstile_191012.txt',\n",
       " 'http://web.mta.info/developers/data/nyct/turnstile/turnstile_191005.txt',\n",
       " 'http://web.mta.info/developers/data/nyct/turnstile/turnstile_190928.txt',\n",
       " 'http://web.mta.info/developers/data/nyct/turnstile/turnstile_190921.txt',\n",
       " 'http://web.mta.info/developers/data/nyct/turnstile/turnstile_190914.txt',\n",
       " 'http://web.mta.info/developers/data/nyct/turnstile/turnstile_190907.txt',\n",
       " 'http://web.mta.info/developers/data/nyct/turnstile/turnstile_190831.txt',\n",
       " 'http://web.mta.info/developers/data/nyct/turnstile/turnstile_190824.txt',\n",
       " 'http://web.mta.info/developers/data/nyct/turnstile/turnstile_190817.txt',\n",
       " 'http://web.mta.info/developers/data/nyct/turnstile/turnstile_190810.txt',\n",
       " 'http://web.mta.info/developers/data/nyct/turnstile/turnstile_190803.txt',\n",
       " 'http://web.mta.info/developers/data/nyct/turnstile/turnstile_190727.txt',\n",
       " 'http://web.mta.info/developers/data/nyct/turnstile/turnstile_190720.txt',\n",
       " 'http://web.mta.info/developers/data/nyct/turnstile/turnstile_190713.txt',\n",
       " 'http://web.mta.info/developers/data/nyct/turnstile/turnstile_190706.txt',\n",
       " 'http://web.mta.info/developers/data/nyct/turnstile/turnstile_190629.txt',\n",
       " 'http://web.mta.info/developers/data/nyct/turnstile/turnstile_190622.txt',\n",
       " 'http://web.mta.info/developers/data/nyct/turnstile/turnstile_190615.txt',\n",
       " 'http://web.mta.info/developers/data/nyct/turnstile/turnstile_190608.txt',\n",
       " 'http://web.mta.info/developers/data/nyct/turnstile/turnstile_190601.txt',\n",
       " 'http://web.mta.info/developers/data/nyct/turnstile/turnstile_190525.txt',\n",
       " 'http://web.mta.info/developers/data/nyct/turnstile/turnstile_190518.txt',\n",
       " 'http://web.mta.info/developers/data/nyct/turnstile/turnstile_190511.txt',\n",
       " 'http://web.mta.info/developers/data/nyct/turnstile/turnstile_190504.txt',\n",
       " 'http://web.mta.info/developers/data/nyct/turnstile/turnstile_190427.txt',\n",
       " 'http://web.mta.info/developers/data/nyct/turnstile/turnstile_190420.txt',\n",
       " 'http://web.mta.info/developers/data/nyct/turnstile/turnstile_190413.txt',\n",
       " 'http://web.mta.info/developers/data/nyct/turnstile/turnstile_190406.txt',\n",
       " 'http://web.mta.info/developers/data/nyct/turnstile/turnstile_190330.txt',\n",
       " 'http://web.mta.info/developers/data/nyct/turnstile/turnstile_190323.txt',\n",
       " 'http://web.mta.info/developers/data/nyct/turnstile/turnstile_190316.txt',\n",
       " 'http://web.mta.info/developers/data/nyct/turnstile/turnstile_190309.txt',\n",
       " 'http://web.mta.info/developers/data/nyct/turnstile/turnstile_190302.txt',\n",
       " 'http://web.mta.info/developers/data/nyct/turnstile/turnstile_190223.txt',\n",
       " 'http://web.mta.info/developers/data/nyct/turnstile/turnstile_190216.txt',\n",
       " 'http://web.mta.info/developers/data/nyct/turnstile/turnstile_190209.txt',\n",
       " 'http://web.mta.info/developers/data/nyct/turnstile/turnstile_190202.txt',\n",
       " 'http://web.mta.info/developers/data/nyct/turnstile/turnstile_190126.txt',\n",
       " 'http://web.mta.info/developers/data/nyct/turnstile/turnstile_190119.txt',\n",
       " 'http://web.mta.info/developers/data/nyct/turnstile/turnstile_190112.txt',\n",
       " 'http://web.mta.info/developers/data/nyct/turnstile/turnstile_190105.txt',\n",
       " 'http://web.mta.info/developers/data/nyct/turnstile/turnstile_181229.txt',\n",
       " 'http://web.mta.info/developers/data/nyct/turnstile/turnstile_181222.txt',\n",
       " 'http://web.mta.info/developers/data/nyct/turnstile/turnstile_181215.txt',\n",
       " 'http://web.mta.info/developers/data/nyct/turnstile/turnstile_181208.txt',\n",
       " 'http://web.mta.info/developers/data/nyct/turnstile/turnstile_181201.txt',\n",
       " 'http://web.mta.info/developers/data/nyct/turnstile/turnstile_181124.txt',\n",
       " 'http://web.mta.info/developers/data/nyct/turnstile/turnstile_181117.txt',\n",
       " 'http://web.mta.info/developers/data/nyct/turnstile/turnstile_181110.txt',\n",
       " 'http://web.mta.info/developers/data/nyct/turnstile/turnstile_181103.txt',\n",
       " 'http://web.mta.info/developers/data/nyct/turnstile/turnstile_181027.txt',\n",
       " 'http://web.mta.info/developers/data/nyct/turnstile/turnstile_181020.txt',\n",
       " 'http://web.mta.info/developers/data/nyct/turnstile/turnstile_181013.txt',\n",
       " 'http://web.mta.info/developers/data/nyct/turnstile/turnstile_181006.txt',\n",
       " 'http://web.mta.info/developers/data/nyct/turnstile/turnstile_180929.txt',\n",
       " 'http://web.mta.info/developers/data/nyct/turnstile/turnstile_180922.txt',\n",
       " 'http://web.mta.info/developers/data/nyct/turnstile/turnstile_180915.txt',\n",
       " 'http://web.mta.info/developers/data/nyct/turnstile/turnstile_180908.txt',\n",
       " 'http://web.mta.info/developers/data/nyct/turnstile/turnstile_180901.txt',\n",
       " 'http://web.mta.info/developers/data/nyct/turnstile/turnstile_180825.txt',\n",
       " 'http://web.mta.info/developers/data/nyct/turnstile/turnstile_180818.txt',\n",
       " 'http://web.mta.info/developers/data/nyct/turnstile/turnstile_180811.txt',\n",
       " 'http://web.mta.info/developers/data/nyct/turnstile/turnstile_180804.txt',\n",
       " 'http://web.mta.info/developers/data/nyct/turnstile/turnstile_180728.txt',\n",
       " 'http://web.mta.info/developers/data/nyct/turnstile/turnstile_180721.txt',\n",
       " 'http://web.mta.info/developers/data/nyct/turnstile/turnstile_180714.txt',\n",
       " 'http://web.mta.info/developers/data/nyct/turnstile/turnstile_180707.txt',\n",
       " 'http://web.mta.info/developers/data/nyct/turnstile/turnstile_180630.txt',\n",
       " 'http://web.mta.info/developers/data/nyct/turnstile/turnstile_180623.txt',\n",
       " 'http://web.mta.info/developers/data/nyct/turnstile/turnstile_180616.txt',\n",
       " 'http://web.mta.info/developers/data/nyct/turnstile/turnstile_180609.txt',\n",
       " 'http://web.mta.info/developers/data/nyct/turnstile/turnstile_180602.txt',\n",
       " 'http://web.mta.info/developers/data/nyct/turnstile/turnstile_180526.txt',\n",
       " 'http://web.mta.info/developers/data/nyct/turnstile/turnstile_180519.txt',\n",
       " 'http://web.mta.info/developers/data/nyct/turnstile/turnstile_180512.txt',\n",
       " 'http://web.mta.info/developers/data/nyct/turnstile/turnstile_180505.txt',\n",
       " 'http://web.mta.info/developers/data/nyct/turnstile/turnstile_180428.txt',\n",
       " 'http://web.mta.info/developers/data/nyct/turnstile/turnstile_180421.txt',\n",
       " 'http://web.mta.info/developers/data/nyct/turnstile/turnstile_180414.txt',\n",
       " 'http://web.mta.info/developers/data/nyct/turnstile/turnstile_180407.txt',\n",
       " 'http://web.mta.info/developers/data/nyct/turnstile/turnstile_180331.txt',\n",
       " 'http://web.mta.info/developers/data/nyct/turnstile/turnstile_180324.txt',\n",
       " 'http://web.mta.info/developers/data/nyct/turnstile/turnstile_180317.txt',\n",
       " 'http://web.mta.info/developers/data/nyct/turnstile/turnstile_180310.txt',\n",
       " 'http://web.mta.info/developers/data/nyct/turnstile/turnstile_180303.txt',\n",
       " 'http://web.mta.info/developers/data/nyct/turnstile/turnstile_180224.txt',\n",
       " 'http://web.mta.info/developers/data/nyct/turnstile/turnstile_180217.txt',\n",
       " 'http://web.mta.info/developers/data/nyct/turnstile/turnstile_180210.txt',\n",
       " 'http://web.mta.info/developers/data/nyct/turnstile/turnstile_180203.txt',\n",
       " 'http://web.mta.info/developers/data/nyct/turnstile/turnstile_180127.txt',\n",
       " 'http://web.mta.info/developers/data/nyct/turnstile/turnstile_180120.txt',\n",
       " 'http://web.mta.info/developers/data/nyct/turnstile/turnstile_180113.txt',\n",
       " 'http://web.mta.info/developers/data/nyct/turnstile/turnstile_180106.txt',\n",
       " 'http://web.mta.info/developers/data/nyct/turnstile/turnstile_171230.txt',\n",
       " 'http://web.mta.info/developers/data/nyct/turnstile/turnstile_171223.txt',\n",
       " 'http://web.mta.info/developers/data/nyct/turnstile/turnstile_171216.txt',\n",
       " 'http://web.mta.info/developers/data/nyct/turnstile/turnstile_171209.txt',\n",
       " 'http://web.mta.info/developers/data/nyct/turnstile/turnstile_171202.txt',\n",
       " 'http://web.mta.info/developers/data/nyct/turnstile/turnstile_171125.txt',\n",
       " 'http://web.mta.info/developers/data/nyct/turnstile/turnstile_171118.txt',\n",
       " 'http://web.mta.info/developers/data/nyct/turnstile/turnstile_171111.txt',\n",
       " 'http://web.mta.info/developers/data/nyct/turnstile/turnstile_171104.txt',\n",
       " 'http://web.mta.info/developers/data/nyct/turnstile/turnstile_171028.txt',\n",
       " 'http://web.mta.info/developers/data/nyct/turnstile/turnstile_171021.txt',\n",
       " 'http://web.mta.info/developers/data/nyct/turnstile/turnstile_171014.txt',\n",
       " 'http://web.mta.info/developers/data/nyct/turnstile/turnstile_171007.txt',\n",
       " 'http://web.mta.info/developers/data/nyct/turnstile/turnstile_170930.txt',\n",
       " 'http://web.mta.info/developers/data/nyct/turnstile/turnstile_170923.txt',\n",
       " 'http://web.mta.info/developers/data/nyct/turnstile/turnstile_170916.txt',\n",
       " 'http://web.mta.info/developers/data/nyct/turnstile/turnstile_170909.txt',\n",
       " 'http://web.mta.info/developers/data/nyct/turnstile/turnstile_170902.txt',\n",
       " 'http://web.mta.info/developers/data/nyct/turnstile/turnstile_170826.txt',\n",
       " 'http://web.mta.info/developers/data/nyct/turnstile/turnstile_170819.txt',\n",
       " 'http://web.mta.info/developers/data/nyct/turnstile/turnstile_170812.txt',\n",
       " 'http://web.mta.info/developers/data/nyct/turnstile/turnstile_170805.txt',\n",
       " 'http://web.mta.info/developers/data/nyct/turnstile/turnstile_170729.txt',\n",
       " 'http://web.mta.info/developers/data/nyct/turnstile/turnstile_170722.txt',\n",
       " 'http://web.mta.info/developers/data/nyct/turnstile/turnstile_170715.txt',\n",
       " 'http://web.mta.info/developers/data/nyct/turnstile/turnstile_170708.txt',\n",
       " 'http://web.mta.info/developers/data/nyct/turnstile/turnstile_170701.txt',\n",
       " 'http://web.mta.info/developers/data/nyct/turnstile/turnstile_170624.txt',\n",
       " 'http://web.mta.info/developers/data/nyct/turnstile/turnstile_170617.txt',\n",
       " 'http://web.mta.info/developers/data/nyct/turnstile/turnstile_170610.txt',\n",
       " 'http://web.mta.info/developers/data/nyct/turnstile/turnstile_170603.txt',\n",
       " 'http://web.mta.info/developers/data/nyct/turnstile/turnstile_170527.txt',\n",
       " 'http://web.mta.info/developers/data/nyct/turnstile/turnstile_170520.txt',\n",
       " 'http://web.mta.info/developers/data/nyct/turnstile/turnstile_170513.txt',\n",
       " 'http://web.mta.info/developers/data/nyct/turnstile/turnstile_170506.txt',\n",
       " 'http://web.mta.info/developers/data/nyct/turnstile/turnstile_170429.txt',\n",
       " 'http://web.mta.info/developers/data/nyct/turnstile/turnstile_170422.txt',\n",
       " 'http://web.mta.info/developers/data/nyct/turnstile/turnstile_170415.txt',\n",
       " 'http://web.mta.info/developers/data/nyct/turnstile/turnstile_170408.txt',\n",
       " 'http://web.mta.info/developers/data/nyct/turnstile/turnstile_170401.txt',\n",
       " 'http://web.mta.info/developers/data/nyct/turnstile/turnstile_170325.txt',\n",
       " 'http://web.mta.info/developers/data/nyct/turnstile/turnstile_170318.txt',\n",
       " 'http://web.mta.info/developers/data/nyct/turnstile/turnstile_170311.txt',\n",
       " 'http://web.mta.info/developers/data/nyct/turnstile/turnstile_170304.txt',\n",
       " 'http://web.mta.info/developers/data/nyct/turnstile/turnstile_170225.txt',\n",
       " 'http://web.mta.info/developers/data/nyct/turnstile/turnstile_170218.txt',\n",
       " 'http://web.mta.info/developers/data/nyct/turnstile/turnstile_170211.txt',\n",
       " 'http://web.mta.info/developers/data/nyct/turnstile/turnstile_170204.txt',\n",
       " 'http://web.mta.info/developers/data/nyct/turnstile/turnstile_170128.txt',\n",
       " 'http://web.mta.info/developers/data/nyct/turnstile/turnstile_170121.txt',\n",
       " 'http://web.mta.info/developers/data/nyct/turnstile/turnstile_170114.txt',\n",
       " 'http://web.mta.info/developers/data/nyct/turnstile/turnstile_170107.txt',\n",
       " 'http://web.mta.info/developers/data/nyct/turnstile/turnstile_161231.txt',\n",
       " 'http://web.mta.info/developers/data/nyct/turnstile/turnstile_161224.txt',\n",
       " 'http://web.mta.info/developers/data/nyct/turnstile/turnstile_161217.txt',\n",
       " 'http://web.mta.info/developers/data/nyct/turnstile/turnstile_161210.txt',\n",
       " 'http://web.mta.info/developers/data/nyct/turnstile/turnstile_161203.txt',\n",
       " 'http://web.mta.info/developers/data/nyct/turnstile/turnstile_161126.txt',\n",
       " 'http://web.mta.info/developers/data/nyct/turnstile/turnstile_161119.txt',\n",
       " 'http://web.mta.info/developers/data/nyct/turnstile/turnstile_161112.txt',\n",
       " 'http://web.mta.info/developers/data/nyct/turnstile/turnstile_161105.txt',\n",
       " 'http://web.mta.info/developers/data/nyct/turnstile/turnstile_161029.txt',\n",
       " 'http://web.mta.info/developers/data/nyct/turnstile/turnstile_161022.txt',\n",
       " 'http://web.mta.info/developers/data/nyct/turnstile/turnstile_161015.txt',\n",
       " 'http://web.mta.info/developers/data/nyct/turnstile/turnstile_161008.txt',\n",
       " 'http://web.mta.info/developers/data/nyct/turnstile/turnstile_161001.txt',\n",
       " 'http://web.mta.info/developers/data/nyct/turnstile/turnstile_160924.txt',\n",
       " 'http://web.mta.info/developers/data/nyct/turnstile/turnstile_160917.txt',\n",
       " 'http://web.mta.info/developers/data/nyct/turnstile/turnstile_160910.txt',\n",
       " 'http://web.mta.info/developers/data/nyct/turnstile/turnstile_160903.txt',\n",
       " 'http://web.mta.info/developers/data/nyct/turnstile/turnstile_160827.txt',\n",
       " 'http://web.mta.info/developers/data/nyct/turnstile/turnstile_160820.txt',\n",
       " 'http://web.mta.info/developers/data/nyct/turnstile/turnstile_160813.txt',\n",
       " 'http://web.mta.info/developers/data/nyct/turnstile/turnstile_160806.txt',\n",
       " 'http://web.mta.info/developers/data/nyct/turnstile/turnstile_160730.txt',\n",
       " 'http://web.mta.info/developers/data/nyct/turnstile/turnstile_160723.txt',\n",
       " 'http://web.mta.info/developers/data/nyct/turnstile/turnstile_160716.txt',\n",
       " 'http://web.mta.info/developers/data/nyct/turnstile/turnstile_160709.txt',\n",
       " 'http://web.mta.info/developers/data/nyct/turnstile/turnstile_160702.txt',\n",
       " 'http://web.mta.info/developers/data/nyct/turnstile/turnstile_160625.txt',\n",
       " 'http://web.mta.info/developers/data/nyct/turnstile/turnstile_160618.txt',\n",
       " 'http://web.mta.info/developers/data/nyct/turnstile/turnstile_160611.txt',\n",
       " 'http://web.mta.info/developers/data/nyct/turnstile/turnstile_160604.txt',\n",
       " 'http://web.mta.info/developers/data/nyct/turnstile/turnstile_160528.txt',\n",
       " 'http://web.mta.info/developers/data/nyct/turnstile/turnstile_160521.txt',\n",
       " 'http://web.mta.info/developers/data/nyct/turnstile/turnstile_160514.txt',\n",
       " 'http://web.mta.info/developers/data/nyct/turnstile/turnstile_160507.txt',\n",
       " 'http://web.mta.info/developers/data/nyct/turnstile/turnstile_160430.txt',\n",
       " 'http://web.mta.info/developers/data/nyct/turnstile/turnstile_160423.txt',\n",
       " 'http://web.mta.info/developers/data/nyct/turnstile/turnstile_160416.txt',\n",
       " 'http://web.mta.info/developers/data/nyct/turnstile/turnstile_160409.txt',\n",
       " 'http://web.mta.info/developers/data/nyct/turnstile/turnstile_160402.txt',\n",
       " 'http://web.mta.info/developers/data/nyct/turnstile/turnstile_160326.txt',\n",
       " 'http://web.mta.info/developers/data/nyct/turnstile/turnstile_160319.txt',\n",
       " 'http://web.mta.info/developers/data/nyct/turnstile/turnstile_160312.txt',\n",
       " 'http://web.mta.info/developers/data/nyct/turnstile/turnstile_160305.txt',\n",
       " 'http://web.mta.info/developers/data/nyct/turnstile/turnstile_160227.txt',\n",
       " 'http://web.mta.info/developers/data/nyct/turnstile/turnstile_160220.txt',\n",
       " 'http://web.mta.info/developers/data/nyct/turnstile/turnstile_160213.txt',\n",
       " 'http://web.mta.info/developers/data/nyct/turnstile/turnstile_160206.txt',\n",
       " 'http://web.mta.info/developers/data/nyct/turnstile/turnstile_160130.txt',\n",
       " 'http://web.mta.info/developers/data/nyct/turnstile/turnstile_160123.txt',\n",
       " 'http://web.mta.info/developers/data/nyct/turnstile/turnstile_160116.txt',\n",
       " 'http://web.mta.info/developers/data/nyct/turnstile/turnstile_160109.txt',\n",
       " 'http://web.mta.info/developers/data/nyct/turnstile/turnstile_160102.txt',\n",
       " 'http://web.mta.info/developers/data/nyct/turnstile/turnstile_151226.txt',\n",
       " 'http://web.mta.info/developers/data/nyct/turnstile/turnstile_151219.txt',\n",
       " 'http://web.mta.info/developers/data/nyct/turnstile/turnstile_151212.txt',\n",
       " 'http://web.mta.info/developers/data/nyct/turnstile/turnstile_151205.txt',\n",
       " 'http://web.mta.info/developers/data/nyct/turnstile/turnstile_151128.txt',\n",
       " 'http://web.mta.info/developers/data/nyct/turnstile/turnstile_151121.txt',\n",
       " 'http://web.mta.info/developers/data/nyct/turnstile/turnstile_151114.txt',\n",
       " 'http://web.mta.info/developers/data/nyct/turnstile/turnstile_151107.txt',\n",
       " 'http://web.mta.info/developers/data/nyct/turnstile/turnstile_151031.txt',\n",
       " 'http://web.mta.info/developers/data/nyct/turnstile/turnstile_151024.txt',\n",
       " 'http://web.mta.info/developers/data/nyct/turnstile/turnstile_151017.txt',\n",
       " 'http://web.mta.info/developers/data/nyct/turnstile/turnstile_151010.txt',\n",
       " 'http://web.mta.info/developers/data/nyct/turnstile/turnstile_151003.txt',\n",
       " 'http://web.mta.info/developers/data/nyct/turnstile/turnstile_150926.txt',\n",
       " 'http://web.mta.info/developers/data/nyct/turnstile/turnstile_150919.txt',\n",
       " 'http://web.mta.info/developers/data/nyct/turnstile/turnstile_150912.txt',\n",
       " 'http://web.mta.info/developers/data/nyct/turnstile/turnstile_150905.txt',\n",
       " 'http://web.mta.info/developers/data/nyct/turnstile/turnstile_150829.txt',\n",
       " 'http://web.mta.info/developers/data/nyct/turnstile/turnstile_150822.txt',\n",
       " 'http://web.mta.info/developers/data/nyct/turnstile/turnstile_150815.txt',\n",
       " 'http://web.mta.info/developers/data/nyct/turnstile/turnstile_150808.txt',\n",
       " 'http://web.mta.info/developers/data/nyct/turnstile/turnstile_150801.txt',\n",
       " 'http://web.mta.info/developers/data/nyct/turnstile/turnstile_150725.txt',\n",
       " 'http://web.mta.info/developers/data/nyct/turnstile/turnstile_150718.txt',\n",
       " 'http://web.mta.info/developers/data/nyct/turnstile/turnstile_150711.txt',\n",
       " 'http://web.mta.info/developers/data/nyct/turnstile/turnstile_150704.txt',\n",
       " 'http://web.mta.info/developers/data/nyct/turnstile/turnstile_150627.txt',\n",
       " 'http://web.mta.info/developers/data/nyct/turnstile/turnstile_150620.txt',\n",
       " 'http://web.mta.info/developers/data/nyct/turnstile/turnstile_150613.txt',\n",
       " 'http://web.mta.info/developers/data/nyct/turnstile/turnstile_150606.txt',\n",
       " 'http://web.mta.info/developers/data/nyct/turnstile/turnstile_150530.txt',\n",
       " 'http://web.mta.info/developers/data/nyct/turnstile/turnstile_150523.txt',\n",
       " 'http://web.mta.info/developers/data/nyct/turnstile/turnstile_150516.txt',\n",
       " 'http://web.mta.info/developers/data/nyct/turnstile/turnstile_150509.txt',\n",
       " 'http://web.mta.info/developers/data/nyct/turnstile/turnstile_150502.txt',\n",
       " 'http://web.mta.info/developers/data/nyct/turnstile/turnstile_150425.txt',\n",
       " 'http://web.mta.info/developers/data/nyct/turnstile/turnstile_150418.txt',\n",
       " 'http://web.mta.info/developers/data/nyct/turnstile/turnstile_150411.txt',\n",
       " 'http://web.mta.info/developers/data/nyct/turnstile/turnstile_150404.txt',\n",
       " 'http://web.mta.info/developers/data/nyct/turnstile/turnstile_150328.txt',\n",
       " 'http://web.mta.info/developers/data/nyct/turnstile/turnstile_150321.txt',\n",
       " 'http://web.mta.info/developers/data/nyct/turnstile/turnstile_150314.txt',\n",
       " 'http://web.mta.info/developers/data/nyct/turnstile/turnstile_150307.txt',\n",
       " 'http://web.mta.info/developers/data/nyct/turnstile/turnstile_150228.txt',\n",
       " 'http://web.mta.info/developers/data/nyct/turnstile/turnstile_150221.txt',\n",
       " 'http://web.mta.info/developers/data/nyct/turnstile/turnstile_150214.txt',\n",
       " 'http://web.mta.info/developers/data/nyct/turnstile/turnstile_150207.txt',\n",
       " 'http://web.mta.info/developers/data/nyct/turnstile/turnstile_150131.txt',\n",
       " 'http://web.mta.info/developers/data/nyct/turnstile/turnstile_150124.txt',\n",
       " 'http://web.mta.info/developers/data/nyct/turnstile/turnstile_150117.txt',\n",
       " 'http://web.mta.info/developers/data/nyct/turnstile/turnstile_150110.txt',\n",
       " 'http://web.mta.info/developers/data/nyct/turnstile/turnstile_150103.txt',\n",
       " 'http://web.mta.info/developers/data/nyct/turnstile/turnstile_141227.txt',\n",
       " 'http://web.mta.info/developers/data/nyct/turnstile/turnstile_141220.txt',\n",
       " 'http://web.mta.info/developers/data/nyct/turnstile/turnstile_141213.txt',\n",
       " 'http://web.mta.info/developers/data/nyct/turnstile/turnstile_141206.txt',\n",
       " 'http://web.mta.info/developers/data/nyct/turnstile/turnstile_141129.txt',\n",
       " 'http://web.mta.info/developers/data/nyct/turnstile/turnstile_141122.txt',\n",
       " 'http://web.mta.info/developers/data/nyct/turnstile/turnstile_141115.txt',\n",
       " 'http://web.mta.info/developers/data/nyct/turnstile/turnstile_141108.txt',\n",
       " 'http://web.mta.info/developers/data/nyct/turnstile/turnstile_141101.txt',\n",
       " 'http://web.mta.info/developers/data/nyct/turnstile/turnstile_141025.txt',\n",
       " 'http://web.mta.info/developers/data/nyct/turnstile/turnstile_141018.txt',\n",
       " 'http://web.mta.info/developers/data/nyct/turnstile/turnstile_141011.txt',\n",
       " 'http://web.mta.info/developers/data/nyct/turnstile/turnstile_141004.txt',\n",
       " 'http://web.mta.info/developers/data/nyct/turnstile/turnstile_140927.txt',\n",
       " 'http://web.mta.info/developers/data/nyct/turnstile/turnstile_140920.txt',\n",
       " 'http://web.mta.info/developers/data/nyct/turnstile/turnstile_140913.txt',\n",
       " 'http://web.mta.info/developers/data/nyct/turnstile/turnstile_140906.txt',\n",
       " 'http://web.mta.info/developers/data/nyct/turnstile/turnstile_140830.txt',\n",
       " 'http://web.mta.info/developers/data/nyct/turnstile/turnstile_140823.txt',\n",
       " 'http://web.mta.info/developers/data/nyct/turnstile/turnstile_140816.txt',\n",
       " 'http://web.mta.info/developers/data/nyct/turnstile/turnstile_140809.txt',\n",
       " 'http://web.mta.info/developers/data/nyct/turnstile/turnstile_140802.txt',\n",
       " 'http://web.mta.info/developers/data/nyct/turnstile/turnstile_140726.txt',\n",
       " 'http://web.mta.info/developers/data/nyct/turnstile/turnstile_140719.txt',\n",
       " 'http://web.mta.info/developers/data/nyct/turnstile/turnstile_140712.txt',\n",
       " 'http://web.mta.info/developers/data/nyct/turnstile/turnstile_140705.txt',\n",
       " 'http://web.mta.info/developers/data/nyct/turnstile/turnstile_140628.txt',\n",
       " 'http://web.mta.info/developers/data/nyct/turnstile/turnstile_140621.txt',\n",
       " 'http://web.mta.info/developers/data/nyct/turnstile/turnstile_140614.txt',\n",
       " 'http://web.mta.info/developers/data/nyct/turnstile/turnstile_140607.txt',\n",
       " 'http://web.mta.info/developers/data/nyct/turnstile/turnstile_140531.txt',\n",
       " 'http://web.mta.info/developers/data/nyct/turnstile/turnstile_140524.txt',\n",
       " 'http://web.mta.info/developers/data/nyct/turnstile/turnstile_140517.txt',\n",
       " 'http://web.mta.info/developers/data/nyct/turnstile/turnstile_140510.txt',\n",
       " 'http://web.mta.info/developers/data/nyct/turnstile/turnstile_140503.txt',\n",
       " 'http://web.mta.info/developers/data/nyct/turnstile/turnstile_140426.txt',\n",
       " 'http://web.mta.info/developers/data/nyct/turnstile/turnstile_140419.txt',\n",
       " 'http://web.mta.info/developers/data/nyct/turnstile/turnstile_140412.txt',\n",
       " 'http://web.mta.info/developers/data/nyct/turnstile/turnstile_140405.txt',\n",
       " 'http://web.mta.info/developers/data/nyct/turnstile/turnstile_140329.txt',\n",
       " 'http://web.mta.info/developers/data/nyct/turnstile/turnstile_140322.txt',\n",
       " 'http://web.mta.info/developers/data/nyct/turnstile/turnstile_140315.txt',\n",
       " 'http://web.mta.info/developers/data/nyct/turnstile/turnstile_140308.txt',\n",
       " 'http://web.mta.info/developers/data/nyct/turnstile/turnstile_140301.txt',\n",
       " 'http://web.mta.info/developers/data/nyct/turnstile/turnstile_140222.txt',\n",
       " 'http://web.mta.info/developers/data/nyct/turnstile/turnstile_140215.txt',\n",
       " 'http://web.mta.info/developers/data/nyct/turnstile/turnstile_140208.txt',\n",
       " 'http://web.mta.info/developers/data/nyct/turnstile/turnstile_140201.txt',\n",
       " 'http://web.mta.info/developers/data/nyct/turnstile/turnstile_140125.txt',\n",
       " 'http://web.mta.info/developers/data/nyct/turnstile/turnstile_140118.txt',\n",
       " 'http://web.mta.info/developers/data/nyct/turnstile/turnstile_140111.txt',\n",
       " 'http://web.mta.info/developers/data/nyct/turnstile/turnstile_140104.txt',\n",
       " 'http://web.mta.info/developers/data/nyct/turnstile/turnstile_131228.txt',\n",
       " 'http://web.mta.info/developers/data/nyct/turnstile/turnstile_131221.txt',\n",
       " 'http://web.mta.info/developers/data/nyct/turnstile/turnstile_131214.txt',\n",
       " 'http://web.mta.info/developers/data/nyct/turnstile/turnstile_131207.txt',\n",
       " 'http://web.mta.info/developers/data/nyct/turnstile/turnstile_131130.txt',\n",
       " 'http://web.mta.info/developers/data/nyct/turnstile/turnstile_131123.txt',\n",
       " 'http://web.mta.info/developers/data/nyct/turnstile/turnstile_131116.txt',\n",
       " 'http://web.mta.info/developers/data/nyct/turnstile/turnstile_131109.txt',\n",
       " 'http://web.mta.info/developers/data/nyct/turnstile/turnstile_131102.txt',\n",
       " 'http://web.mta.info/developers/data/nyct/turnstile/turnstile_131026.txt',\n",
       " 'http://web.mta.info/developers/data/nyct/turnstile/turnstile_131019.txt',\n",
       " 'http://web.mta.info/developers/data/nyct/turnstile/turnstile_131012.txt',\n",
       " 'http://web.mta.info/developers/data/nyct/turnstile/turnstile_131005.txt',\n",
       " 'http://web.mta.info/developers/data/nyct/turnstile/turnstile_130928.txt',\n",
       " 'http://web.mta.info/developers/data/nyct/turnstile/turnstile_130921.txt',\n",
       " 'http://web.mta.info/developers/data/nyct/turnstile/turnstile_130914.txt',\n",
       " 'http://web.mta.info/developers/data/nyct/turnstile/turnstile_130907.txt',\n",
       " 'http://web.mta.info/developers/data/nyct/turnstile/turnstile_130831.txt',\n",
       " 'http://web.mta.info/developers/data/nyct/turnstile/turnstile_130824.txt',\n",
       " 'http://web.mta.info/developers/data/nyct/turnstile/turnstile_130817.txt',\n",
       " 'http://web.mta.info/developers/data/nyct/turnstile/turnstile_130810.txt',\n",
       " 'http://web.mta.info/developers/data/nyct/turnstile/turnstile_130803.txt',\n",
       " 'http://web.mta.info/developers/data/nyct/turnstile/turnstile_130727.txt',\n",
       " 'http://web.mta.info/developers/data/nyct/turnstile/turnstile_130720.txt',\n",
       " 'http://web.mta.info/developers/data/nyct/turnstile/turnstile_130713.txt',\n",
       " 'http://web.mta.info/developers/data/nyct/turnstile/turnstile_130706.txt',\n",
       " 'http://web.mta.info/developers/data/nyct/turnstile/turnstile_130629.txt',\n",
       " 'http://web.mta.info/developers/data/nyct/turnstile/turnstile_130622.txt',\n",
       " 'http://web.mta.info/developers/data/nyct/turnstile/turnstile_130615.txt',\n",
       " 'http://web.mta.info/developers/data/nyct/turnstile/turnstile_130608.txt',\n",
       " 'http://web.mta.info/developers/data/nyct/turnstile/turnstile_130601.txt',\n",
       " 'http://web.mta.info/developers/data/nyct/turnstile/turnstile_130525.txt',\n",
       " 'http://web.mta.info/developers/data/nyct/turnstile/turnstile_130518.txt',\n",
       " 'http://web.mta.info/developers/data/nyct/turnstile/turnstile_130511.txt',\n",
       " 'http://web.mta.info/developers/data/nyct/turnstile/turnstile_130504.txt',\n",
       " 'http://web.mta.info/developers/data/nyct/turnstile/turnstile_130427.txt',\n",
       " 'http://web.mta.info/developers/data/nyct/turnstile/turnstile_130420.txt',\n",
       " 'http://web.mta.info/developers/data/nyct/turnstile/turnstile_130413.txt',\n",
       " 'http://web.mta.info/developers/data/nyct/turnstile/turnstile_130406.txt',\n",
       " 'http://web.mta.info/developers/data/nyct/turnstile/turnstile_130330.txt',\n",
       " 'http://web.mta.info/developers/data/nyct/turnstile/turnstile_130323.txt',\n",
       " 'http://web.mta.info/developers/data/nyct/turnstile/turnstile_130316.txt',\n",
       " 'http://web.mta.info/developers/data/nyct/turnstile/turnstile_130309.txt',\n",
       " 'http://web.mta.info/developers/data/nyct/turnstile/turnstile_130302.txt',\n",
       " 'http://web.mta.info/developers/data/nyct/turnstile/turnstile_130223.txt',\n",
       " 'http://web.mta.info/developers/data/nyct/turnstile/turnstile_130216.txt',\n",
       " 'http://web.mta.info/developers/data/nyct/turnstile/turnstile_130209.txt',\n",
       " 'http://web.mta.info/developers/data/nyct/turnstile/turnstile_130202.txt',\n",
       " 'http://web.mta.info/developers/data/nyct/turnstile/turnstile_130126.txt',\n",
       " 'http://web.mta.info/developers/data/nyct/turnstile/turnstile_130119.txt',\n",
       " 'http://web.mta.info/developers/data/nyct/turnstile/turnstile_130112.txt',\n",
       " 'http://web.mta.info/developers/data/nyct/turnstile/turnstile_130105.txt',\n",
       " 'http://web.mta.info/developers/data/nyct/turnstile/turnstile_121229.txt',\n",
       " 'http://web.mta.info/developers/data/nyct/turnstile/turnstile_121222.txt',\n",
       " 'http://web.mta.info/developers/data/nyct/turnstile/turnstile_121215.txt',\n",
       " 'http://web.mta.info/developers/data/nyct/turnstile/turnstile_121208.txt',\n",
       " 'http://web.mta.info/developers/data/nyct/turnstile/turnstile_121201.txt',\n",
       " 'http://web.mta.info/developers/data/nyct/turnstile/turnstile_121124.txt',\n",
       " 'http://web.mta.info/developers/data/nyct/turnstile/turnstile_121117.txt',\n",
       " 'http://web.mta.info/developers/data/nyct/turnstile/turnstile_121110.txt',\n",
       " 'http://web.mta.info/developers/data/nyct/turnstile/turnstile_121103.txt',\n",
       " 'http://web.mta.info/developers/data/nyct/turnstile/turnstile_121027.txt',\n",
       " 'http://web.mta.info/developers/data/nyct/turnstile/turnstile_121020.txt',\n",
       " 'http://web.mta.info/developers/data/nyct/turnstile/turnstile_121013.txt',\n",
       " 'http://web.mta.info/developers/data/nyct/turnstile/turnstile_121006.txt',\n",
       " 'http://web.mta.info/developers/data/nyct/turnstile/turnstile_120929.txt',\n",
       " 'http://web.mta.info/developers/data/nyct/turnstile/turnstile_120922.txt',\n",
       " 'http://web.mta.info/developers/data/nyct/turnstile/turnstile_120915.txt',\n",
       " 'http://web.mta.info/developers/data/nyct/turnstile/turnstile_120908.txt',\n",
       " 'http://web.mta.info/developers/data/nyct/turnstile/turnstile_120901.txt',\n",
       " 'http://web.mta.info/developers/data/nyct/turnstile/turnstile_120825.txt',\n",
       " 'http://web.mta.info/developers/data/nyct/turnstile/turnstile_120818.txt',\n",
       " 'http://web.mta.info/developers/data/nyct/turnstile/turnstile_120811.txt',\n",
       " 'http://web.mta.info/developers/data/nyct/turnstile/turnstile_120804.txt',\n",
       " 'http://web.mta.info/developers/data/nyct/turnstile/turnstile_120728.txt',\n",
       " 'http://web.mta.info/developers/data/nyct/turnstile/turnstile_120721.txt',\n",
       " 'http://web.mta.info/developers/data/nyct/turnstile/turnstile_120714.txt',\n",
       " 'http://web.mta.info/developers/data/nyct/turnstile/turnstile_120707.txt',\n",
       " 'http://web.mta.info/developers/data/nyct/turnstile/turnstile_120630.txt',\n",
       " 'http://web.mta.info/developers/data/nyct/turnstile/turnstile_120623.txt',\n",
       " 'http://web.mta.info/developers/data/nyct/turnstile/turnstile_120616.txt',\n",
       " 'http://web.mta.info/developers/data/nyct/turnstile/turnstile_120609.txt',\n",
       " 'http://web.mta.info/developers/data/nyct/turnstile/turnstile_120602.txt',\n",
       " 'http://web.mta.info/developers/data/nyct/turnstile/turnstile_120526.txt',\n",
       " 'http://web.mta.info/developers/data/nyct/turnstile/turnstile_120519.txt',\n",
       " 'http://web.mta.info/developers/data/nyct/turnstile/turnstile_120512.txt',\n",
       " 'http://web.mta.info/developers/data/nyct/turnstile/turnstile_120505.txt',\n",
       " 'http://web.mta.info/developers/data/nyct/turnstile/turnstile_120428.txt',\n",
       " 'http://web.mta.info/developers/data/nyct/turnstile/turnstile_120421.txt',\n",
       " 'http://web.mta.info/developers/data/nyct/turnstile/turnstile_120414.txt',\n",
       " 'http://web.mta.info/developers/data/nyct/turnstile/turnstile_120407.txt',\n",
       " 'http://web.mta.info/developers/data/nyct/turnstile/turnstile_120331.txt',\n",
       " 'http://web.mta.info/developers/data/nyct/turnstile/turnstile_120324.txt',\n",
       " 'http://web.mta.info/developers/data/nyct/turnstile/turnstile_120317.txt',\n",
       " 'http://web.mta.info/developers/data/nyct/turnstile/turnstile_120310.txt',\n",
       " 'http://web.mta.info/developers/data/nyct/turnstile/turnstile_120303.txt',\n",
       " 'http://web.mta.info/developers/data/nyct/turnstile/turnstile_120225.txt',\n",
       " 'http://web.mta.info/developers/data/nyct/turnstile/turnstile_120218.txt',\n",
       " 'http://web.mta.info/developers/data/nyct/turnstile/turnstile_120211.txt',\n",
       " 'http://web.mta.info/developers/data/nyct/turnstile/turnstile_120204.txt',\n",
       " 'http://web.mta.info/developers/data/nyct/turnstile/turnstile_120128.txt',\n",
       " 'http://web.mta.info/developers/data/nyct/turnstile/turnstile_120121.txt',\n",
       " 'http://web.mta.info/developers/data/nyct/turnstile/turnstile_120114.txt',\n",
       " 'http://web.mta.info/developers/data/nyct/turnstile/turnstile_120107.txt',\n",
       " 'http://web.mta.info/developers/data/nyct/turnstile/turnstile_111231.txt',\n",
       " 'http://web.mta.info/developers/data/nyct/turnstile/turnstile_111224.txt',\n",
       " 'http://web.mta.info/developers/data/nyct/turnstile/turnstile_111219.txt',\n",
       " 'http://web.mta.info/developers/data/nyct/turnstile/turnstile_111210.txt',\n",
       " 'http://web.mta.info/developers/data/nyct/turnstile/turnstile_111203.txt',\n",
       " 'http://web.mta.info/developers/data/nyct/turnstile/turnstile_111126.txt',\n",
       " 'http://web.mta.info/developers/data/nyct/turnstile/turnstile_111119.txt',\n",
       " 'http://web.mta.info/developers/data/nyct/turnstile/turnstile_111112.txt',\n",
       " 'http://web.mta.info/developers/data/nyct/turnstile/turnstile_111105.txt',\n",
       " 'http://web.mta.info/developers/data/nyct/turnstile/turnstile_111029.txt',\n",
       " 'http://web.mta.info/developers/data/nyct/turnstile/turnstile_111022.txt',\n",
       " 'http://web.mta.info/developers/data/nyct/turnstile/turnstile_111015.txt',\n",
       " 'http://web.mta.info/developers/data/nyct/turnstile/turnstile_111008.txt',\n",
       " 'http://web.mta.info/developers/data/nyct/turnstile/turnstile_111001.txt',\n",
       " 'http://web.mta.info/developers/data/nyct/turnstile/turnstile_110924.txt',\n",
       " 'http://web.mta.info/developers/data/nyct/turnstile/turnstile_110917.txt',\n",
       " 'http://web.mta.info/developers/data/nyct/turnstile/turnstile_110910.txt',\n",
       " 'http://web.mta.info/developers/data/nyct/turnstile/turnstile_110903.txt',\n",
       " 'http://web.mta.info/developers/data/nyct/turnstile/turnstile_110827.txt',\n",
       " 'http://web.mta.info/developers/data/nyct/turnstile/turnstile_110820.txt',\n",
       " 'http://web.mta.info/developers/data/nyct/turnstile/turnstile_110813.txt',\n",
       " 'http://web.mta.info/developers/data/nyct/turnstile/turnstile_110806.txt',\n",
       " 'http://web.mta.info/developers/data/nyct/turnstile/turnstile_110730.txt',\n",
       " 'http://web.mta.info/developers/data/nyct/turnstile/turnstile_110723.txt',\n",
       " 'http://web.mta.info/developers/data/nyct/turnstile/turnstile_110716.txt',\n",
       " 'http://web.mta.info/developers/data/nyct/turnstile/turnstile_110709.txt',\n",
       " 'http://web.mta.info/developers/data/nyct/turnstile/turnstile_110702.txt',\n",
       " 'http://web.mta.info/developers/data/nyct/turnstile/turnstile_110625.txt',\n",
       " 'http://web.mta.info/developers/data/nyct/turnstile/turnstile_110618.txt',\n",
       " 'http://web.mta.info/developers/data/nyct/turnstile/turnstile_110611.txt',\n",
       " 'http://web.mta.info/developers/data/nyct/turnstile/turnstile_110604.txt',\n",
       " 'http://web.mta.info/developers/data/nyct/turnstile/turnstile_110528.txt',\n",
       " 'http://web.mta.info/developers/data/nyct/turnstile/turnstile_110521.txt',\n",
       " 'http://web.mta.info/developers/data/nyct/turnstile/turnstile_110514.txt',\n",
       " 'http://web.mta.info/developers/data/nyct/turnstile/turnstile_110507.txt',\n",
       " 'http://web.mta.info/developers/data/nyct/turnstile/turnstile_110430.txt',\n",
       " 'http://web.mta.info/developers/data/nyct/turnstile/turnstile_110423.txt',\n",
       " 'http://web.mta.info/developers/data/nyct/turnstile/turnstile_110416.txt',\n",
       " 'http://web.mta.info/developers/data/nyct/turnstile/turnstile_110409.txt',\n",
       " 'http://web.mta.info/developers/data/nyct/turnstile/turnstile_110402.txt',\n",
       " 'http://web.mta.info/developers/data/nyct/turnstile/turnstile_110326.txt',\n",
       " 'http://web.mta.info/developers/data/nyct/turnstile/turnstile_110319.txt',\n",
       " 'http://web.mta.info/developers/data/nyct/turnstile/turnstile_110312.txt',\n",
       " 'http://web.mta.info/developers/data/nyct/turnstile/turnstile_110305.txt',\n",
       " 'http://web.mta.info/developers/data/nyct/turnstile/turnstile_110226.txt',\n",
       " 'http://web.mta.info/developers/data/nyct/turnstile/turnstile_110219.txt',\n",
       " 'http://web.mta.info/developers/data/nyct/turnstile/turnstile_110212.txt',\n",
       " 'http://web.mta.info/developers/data/nyct/turnstile/turnstile_110205.txt',\n",
       " 'http://web.mta.info/developers/data/nyct/turnstile/turnstile_110129.txt',\n",
       " 'http://web.mta.info/developers/data/nyct/turnstile/turnstile_110122.txt',\n",
       " 'http://web.mta.info/developers/data/nyct/turnstile/turnstile_110115.txt',\n",
       " 'http://web.mta.info/developers/data/nyct/turnstile/turnstile_110108.txt',\n",
       " 'http://web.mta.info/developers/data/nyct/turnstile/turnstile_110101.txt',\n",
       " 'http://web.mta.info/developers/data/nyct/turnstile/turnstile_101225.txt',\n",
       " 'http://web.mta.info/developers/data/nyct/turnstile/turnstile_101218.txt',\n",
       " 'http://web.mta.info/developers/data/nyct/turnstile/turnstile_101211.txt',\n",
       " 'http://web.mta.info/developers/data/nyct/turnstile/turnstile_101204.txt',\n",
       " 'http://web.mta.info/developers/data/nyct/turnstile/turnstile_101127.txt',\n",
       " 'http://web.mta.info/developers/data/nyct/turnstile/turnstile_101120.txt',\n",
       " 'http://web.mta.info/developers/data/nyct/turnstile/turnstile_101113.txt',\n",
       " 'http://web.mta.info/developers/data/nyct/turnstile/turnstile_101106.txt',\n",
       " 'http://web.mta.info/developers/data/nyct/turnstile/turnstile_101030.txt',\n",
       " 'http://web.mta.info/developers/data/nyct/turnstile/turnstile_101023.txt',\n",
       " 'http://web.mta.info/developers/data/nyct/turnstile/turnstile_101016.txt',\n",
       " 'http://web.mta.info/developers/data/nyct/turnstile/turnstile_101009.txt',\n",
       " 'http://web.mta.info/developers/data/nyct/turnstile/turnstile_101002.txt',\n",
       " 'http://web.mta.info/developers/data/nyct/turnstile/turnstile_100925.txt',\n",
       " 'http://web.mta.info/developers/data/nyct/turnstile/turnstile_100918.txt',\n",
       " 'http://web.mta.info/developers/data/nyct/turnstile/turnstile_100911.txt',\n",
       " 'http://web.mta.info/developers/data/nyct/turnstile/turnstile_100904.txt',\n",
       " 'http://web.mta.info/developers/data/nyct/turnstile/turnstile_100828.txt',\n",
       " 'http://web.mta.info/developers/data/nyct/turnstile/turnstile_100821.txt',\n",
       " 'http://web.mta.info/developers/data/nyct/turnstile/turnstile_100814.txt',\n",
       " 'http://web.mta.info/developers/data/nyct/turnstile/turnstile_100807.txt',\n",
       " 'http://web.mta.info/developers/data/nyct/turnstile/turnstile_100731.txt',\n",
       " 'http://web.mta.info/developers/data/nyct/turnstile/turnstile_100724.txt',\n",
       " 'http://web.mta.info/developers/data/nyct/turnstile/turnstile_100717.txt',\n",
       " 'http://web.mta.info/developers/data/nyct/turnstile/turnstile_100710.txt',\n",
       " 'http://web.mta.info/developers/data/nyct/turnstile/turnstile_100703.txt',\n",
       " 'http://web.mta.info/developers/data/nyct/turnstile/turnstile_100626.txt',\n",
       " 'http://web.mta.info/developers/data/nyct/turnstile/turnstile_100619.txt',\n",
       " 'http://web.mta.info/developers/data/nyct/turnstile/turnstile_100612.txt',\n",
       " 'http://web.mta.info/developers/data/nyct/turnstile/turnstile_100605.txt',\n",
       " 'http://web.mta.info/developers/data/nyct/turnstile/turnstile_100522.txt',\n",
       " 'http://web.mta.info/developers/data/nyct/turnstile/turnstile_100515.txt',\n",
       " 'http://web.mta.info/developers/data/nyct/turnstile/turnstile_100508.txt',\n",
       " 'http://web.mta.info/developers/data/nyct/turnstile/turnstile_100505.txt']"
      ]
     },
     "execution_count": 15,
     "metadata": {},
     "output_type": "execute_result"
    }
   ],
   "source": [
    "links = [base_url + item.get(\"href\") for item in holder]\n",
    "links"
   ]
  },
  {
   "cell_type": "code",
   "execution_count": 16,
   "id": "9e10f701",
   "metadata": {},
   "outputs": [
    {
     "name": "stderr",
     "output_type": "stream",
     "text": [
      "ic| link: 'http://web.mta.info/developers/data/nyct/turnstile/turnstile_211016.txt'\n"
     ]
    },
    {
     "name": "stdout",
     "output_type": "stream",
     "text": [
      "Downloaded 1 of 598\n",
      "Snoozing for 8 seconds before next link\n"
     ]
    },
    {
     "name": "stderr",
     "output_type": "stream",
     "text": [
      "ic| link: 'http://web.mta.info/developers/data/nyct/turnstile/turnstile_211009.txt'\n"
     ]
    },
    {
     "name": "stdout",
     "output_type": "stream",
     "text": [
      "Downloaded 2 of 598\n",
      "Snoozing for 11 seconds before next link\n"
     ]
    },
    {
     "name": "stderr",
     "output_type": "stream",
     "text": [
      "ic| link: 'http://web.mta.info/developers/data/nyct/turnstile/turnstile_211002.txt'\n"
     ]
    },
    {
     "name": "stdout",
     "output_type": "stream",
     "text": [
      "Downloaded 3 of 598\n",
      "Snoozing for 12 seconds before next link\n"
     ]
    },
    {
     "name": "stderr",
     "output_type": "stream",
     "text": [
      "ic| link: 'http://web.mta.info/developers/data/nyct/turnstile/turnstile_210925.txt'\n"
     ]
    },
    {
     "name": "stdout",
     "output_type": "stream",
     "text": [
      "Downloaded 4 of 598\n",
      "Snoozing for 11 seconds before next link\n"
     ]
    },
    {
     "name": "stderr",
     "output_type": "stream",
     "text": [
      "ic| link: 'http://web.mta.info/developers/data/nyct/turnstile/turnstile_210918.txt'\n"
     ]
    },
    {
     "name": "stdout",
     "output_type": "stream",
     "text": [
      "Downloaded 5 of 598\n",
      "Snoozing for 5 seconds before next link\n"
     ]
    },
    {
     "name": "stderr",
     "output_type": "stream",
     "text": [
      "ic| link: 'http://web.mta.info/developers/data/nyct/turnstile/turnstile_210911.txt'\n"
     ]
    },
    {
     "name": "stdout",
     "output_type": "stream",
     "text": [
      "Downloaded 6 of 598\n",
      "Snoozing for 9 seconds before next link\n"
     ]
    },
    {
     "name": "stderr",
     "output_type": "stream",
     "text": [
      "ic| link: 'http://web.mta.info/developers/data/nyct/turnstile/turnstile_210904.txt'\n"
     ]
    },
    {
     "name": "stdout",
     "output_type": "stream",
     "text": [
      "Downloaded 7 of 598\n",
      "Snoozing for 11 seconds before next link\n"
     ]
    },
    {
     "name": "stderr",
     "output_type": "stream",
     "text": [
      "ic| link: 'http://web.mta.info/developers/data/nyct/turnstile/turnstile_210828.txt'\n"
     ]
    },
    {
     "name": "stdout",
     "output_type": "stream",
     "text": [
      "Downloaded 8 of 598\n",
      "Snoozing for 4 seconds before next link\n"
     ]
    },
    {
     "name": "stderr",
     "output_type": "stream",
     "text": [
      "ic| link: 'http://web.mta.info/developers/data/nyct/turnstile/turnstile_210821.txt'\n"
     ]
    },
    {
     "name": "stdout",
     "output_type": "stream",
     "text": [
      "Downloaded 9 of 598\n",
      "Snoozing for 11 seconds before next link\n"
     ]
    },
    {
     "name": "stderr",
     "output_type": "stream",
     "text": [
      "ic| link: 'http://web.mta.info/developers/data/nyct/turnstile/turnstile_210814.txt'\n"
     ]
    },
    {
     "name": "stdout",
     "output_type": "stream",
     "text": [
      "Downloaded 10 of 598\n",
      "Snoozing for 8 seconds before next link\n"
     ]
    },
    {
     "name": "stderr",
     "output_type": "stream",
     "text": [
      "ic| link: 'http://web.mta.info/developers/data/nyct/turnstile/turnstile_210807.txt'\n"
     ]
    },
    {
     "name": "stdout",
     "output_type": "stream",
     "text": [
      "Downloaded 11 of 598\n",
      "Snoozing for 13 seconds before next link\n"
     ]
    },
    {
     "name": "stderr",
     "output_type": "stream",
     "text": [
      "ic| link: 'http://web.mta.info/developers/data/nyct/turnstile/turnstile_210731.txt'\n"
     ]
    },
    {
     "name": "stdout",
     "output_type": "stream",
     "text": [
      "Downloaded 12 of 598\n",
      "Snoozing for 11 seconds before next link\n"
     ]
    },
    {
     "name": "stderr",
     "output_type": "stream",
     "text": [
      "ic| link: 'http://web.mta.info/developers/data/nyct/turnstile/turnstile_210724.txt'\n"
     ]
    },
    {
     "name": "stdout",
     "output_type": "stream",
     "text": [
      "Downloaded 13 of 598\n",
      "Snoozing for 6 seconds before next link\n"
     ]
    },
    {
     "name": "stderr",
     "output_type": "stream",
     "text": [
      "ic| link: 'http://web.mta.info/developers/data/nyct/turnstile/turnstile_210717.txt'\n"
     ]
    },
    {
     "name": "stdout",
     "output_type": "stream",
     "text": [
      "Downloaded 14 of 598\n",
      "Snoozing for 9 seconds before next link\n"
     ]
    },
    {
     "name": "stderr",
     "output_type": "stream",
     "text": [
      "ic| link: 'http://web.mta.info/developers/data/nyct/turnstile/turnstile_210710.txt'\n"
     ]
    },
    {
     "name": "stdout",
     "output_type": "stream",
     "text": [
      "Downloaded 15 of 598\n",
      "Snoozing for 8 seconds before next link\n"
     ]
    },
    {
     "name": "stderr",
     "output_type": "stream",
     "text": [
      "ic| link: 'http://web.mta.info/developers/data/nyct/turnstile/turnstile_210703.txt'\n"
     ]
    },
    {
     "name": "stdout",
     "output_type": "stream",
     "text": [
      "Downloaded 16 of 598\n",
      "Snoozing for 11 seconds before next link\n"
     ]
    },
    {
     "name": "stderr",
     "output_type": "stream",
     "text": [
      "ic| link: 'http://web.mta.info/developers/data/nyct/turnstile/turnstile_210626.txt'\n"
     ]
    },
    {
     "name": "stdout",
     "output_type": "stream",
     "text": [
      "Downloaded 17 of 598\n",
      "Snoozing for 5 seconds before next link\n"
     ]
    },
    {
     "name": "stderr",
     "output_type": "stream",
     "text": [
      "ic| link: 'http://web.mta.info/developers/data/nyct/turnstile/turnstile_210619.txt'\n"
     ]
    },
    {
     "name": "stdout",
     "output_type": "stream",
     "text": [
      "Downloaded 18 of 598\n",
      "Snoozing for 10 seconds before next link\n"
     ]
    },
    {
     "name": "stderr",
     "output_type": "stream",
     "text": [
      "ic| link: 'http://web.mta.info/developers/data/nyct/turnstile/turnstile_210612.txt'\n"
     ]
    },
    {
     "name": "stdout",
     "output_type": "stream",
     "text": [
      "Downloaded 19 of 598\n",
      "Snoozing for 4 seconds before next link\n"
     ]
    },
    {
     "name": "stderr",
     "output_type": "stream",
     "text": [
      "ic| link: 'http://web.mta.info/developers/data/nyct/turnstile/turnstile_210605.txt'\n"
     ]
    },
    {
     "name": "stdout",
     "output_type": "stream",
     "text": [
      "Downloaded 20 of 598\n",
      "Snoozing for 6 seconds before next link\n"
     ]
    },
    {
     "name": "stderr",
     "output_type": "stream",
     "text": [
      "ic| link: 'http://web.mta.info/developers/data/nyct/turnstile/turnstile_210529.txt'\n"
     ]
    },
    {
     "name": "stdout",
     "output_type": "stream",
     "text": [
      "Downloaded 21 of 598\n",
      "Snoozing for 8 seconds before next link\n"
     ]
    },
    {
     "name": "stderr",
     "output_type": "stream",
     "text": [
      "ic| link: 'http://web.mta.info/developers/data/nyct/turnstile/turnstile_210522.txt'\n"
     ]
    },
    {
     "name": "stdout",
     "output_type": "stream",
     "text": [
      "Downloaded 22 of 598\n",
      "Snoozing for 4 seconds before next link\n"
     ]
    },
    {
     "name": "stderr",
     "output_type": "stream",
     "text": [
      "ic| link: 'http://web.mta.info/developers/data/nyct/turnstile/turnstile_210515.txt'\n"
     ]
    },
    {
     "name": "stdout",
     "output_type": "stream",
     "text": [
      "Downloaded 23 of 598\n",
      "Snoozing for 4 seconds before next link\n"
     ]
    },
    {
     "name": "stderr",
     "output_type": "stream",
     "text": [
      "ic| link: 'http://web.mta.info/developers/data/nyct/turnstile/turnstile_210508.txt'\n"
     ]
    },
    {
     "name": "stdout",
     "output_type": "stream",
     "text": [
      "Downloaded 24 of 598\n",
      "Snoozing for 7 seconds before next link\n"
     ]
    },
    {
     "name": "stderr",
     "output_type": "stream",
     "text": [
      "ic| link: 'http://web.mta.info/developers/data/nyct/turnstile/turnstile_210501.txt'\n"
     ]
    },
    {
     "name": "stdout",
     "output_type": "stream",
     "text": [
      "Downloaded 25 of 598\n",
      "Snoozing for 2 seconds before next link\n"
     ]
    },
    {
     "name": "stderr",
     "output_type": "stream",
     "text": [
      "ic| link: 'http://web.mta.info/developers/data/nyct/turnstile/turnstile_210424.txt'\n"
     ]
    },
    {
     "name": "stdout",
     "output_type": "stream",
     "text": [
      "Downloaded 26 of 598\n",
      "Snoozing for 8 seconds before next link\n"
     ]
    },
    {
     "name": "stderr",
     "output_type": "stream",
     "text": [
      "ic| link: 'http://web.mta.info/developers/data/nyct/turnstile/turnstile_210417.txt'\n"
     ]
    },
    {
     "name": "stdout",
     "output_type": "stream",
     "text": [
      "Downloaded 27 of 598\n",
      "Snoozing for 14 seconds before next link\n"
     ]
    },
    {
     "name": "stderr",
     "output_type": "stream",
     "text": [
      "ic| link: 'http://web.mta.info/developers/data/nyct/turnstile/turnstile_210410.txt'\n"
     ]
    },
    {
     "name": "stdout",
     "output_type": "stream",
     "text": [
      "Downloaded 28 of 598\n",
      "Snoozing for 13 seconds before next link\n"
     ]
    },
    {
     "name": "stderr",
     "output_type": "stream",
     "text": [
      "ic| link: 'http://web.mta.info/developers/data/nyct/turnstile/turnstile_210403.txt'\n"
     ]
    },
    {
     "name": "stdout",
     "output_type": "stream",
     "text": [
      "Downloaded 29 of 598\n",
      "Snoozing for 9 seconds before next link\n"
     ]
    },
    {
     "name": "stderr",
     "output_type": "stream",
     "text": [
      "ic| link: 'http://web.mta.info/developers/data/nyct/turnstile/turnstile_210327.txt'\n"
     ]
    },
    {
     "name": "stdout",
     "output_type": "stream",
     "text": [
      "Downloaded 30 of 598\n",
      "Snoozing for 13 seconds before next link\n"
     ]
    },
    {
     "name": "stderr",
     "output_type": "stream",
     "text": [
      "ic| link: 'http://web.mta.info/developers/data/nyct/turnstile/turnstile_210320.txt'\n"
     ]
    },
    {
     "name": "stdout",
     "output_type": "stream",
     "text": [
      "Downloaded 31 of 598\n",
      "Snoozing for 14 seconds before next link\n"
     ]
    },
    {
     "name": "stderr",
     "output_type": "stream",
     "text": [
      "ic| link: 'http://web.mta.info/developers/data/nyct/turnstile/turnstile_210313.txt'\n"
     ]
    },
    {
     "name": "stdout",
     "output_type": "stream",
     "text": [
      "Downloaded 32 of 598\n",
      "Snoozing for 4 seconds before next link\n"
     ]
    },
    {
     "name": "stderr",
     "output_type": "stream",
     "text": [
      "ic| link: 'http://web.mta.info/developers/data/nyct/turnstile/turnstile_210306.txt'\n"
     ]
    },
    {
     "name": "stdout",
     "output_type": "stream",
     "text": [
      "Downloaded 33 of 598\n",
      "Snoozing for 14 seconds before next link\n"
     ]
    },
    {
     "name": "stderr",
     "output_type": "stream",
     "text": [
      "ic| link: 'http://web.mta.info/developers/data/nyct/turnstile/turnstile_210227.txt'\n"
     ]
    },
    {
     "name": "stdout",
     "output_type": "stream",
     "text": [
      "Downloaded 34 of 598\n",
      "Snoozing for 2 seconds before next link\n"
     ]
    },
    {
     "name": "stderr",
     "output_type": "stream",
     "text": [
      "ic| link: 'http://web.mta.info/developers/data/nyct/turnstile/turnstile_210220.txt'\n"
     ]
    },
    {
     "name": "stdout",
     "output_type": "stream",
     "text": [
      "Downloaded 35 of 598\n",
      "Snoozing for 5 seconds before next link\n"
     ]
    },
    {
     "name": "stderr",
     "output_type": "stream",
     "text": [
      "ic| link: 'http://web.mta.info/developers/data/nyct/turnstile/turnstile_210213.txt'\n"
     ]
    },
    {
     "name": "stdout",
     "output_type": "stream",
     "text": [
      "Downloaded 36 of 598\n",
      "Snoozing for 12 seconds before next link\n"
     ]
    },
    {
     "name": "stderr",
     "output_type": "stream",
     "text": [
      "ic| link: 'http://web.mta.info/developers/data/nyct/turnstile/turnstile_210206.txt'\n"
     ]
    },
    {
     "name": "stdout",
     "output_type": "stream",
     "text": [
      "Downloaded 37 of 598\n",
      "Snoozing for 4 seconds before next link\n"
     ]
    },
    {
     "name": "stderr",
     "output_type": "stream",
     "text": [
      "ic| link: 'http://web.mta.info/developers/data/nyct/turnstile/turnstile_210130.txt'\n"
     ]
    },
    {
     "name": "stdout",
     "output_type": "stream",
     "text": [
      "Downloaded 38 of 598\n",
      "Snoozing for 8 seconds before next link\n"
     ]
    },
    {
     "name": "stderr",
     "output_type": "stream",
     "text": [
      "ic| link: 'http://web.mta.info/developers/data/nyct/turnstile/turnstile_210123.txt'\n"
     ]
    },
    {
     "name": "stdout",
     "output_type": "stream",
     "text": [
      "Downloaded 39 of 598\n",
      "Snoozing for 2 seconds before next link\n"
     ]
    },
    {
     "name": "stderr",
     "output_type": "stream",
     "text": [
      "ic| link: 'http://web.mta.info/developers/data/nyct/turnstile/turnstile_210116.txt'\n"
     ]
    },
    {
     "name": "stdout",
     "output_type": "stream",
     "text": [
      "Downloaded 40 of 598\n",
      "Snoozing for 2 seconds before next link\n"
     ]
    },
    {
     "name": "stderr",
     "output_type": "stream",
     "text": [
      "ic| link: 'http://web.mta.info/developers/data/nyct/turnstile/turnstile_210109.txt'\n"
     ]
    },
    {
     "name": "stdout",
     "output_type": "stream",
     "text": [
      "Downloaded 41 of 598\n",
      "Snoozing for 4 seconds before next link\n"
     ]
    },
    {
     "name": "stderr",
     "output_type": "stream",
     "text": [
      "ic| link: 'http://web.mta.info/developers/data/nyct/turnstile/turnstile_210102.txt'\n"
     ]
    },
    {
     "name": "stdout",
     "output_type": "stream",
     "text": [
      "Downloaded 42 of 598\n",
      "Snoozing for 8 seconds before next link\n"
     ]
    },
    {
     "name": "stderr",
     "output_type": "stream",
     "text": [
      "ic| link: 'http://web.mta.info/developers/data/nyct/turnstile/turnstile_201226.txt'\n"
     ]
    },
    {
     "name": "stdout",
     "output_type": "stream",
     "text": [
      "Downloaded 43 of 598\n",
      "Snoozing for 11 seconds before next link\n"
     ]
    },
    {
     "name": "stderr",
     "output_type": "stream",
     "text": [
      "ic| link: 'http://web.mta.info/developers/data/nyct/turnstile/turnstile_201219.txt'\n"
     ]
    },
    {
     "name": "stdout",
     "output_type": "stream",
     "text": [
      "Downloaded 44 of 598\n",
      "Snoozing for 3 seconds before next link\n"
     ]
    },
    {
     "name": "stderr",
     "output_type": "stream",
     "text": [
      "ic| link: 'http://web.mta.info/developers/data/nyct/turnstile/turnstile_201212.txt'\n"
     ]
    },
    {
     "name": "stdout",
     "output_type": "stream",
     "text": [
      "Downloaded 45 of 598\n",
      "Snoozing for 13 seconds before next link\n"
     ]
    },
    {
     "name": "stderr",
     "output_type": "stream",
     "text": [
      "ic| link: 'http://web.mta.info/developers/data/nyct/turnstile/turnstile_201205.txt'\n"
     ]
    },
    {
     "name": "stdout",
     "output_type": "stream",
     "text": [
      "Downloaded 46 of 598\n",
      "Snoozing for 4 seconds before next link\n"
     ]
    },
    {
     "name": "stderr",
     "output_type": "stream",
     "text": [
      "ic| link: 'http://web.mta.info/developers/data/nyct/turnstile/turnstile_201128.txt'\n"
     ]
    },
    {
     "name": "stdout",
     "output_type": "stream",
     "text": [
      "Downloaded 47 of 598\n",
      "Snoozing for 4 seconds before next link\n"
     ]
    },
    {
     "name": "stderr",
     "output_type": "stream",
     "text": [
      "ic| link: 'http://web.mta.info/developers/data/nyct/turnstile/turnstile_201121.txt'\n"
     ]
    },
    {
     "name": "stdout",
     "output_type": "stream",
     "text": [
      "Downloaded 48 of 598\n",
      "Snoozing for 4 seconds before next link\n"
     ]
    },
    {
     "name": "stderr",
     "output_type": "stream",
     "text": [
      "ic| link: 'http://web.mta.info/developers/data/nyct/turnstile/turnstile_201114.txt'\n"
     ]
    },
    {
     "name": "stdout",
     "output_type": "stream",
     "text": [
      "Downloaded 49 of 598\n",
      "Snoozing for 11 seconds before next link\n"
     ]
    },
    {
     "name": "stderr",
     "output_type": "stream",
     "text": [
      "ic| link: 'http://web.mta.info/developers/data/nyct/turnstile/turnstile_201107.txt'\n"
     ]
    },
    {
     "name": "stdout",
     "output_type": "stream",
     "text": [
      "Downloaded 50 of 598\n",
      "Snoozing for 14 seconds before next link\n"
     ]
    },
    {
     "name": "stderr",
     "output_type": "stream",
     "text": [
      "ic| link: 'http://web.mta.info/developers/data/nyct/turnstile/turnstile_201031.txt'\n"
     ]
    },
    {
     "name": "stdout",
     "output_type": "stream",
     "text": [
      "Downloaded 51 of 598\n",
      "Snoozing for 11 seconds before next link\n"
     ]
    },
    {
     "name": "stderr",
     "output_type": "stream",
     "text": [
      "ic| link: 'http://web.mta.info/developers/data/nyct/turnstile/turnstile_201024.txt'\n"
     ]
    },
    {
     "name": "stdout",
     "output_type": "stream",
     "text": [
      "Downloaded 52 of 598\n",
      "Snoozing for 2 seconds before next link\n"
     ]
    },
    {
     "name": "stderr",
     "output_type": "stream",
     "text": [
      "ic| link: 'http://web.mta.info/developers/data/nyct/turnstile/turnstile_201017.txt'\n"
     ]
    },
    {
     "name": "stdout",
     "output_type": "stream",
     "text": [
      "Downloaded 53 of 598\n",
      "Snoozing for 12 seconds before next link\n"
     ]
    },
    {
     "name": "stderr",
     "output_type": "stream",
     "text": [
      "ic| link: 'http://web.mta.info/developers/data/nyct/turnstile/turnstile_201010.txt'\n"
     ]
    },
    {
     "name": "stdout",
     "output_type": "stream",
     "text": [
      "Downloaded 54 of 598\n",
      "Snoozing for 4 seconds before next link\n"
     ]
    },
    {
     "name": "stderr",
     "output_type": "stream",
     "text": [
      "ic| link: 'http://web.mta.info/developers/data/nyct/turnstile/turnstile_201003.txt'\n"
     ]
    },
    {
     "name": "stdout",
     "output_type": "stream",
     "text": [
      "Downloaded 55 of 598\n",
      "Snoozing for 12 seconds before next link\n"
     ]
    },
    {
     "name": "stderr",
     "output_type": "stream",
     "text": [
      "ic| link: 'http://web.mta.info/developers/data/nyct/turnstile/turnstile_200926.txt'\n"
     ]
    },
    {
     "name": "stdout",
     "output_type": "stream",
     "text": [
      "Downloaded 56 of 598\n",
      "Snoozing for 12 seconds before next link\n"
     ]
    },
    {
     "name": "stderr",
     "output_type": "stream",
     "text": [
      "ic| link: 'http://web.mta.info/developers/data/nyct/turnstile/turnstile_200919.txt'\n"
     ]
    },
    {
     "name": "stdout",
     "output_type": "stream",
     "text": [
      "Downloaded 57 of 598\n",
      "Snoozing for 6 seconds before next link\n"
     ]
    },
    {
     "name": "stderr",
     "output_type": "stream",
     "text": [
      "ic| link: 'http://web.mta.info/developers/data/nyct/turnstile/turnstile_200912.txt'\n"
     ]
    },
    {
     "name": "stdout",
     "output_type": "stream",
     "text": [
      "Downloaded 58 of 598\n",
      "Snoozing for 11 seconds before next link\n"
     ]
    },
    {
     "name": "stderr",
     "output_type": "stream",
     "text": [
      "ic| link: 'http://web.mta.info/developers/data/nyct/turnstile/turnstile_200905.txt'\n"
     ]
    },
    {
     "name": "stdout",
     "output_type": "stream",
     "text": [
      "Downloaded 59 of 598\n",
      "Snoozing for 14 seconds before next link\n"
     ]
    },
    {
     "name": "stderr",
     "output_type": "stream",
     "text": [
      "ic| link: 'http://web.mta.info/developers/data/nyct/turnstile/turnstile_200829.txt'\n"
     ]
    },
    {
     "name": "stdout",
     "output_type": "stream",
     "text": [
      "Downloaded 60 of 598\n",
      "Snoozing for 6 seconds before next link\n"
     ]
    },
    {
     "name": "stderr",
     "output_type": "stream",
     "text": [
      "ic| link: 'http://web.mta.info/developers/data/nyct/turnstile/turnstile_200822.txt'\n"
     ]
    },
    {
     "name": "stdout",
     "output_type": "stream",
     "text": [
      "Downloaded 61 of 598\n",
      "Snoozing for 10 seconds before next link\n"
     ]
    },
    {
     "name": "stderr",
     "output_type": "stream",
     "text": [
      "ic| link: 'http://web.mta.info/developers/data/nyct/turnstile/turnstile_200815.txt'\n"
     ]
    },
    {
     "name": "stdout",
     "output_type": "stream",
     "text": [
      "Downloaded 62 of 598\n",
      "Snoozing for 2 seconds before next link\n"
     ]
    },
    {
     "name": "stderr",
     "output_type": "stream",
     "text": [
      "ic| link: 'http://web.mta.info/developers/data/nyct/turnstile/turnstile_200808.txt'\n"
     ]
    },
    {
     "name": "stdout",
     "output_type": "stream",
     "text": [
      "Downloaded 63 of 598\n",
      "Snoozing for 12 seconds before next link\n"
     ]
    },
    {
     "name": "stderr",
     "output_type": "stream",
     "text": [
      "ic| link: 'http://web.mta.info/developers/data/nyct/turnstile/turnstile_200801.txt'\n"
     ]
    },
    {
     "name": "stdout",
     "output_type": "stream",
     "text": [
      "Downloaded 64 of 598\n",
      "Snoozing for 2 seconds before next link\n"
     ]
    },
    {
     "name": "stderr",
     "output_type": "stream",
     "text": [
      "ic| link: 'http://web.mta.info/developers/data/nyct/turnstile/turnstile_200725.txt'\n"
     ]
    },
    {
     "name": "stdout",
     "output_type": "stream",
     "text": [
      "Downloaded 65 of 598\n",
      "Snoozing for 6 seconds before next link\n"
     ]
    },
    {
     "name": "stderr",
     "output_type": "stream",
     "text": [
      "ic| link: 'http://web.mta.info/developers/data/nyct/turnstile/turnstile_200718.txt'\n"
     ]
    },
    {
     "name": "stdout",
     "output_type": "stream",
     "text": [
      "Downloaded 66 of 598\n",
      "Snoozing for 6 seconds before next link\n"
     ]
    },
    {
     "name": "stderr",
     "output_type": "stream",
     "text": [
      "ic| link: 'http://web.mta.info/developers/data/nyct/turnstile/turnstile_200711.txt'\n"
     ]
    },
    {
     "name": "stdout",
     "output_type": "stream",
     "text": [
      "Downloaded 67 of 598\n",
      "Snoozing for 3 seconds before next link\n"
     ]
    },
    {
     "name": "stderr",
     "output_type": "stream",
     "text": [
      "ic| link: 'http://web.mta.info/developers/data/nyct/turnstile/turnstile_200704.txt'\n"
     ]
    },
    {
     "name": "stdout",
     "output_type": "stream",
     "text": [
      "Downloaded 68 of 598\n",
      "Snoozing for 10 seconds before next link\n"
     ]
    },
    {
     "name": "stderr",
     "output_type": "stream",
     "text": [
      "ic| link: 'http://web.mta.info/developers/data/nyct/turnstile/turnstile_200627.txt'\n"
     ]
    },
    {
     "name": "stdout",
     "output_type": "stream",
     "text": [
      "Downloaded 69 of 598\n",
      "Snoozing for 8 seconds before next link\n"
     ]
    },
    {
     "name": "stderr",
     "output_type": "stream",
     "text": [
      "ic| link: 'http://web.mta.info/developers/data/nyct/turnstile/turnstile_200620.txt'\n"
     ]
    },
    {
     "name": "stdout",
     "output_type": "stream",
     "text": [
      "Downloaded 70 of 598\n",
      "Snoozing for 11 seconds before next link\n"
     ]
    },
    {
     "name": "stderr",
     "output_type": "stream",
     "text": [
      "ic| link: 'http://web.mta.info/developers/data/nyct/turnstile/turnstile_200613.txt'\n"
     ]
    },
    {
     "name": "stdout",
     "output_type": "stream",
     "text": [
      "Downloaded 71 of 598\n",
      "Snoozing for 3 seconds before next link\n"
     ]
    },
    {
     "name": "stderr",
     "output_type": "stream",
     "text": [
      "ic| link: 'http://web.mta.info/developers/data/nyct/turnstile/turnstile_200606.txt'\n"
     ]
    },
    {
     "name": "stdout",
     "output_type": "stream",
     "text": [
      "Downloaded 72 of 598\n",
      "Snoozing for 6 seconds before next link\n"
     ]
    },
    {
     "name": "stderr",
     "output_type": "stream",
     "text": [
      "ic| link: 'http://web.mta.info/developers/data/nyct/turnstile/turnstile_200530.txt'\n"
     ]
    },
    {
     "name": "stdout",
     "output_type": "stream",
     "text": [
      "Downloaded 73 of 598\n",
      "Snoozing for 13 seconds before next link\n"
     ]
    },
    {
     "name": "stderr",
     "output_type": "stream",
     "text": [
      "ic| link: 'http://web.mta.info/developers/data/nyct/turnstile/turnstile_200523.txt'\n"
     ]
    },
    {
     "name": "stdout",
     "output_type": "stream",
     "text": [
      "Downloaded 74 of 598\n",
      "Snoozing for 13 seconds before next link\n"
     ]
    },
    {
     "name": "stderr",
     "output_type": "stream",
     "text": [
      "ic| link: 'http://web.mta.info/developers/data/nyct/turnstile/turnstile_200516.txt'\n"
     ]
    },
    {
     "name": "stdout",
     "output_type": "stream",
     "text": [
      "Downloaded 75 of 598\n",
      "Snoozing for 14 seconds before next link\n"
     ]
    },
    {
     "name": "stderr",
     "output_type": "stream",
     "text": [
      "ic| link: 'http://web.mta.info/developers/data/nyct/turnstile/turnstile_200509.txt'\n"
     ]
    },
    {
     "name": "stdout",
     "output_type": "stream",
     "text": [
      "Downloaded 76 of 598\n",
      "Snoozing for 10 seconds before next link\n"
     ]
    },
    {
     "name": "stderr",
     "output_type": "stream",
     "text": [
      "ic| link: 'http://web.mta.info/developers/data/nyct/turnstile/turnstile_200502.txt'\n"
     ]
    },
    {
     "name": "stdout",
     "output_type": "stream",
     "text": [
      "Downloaded 77 of 598\n",
      "Snoozing for 14 seconds before next link\n"
     ]
    },
    {
     "name": "stderr",
     "output_type": "stream",
     "text": [
      "ic| link: 'http://web.mta.info/developers/data/nyct/turnstile/turnstile_200425.txt'\n"
     ]
    },
    {
     "name": "stdout",
     "output_type": "stream",
     "text": [
      "Downloaded 78 of 598\n",
      "Snoozing for 14 seconds before next link\n"
     ]
    },
    {
     "name": "stderr",
     "output_type": "stream",
     "text": [
      "ic| link: 'http://web.mta.info/developers/data/nyct/turnstile/turnstile_200418.txt'\n"
     ]
    },
    {
     "name": "stdout",
     "output_type": "stream",
     "text": [
      "Downloaded 79 of 598\n",
      "Snoozing for 12 seconds before next link\n"
     ]
    },
    {
     "name": "stderr",
     "output_type": "stream",
     "text": [
      "ic| link: 'http://web.mta.info/developers/data/nyct/turnstile/turnstile_200411.txt'\n"
     ]
    },
    {
     "name": "stdout",
     "output_type": "stream",
     "text": [
      "Downloaded 80 of 598\n",
      "Snoozing for 12 seconds before next link\n"
     ]
    },
    {
     "name": "stderr",
     "output_type": "stream",
     "text": [
      "ic| link: 'http://web.mta.info/developers/data/nyct/turnstile/turnstile_200404.txt'\n"
     ]
    },
    {
     "name": "stdout",
     "output_type": "stream",
     "text": [
      "Downloaded 81 of 598\n",
      "Snoozing for 4 seconds before next link\n"
     ]
    },
    {
     "name": "stderr",
     "output_type": "stream",
     "text": [
      "ic| link: 'http://web.mta.info/developers/data/nyct/turnstile/turnstile_200328.txt'\n"
     ]
    },
    {
     "name": "stdout",
     "output_type": "stream",
     "text": [
      "Downloaded 82 of 598\n",
      "Snoozing for 5 seconds before next link\n"
     ]
    },
    {
     "name": "stderr",
     "output_type": "stream",
     "text": [
      "ic| link: 'http://web.mta.info/developers/data/nyct/turnstile/turnstile_200321.txt'\n"
     ]
    },
    {
     "name": "stdout",
     "output_type": "stream",
     "text": [
      "Downloaded 83 of 598\n",
      "Snoozing for 6 seconds before next link\n"
     ]
    },
    {
     "name": "stderr",
     "output_type": "stream",
     "text": [
      "ic| link: 'http://web.mta.info/developers/data/nyct/turnstile/turnstile_200314.txt'\n"
     ]
    },
    {
     "name": "stdout",
     "output_type": "stream",
     "text": [
      "Downloaded 84 of 598\n",
      "Snoozing for 4 seconds before next link\n"
     ]
    },
    {
     "name": "stderr",
     "output_type": "stream",
     "text": [
      "ic| link: 'http://web.mta.info/developers/data/nyct/turnstile/turnstile_200307.txt'\n"
     ]
    },
    {
     "name": "stdout",
     "output_type": "stream",
     "text": [
      "Downloaded 85 of 598\n",
      "Snoozing for 9 seconds before next link\n"
     ]
    },
    {
     "name": "stderr",
     "output_type": "stream",
     "text": [
      "ic| link: 'http://web.mta.info/developers/data/nyct/turnstile/turnstile_200229.txt'\n"
     ]
    },
    {
     "name": "stdout",
     "output_type": "stream",
     "text": [
      "Downloaded 86 of 598\n",
      "Snoozing for 3 seconds before next link\n"
     ]
    },
    {
     "name": "stderr",
     "output_type": "stream",
     "text": [
      "ic| link: 'http://web.mta.info/developers/data/nyct/turnstile/turnstile_200222.txt'\n"
     ]
    },
    {
     "name": "stdout",
     "output_type": "stream",
     "text": [
      "Downloaded 87 of 598\n",
      "Snoozing for 8 seconds before next link\n"
     ]
    },
    {
     "name": "stderr",
     "output_type": "stream",
     "text": [
      "ic| link: 'http://web.mta.info/developers/data/nyct/turnstile/turnstile_200215.txt'\n"
     ]
    },
    {
     "name": "stdout",
     "output_type": "stream",
     "text": [
      "Downloaded 88 of 598\n",
      "Snoozing for 6 seconds before next link\n"
     ]
    },
    {
     "name": "stderr",
     "output_type": "stream",
     "text": [
      "ic| link: 'http://web.mta.info/developers/data/nyct/turnstile/turnstile_200208.txt'\n"
     ]
    },
    {
     "name": "stdout",
     "output_type": "stream",
     "text": [
      "Downloaded 89 of 598\n",
      "Snoozing for 9 seconds before next link\n"
     ]
    },
    {
     "name": "stderr",
     "output_type": "stream",
     "text": [
      "ic| link: 'http://web.mta.info/developers/data/nyct/turnstile/turnstile_200201.txt'\n"
     ]
    },
    {
     "name": "stdout",
     "output_type": "stream",
     "text": [
      "Downloaded 90 of 598\n",
      "Snoozing for 10 seconds before next link\n"
     ]
    },
    {
     "name": "stderr",
     "output_type": "stream",
     "text": [
      "ic| link: 'http://web.mta.info/developers/data/nyct/turnstile/turnstile_200125.txt'\n"
     ]
    },
    {
     "name": "stdout",
     "output_type": "stream",
     "text": [
      "Downloaded 91 of 598\n",
      "Snoozing for 5 seconds before next link\n"
     ]
    },
    {
     "name": "stderr",
     "output_type": "stream",
     "text": [
      "ic| link: 'http://web.mta.info/developers/data/nyct/turnstile/turnstile_200118.txt'\n"
     ]
    },
    {
     "name": "stdout",
     "output_type": "stream",
     "text": [
      "Downloaded 92 of 598\n",
      "Snoozing for 2 seconds before next link\n"
     ]
    },
    {
     "name": "stderr",
     "output_type": "stream",
     "text": [
      "ic| link: 'http://web.mta.info/developers/data/nyct/turnstile/turnstile_200111.txt'\n"
     ]
    },
    {
     "name": "stdout",
     "output_type": "stream",
     "text": [
      "Downloaded 93 of 598\n",
      "Snoozing for 10 seconds before next link\n"
     ]
    },
    {
     "name": "stderr",
     "output_type": "stream",
     "text": [
      "ic| link: 'http://web.mta.info/developers/data/nyct/turnstile/turnstile_200104.txt'\n"
     ]
    },
    {
     "name": "stdout",
     "output_type": "stream",
     "text": [
      "Downloaded 94 of 598\n",
      "Snoozing for 7 seconds before next link\n"
     ]
    },
    {
     "name": "stderr",
     "output_type": "stream",
     "text": [
      "ic| link: 'http://web.mta.info/developers/data/nyct/turnstile/turnstile_191228.txt'\n"
     ]
    },
    {
     "name": "stdout",
     "output_type": "stream",
     "text": [
      "Downloaded 95 of 598\n",
      "Snoozing for 8 seconds before next link\n"
     ]
    },
    {
     "name": "stderr",
     "output_type": "stream",
     "text": [
      "ic| link: 'http://web.mta.info/developers/data/nyct/turnstile/turnstile_191221.txt'\n"
     ]
    },
    {
     "name": "stdout",
     "output_type": "stream",
     "text": [
      "Downloaded 96 of 598\n",
      "Snoozing for 14 seconds before next link\n"
     ]
    },
    {
     "name": "stderr",
     "output_type": "stream",
     "text": [
      "ic| link: 'http://web.mta.info/developers/data/nyct/turnstile/turnstile_191214.txt'\n"
     ]
    },
    {
     "name": "stdout",
     "output_type": "stream",
     "text": [
      "Downloaded 97 of 598\n",
      "Snoozing for 7 seconds before next link\n"
     ]
    },
    {
     "name": "stderr",
     "output_type": "stream",
     "text": [
      "ic| link: 'http://web.mta.info/developers/data/nyct/turnstile/turnstile_191207.txt'\n"
     ]
    },
    {
     "name": "stdout",
     "output_type": "stream",
     "text": [
      "Downloaded 98 of 598\n",
      "Snoozing for 12 seconds before next link\n"
     ]
    },
    {
     "name": "stderr",
     "output_type": "stream",
     "text": [
      "ic| link: 'http://web.mta.info/developers/data/nyct/turnstile/turnstile_191130.txt'\n"
     ]
    },
    {
     "name": "stdout",
     "output_type": "stream",
     "text": [
      "Downloaded 99 of 598\n",
      "Snoozing for 7 seconds before next link\n"
     ]
    },
    {
     "name": "stderr",
     "output_type": "stream",
     "text": [
      "ic| link: 'http://web.mta.info/developers/data/nyct/turnstile/turnstile_191123.txt'\n"
     ]
    },
    {
     "name": "stdout",
     "output_type": "stream",
     "text": [
      "Downloaded 100 of 598\n",
      "Snoozing for 11 seconds before next link\n"
     ]
    },
    {
     "name": "stderr",
     "output_type": "stream",
     "text": [
      "ic| link: 'http://web.mta.info/developers/data/nyct/turnstile/turnstile_191116.txt'\n"
     ]
    },
    {
     "name": "stdout",
     "output_type": "stream",
     "text": [
      "Downloaded 101 of 598\n",
      "Snoozing for 8 seconds before next link\n"
     ]
    },
    {
     "name": "stderr",
     "output_type": "stream",
     "text": [
      "ic| link: 'http://web.mta.info/developers/data/nyct/turnstile/turnstile_191109.txt'\n"
     ]
    },
    {
     "name": "stdout",
     "output_type": "stream",
     "text": [
      "Downloaded 102 of 598\n",
      "Snoozing for 12 seconds before next link\n"
     ]
    },
    {
     "name": "stderr",
     "output_type": "stream",
     "text": [
      "ic| link: 'http://web.mta.info/developers/data/nyct/turnstile/turnstile_191102.txt'\n"
     ]
    },
    {
     "name": "stdout",
     "output_type": "stream",
     "text": [
      "Downloaded 103 of 598\n",
      "Snoozing for 11 seconds before next link\n"
     ]
    },
    {
     "name": "stderr",
     "output_type": "stream",
     "text": [
      "ic| link: 'http://web.mta.info/developers/data/nyct/turnstile/turnstile_191026.txt'\n"
     ]
    },
    {
     "name": "stdout",
     "output_type": "stream",
     "text": [
      "Downloaded 104 of 598\n",
      "Snoozing for 7 seconds before next link\n"
     ]
    },
    {
     "name": "stderr",
     "output_type": "stream",
     "text": [
      "ic| link: 'http://web.mta.info/developers/data/nyct/turnstile/turnstile_191019.txt'\n"
     ]
    },
    {
     "name": "stdout",
     "output_type": "stream",
     "text": [
      "Downloaded 105 of 598\n",
      "Snoozing for 10 seconds before next link\n"
     ]
    },
    {
     "name": "stderr",
     "output_type": "stream",
     "text": [
      "ic| link: 'http://web.mta.info/developers/data/nyct/turnstile/turnstile_191012.txt'\n"
     ]
    },
    {
     "name": "stdout",
     "output_type": "stream",
     "text": [
      "Downloaded 106 of 598\n",
      "Snoozing for 14 seconds before next link\n"
     ]
    },
    {
     "name": "stderr",
     "output_type": "stream",
     "text": [
      "ic| link: 'http://web.mta.info/developers/data/nyct/turnstile/turnstile_191005.txt'\n"
     ]
    },
    {
     "name": "stdout",
     "output_type": "stream",
     "text": [
      "Downloaded 107 of 598\n",
      "Snoozing for 10 seconds before next link\n"
     ]
    },
    {
     "name": "stderr",
     "output_type": "stream",
     "text": [
      "ic| link: 'http://web.mta.info/developers/data/nyct/turnstile/turnstile_190928.txt'\n"
     ]
    },
    {
     "name": "stdout",
     "output_type": "stream",
     "text": [
      "Downloaded 108 of 598\n",
      "Snoozing for 4 seconds before next link\n"
     ]
    },
    {
     "name": "stderr",
     "output_type": "stream",
     "text": [
      "ic| link: 'http://web.mta.info/developers/data/nyct/turnstile/turnstile_190921.txt'\n"
     ]
    },
    {
     "name": "stdout",
     "output_type": "stream",
     "text": [
      "Downloaded 109 of 598\n",
      "Snoozing for 6 seconds before next link\n"
     ]
    },
    {
     "name": "stderr",
     "output_type": "stream",
     "text": [
      "ic| link: 'http://web.mta.info/developers/data/nyct/turnstile/turnstile_190914.txt'\n"
     ]
    },
    {
     "name": "stdout",
     "output_type": "stream",
     "text": [
      "Downloaded 110 of 598\n",
      "Snoozing for 5 seconds before next link\n"
     ]
    },
    {
     "name": "stderr",
     "output_type": "stream",
     "text": [
      "ic| link: 'http://web.mta.info/developers/data/nyct/turnstile/turnstile_190907.txt'\n"
     ]
    },
    {
     "name": "stdout",
     "output_type": "stream",
     "text": [
      "Downloaded 111 of 598\n",
      "Snoozing for 8 seconds before next link\n"
     ]
    },
    {
     "name": "stderr",
     "output_type": "stream",
     "text": [
      "ic| link: 'http://web.mta.info/developers/data/nyct/turnstile/turnstile_190831.txt'\n"
     ]
    },
    {
     "name": "stdout",
     "output_type": "stream",
     "text": [
      "Downloaded 112 of 598\n",
      "Snoozing for 3 seconds before next link\n"
     ]
    },
    {
     "name": "stderr",
     "output_type": "stream",
     "text": [
      "ic| link: 'http://web.mta.info/developers/data/nyct/turnstile/turnstile_190824.txt'\n"
     ]
    },
    {
     "name": "stdout",
     "output_type": "stream",
     "text": [
      "Downloaded 113 of 598\n",
      "Snoozing for 10 seconds before next link\n"
     ]
    },
    {
     "name": "stderr",
     "output_type": "stream",
     "text": [
      "ic| link: 'http://web.mta.info/developers/data/nyct/turnstile/turnstile_190817.txt'\n"
     ]
    },
    {
     "name": "stdout",
     "output_type": "stream",
     "text": [
      "Downloaded 114 of 598\n",
      "Snoozing for 12 seconds before next link\n"
     ]
    },
    {
     "name": "stderr",
     "output_type": "stream",
     "text": [
      "ic| link: 'http://web.mta.info/developers/data/nyct/turnstile/turnstile_190810.txt'\n"
     ]
    },
    {
     "name": "stdout",
     "output_type": "stream",
     "text": [
      "Downloaded 115 of 598\n",
      "Snoozing for 11 seconds before next link\n"
     ]
    },
    {
     "name": "stderr",
     "output_type": "stream",
     "text": [
      "ic| link: 'http://web.mta.info/developers/data/nyct/turnstile/turnstile_190803.txt'\n"
     ]
    },
    {
     "name": "stdout",
     "output_type": "stream",
     "text": [
      "Downloaded 116 of 598\n",
      "Snoozing for 2 seconds before next link\n"
     ]
    },
    {
     "name": "stderr",
     "output_type": "stream",
     "text": [
      "ic| link: 'http://web.mta.info/developers/data/nyct/turnstile/turnstile_190727.txt'\n"
     ]
    },
    {
     "name": "stdout",
     "output_type": "stream",
     "text": [
      "Downloaded 117 of 598\n",
      "Snoozing for 2 seconds before next link\n"
     ]
    },
    {
     "name": "stderr",
     "output_type": "stream",
     "text": [
      "ic| link: 'http://web.mta.info/developers/data/nyct/turnstile/turnstile_190720.txt'\n"
     ]
    },
    {
     "name": "stdout",
     "output_type": "stream",
     "text": [
      "Downloaded 118 of 598\n",
      "Snoozing for 12 seconds before next link\n"
     ]
    },
    {
     "name": "stderr",
     "output_type": "stream",
     "text": [
      "ic| link: 'http://web.mta.info/developers/data/nyct/turnstile/turnstile_190713.txt'\n"
     ]
    },
    {
     "name": "stdout",
     "output_type": "stream",
     "text": [
      "Downloaded 119 of 598\n",
      "Snoozing for 7 seconds before next link\n"
     ]
    },
    {
     "name": "stderr",
     "output_type": "stream",
     "text": [
      "ic| link: 'http://web.mta.info/developers/data/nyct/turnstile/turnstile_190706.txt'\n"
     ]
    },
    {
     "name": "stdout",
     "output_type": "stream",
     "text": [
      "Downloaded 120 of 598\n",
      "Snoozing for 9 seconds before next link\n"
     ]
    },
    {
     "name": "stderr",
     "output_type": "stream",
     "text": [
      "ic| link: 'http://web.mta.info/developers/data/nyct/turnstile/turnstile_190629.txt'\n"
     ]
    },
    {
     "name": "stdout",
     "output_type": "stream",
     "text": [
      "Downloaded 121 of 598\n",
      "Snoozing for 5 seconds before next link\n"
     ]
    },
    {
     "name": "stderr",
     "output_type": "stream",
     "text": [
      "ic| link: 'http://web.mta.info/developers/data/nyct/turnstile/turnstile_190622.txt'\n"
     ]
    },
    {
     "name": "stdout",
     "output_type": "stream",
     "text": [
      "Downloaded 122 of 598\n",
      "Snoozing for 8 seconds before next link\n"
     ]
    },
    {
     "name": "stderr",
     "output_type": "stream",
     "text": [
      "ic| link: 'http://web.mta.info/developers/data/nyct/turnstile/turnstile_190615.txt'\n"
     ]
    },
    {
     "name": "stdout",
     "output_type": "stream",
     "text": [
      "Downloaded 123 of 598\n",
      "Snoozing for 10 seconds before next link\n"
     ]
    },
    {
     "name": "stderr",
     "output_type": "stream",
     "text": [
      "ic| link: 'http://web.mta.info/developers/data/nyct/turnstile/turnstile_190608.txt'\n"
     ]
    },
    {
     "name": "stdout",
     "output_type": "stream",
     "text": [
      "Downloaded 124 of 598\n",
      "Snoozing for 3 seconds before next link\n"
     ]
    },
    {
     "name": "stderr",
     "output_type": "stream",
     "text": [
      "ic| link: 'http://web.mta.info/developers/data/nyct/turnstile/turnstile_190601.txt'\n"
     ]
    },
    {
     "name": "stdout",
     "output_type": "stream",
     "text": [
      "Downloaded 125 of 598\n",
      "Snoozing for 6 seconds before next link\n"
     ]
    },
    {
     "name": "stderr",
     "output_type": "stream",
     "text": [
      "ic| link: 'http://web.mta.info/developers/data/nyct/turnstile/turnstile_190525.txt'\n"
     ]
    },
    {
     "name": "stdout",
     "output_type": "stream",
     "text": [
      "Downloaded 126 of 598\n",
      "Snoozing for 11 seconds before next link\n"
     ]
    },
    {
     "name": "stderr",
     "output_type": "stream",
     "text": [
      "ic| link: 'http://web.mta.info/developers/data/nyct/turnstile/turnstile_190518.txt'\n"
     ]
    },
    {
     "name": "stdout",
     "output_type": "stream",
     "text": [
      "Downloaded 127 of 598\n",
      "Snoozing for 8 seconds before next link\n"
     ]
    },
    {
     "name": "stderr",
     "output_type": "stream",
     "text": [
      "ic| link: 'http://web.mta.info/developers/data/nyct/turnstile/turnstile_190511.txt'\n"
     ]
    },
    {
     "name": "stdout",
     "output_type": "stream",
     "text": [
      "Downloaded 128 of 598\n",
      "Snoozing for 9 seconds before next link\n"
     ]
    },
    {
     "name": "stderr",
     "output_type": "stream",
     "text": [
      "ic| link: 'http://web.mta.info/developers/data/nyct/turnstile/turnstile_190504.txt'\n"
     ]
    },
    {
     "name": "stdout",
     "output_type": "stream",
     "text": [
      "Downloaded 129 of 598\n",
      "Snoozing for 9 seconds before next link\n"
     ]
    },
    {
     "name": "stderr",
     "output_type": "stream",
     "text": [
      "ic| link: 'http://web.mta.info/developers/data/nyct/turnstile/turnstile_190427.txt'\n"
     ]
    },
    {
     "name": "stdout",
     "output_type": "stream",
     "text": [
      "Downloaded 130 of 598\n",
      "Snoozing for 3 seconds before next link\n"
     ]
    },
    {
     "name": "stderr",
     "output_type": "stream",
     "text": [
      "ic| link: 'http://web.mta.info/developers/data/nyct/turnstile/turnstile_190420.txt'\n"
     ]
    },
    {
     "name": "stdout",
     "output_type": "stream",
     "text": [
      "Downloaded 131 of 598\n",
      "Snoozing for 6 seconds before next link\n"
     ]
    },
    {
     "name": "stderr",
     "output_type": "stream",
     "text": [
      "ic| link: 'http://web.mta.info/developers/data/nyct/turnstile/turnstile_190413.txt'\n"
     ]
    },
    {
     "name": "stdout",
     "output_type": "stream",
     "text": [
      "Downloaded 132 of 598\n",
      "Snoozing for 13 seconds before next link\n"
     ]
    },
    {
     "name": "stderr",
     "output_type": "stream",
     "text": [
      "ic| link: 'http://web.mta.info/developers/data/nyct/turnstile/turnstile_190406.txt'\n"
     ]
    },
    {
     "name": "stdout",
     "output_type": "stream",
     "text": [
      "Downloaded 133 of 598\n",
      "Snoozing for 14 seconds before next link\n"
     ]
    },
    {
     "name": "stderr",
     "output_type": "stream",
     "text": [
      "ic| link: 'http://web.mta.info/developers/data/nyct/turnstile/turnstile_190330.txt'\n"
     ]
    },
    {
     "name": "stdout",
     "output_type": "stream",
     "text": [
      "Downloaded 134 of 598\n",
      "Snoozing for 7 seconds before next link\n"
     ]
    },
    {
     "name": "stderr",
     "output_type": "stream",
     "text": [
      "ic| link: 'http://web.mta.info/developers/data/nyct/turnstile/turnstile_190323.txt'\n"
     ]
    },
    {
     "name": "stdout",
     "output_type": "stream",
     "text": [
      "Downloaded 135 of 598\n",
      "Snoozing for 8 seconds before next link\n"
     ]
    },
    {
     "name": "stderr",
     "output_type": "stream",
     "text": [
      "ic| link: 'http://web.mta.info/developers/data/nyct/turnstile/turnstile_190316.txt'\n"
     ]
    },
    {
     "name": "stdout",
     "output_type": "stream",
     "text": [
      "Downloaded 136 of 598\n",
      "Snoozing for 12 seconds before next link\n"
     ]
    },
    {
     "name": "stderr",
     "output_type": "stream",
     "text": [
      "ic| link: 'http://web.mta.info/developers/data/nyct/turnstile/turnstile_190309.txt'\n"
     ]
    },
    {
     "name": "stdout",
     "output_type": "stream",
     "text": [
      "Downloaded 137 of 598\n",
      "Snoozing for 7 seconds before next link\n"
     ]
    },
    {
     "name": "stderr",
     "output_type": "stream",
     "text": [
      "ic| link: 'http://web.mta.info/developers/data/nyct/turnstile/turnstile_190302.txt'\n"
     ]
    },
    {
     "name": "stdout",
     "output_type": "stream",
     "text": [
      "Downloaded 138 of 598\n",
      "Snoozing for 6 seconds before next link\n"
     ]
    },
    {
     "name": "stderr",
     "output_type": "stream",
     "text": [
      "ic| link: 'http://web.mta.info/developers/data/nyct/turnstile/turnstile_190223.txt'\n"
     ]
    },
    {
     "name": "stdout",
     "output_type": "stream",
     "text": [
      "Downloaded 139 of 598\n",
      "Snoozing for 10 seconds before next link\n"
     ]
    },
    {
     "name": "stderr",
     "output_type": "stream",
     "text": [
      "ic| link: 'http://web.mta.info/developers/data/nyct/turnstile/turnstile_190216.txt'\n"
     ]
    },
    {
     "name": "stdout",
     "output_type": "stream",
     "text": [
      "Downloaded 140 of 598\n",
      "Snoozing for 3 seconds before next link\n"
     ]
    },
    {
     "name": "stderr",
     "output_type": "stream",
     "text": [
      "ic| link: 'http://web.mta.info/developers/data/nyct/turnstile/turnstile_190209.txt'\n"
     ]
    },
    {
     "name": "stdout",
     "output_type": "stream",
     "text": [
      "Downloaded 141 of 598\n",
      "Snoozing for 2 seconds before next link\n"
     ]
    },
    {
     "name": "stderr",
     "output_type": "stream",
     "text": [
      "ic| link: 'http://web.mta.info/developers/data/nyct/turnstile/turnstile_190202.txt'\n"
     ]
    },
    {
     "name": "stdout",
     "output_type": "stream",
     "text": [
      "Downloaded 142 of 598\n",
      "Snoozing for 13 seconds before next link\n"
     ]
    },
    {
     "name": "stderr",
     "output_type": "stream",
     "text": [
      "ic| link: 'http://web.mta.info/developers/data/nyct/turnstile/turnstile_190126.txt'\n"
     ]
    },
    {
     "name": "stdout",
     "output_type": "stream",
     "text": [
      "Downloaded 143 of 598\n",
      "Snoozing for 12 seconds before next link\n"
     ]
    },
    {
     "name": "stderr",
     "output_type": "stream",
     "text": [
      "ic| link: 'http://web.mta.info/developers/data/nyct/turnstile/turnstile_190119.txt'\n"
     ]
    },
    {
     "name": "stdout",
     "output_type": "stream",
     "text": [
      "Downloaded 144 of 598\n",
      "Snoozing for 3 seconds before next link\n"
     ]
    },
    {
     "name": "stderr",
     "output_type": "stream",
     "text": [
      "ic| link: 'http://web.mta.info/developers/data/nyct/turnstile/turnstile_190112.txt'\n"
     ]
    },
    {
     "name": "stdout",
     "output_type": "stream",
     "text": [
      "Downloaded 145 of 598\n",
      "Snoozing for 5 seconds before next link\n"
     ]
    },
    {
     "name": "stderr",
     "output_type": "stream",
     "text": [
      "ic| link: 'http://web.mta.info/developers/data/nyct/turnstile/turnstile_190105.txt'\n"
     ]
    },
    {
     "name": "stdout",
     "output_type": "stream",
     "text": [
      "Downloaded 146 of 598\n",
      "Snoozing for 14 seconds before next link\n"
     ]
    },
    {
     "name": "stderr",
     "output_type": "stream",
     "text": [
      "ic| link: 'http://web.mta.info/developers/data/nyct/turnstile/turnstile_181229.txt'\n"
     ]
    },
    {
     "name": "stdout",
     "output_type": "stream",
     "text": [
      "Downloaded 147 of 598\n",
      "Snoozing for 6 seconds before next link\n"
     ]
    },
    {
     "name": "stderr",
     "output_type": "stream",
     "text": [
      "ic| link: 'http://web.mta.info/developers/data/nyct/turnstile/turnstile_181222.txt'\n"
     ]
    },
    {
     "name": "stdout",
     "output_type": "stream",
     "text": [
      "Downloaded 148 of 598\n",
      "Snoozing for 7 seconds before next link\n"
     ]
    },
    {
     "name": "stderr",
     "output_type": "stream",
     "text": [
      "ic| link: 'http://web.mta.info/developers/data/nyct/turnstile/turnstile_181215.txt'\n"
     ]
    },
    {
     "name": "stdout",
     "output_type": "stream",
     "text": [
      "Downloaded 149 of 598\n",
      "Snoozing for 5 seconds before next link\n"
     ]
    },
    {
     "name": "stderr",
     "output_type": "stream",
     "text": [
      "ic| link: 'http://web.mta.info/developers/data/nyct/turnstile/turnstile_181208.txt'\n"
     ]
    },
    {
     "name": "stdout",
     "output_type": "stream",
     "text": [
      "Downloaded 150 of 598\n",
      "Snoozing for 8 seconds before next link\n"
     ]
    },
    {
     "name": "stderr",
     "output_type": "stream",
     "text": [
      "ic| link: 'http://web.mta.info/developers/data/nyct/turnstile/turnstile_181201.txt'\n"
     ]
    },
    {
     "name": "stdout",
     "output_type": "stream",
     "text": [
      "Downloaded 151 of 598\n",
      "Snoozing for 7 seconds before next link\n"
     ]
    },
    {
     "name": "stderr",
     "output_type": "stream",
     "text": [
      "ic| link: 'http://web.mta.info/developers/data/nyct/turnstile/turnstile_181124.txt'\n"
     ]
    },
    {
     "name": "stdout",
     "output_type": "stream",
     "text": [
      "Downloaded 152 of 598\n",
      "Snoozing for 6 seconds before next link\n"
     ]
    },
    {
     "name": "stderr",
     "output_type": "stream",
     "text": [
      "ic| link: 'http://web.mta.info/developers/data/nyct/turnstile/turnstile_181117.txt'\n"
     ]
    },
    {
     "name": "stdout",
     "output_type": "stream",
     "text": [
      "Downloaded 153 of 598\n",
      "Snoozing for 14 seconds before next link\n"
     ]
    },
    {
     "name": "stderr",
     "output_type": "stream",
     "text": [
      "ic| link: 'http://web.mta.info/developers/data/nyct/turnstile/turnstile_181110.txt'\n"
     ]
    },
    {
     "name": "stdout",
     "output_type": "stream",
     "text": [
      "Downloaded 154 of 598\n",
      "Snoozing for 13 seconds before next link\n"
     ]
    },
    {
     "name": "stderr",
     "output_type": "stream",
     "text": [
      "ic| link: 'http://web.mta.info/developers/data/nyct/turnstile/turnstile_181103.txt'\n"
     ]
    },
    {
     "name": "stdout",
     "output_type": "stream",
     "text": [
      "Downloaded 155 of 598\n",
      "Snoozing for 2 seconds before next link\n"
     ]
    },
    {
     "name": "stderr",
     "output_type": "stream",
     "text": [
      "ic| link: 'http://web.mta.info/developers/data/nyct/turnstile/turnstile_181027.txt'\n"
     ]
    },
    {
     "name": "stdout",
     "output_type": "stream",
     "text": [
      "Downloaded 156 of 598\n",
      "Snoozing for 5 seconds before next link\n"
     ]
    },
    {
     "name": "stderr",
     "output_type": "stream",
     "text": [
      "ic| link: 'http://web.mta.info/developers/data/nyct/turnstile/turnstile_181020.txt'\n"
     ]
    },
    {
     "name": "stdout",
     "output_type": "stream",
     "text": [
      "Downloaded 157 of 598\n",
      "Snoozing for 3 seconds before next link\n"
     ]
    },
    {
     "name": "stderr",
     "output_type": "stream",
     "text": [
      "ic| link: 'http://web.mta.info/developers/data/nyct/turnstile/turnstile_181013.txt'\n"
     ]
    },
    {
     "name": "stdout",
     "output_type": "stream",
     "text": [
      "Downloaded 158 of 598\n",
      "Snoozing for 14 seconds before next link\n"
     ]
    },
    {
     "name": "stderr",
     "output_type": "stream",
     "text": [
      "ic| link: 'http://web.mta.info/developers/data/nyct/turnstile/turnstile_181006.txt'\n"
     ]
    },
    {
     "name": "stdout",
     "output_type": "stream",
     "text": [
      "Downloaded 159 of 598\n",
      "Snoozing for 6 seconds before next link\n"
     ]
    },
    {
     "name": "stderr",
     "output_type": "stream",
     "text": [
      "ic| link: 'http://web.mta.info/developers/data/nyct/turnstile/turnstile_180929.txt'\n"
     ]
    },
    {
     "name": "stdout",
     "output_type": "stream",
     "text": [
      "Downloaded 160 of 598\n",
      "Snoozing for 13 seconds before next link\n"
     ]
    },
    {
     "name": "stderr",
     "output_type": "stream",
     "text": [
      "ic| link: 'http://web.mta.info/developers/data/nyct/turnstile/turnstile_180922.txt'\n"
     ]
    },
    {
     "name": "stdout",
     "output_type": "stream",
     "text": [
      "Downloaded 161 of 598\n",
      "Snoozing for 6 seconds before next link\n"
     ]
    },
    {
     "name": "stderr",
     "output_type": "stream",
     "text": [
      "ic| link: 'http://web.mta.info/developers/data/nyct/turnstile/turnstile_180915.txt'\n"
     ]
    },
    {
     "name": "stdout",
     "output_type": "stream",
     "text": [
      "Downloaded 162 of 598\n",
      "Snoozing for 7 seconds before next link\n"
     ]
    },
    {
     "name": "stderr",
     "output_type": "stream",
     "text": [
      "ic| link: 'http://web.mta.info/developers/data/nyct/turnstile/turnstile_180908.txt'\n"
     ]
    },
    {
     "name": "stdout",
     "output_type": "stream",
     "text": [
      "Downloaded 163 of 598\n",
      "Snoozing for 9 seconds before next link\n"
     ]
    },
    {
     "name": "stderr",
     "output_type": "stream",
     "text": [
      "ic| link: 'http://web.mta.info/developers/data/nyct/turnstile/turnstile_180901.txt'\n"
     ]
    },
    {
     "name": "stdout",
     "output_type": "stream",
     "text": [
      "Downloaded 164 of 598\n",
      "Snoozing for 9 seconds before next link\n"
     ]
    },
    {
     "name": "stderr",
     "output_type": "stream",
     "text": [
      "ic| link: 'http://web.mta.info/developers/data/nyct/turnstile/turnstile_180825.txt'\n"
     ]
    },
    {
     "name": "stdout",
     "output_type": "stream",
     "text": [
      "Downloaded 165 of 598\n",
      "Snoozing for 14 seconds before next link\n"
     ]
    },
    {
     "name": "stderr",
     "output_type": "stream",
     "text": [
      "ic| link: 'http://web.mta.info/developers/data/nyct/turnstile/turnstile_180818.txt'\n"
     ]
    },
    {
     "name": "stdout",
     "output_type": "stream",
     "text": [
      "Downloaded 166 of 598\n",
      "Snoozing for 4 seconds before next link\n"
     ]
    },
    {
     "name": "stderr",
     "output_type": "stream",
     "text": [
      "ic| link: 'http://web.mta.info/developers/data/nyct/turnstile/turnstile_180811.txt'\n"
     ]
    },
    {
     "name": "stdout",
     "output_type": "stream",
     "text": [
      "Downloaded 167 of 598\n",
      "Snoozing for 11 seconds before next link\n"
     ]
    },
    {
     "name": "stderr",
     "output_type": "stream",
     "text": [
      "ic| link: 'http://web.mta.info/developers/data/nyct/turnstile/turnstile_180804.txt'\n"
     ]
    },
    {
     "name": "stdout",
     "output_type": "stream",
     "text": [
      "Downloaded 168 of 598\n",
      "Snoozing for 2 seconds before next link\n"
     ]
    },
    {
     "name": "stderr",
     "output_type": "stream",
     "text": [
      "ic| link: 'http://web.mta.info/developers/data/nyct/turnstile/turnstile_180728.txt'\n"
     ]
    },
    {
     "name": "stdout",
     "output_type": "stream",
     "text": [
      "Downloaded 169 of 598\n",
      "Snoozing for 5 seconds before next link\n"
     ]
    },
    {
     "name": "stderr",
     "output_type": "stream",
     "text": [
      "ic| link: 'http://web.mta.info/developers/data/nyct/turnstile/turnstile_180721.txt'\n"
     ]
    },
    {
     "name": "stdout",
     "output_type": "stream",
     "text": [
      "Downloaded 170 of 598\n",
      "Snoozing for 12 seconds before next link\n"
     ]
    },
    {
     "name": "stderr",
     "output_type": "stream",
     "text": [
      "ic| link: 'http://web.mta.info/developers/data/nyct/turnstile/turnstile_180714.txt'\n"
     ]
    },
    {
     "name": "stdout",
     "output_type": "stream",
     "text": [
      "Downloaded 171 of 598\n",
      "Snoozing for 2 seconds before next link\n"
     ]
    },
    {
     "name": "stderr",
     "output_type": "stream",
     "text": [
      "ic| link: 'http://web.mta.info/developers/data/nyct/turnstile/turnstile_180707.txt'\n"
     ]
    },
    {
     "name": "stdout",
     "output_type": "stream",
     "text": [
      "Downloaded 172 of 598\n",
      "Snoozing for 6 seconds before next link\n"
     ]
    },
    {
     "name": "stderr",
     "output_type": "stream",
     "text": [
      "ic| link: 'http://web.mta.info/developers/data/nyct/turnstile/turnstile_180630.txt'\n"
     ]
    },
    {
     "name": "stdout",
     "output_type": "stream",
     "text": [
      "Downloaded 173 of 598\n",
      "Snoozing for 7 seconds before next link\n"
     ]
    },
    {
     "name": "stderr",
     "output_type": "stream",
     "text": [
      "ic| link: 'http://web.mta.info/developers/data/nyct/turnstile/turnstile_180623.txt'\n"
     ]
    },
    {
     "name": "stdout",
     "output_type": "stream",
     "text": [
      "Downloaded 174 of 598\n",
      "Snoozing for 8 seconds before next link\n"
     ]
    },
    {
     "name": "stderr",
     "output_type": "stream",
     "text": [
      "ic| link: 'http://web.mta.info/developers/data/nyct/turnstile/turnstile_180616.txt'\n"
     ]
    },
    {
     "name": "stdout",
     "output_type": "stream",
     "text": [
      "Downloaded 175 of 598\n",
      "Snoozing for 9 seconds before next link\n"
     ]
    },
    {
     "name": "stderr",
     "output_type": "stream",
     "text": [
      "ic| link: 'http://web.mta.info/developers/data/nyct/turnstile/turnstile_180609.txt'\n"
     ]
    },
    {
     "name": "stdout",
     "output_type": "stream",
     "text": [
      "Downloaded 176 of 598\n",
      "Snoozing for 5 seconds before next link\n"
     ]
    },
    {
     "name": "stderr",
     "output_type": "stream",
     "text": [
      "ic| link: 'http://web.mta.info/developers/data/nyct/turnstile/turnstile_180602.txt'\n"
     ]
    },
    {
     "name": "stdout",
     "output_type": "stream",
     "text": [
      "Downloaded 177 of 598\n",
      "Snoozing for 6 seconds before next link\n"
     ]
    },
    {
     "name": "stderr",
     "output_type": "stream",
     "text": [
      "ic| link: 'http://web.mta.info/developers/data/nyct/turnstile/turnstile_180526.txt'\n"
     ]
    },
    {
     "name": "stdout",
     "output_type": "stream",
     "text": [
      "Downloaded 178 of 598\n",
      "Snoozing for 4 seconds before next link\n"
     ]
    },
    {
     "name": "stderr",
     "output_type": "stream",
     "text": [
      "ic| link: 'http://web.mta.info/developers/data/nyct/turnstile/turnstile_180519.txt'\n"
     ]
    },
    {
     "name": "stdout",
     "output_type": "stream",
     "text": [
      "Downloaded 179 of 598\n",
      "Snoozing for 13 seconds before next link\n"
     ]
    },
    {
     "name": "stderr",
     "output_type": "stream",
     "text": [
      "ic| link: 'http://web.mta.info/developers/data/nyct/turnstile/turnstile_180512.txt'\n"
     ]
    },
    {
     "name": "stdout",
     "output_type": "stream",
     "text": [
      "Downloaded 180 of 598\n",
      "Snoozing for 10 seconds before next link\n"
     ]
    },
    {
     "name": "stderr",
     "output_type": "stream",
     "text": [
      "ic| link: 'http://web.mta.info/developers/data/nyct/turnstile/turnstile_180505.txt'\n"
     ]
    },
    {
     "name": "stdout",
     "output_type": "stream",
     "text": [
      "Downloaded 181 of 598\n",
      "Snoozing for 10 seconds before next link\n"
     ]
    },
    {
     "name": "stderr",
     "output_type": "stream",
     "text": [
      "ic| link: 'http://web.mta.info/developers/data/nyct/turnstile/turnstile_180428.txt'\n"
     ]
    },
    {
     "name": "stdout",
     "output_type": "stream",
     "text": [
      "Downloaded 182 of 598\n",
      "Snoozing for 2 seconds before next link\n"
     ]
    },
    {
     "name": "stderr",
     "output_type": "stream",
     "text": [
      "ic| link: 'http://web.mta.info/developers/data/nyct/turnstile/turnstile_180421.txt'\n"
     ]
    },
    {
     "name": "stdout",
     "output_type": "stream",
     "text": [
      "Downloaded 183 of 598\n",
      "Snoozing for 11 seconds before next link\n"
     ]
    },
    {
     "name": "stderr",
     "output_type": "stream",
     "text": [
      "ic| link: 'http://web.mta.info/developers/data/nyct/turnstile/turnstile_180414.txt'\n"
     ]
    },
    {
     "name": "stdout",
     "output_type": "stream",
     "text": [
      "Downloaded 184 of 598\n",
      "Snoozing for 3 seconds before next link\n"
     ]
    },
    {
     "name": "stderr",
     "output_type": "stream",
     "text": [
      "ic| link: 'http://web.mta.info/developers/data/nyct/turnstile/turnstile_180407.txt'\n"
     ]
    },
    {
     "name": "stdout",
     "output_type": "stream",
     "text": [
      "Downloaded 185 of 598\n",
      "Snoozing for 7 seconds before next link\n"
     ]
    },
    {
     "name": "stderr",
     "output_type": "stream",
     "text": [
      "ic| link: 'http://web.mta.info/developers/data/nyct/turnstile/turnstile_180331.txt'\n"
     ]
    },
    {
     "name": "stdout",
     "output_type": "stream",
     "text": [
      "Downloaded 186 of 598\n",
      "Snoozing for 14 seconds before next link\n"
     ]
    },
    {
     "name": "stderr",
     "output_type": "stream",
     "text": [
      "ic| link: 'http://web.mta.info/developers/data/nyct/turnstile/turnstile_180324.txt'\n"
     ]
    },
    {
     "name": "stdout",
     "output_type": "stream",
     "text": [
      "Downloaded 187 of 598\n",
      "Snoozing for 11 seconds before next link\n"
     ]
    },
    {
     "name": "stderr",
     "output_type": "stream",
     "text": [
      "ic| link: 'http://web.mta.info/developers/data/nyct/turnstile/turnstile_180317.txt'\n"
     ]
    },
    {
     "name": "stdout",
     "output_type": "stream",
     "text": [
      "Downloaded 188 of 598\n",
      "Snoozing for 10 seconds before next link\n"
     ]
    },
    {
     "name": "stderr",
     "output_type": "stream",
     "text": [
      "ic| link: 'http://web.mta.info/developers/data/nyct/turnstile/turnstile_180310.txt'\n"
     ]
    },
    {
     "name": "stdout",
     "output_type": "stream",
     "text": [
      "Downloaded 189 of 598\n",
      "Snoozing for 12 seconds before next link\n"
     ]
    },
    {
     "name": "stderr",
     "output_type": "stream",
     "text": [
      "ic| link: 'http://web.mta.info/developers/data/nyct/turnstile/turnstile_180303.txt'\n"
     ]
    },
    {
     "name": "stdout",
     "output_type": "stream",
     "text": [
      "Downloaded 190 of 598\n",
      "Snoozing for 14 seconds before next link\n"
     ]
    },
    {
     "name": "stderr",
     "output_type": "stream",
     "text": [
      "ic| link: 'http://web.mta.info/developers/data/nyct/turnstile/turnstile_180224.txt'\n"
     ]
    },
    {
     "name": "stdout",
     "output_type": "stream",
     "text": [
      "Downloaded 191 of 598\n",
      "Snoozing for 5 seconds before next link\n"
     ]
    },
    {
     "name": "stderr",
     "output_type": "stream",
     "text": [
      "ic| link: 'http://web.mta.info/developers/data/nyct/turnstile/turnstile_180217.txt'\n"
     ]
    },
    {
     "name": "stdout",
     "output_type": "stream",
     "text": [
      "Downloaded 192 of 598\n",
      "Snoozing for 10 seconds before next link\n"
     ]
    },
    {
     "name": "stderr",
     "output_type": "stream",
     "text": [
      "ic| link: 'http://web.mta.info/developers/data/nyct/turnstile/turnstile_180210.txt'\n"
     ]
    },
    {
     "name": "stdout",
     "output_type": "stream",
     "text": [
      "Downloaded 193 of 598\n",
      "Snoozing for 10 seconds before next link\n"
     ]
    },
    {
     "name": "stderr",
     "output_type": "stream",
     "text": [
      "ic| link: 'http://web.mta.info/developers/data/nyct/turnstile/turnstile_180203.txt'\n"
     ]
    },
    {
     "name": "stdout",
     "output_type": "stream",
     "text": [
      "Downloaded 194 of 598\n",
      "Snoozing for 8 seconds before next link\n"
     ]
    },
    {
     "name": "stderr",
     "output_type": "stream",
     "text": [
      "ic| link: 'http://web.mta.info/developers/data/nyct/turnstile/turnstile_180127.txt'\n"
     ]
    },
    {
     "name": "stdout",
     "output_type": "stream",
     "text": [
      "Downloaded 195 of 598\n",
      "Snoozing for 5 seconds before next link\n"
     ]
    },
    {
     "name": "stderr",
     "output_type": "stream",
     "text": [
      "ic| link: 'http://web.mta.info/developers/data/nyct/turnstile/turnstile_180120.txt'\n"
     ]
    },
    {
     "name": "stdout",
     "output_type": "stream",
     "text": [
      "Downloaded 196 of 598\n",
      "Snoozing for 13 seconds before next link\n"
     ]
    },
    {
     "name": "stderr",
     "output_type": "stream",
     "text": [
      "ic| link: 'http://web.mta.info/developers/data/nyct/turnstile/turnstile_180113.txt'\n"
     ]
    },
    {
     "name": "stdout",
     "output_type": "stream",
     "text": [
      "Downloaded 197 of 598\n",
      "Snoozing for 4 seconds before next link\n"
     ]
    },
    {
     "name": "stderr",
     "output_type": "stream",
     "text": [
      "ic| link: 'http://web.mta.info/developers/data/nyct/turnstile/turnstile_180106.txt'\n"
     ]
    },
    {
     "name": "stdout",
     "output_type": "stream",
     "text": [
      "Downloaded 198 of 598\n",
      "Snoozing for 4 seconds before next link\n"
     ]
    },
    {
     "name": "stderr",
     "output_type": "stream",
     "text": [
      "ic| link: 'http://web.mta.info/developers/data/nyct/turnstile/turnstile_171230.txt'\n"
     ]
    },
    {
     "name": "stdout",
     "output_type": "stream",
     "text": [
      "Downloaded 199 of 598\n",
      "Snoozing for 5 seconds before next link\n"
     ]
    },
    {
     "name": "stderr",
     "output_type": "stream",
     "text": [
      "ic| link: 'http://web.mta.info/developers/data/nyct/turnstile/turnstile_171223.txt'\n"
     ]
    },
    {
     "name": "stdout",
     "output_type": "stream",
     "text": [
      "Downloaded 200 of 598\n",
      "Snoozing for 4 seconds before next link\n"
     ]
    },
    {
     "name": "stderr",
     "output_type": "stream",
     "text": [
      "ic| link: 'http://web.mta.info/developers/data/nyct/turnstile/turnstile_171216.txt'\n"
     ]
    },
    {
     "name": "stdout",
     "output_type": "stream",
     "text": [
      "Downloaded 201 of 598\n",
      "Snoozing for 6 seconds before next link\n"
     ]
    },
    {
     "name": "stderr",
     "output_type": "stream",
     "text": [
      "ic| link: 'http://web.mta.info/developers/data/nyct/turnstile/turnstile_171209.txt'\n"
     ]
    },
    {
     "name": "stdout",
     "output_type": "stream",
     "text": [
      "Downloaded 202 of 598\n",
      "Snoozing for 12 seconds before next link\n"
     ]
    },
    {
     "name": "stderr",
     "output_type": "stream",
     "text": [
      "ic| link: 'http://web.mta.info/developers/data/nyct/turnstile/turnstile_171202.txt'\n"
     ]
    },
    {
     "name": "stdout",
     "output_type": "stream",
     "text": [
      "Downloaded 203 of 598\n",
      "Snoozing for 12 seconds before next link\n"
     ]
    },
    {
     "name": "stderr",
     "output_type": "stream",
     "text": [
      "ic| link: 'http://web.mta.info/developers/data/nyct/turnstile/turnstile_171125.txt'\n"
     ]
    },
    {
     "name": "stdout",
     "output_type": "stream",
     "text": [
      "Downloaded 204 of 598\n",
      "Snoozing for 4 seconds before next link\n"
     ]
    },
    {
     "name": "stderr",
     "output_type": "stream",
     "text": [
      "ic| link: 'http://web.mta.info/developers/data/nyct/turnstile/turnstile_171118.txt'\n"
     ]
    },
    {
     "name": "stdout",
     "output_type": "stream",
     "text": [
      "Downloaded 205 of 598\n",
      "Snoozing for 5 seconds before next link\n"
     ]
    },
    {
     "name": "stderr",
     "output_type": "stream",
     "text": [
      "ic| link: 'http://web.mta.info/developers/data/nyct/turnstile/turnstile_171111.txt'\n"
     ]
    },
    {
     "name": "stdout",
     "output_type": "stream",
     "text": [
      "Downloaded 206 of 598\n",
      "Snoozing for 2 seconds before next link\n"
     ]
    },
    {
     "name": "stderr",
     "output_type": "stream",
     "text": [
      "ic| link: 'http://web.mta.info/developers/data/nyct/turnstile/turnstile_171104.txt'\n"
     ]
    },
    {
     "name": "stdout",
     "output_type": "stream",
     "text": [
      "Downloaded 207 of 598\n",
      "Snoozing for 4 seconds before next link\n"
     ]
    },
    {
     "name": "stderr",
     "output_type": "stream",
     "text": [
      "ic| link: 'http://web.mta.info/developers/data/nyct/turnstile/turnstile_171028.txt'\n"
     ]
    },
    {
     "name": "stdout",
     "output_type": "stream",
     "text": [
      "Downloaded 208 of 598\n",
      "Snoozing for 8 seconds before next link\n"
     ]
    },
    {
     "name": "stderr",
     "output_type": "stream",
     "text": [
      "ic| link: 'http://web.mta.info/developers/data/nyct/turnstile/turnstile_171021.txt'\n"
     ]
    },
    {
     "name": "stdout",
     "output_type": "stream",
     "text": [
      "Downloaded 209 of 598\n",
      "Snoozing for 13 seconds before next link\n"
     ]
    },
    {
     "name": "stderr",
     "output_type": "stream",
     "text": [
      "ic| link: 'http://web.mta.info/developers/data/nyct/turnstile/turnstile_171014.txt'\n"
     ]
    },
    {
     "name": "stdout",
     "output_type": "stream",
     "text": [
      "Downloaded 210 of 598\n",
      "Snoozing for 7 seconds before next link\n"
     ]
    },
    {
     "name": "stderr",
     "output_type": "stream",
     "text": [
      "ic| link: 'http://web.mta.info/developers/data/nyct/turnstile/turnstile_171007.txt'\n"
     ]
    },
    {
     "name": "stdout",
     "output_type": "stream",
     "text": [
      "Downloaded 211 of 598\n",
      "Snoozing for 5 seconds before next link\n"
     ]
    },
    {
     "name": "stderr",
     "output_type": "stream",
     "text": [
      "ic| link: 'http://web.mta.info/developers/data/nyct/turnstile/turnstile_170930.txt'\n"
     ]
    },
    {
     "name": "stdout",
     "output_type": "stream",
     "text": [
      "Downloaded 212 of 598\n",
      "Snoozing for 2 seconds before next link\n"
     ]
    },
    {
     "name": "stderr",
     "output_type": "stream",
     "text": [
      "ic| link: 'http://web.mta.info/developers/data/nyct/turnstile/turnstile_170923.txt'\n"
     ]
    },
    {
     "name": "stdout",
     "output_type": "stream",
     "text": [
      "Downloaded 213 of 598\n",
      "Snoozing for 6 seconds before next link\n"
     ]
    },
    {
     "name": "stderr",
     "output_type": "stream",
     "text": [
      "ic| link: 'http://web.mta.info/developers/data/nyct/turnstile/turnstile_170916.txt'\n"
     ]
    },
    {
     "name": "stdout",
     "output_type": "stream",
     "text": [
      "Downloaded 214 of 598\n",
      "Snoozing for 10 seconds before next link\n"
     ]
    },
    {
     "name": "stderr",
     "output_type": "stream",
     "text": [
      "ic| link: 'http://web.mta.info/developers/data/nyct/turnstile/turnstile_170909.txt'\n"
     ]
    },
    {
     "name": "stdout",
     "output_type": "stream",
     "text": [
      "Downloaded 215 of 598\n",
      "Snoozing for 13 seconds before next link\n"
     ]
    },
    {
     "name": "stderr",
     "output_type": "stream",
     "text": [
      "ic| link: 'http://web.mta.info/developers/data/nyct/turnstile/turnstile_170902.txt'\n"
     ]
    },
    {
     "name": "stdout",
     "output_type": "stream",
     "text": [
      "Downloaded 216 of 598\n",
      "Snoozing for 10 seconds before next link\n"
     ]
    },
    {
     "name": "stderr",
     "output_type": "stream",
     "text": [
      "ic| link: 'http://web.mta.info/developers/data/nyct/turnstile/turnstile_170826.txt'\n"
     ]
    },
    {
     "name": "stdout",
     "output_type": "stream",
     "text": [
      "Downloaded 217 of 598\n",
      "Snoozing for 11 seconds before next link\n"
     ]
    },
    {
     "name": "stderr",
     "output_type": "stream",
     "text": [
      "ic| link: 'http://web.mta.info/developers/data/nyct/turnstile/turnstile_170819.txt'\n"
     ]
    },
    {
     "name": "stdout",
     "output_type": "stream",
     "text": [
      "Downloaded 218 of 598\n",
      "Snoozing for 11 seconds before next link\n"
     ]
    },
    {
     "name": "stderr",
     "output_type": "stream",
     "text": [
      "ic| link: 'http://web.mta.info/developers/data/nyct/turnstile/turnstile_170812.txt'\n"
     ]
    },
    {
     "name": "stdout",
     "output_type": "stream",
     "text": [
      "Downloaded 219 of 598\n",
      "Snoozing for 13 seconds before next link\n"
     ]
    },
    {
     "name": "stderr",
     "output_type": "stream",
     "text": [
      "ic| link: 'http://web.mta.info/developers/data/nyct/turnstile/turnstile_170805.txt'\n"
     ]
    },
    {
     "name": "stdout",
     "output_type": "stream",
     "text": [
      "Downloaded 220 of 598\n",
      "Snoozing for 11 seconds before next link\n"
     ]
    },
    {
     "name": "stderr",
     "output_type": "stream",
     "text": [
      "ic| link: 'http://web.mta.info/developers/data/nyct/turnstile/turnstile_170729.txt'\n"
     ]
    },
    {
     "name": "stdout",
     "output_type": "stream",
     "text": [
      "Downloaded 221 of 598\n",
      "Snoozing for 14 seconds before next link\n"
     ]
    },
    {
     "name": "stderr",
     "output_type": "stream",
     "text": [
      "ic| link: 'http://web.mta.info/developers/data/nyct/turnstile/turnstile_170722.txt'\n"
     ]
    },
    {
     "name": "stdout",
     "output_type": "stream",
     "text": [
      "Downloaded 222 of 598\n",
      "Snoozing for 13 seconds before next link\n"
     ]
    },
    {
     "name": "stderr",
     "output_type": "stream",
     "text": [
      "ic| link: 'http://web.mta.info/developers/data/nyct/turnstile/turnstile_170715.txt'\n"
     ]
    },
    {
     "name": "stdout",
     "output_type": "stream",
     "text": [
      "Downloaded 223 of 598\n",
      "Snoozing for 2 seconds before next link\n"
     ]
    },
    {
     "name": "stderr",
     "output_type": "stream",
     "text": [
      "ic| link: 'http://web.mta.info/developers/data/nyct/turnstile/turnstile_170708.txt'\n"
     ]
    },
    {
     "name": "stdout",
     "output_type": "stream",
     "text": [
      "Downloaded 224 of 598\n",
      "Snoozing for 8 seconds before next link\n"
     ]
    },
    {
     "name": "stderr",
     "output_type": "stream",
     "text": [
      "ic| link: 'http://web.mta.info/developers/data/nyct/turnstile/turnstile_170701.txt'\n"
     ]
    },
    {
     "name": "stdout",
     "output_type": "stream",
     "text": [
      "Downloaded 225 of 598\n",
      "Snoozing for 9 seconds before next link\n"
     ]
    },
    {
     "name": "stderr",
     "output_type": "stream",
     "text": [
      "ic| link: 'http://web.mta.info/developers/data/nyct/turnstile/turnstile_170624.txt'\n"
     ]
    },
    {
     "name": "stdout",
     "output_type": "stream",
     "text": [
      "Downloaded 226 of 598\n",
      "Snoozing for 4 seconds before next link\n"
     ]
    },
    {
     "name": "stderr",
     "output_type": "stream",
     "text": [
      "ic| link: 'http://web.mta.info/developers/data/nyct/turnstile/turnstile_170617.txt'\n"
     ]
    },
    {
     "name": "stdout",
     "output_type": "stream",
     "text": [
      "Downloaded 227 of 598\n",
      "Snoozing for 8 seconds before next link\n"
     ]
    },
    {
     "name": "stderr",
     "output_type": "stream",
     "text": [
      "ic| link: 'http://web.mta.info/developers/data/nyct/turnstile/turnstile_170610.txt'\n"
     ]
    },
    {
     "name": "stdout",
     "output_type": "stream",
     "text": [
      "Downloaded 228 of 598\n",
      "Snoozing for 7 seconds before next link\n"
     ]
    },
    {
     "name": "stderr",
     "output_type": "stream",
     "text": [
      "ic| link: 'http://web.mta.info/developers/data/nyct/turnstile/turnstile_170603.txt'\n"
     ]
    },
    {
     "name": "stdout",
     "output_type": "stream",
     "text": [
      "Downloaded 229 of 598\n",
      "Snoozing for 4 seconds before next link\n"
     ]
    },
    {
     "name": "stderr",
     "output_type": "stream",
     "text": [
      "ic| link: 'http://web.mta.info/developers/data/nyct/turnstile/turnstile_170527.txt'\n"
     ]
    },
    {
     "name": "stdout",
     "output_type": "stream",
     "text": [
      "Downloaded 230 of 598\n",
      "Snoozing for 5 seconds before next link\n"
     ]
    },
    {
     "name": "stderr",
     "output_type": "stream",
     "text": [
      "ic| link: 'http://web.mta.info/developers/data/nyct/turnstile/turnstile_170520.txt'\n"
     ]
    },
    {
     "name": "stdout",
     "output_type": "stream",
     "text": [
      "Downloaded 231 of 598\n",
      "Snoozing for 10 seconds before next link\n"
     ]
    },
    {
     "name": "stderr",
     "output_type": "stream",
     "text": [
      "ic| link: 'http://web.mta.info/developers/data/nyct/turnstile/turnstile_170513.txt'\n"
     ]
    },
    {
     "name": "stdout",
     "output_type": "stream",
     "text": [
      "Downloaded 232 of 598\n",
      "Snoozing for 7 seconds before next link\n"
     ]
    },
    {
     "name": "stderr",
     "output_type": "stream",
     "text": [
      "ic| link: 'http://web.mta.info/developers/data/nyct/turnstile/turnstile_170506.txt'\n"
     ]
    },
    {
     "name": "stdout",
     "output_type": "stream",
     "text": [
      "Downloaded 233 of 598\n",
      "Snoozing for 2 seconds before next link\n"
     ]
    },
    {
     "name": "stderr",
     "output_type": "stream",
     "text": [
      "ic| link: 'http://web.mta.info/developers/data/nyct/turnstile/turnstile_170429.txt'\n"
     ]
    },
    {
     "name": "stdout",
     "output_type": "stream",
     "text": [
      "Downloaded 234 of 598\n",
      "Snoozing for 7 seconds before next link\n"
     ]
    },
    {
     "name": "stderr",
     "output_type": "stream",
     "text": [
      "ic| link: 'http://web.mta.info/developers/data/nyct/turnstile/turnstile_170422.txt'\n"
     ]
    },
    {
     "name": "stdout",
     "output_type": "stream",
     "text": [
      "Downloaded 235 of 598\n",
      "Snoozing for 12 seconds before next link\n"
     ]
    },
    {
     "name": "stderr",
     "output_type": "stream",
     "text": [
      "ic| link: 'http://web.mta.info/developers/data/nyct/turnstile/turnstile_170415.txt'\n"
     ]
    },
    {
     "name": "stdout",
     "output_type": "stream",
     "text": [
      "Downloaded 236 of 598\n",
      "Snoozing for 2 seconds before next link\n"
     ]
    },
    {
     "name": "stderr",
     "output_type": "stream",
     "text": [
      "ic| link: 'http://web.mta.info/developers/data/nyct/turnstile/turnstile_170408.txt'\n"
     ]
    },
    {
     "name": "stdout",
     "output_type": "stream",
     "text": [
      "Downloaded 237 of 598\n",
      "Snoozing for 11 seconds before next link\n"
     ]
    },
    {
     "name": "stderr",
     "output_type": "stream",
     "text": [
      "ic| link: 'http://web.mta.info/developers/data/nyct/turnstile/turnstile_170401.txt'\n"
     ]
    },
    {
     "name": "stdout",
     "output_type": "stream",
     "text": [
      "Downloaded 238 of 598\n",
      "Snoozing for 2 seconds before next link\n"
     ]
    },
    {
     "name": "stderr",
     "output_type": "stream",
     "text": [
      "ic| link: 'http://web.mta.info/developers/data/nyct/turnstile/turnstile_170325.txt'\n"
     ]
    },
    {
     "name": "stdout",
     "output_type": "stream",
     "text": [
      "Downloaded 239 of 598\n",
      "Snoozing for 7 seconds before next link\n"
     ]
    },
    {
     "name": "stderr",
     "output_type": "stream",
     "text": [
      "ic| link: 'http://web.mta.info/developers/data/nyct/turnstile/turnstile_170318.txt'\n"
     ]
    },
    {
     "name": "stdout",
     "output_type": "stream",
     "text": [
      "Downloaded 240 of 598\n",
      "Snoozing for 12 seconds before next link\n"
     ]
    },
    {
     "name": "stderr",
     "output_type": "stream",
     "text": [
      "ic| link: 'http://web.mta.info/developers/data/nyct/turnstile/turnstile_170311.txt'\n"
     ]
    },
    {
     "name": "stdout",
     "output_type": "stream",
     "text": [
      "Downloaded 241 of 598\n",
      "Snoozing for 10 seconds before next link\n"
     ]
    },
    {
     "name": "stderr",
     "output_type": "stream",
     "text": [
      "ic| link: 'http://web.mta.info/developers/data/nyct/turnstile/turnstile_170304.txt'\n"
     ]
    },
    {
     "name": "stdout",
     "output_type": "stream",
     "text": [
      "Downloaded 242 of 598\n",
      "Snoozing for 13 seconds before next link\n"
     ]
    },
    {
     "name": "stderr",
     "output_type": "stream",
     "text": [
      "ic| link: 'http://web.mta.info/developers/data/nyct/turnstile/turnstile_170225.txt'\n"
     ]
    },
    {
     "name": "stdout",
     "output_type": "stream",
     "text": [
      "Downloaded 243 of 598\n",
      "Snoozing for 13 seconds before next link\n"
     ]
    },
    {
     "name": "stderr",
     "output_type": "stream",
     "text": [
      "ic| link: 'http://web.mta.info/developers/data/nyct/turnstile/turnstile_170218.txt'\n"
     ]
    },
    {
     "name": "stdout",
     "output_type": "stream",
     "text": [
      "Downloaded 244 of 598\n",
      "Snoozing for 8 seconds before next link\n"
     ]
    },
    {
     "name": "stderr",
     "output_type": "stream",
     "text": [
      "ic| link: 'http://web.mta.info/developers/data/nyct/turnstile/turnstile_170211.txt'\n"
     ]
    },
    {
     "name": "stdout",
     "output_type": "stream",
     "text": [
      "Downloaded 245 of 598\n",
      "Snoozing for 11 seconds before next link\n"
     ]
    },
    {
     "name": "stderr",
     "output_type": "stream",
     "text": [
      "ic| link: 'http://web.mta.info/developers/data/nyct/turnstile/turnstile_170204.txt'\n"
     ]
    },
    {
     "name": "stdout",
     "output_type": "stream",
     "text": [
      "Downloaded 246 of 598\n",
      "Snoozing for 14 seconds before next link\n"
     ]
    },
    {
     "name": "stderr",
     "output_type": "stream",
     "text": [
      "ic| link: 'http://web.mta.info/developers/data/nyct/turnstile/turnstile_170128.txt'\n"
     ]
    },
    {
     "name": "stdout",
     "output_type": "stream",
     "text": [
      "Downloaded 247 of 598\n",
      "Snoozing for 3 seconds before next link\n"
     ]
    },
    {
     "name": "stderr",
     "output_type": "stream",
     "text": [
      "ic| link: 'http://web.mta.info/developers/data/nyct/turnstile/turnstile_170121.txt'\n"
     ]
    },
    {
     "name": "stdout",
     "output_type": "stream",
     "text": [
      "Downloaded 248 of 598\n",
      "Snoozing for 10 seconds before next link\n"
     ]
    },
    {
     "name": "stderr",
     "output_type": "stream",
     "text": [
      "ic| link: 'http://web.mta.info/developers/data/nyct/turnstile/turnstile_170114.txt'\n"
     ]
    },
    {
     "name": "stdout",
     "output_type": "stream",
     "text": [
      "Downloaded 249 of 598\n",
      "Snoozing for 3 seconds before next link\n"
     ]
    },
    {
     "name": "stderr",
     "output_type": "stream",
     "text": [
      "ic| link: 'http://web.mta.info/developers/data/nyct/turnstile/turnstile_170107.txt'\n"
     ]
    },
    {
     "name": "stdout",
     "output_type": "stream",
     "text": [
      "Downloaded 250 of 598\n",
      "Snoozing for 2 seconds before next link\n"
     ]
    },
    {
     "name": "stderr",
     "output_type": "stream",
     "text": [
      "ic| link: 'http://web.mta.info/developers/data/nyct/turnstile/turnstile_161231.txt'\n"
     ]
    },
    {
     "name": "stdout",
     "output_type": "stream",
     "text": [
      "Downloaded 251 of 598\n",
      "Snoozing for 11 seconds before next link\n"
     ]
    },
    {
     "name": "stderr",
     "output_type": "stream",
     "text": [
      "ic| link: 'http://web.mta.info/developers/data/nyct/turnstile/turnstile_161224.txt'\n"
     ]
    },
    {
     "name": "stdout",
     "output_type": "stream",
     "text": [
      "Downloaded 252 of 598\n",
      "Snoozing for 9 seconds before next link\n"
     ]
    },
    {
     "name": "stderr",
     "output_type": "stream",
     "text": [
      "ic| link: 'http://web.mta.info/developers/data/nyct/turnstile/turnstile_161217.txt'\n"
     ]
    },
    {
     "name": "stdout",
     "output_type": "stream",
     "text": [
      "Downloaded 253 of 598\n",
      "Snoozing for 4 seconds before next link\n"
     ]
    },
    {
     "name": "stderr",
     "output_type": "stream",
     "text": [
      "ic| link: 'http://web.mta.info/developers/data/nyct/turnstile/turnstile_161210.txt'\n"
     ]
    },
    {
     "name": "stdout",
     "output_type": "stream",
     "text": [
      "Downloaded 254 of 598\n",
      "Snoozing for 10 seconds before next link\n"
     ]
    },
    {
     "name": "stderr",
     "output_type": "stream",
     "text": [
      "ic| link: 'http://web.mta.info/developers/data/nyct/turnstile/turnstile_161203.txt'\n"
     ]
    },
    {
     "name": "stdout",
     "output_type": "stream",
     "text": [
      "Downloaded 255 of 598\n",
      "Snoozing for 9 seconds before next link\n"
     ]
    },
    {
     "name": "stderr",
     "output_type": "stream",
     "text": [
      "ic| link: 'http://web.mta.info/developers/data/nyct/turnstile/turnstile_161126.txt'\n"
     ]
    },
    {
     "name": "stdout",
     "output_type": "stream",
     "text": [
      "Downloaded 256 of 598\n",
      "Snoozing for 8 seconds before next link\n"
     ]
    },
    {
     "name": "stderr",
     "output_type": "stream",
     "text": [
      "ic| link: 'http://web.mta.info/developers/data/nyct/turnstile/turnstile_161119.txt'\n"
     ]
    },
    {
     "name": "stdout",
     "output_type": "stream",
     "text": [
      "Downloaded 257 of 598\n",
      "Snoozing for 9 seconds before next link\n"
     ]
    },
    {
     "name": "stderr",
     "output_type": "stream",
     "text": [
      "ic| link: 'http://web.mta.info/developers/data/nyct/turnstile/turnstile_161112.txt'\n"
     ]
    },
    {
     "name": "stdout",
     "output_type": "stream",
     "text": [
      "Downloaded 258 of 598\n",
      "Snoozing for 2 seconds before next link\n"
     ]
    },
    {
     "name": "stderr",
     "output_type": "stream",
     "text": [
      "ic| link: 'http://web.mta.info/developers/data/nyct/turnstile/turnstile_161105.txt'\n"
     ]
    },
    {
     "name": "stdout",
     "output_type": "stream",
     "text": [
      "Downloaded 259 of 598\n",
      "Snoozing for 8 seconds before next link\n"
     ]
    },
    {
     "name": "stderr",
     "output_type": "stream",
     "text": [
      "ic| link: 'http://web.mta.info/developers/data/nyct/turnstile/turnstile_161029.txt'\n"
     ]
    },
    {
     "name": "stdout",
     "output_type": "stream",
     "text": [
      "Downloaded 260 of 598\n",
      "Snoozing for 14 seconds before next link\n"
     ]
    },
    {
     "name": "stderr",
     "output_type": "stream",
     "text": [
      "ic| link: 'http://web.mta.info/developers/data/nyct/turnstile/turnstile_161022.txt'\n"
     ]
    },
    {
     "name": "stdout",
     "output_type": "stream",
     "text": [
      "Downloaded 261 of 598\n",
      "Snoozing for 3 seconds before next link\n"
     ]
    },
    {
     "name": "stderr",
     "output_type": "stream",
     "text": [
      "ic| link: 'http://web.mta.info/developers/data/nyct/turnstile/turnstile_161015.txt'\n"
     ]
    },
    {
     "name": "stdout",
     "output_type": "stream",
     "text": [
      "Downloaded 262 of 598\n",
      "Snoozing for 9 seconds before next link\n"
     ]
    },
    {
     "name": "stderr",
     "output_type": "stream",
     "text": [
      "ic| link: 'http://web.mta.info/developers/data/nyct/turnstile/turnstile_161008.txt'\n"
     ]
    },
    {
     "name": "stdout",
     "output_type": "stream",
     "text": [
      "Downloaded 263 of 598\n",
      "Snoozing for 6 seconds before next link\n"
     ]
    },
    {
     "name": "stderr",
     "output_type": "stream",
     "text": [
      "ic| link: 'http://web.mta.info/developers/data/nyct/turnstile/turnstile_161001.txt'\n"
     ]
    },
    {
     "name": "stdout",
     "output_type": "stream",
     "text": [
      "Downloaded 264 of 598\n",
      "Snoozing for 2 seconds before next link\n"
     ]
    },
    {
     "name": "stderr",
     "output_type": "stream",
     "text": [
      "ic| link: 'http://web.mta.info/developers/data/nyct/turnstile/turnstile_160924.txt'\n"
     ]
    },
    {
     "name": "stdout",
     "output_type": "stream",
     "text": [
      "Downloaded 265 of 598\n",
      "Snoozing for 11 seconds before next link\n"
     ]
    },
    {
     "name": "stderr",
     "output_type": "stream",
     "text": [
      "ic| link: 'http://web.mta.info/developers/data/nyct/turnstile/turnstile_160917.txt'\n"
     ]
    },
    {
     "name": "stdout",
     "output_type": "stream",
     "text": [
      "Downloaded 266 of 598\n",
      "Snoozing for 8 seconds before next link\n"
     ]
    },
    {
     "name": "stderr",
     "output_type": "stream",
     "text": [
      "ic| link: 'http://web.mta.info/developers/data/nyct/turnstile/turnstile_160910.txt'\n"
     ]
    },
    {
     "name": "stdout",
     "output_type": "stream",
     "text": [
      "Downloaded 267 of 598\n",
      "Snoozing for 11 seconds before next link\n",
      "Downloaded 268 of 598\n",
      "Snoozing for 8 seconds before next link\n"
     ]
    },
    {
     "name": "stderr",
     "output_type": "stream",
     "text": [
      "ic| link: 'http://web.mta.info/developers/data/nyct/turnstile/turnstile_160827.txt'\n"
     ]
    },
    {
     "name": "stdout",
     "output_type": "stream",
     "text": [
      "Downloaded 269 of 598\n",
      "Snoozing for 10 seconds before next link\n"
     ]
    },
    {
     "name": "stderr",
     "output_type": "stream",
     "text": [
      "ic| link: 'http://web.mta.info/developers/data/nyct/turnstile/turnstile_160820.txt'\n"
     ]
    },
    {
     "name": "stdout",
     "output_type": "stream",
     "text": [
      "Downloaded 270 of 598\n",
      "Snoozing for 6 seconds before next link\n"
     ]
    },
    {
     "name": "stderr",
     "output_type": "stream",
     "text": [
      "ic| link: 'http://web.mta.info/developers/data/nyct/turnstile/turnstile_160813.txt'\n"
     ]
    },
    {
     "name": "stdout",
     "output_type": "stream",
     "text": [
      "Downloaded 271 of 598\n",
      "Snoozing for 4 seconds before next link\n"
     ]
    },
    {
     "name": "stderr",
     "output_type": "stream",
     "text": [
      "ic| link: 'http://web.mta.info/developers/data/nyct/turnstile/turnstile_160806.txt'\n"
     ]
    },
    {
     "name": "stdout",
     "output_type": "stream",
     "text": [
      "Downloaded 272 of 598\n",
      "Snoozing for 13 seconds before next link\n"
     ]
    },
    {
     "name": "stderr",
     "output_type": "stream",
     "text": [
      "ic| link: 'http://web.mta.info/developers/data/nyct/turnstile/turnstile_160730.txt'\n"
     ]
    },
    {
     "name": "stdout",
     "output_type": "stream",
     "text": [
      "Downloaded 273 of 598\n",
      "Snoozing for 6 seconds before next link\n"
     ]
    },
    {
     "name": "stderr",
     "output_type": "stream",
     "text": [
      "ic| link: 'http://web.mta.info/developers/data/nyct/turnstile/turnstile_160723.txt'\n"
     ]
    },
    {
     "name": "stdout",
     "output_type": "stream",
     "text": [
      "Downloaded 274 of 598\n",
      "Snoozing for 12 seconds before next link\n"
     ]
    },
    {
     "name": "stderr",
     "output_type": "stream",
     "text": [
      "ic| link: 'http://web.mta.info/developers/data/nyct/turnstile/turnstile_160716.txt'\n"
     ]
    },
    {
     "name": "stdout",
     "output_type": "stream",
     "text": [
      "Downloaded 275 of 598\n",
      "Snoozing for 3 seconds before next link\n"
     ]
    },
    {
     "name": "stderr",
     "output_type": "stream",
     "text": [
      "ic| link: 'http://web.mta.info/developers/data/nyct/turnstile/turnstile_160709.txt'\n"
     ]
    },
    {
     "name": "stdout",
     "output_type": "stream",
     "text": [
      "Downloaded 276 of 598\n",
      "Snoozing for 4 seconds before next link\n"
     ]
    },
    {
     "name": "stderr",
     "output_type": "stream",
     "text": [
      "ic| link: 'http://web.mta.info/developers/data/nyct/turnstile/turnstile_160702.txt'\n"
     ]
    },
    {
     "name": "stdout",
     "output_type": "stream",
     "text": [
      "Downloaded 277 of 598\n",
      "Snoozing for 12 seconds before next link\n"
     ]
    },
    {
     "name": "stderr",
     "output_type": "stream",
     "text": [
      "ic| link: 'http://web.mta.info/developers/data/nyct/turnstile/turnstile_160625.txt'\n"
     ]
    },
    {
     "name": "stdout",
     "output_type": "stream",
     "text": [
      "Downloaded 278 of 598\n",
      "Snoozing for 7 seconds before next link\n"
     ]
    },
    {
     "name": "stderr",
     "output_type": "stream",
     "text": [
      "ic| link: 'http://web.mta.info/developers/data/nyct/turnstile/turnstile_160618.txt'\n"
     ]
    },
    {
     "name": "stdout",
     "output_type": "stream",
     "text": [
      "Downloaded 279 of 598\n",
      "Snoozing for 10 seconds before next link\n"
     ]
    },
    {
     "name": "stderr",
     "output_type": "stream",
     "text": [
      "ic| link: 'http://web.mta.info/developers/data/nyct/turnstile/turnstile_160611.txt'\n"
     ]
    },
    {
     "name": "stdout",
     "output_type": "stream",
     "text": [
      "Downloaded 280 of 598\n",
      "Snoozing for 7 seconds before next link\n"
     ]
    },
    {
     "name": "stderr",
     "output_type": "stream",
     "text": [
      "ic| link: 'http://web.mta.info/developers/data/nyct/turnstile/turnstile_160604.txt'\n"
     ]
    },
    {
     "name": "stdout",
     "output_type": "stream",
     "text": [
      "Downloaded 281 of 598\n",
      "Snoozing for 14 seconds before next link\n"
     ]
    },
    {
     "name": "stderr",
     "output_type": "stream",
     "text": [
      "ic| link: 'http://web.mta.info/developers/data/nyct/turnstile/turnstile_160528.txt'\n"
     ]
    },
    {
     "name": "stdout",
     "output_type": "stream",
     "text": [
      "Downloaded 282 of 598\n",
      "Snoozing for 3 seconds before next link\n"
     ]
    },
    {
     "name": "stderr",
     "output_type": "stream",
     "text": [
      "ic| link: 'http://web.mta.info/developers/data/nyct/turnstile/turnstile_160521.txt'\n"
     ]
    },
    {
     "name": "stdout",
     "output_type": "stream",
     "text": [
      "Downloaded 283 of 598\n",
      "Snoozing for 9 seconds before next link\n"
     ]
    },
    {
     "name": "stderr",
     "output_type": "stream",
     "text": [
      "ic| link: 'http://web.mta.info/developers/data/nyct/turnstile/turnstile_160514.txt'\n"
     ]
    },
    {
     "name": "stdout",
     "output_type": "stream",
     "text": [
      "Downloaded 284 of 598\n",
      "Snoozing for 6 seconds before next link\n"
     ]
    },
    {
     "name": "stderr",
     "output_type": "stream",
     "text": [
      "ic| link: 'http://web.mta.info/developers/data/nyct/turnstile/turnstile_160507.txt'\n"
     ]
    },
    {
     "name": "stdout",
     "output_type": "stream",
     "text": [
      "Downloaded 285 of 598\n",
      "Snoozing for 11 seconds before next link\n"
     ]
    },
    {
     "name": "stderr",
     "output_type": "stream",
     "text": [
      "ic| link: 'http://web.mta.info/developers/data/nyct/turnstile/turnstile_160430.txt'\n"
     ]
    },
    {
     "name": "stdout",
     "output_type": "stream",
     "text": [
      "Downloaded 286 of 598\n",
      "Snoozing for 5 seconds before next link\n"
     ]
    },
    {
     "name": "stderr",
     "output_type": "stream",
     "text": [
      "ic| link: 'http://web.mta.info/developers/data/nyct/turnstile/turnstile_160423.txt'\n"
     ]
    },
    {
     "name": "stdout",
     "output_type": "stream",
     "text": [
      "Downloaded 287 of 598\n",
      "Snoozing for 5 seconds before next link\n"
     ]
    },
    {
     "name": "stderr",
     "output_type": "stream",
     "text": [
      "ic| link: 'http://web.mta.info/developers/data/nyct/turnstile/turnstile_160416.txt'\n"
     ]
    },
    {
     "name": "stdout",
     "output_type": "stream",
     "text": [
      "Downloaded 288 of 598\n",
      "Snoozing for 9 seconds before next link\n"
     ]
    },
    {
     "name": "stderr",
     "output_type": "stream",
     "text": [
      "ic| link: 'http://web.mta.info/developers/data/nyct/turnstile/turnstile_160409.txt'\n"
     ]
    },
    {
     "name": "stdout",
     "output_type": "stream",
     "text": [
      "Downloaded 289 of 598\n",
      "Snoozing for 6 seconds before next link\n"
     ]
    },
    {
     "name": "stderr",
     "output_type": "stream",
     "text": [
      "ic| link: 'http://web.mta.info/developers/data/nyct/turnstile/turnstile_160402.txt'\n"
     ]
    },
    {
     "name": "stdout",
     "output_type": "stream",
     "text": [
      "Downloaded 290 of 598\n",
      "Snoozing for 7 seconds before next link\n"
     ]
    },
    {
     "name": "stderr",
     "output_type": "stream",
     "text": [
      "ic| link: 'http://web.mta.info/developers/data/nyct/turnstile/turnstile_160326.txt'\n"
     ]
    },
    {
     "name": "stdout",
     "output_type": "stream",
     "text": [
      "Downloaded 291 of 598\n",
      "Snoozing for 4 seconds before next link\n"
     ]
    },
    {
     "name": "stderr",
     "output_type": "stream",
     "text": [
      "ic| link: 'http://web.mta.info/developers/data/nyct/turnstile/turnstile_160319.txt'\n"
     ]
    },
    {
     "name": "stdout",
     "output_type": "stream",
     "text": [
      "Downloaded 292 of 598\n",
      "Snoozing for 8 seconds before next link\n"
     ]
    },
    {
     "name": "stderr",
     "output_type": "stream",
     "text": [
      "ic| link: 'http://web.mta.info/developers/data/nyct/turnstile/turnstile_160312.txt'\n"
     ]
    },
    {
     "name": "stdout",
     "output_type": "stream",
     "text": [
      "Downloaded 293 of 598\n",
      "Snoozing for 8 seconds before next link\n"
     ]
    },
    {
     "name": "stderr",
     "output_type": "stream",
     "text": [
      "ic| link: 'http://web.mta.info/developers/data/nyct/turnstile/turnstile_160305.txt'\n"
     ]
    },
    {
     "name": "stdout",
     "output_type": "stream",
     "text": [
      "Downloaded 294 of 598\n",
      "Snoozing for 9 seconds before next link\n"
     ]
    },
    {
     "name": "stderr",
     "output_type": "stream",
     "text": [
      "ic| link: 'http://web.mta.info/developers/data/nyct/turnstile/turnstile_160227.txt'\n"
     ]
    },
    {
     "name": "stdout",
     "output_type": "stream",
     "text": [
      "Downloaded 295 of 598\n",
      "Snoozing for 4 seconds before next link\n"
     ]
    },
    {
     "name": "stderr",
     "output_type": "stream",
     "text": [
      "ic| link: 'http://web.mta.info/developers/data/nyct/turnstile/turnstile_160220.txt'\n"
     ]
    },
    {
     "name": "stdout",
     "output_type": "stream",
     "text": [
      "Downloaded 296 of 598\n",
      "Snoozing for 9 seconds before next link\n"
     ]
    },
    {
     "name": "stderr",
     "output_type": "stream",
     "text": [
      "ic| link: 'http://web.mta.info/developers/data/nyct/turnstile/turnstile_160213.txt'\n"
     ]
    },
    {
     "name": "stdout",
     "output_type": "stream",
     "text": [
      "Downloaded 297 of 598\n",
      "Snoozing for 5 seconds before next link\n"
     ]
    },
    {
     "name": "stderr",
     "output_type": "stream",
     "text": [
      "ic| link: 'http://web.mta.info/developers/data/nyct/turnstile/turnstile_160206.txt'\n"
     ]
    },
    {
     "name": "stdout",
     "output_type": "stream",
     "text": [
      "Downloaded 298 of 598\n",
      "Snoozing for 10 seconds before next link\n"
     ]
    },
    {
     "name": "stderr",
     "output_type": "stream",
     "text": [
      "ic| link: 'http://web.mta.info/developers/data/nyct/turnstile/turnstile_160130.txt'\n"
     ]
    },
    {
     "name": "stdout",
     "output_type": "stream",
     "text": [
      "Downloaded 299 of 598\n",
      "Snoozing for 2 seconds before next link\n"
     ]
    },
    {
     "name": "stderr",
     "output_type": "stream",
     "text": [
      "ic| link: 'http://web.mta.info/developers/data/nyct/turnstile/turnstile_160123.txt'\n"
     ]
    },
    {
     "name": "stdout",
     "output_type": "stream",
     "text": [
      "Downloaded 300 of 598\n",
      "Snoozing for 5 seconds before next link\n"
     ]
    },
    {
     "name": "stderr",
     "output_type": "stream",
     "text": [
      "ic| link: 'http://web.mta.info/developers/data/nyct/turnstile/turnstile_160116.txt'\n"
     ]
    },
    {
     "name": "stdout",
     "output_type": "stream",
     "text": [
      "Downloaded 301 of 598\n",
      "Snoozing for 10 seconds before next link\n"
     ]
    },
    {
     "name": "stderr",
     "output_type": "stream",
     "text": [
      "ic| link: 'http://web.mta.info/developers/data/nyct/turnstile/turnstile_160109.txt'\n"
     ]
    },
    {
     "name": "stdout",
     "output_type": "stream",
     "text": [
      "Downloaded 302 of 598\n",
      "Snoozing for 5 seconds before next link\n"
     ]
    },
    {
     "name": "stderr",
     "output_type": "stream",
     "text": [
      "ic| link: 'http://web.mta.info/developers/data/nyct/turnstile/turnstile_160102.txt'\n"
     ]
    },
    {
     "name": "stdout",
     "output_type": "stream",
     "text": [
      "Downloaded 303 of 598\n",
      "Snoozing for 9 seconds before next link\n"
     ]
    },
    {
     "name": "stderr",
     "output_type": "stream",
     "text": [
      "ic| link: 'http://web.mta.info/developers/data/nyct/turnstile/turnstile_151226.txt'\n"
     ]
    },
    {
     "name": "stdout",
     "output_type": "stream",
     "text": [
      "Downloaded 304 of 598\n",
      "Snoozing for 8 seconds before next link\n"
     ]
    },
    {
     "name": "stderr",
     "output_type": "stream",
     "text": [
      "ic| link: 'http://web.mta.info/developers/data/nyct/turnstile/turnstile_151219.txt'\n"
     ]
    },
    {
     "name": "stdout",
     "output_type": "stream",
     "text": [
      "Downloaded 305 of 598\n",
      "Snoozing for 3 seconds before next link\n"
     ]
    },
    {
     "name": "stderr",
     "output_type": "stream",
     "text": [
      "ic| link: 'http://web.mta.info/developers/data/nyct/turnstile/turnstile_151212.txt'\n"
     ]
    },
    {
     "name": "stdout",
     "output_type": "stream",
     "text": [
      "Downloaded 306 of 598\n",
      "Snoozing for 4 seconds before next link\n"
     ]
    },
    {
     "name": "stderr",
     "output_type": "stream",
     "text": [
      "ic| link: 'http://web.mta.info/developers/data/nyct/turnstile/turnstile_151205.txt'\n"
     ]
    },
    {
     "name": "stdout",
     "output_type": "stream",
     "text": [
      "Downloaded 307 of 598\n",
      "Snoozing for 7 seconds before next link\n"
     ]
    },
    {
     "name": "stderr",
     "output_type": "stream",
     "text": [
      "ic| link: 'http://web.mta.info/developers/data/nyct/turnstile/turnstile_151128.txt'\n"
     ]
    },
    {
     "name": "stdout",
     "output_type": "stream",
     "text": [
      "Downloaded 308 of 598\n",
      "Snoozing for 4 seconds before next link\n"
     ]
    },
    {
     "name": "stderr",
     "output_type": "stream",
     "text": [
      "ic| link: 'http://web.mta.info/developers/data/nyct/turnstile/turnstile_151121.txt'\n"
     ]
    },
    {
     "name": "stdout",
     "output_type": "stream",
     "text": [
      "Downloaded 309 of 598\n",
      "Snoozing for 7 seconds before next link\n"
     ]
    },
    {
     "name": "stderr",
     "output_type": "stream",
     "text": [
      "ic| link: 'http://web.mta.info/developers/data/nyct/turnstile/turnstile_151114.txt'\n"
     ]
    },
    {
     "name": "stdout",
     "output_type": "stream",
     "text": [
      "Downloaded 310 of 598\n",
      "Snoozing for 11 seconds before next link\n"
     ]
    },
    {
     "name": "stderr",
     "output_type": "stream",
     "text": [
      "ic| link: 'http://web.mta.info/developers/data/nyct/turnstile/turnstile_151107.txt'\n"
     ]
    },
    {
     "name": "stdout",
     "output_type": "stream",
     "text": [
      "Downloaded 311 of 598\n",
      "Snoozing for 12 seconds before next link\n"
     ]
    },
    {
     "name": "stderr",
     "output_type": "stream",
     "text": [
      "ic| link: 'http://web.mta.info/developers/data/nyct/turnstile/turnstile_151031.txt'\n"
     ]
    },
    {
     "name": "stdout",
     "output_type": "stream",
     "text": [
      "Downloaded 312 of 598\n",
      "Snoozing for 7 seconds before next link\n"
     ]
    },
    {
     "name": "stderr",
     "output_type": "stream",
     "text": [
      "ic| link: 'http://web.mta.info/developers/data/nyct/turnstile/turnstile_151024.txt'\n"
     ]
    },
    {
     "name": "stdout",
     "output_type": "stream",
     "text": [
      "Downloaded 313 of 598\n",
      "Snoozing for 13 seconds before next link\n"
     ]
    },
    {
     "name": "stderr",
     "output_type": "stream",
     "text": [
      "ic| link: 'http://web.mta.info/developers/data/nyct/turnstile/turnstile_151017.txt'\n"
     ]
    },
    {
     "name": "stdout",
     "output_type": "stream",
     "text": [
      "Downloaded 314 of 598\n",
      "Snoozing for 5 seconds before next link\n"
     ]
    },
    {
     "name": "stderr",
     "output_type": "stream",
     "text": [
      "ic| link: 'http://web.mta.info/developers/data/nyct/turnstile/turnstile_151010.txt'\n"
     ]
    },
    {
     "name": "stdout",
     "output_type": "stream",
     "text": [
      "Downloaded 315 of 598\n",
      "Snoozing for 11 seconds before next link\n"
     ]
    },
    {
     "name": "stderr",
     "output_type": "stream",
     "text": [
      "ic| link: 'http://web.mta.info/developers/data/nyct/turnstile/turnstile_151003.txt'\n"
     ]
    },
    {
     "name": "stdout",
     "output_type": "stream",
     "text": [
      "Downloaded 316 of 598\n",
      "Snoozing for 9 seconds before next link\n"
     ]
    },
    {
     "name": "stderr",
     "output_type": "stream",
     "text": [
      "ic| link: 'http://web.mta.info/developers/data/nyct/turnstile/turnstile_150926.txt'\n"
     ]
    },
    {
     "name": "stdout",
     "output_type": "stream",
     "text": [
      "Downloaded 317 of 598\n",
      "Snoozing for 3 seconds before next link\n"
     ]
    },
    {
     "name": "stderr",
     "output_type": "stream",
     "text": [
      "ic| link: 'http://web.mta.info/developers/data/nyct/turnstile/turnstile_150919.txt'\n"
     ]
    },
    {
     "name": "stdout",
     "output_type": "stream",
     "text": [
      "Downloaded 318 of 598\n",
      "Snoozing for 12 seconds before next link\n"
     ]
    },
    {
     "name": "stderr",
     "output_type": "stream",
     "text": [
      "ic| link: 'http://web.mta.info/developers/data/nyct/turnstile/turnstile_150912.txt'\n"
     ]
    },
    {
     "name": "stdout",
     "output_type": "stream",
     "text": [
      "Downloaded 319 of 598\n",
      "Snoozing for 2 seconds before next link\n"
     ]
    },
    {
     "name": "stderr",
     "output_type": "stream",
     "text": [
      "ic| link: 'http://web.mta.info/developers/data/nyct/turnstile/turnstile_150905.txt'\n"
     ]
    },
    {
     "name": "stdout",
     "output_type": "stream",
     "text": [
      "Downloaded 320 of 598\n",
      "Snoozing for 10 seconds before next link\n"
     ]
    },
    {
     "name": "stderr",
     "output_type": "stream",
     "text": [
      "ic| link: 'http://web.mta.info/developers/data/nyct/turnstile/turnstile_150829.txt'\n"
     ]
    },
    {
     "name": "stdout",
     "output_type": "stream",
     "text": [
      "Downloaded 321 of 598\n",
      "Snoozing for 7 seconds before next link\n"
     ]
    },
    {
     "name": "stderr",
     "output_type": "stream",
     "text": [
      "ic| link: 'http://web.mta.info/developers/data/nyct/turnstile/turnstile_150822.txt'\n"
     ]
    },
    {
     "name": "stdout",
     "output_type": "stream",
     "text": [
      "Downloaded 322 of 598\n",
      "Snoozing for 3 seconds before next link\n"
     ]
    },
    {
     "name": "stderr",
     "output_type": "stream",
     "text": [
      "ic| link: 'http://web.mta.info/developers/data/nyct/turnstile/turnstile_150815.txt'\n"
     ]
    },
    {
     "name": "stdout",
     "output_type": "stream",
     "text": [
      "Downloaded 323 of 598\n",
      "Snoozing for 8 seconds before next link\n"
     ]
    },
    {
     "name": "stderr",
     "output_type": "stream",
     "text": [
      "ic| link: 'http://web.mta.info/developers/data/nyct/turnstile/turnstile_150808.txt'\n"
     ]
    },
    {
     "name": "stdout",
     "output_type": "stream",
     "text": [
      "Downloaded 324 of 598\n",
      "Snoozing for 4 seconds before next link\n"
     ]
    },
    {
     "name": "stderr",
     "output_type": "stream",
     "text": [
      "ic| link: 'http://web.mta.info/developers/data/nyct/turnstile/turnstile_150801.txt'\n"
     ]
    },
    {
     "name": "stdout",
     "output_type": "stream",
     "text": [
      "Downloaded 325 of 598\n",
      "Snoozing for 5 seconds before next link\n"
     ]
    },
    {
     "name": "stderr",
     "output_type": "stream",
     "text": [
      "ic| link: 'http://web.mta.info/developers/data/nyct/turnstile/turnstile_150725.txt'\n"
     ]
    },
    {
     "name": "stdout",
     "output_type": "stream",
     "text": [
      "Downloaded 326 of 598\n",
      "Snoozing for 3 seconds before next link\n"
     ]
    },
    {
     "name": "stderr",
     "output_type": "stream",
     "text": [
      "ic| link: 'http://web.mta.info/developers/data/nyct/turnstile/turnstile_150718.txt'\n"
     ]
    },
    {
     "name": "stdout",
     "output_type": "stream",
     "text": [
      "Downloaded 327 of 598\n",
      "Snoozing for 7 seconds before next link\n"
     ]
    },
    {
     "name": "stderr",
     "output_type": "stream",
     "text": [
      "ic| link: 'http://web.mta.info/developers/data/nyct/turnstile/turnstile_150711.txt'\n"
     ]
    },
    {
     "name": "stdout",
     "output_type": "stream",
     "text": [
      "Downloaded 328 of 598\n",
      "Snoozing for 3 seconds before next link\n"
     ]
    },
    {
     "name": "stderr",
     "output_type": "stream",
     "text": [
      "ic| link: 'http://web.mta.info/developers/data/nyct/turnstile/turnstile_150704.txt'\n"
     ]
    },
    {
     "name": "stdout",
     "output_type": "stream",
     "text": [
      "Downloaded 329 of 598\n",
      "Snoozing for 8 seconds before next link\n"
     ]
    },
    {
     "name": "stderr",
     "output_type": "stream",
     "text": [
      "ic| link: 'http://web.mta.info/developers/data/nyct/turnstile/turnstile_150627.txt'\n"
     ]
    },
    {
     "name": "stdout",
     "output_type": "stream",
     "text": [
      "Downloaded 330 of 598\n",
      "Snoozing for 10 seconds before next link\n"
     ]
    },
    {
     "name": "stderr",
     "output_type": "stream",
     "text": [
      "ic| link: 'http://web.mta.info/developers/data/nyct/turnstile/turnstile_150620.txt'\n"
     ]
    },
    {
     "name": "stdout",
     "output_type": "stream",
     "text": [
      "Downloaded 331 of 598\n",
      "Snoozing for 2 seconds before next link\n"
     ]
    },
    {
     "name": "stderr",
     "output_type": "stream",
     "text": [
      "ic| link: 'http://web.mta.info/developers/data/nyct/turnstile/turnstile_150613.txt'\n"
     ]
    },
    {
     "name": "stdout",
     "output_type": "stream",
     "text": [
      "Downloaded 332 of 598\n",
      "Snoozing for 13 seconds before next link\n"
     ]
    },
    {
     "name": "stderr",
     "output_type": "stream",
     "text": [
      "ic| link: 'http://web.mta.info/developers/data/nyct/turnstile/turnstile_150606.txt'\n"
     ]
    },
    {
     "name": "stdout",
     "output_type": "stream",
     "text": [
      "Downloaded 333 of 598\n",
      "Snoozing for 14 seconds before next link\n"
     ]
    },
    {
     "name": "stderr",
     "output_type": "stream",
     "text": [
      "ic| link: 'http://web.mta.info/developers/data/nyct/turnstile/turnstile_150530.txt'\n"
     ]
    },
    {
     "name": "stdout",
     "output_type": "stream",
     "text": [
      "Downloaded 334 of 598\n",
      "Snoozing for 11 seconds before next link\n"
     ]
    },
    {
     "name": "stderr",
     "output_type": "stream",
     "text": [
      "ic| link: 'http://web.mta.info/developers/data/nyct/turnstile/turnstile_150523.txt'\n"
     ]
    },
    {
     "name": "stdout",
     "output_type": "stream",
     "text": [
      "Downloaded 335 of 598\n",
      "Snoozing for 13 seconds before next link\n"
     ]
    },
    {
     "name": "stderr",
     "output_type": "stream",
     "text": [
      "ic| link: 'http://web.mta.info/developers/data/nyct/turnstile/turnstile_150516.txt'\n"
     ]
    },
    {
     "name": "stdout",
     "output_type": "stream",
     "text": [
      "Downloaded 336 of 598\n",
      "Snoozing for 6 seconds before next link\n"
     ]
    },
    {
     "name": "stderr",
     "output_type": "stream",
     "text": [
      "ic| link: 'http://web.mta.info/developers/data/nyct/turnstile/turnstile_150509.txt'\n"
     ]
    },
    {
     "name": "stdout",
     "output_type": "stream",
     "text": [
      "Downloaded 337 of 598\n",
      "Snoozing for 4 seconds before next link\n"
     ]
    },
    {
     "name": "stderr",
     "output_type": "stream",
     "text": [
      "ic| link: 'http://web.mta.info/developers/data/nyct/turnstile/turnstile_150502.txt'\n"
     ]
    },
    {
     "name": "stdout",
     "output_type": "stream",
     "text": [
      "Downloaded 338 of 598\n",
      "Snoozing for 8 seconds before next link\n"
     ]
    },
    {
     "name": "stderr",
     "output_type": "stream",
     "text": [
      "ic| link: 'http://web.mta.info/developers/data/nyct/turnstile/turnstile_150425.txt'\n"
     ]
    },
    {
     "name": "stdout",
     "output_type": "stream",
     "text": [
      "Downloaded 339 of 598\n",
      "Snoozing for 5 seconds before next link\n"
     ]
    },
    {
     "name": "stderr",
     "output_type": "stream",
     "text": [
      "ic| link: 'http://web.mta.info/developers/data/nyct/turnstile/turnstile_150418.txt'\n"
     ]
    },
    {
     "name": "stdout",
     "output_type": "stream",
     "text": [
      "Downloaded 340 of 598\n",
      "Snoozing for 6 seconds before next link\n"
     ]
    },
    {
     "name": "stderr",
     "output_type": "stream",
     "text": [
      "ic| link: 'http://web.mta.info/developers/data/nyct/turnstile/turnstile_150411.txt'\n"
     ]
    },
    {
     "name": "stdout",
     "output_type": "stream",
     "text": [
      "Downloaded 341 of 598\n",
      "Snoozing for 6 seconds before next link\n"
     ]
    },
    {
     "name": "stderr",
     "output_type": "stream",
     "text": [
      "ic| link: 'http://web.mta.info/developers/data/nyct/turnstile/turnstile_150404.txt'\n"
     ]
    },
    {
     "name": "stdout",
     "output_type": "stream",
     "text": [
      "Downloaded 342 of 598\n",
      "Snoozing for 6 seconds before next link\n"
     ]
    },
    {
     "name": "stderr",
     "output_type": "stream",
     "text": [
      "ic| link: 'http://web.mta.info/developers/data/nyct/turnstile/turnstile_150328.txt'\n"
     ]
    },
    {
     "name": "stdout",
     "output_type": "stream",
     "text": [
      "Downloaded 343 of 598\n",
      "Snoozing for 12 seconds before next link\n"
     ]
    },
    {
     "name": "stderr",
     "output_type": "stream",
     "text": [
      "ic| link: 'http://web.mta.info/developers/data/nyct/turnstile/turnstile_150321.txt'\n"
     ]
    },
    {
     "name": "stdout",
     "output_type": "stream",
     "text": [
      "Downloaded 344 of 598\n",
      "Snoozing for 11 seconds before next link\n"
     ]
    },
    {
     "name": "stderr",
     "output_type": "stream",
     "text": [
      "ic| link: 'http://web.mta.info/developers/data/nyct/turnstile/turnstile_150314.txt'\n"
     ]
    },
    {
     "name": "stdout",
     "output_type": "stream",
     "text": [
      "Downloaded 345 of 598\n",
      "Snoozing for 14 seconds before next link\n"
     ]
    },
    {
     "name": "stderr",
     "output_type": "stream",
     "text": [
      "ic| link: 'http://web.mta.info/developers/data/nyct/turnstile/turnstile_150307.txt'\n"
     ]
    },
    {
     "name": "stdout",
     "output_type": "stream",
     "text": [
      "Downloaded 346 of 598\n",
      "Snoozing for 7 seconds before next link\n"
     ]
    },
    {
     "name": "stderr",
     "output_type": "stream",
     "text": [
      "ic| link: 'http://web.mta.info/developers/data/nyct/turnstile/turnstile_150228.txt'\n"
     ]
    },
    {
     "name": "stdout",
     "output_type": "stream",
     "text": [
      "Downloaded 347 of 598\n",
      "Snoozing for 11 seconds before next link\n"
     ]
    },
    {
     "name": "stderr",
     "output_type": "stream",
     "text": [
      "ic| link: 'http://web.mta.info/developers/data/nyct/turnstile/turnstile_150221.txt'\n"
     ]
    },
    {
     "name": "stdout",
     "output_type": "stream",
     "text": [
      "Downloaded 348 of 598\n",
      "Snoozing for 11 seconds before next link\n"
     ]
    },
    {
     "name": "stderr",
     "output_type": "stream",
     "text": [
      "ic| link: 'http://web.mta.info/developers/data/nyct/turnstile/turnstile_150214.txt'\n"
     ]
    },
    {
     "name": "stdout",
     "output_type": "stream",
     "text": [
      "Downloaded 349 of 598\n",
      "Snoozing for 5 seconds before next link\n"
     ]
    },
    {
     "name": "stderr",
     "output_type": "stream",
     "text": [
      "ic| link: 'http://web.mta.info/developers/data/nyct/turnstile/turnstile_150207.txt'\n"
     ]
    },
    {
     "name": "stdout",
     "output_type": "stream",
     "text": [
      "Downloaded 350 of 598\n",
      "Snoozing for 9 seconds before next link\n"
     ]
    },
    {
     "name": "stderr",
     "output_type": "stream",
     "text": [
      "ic| link: 'http://web.mta.info/developers/data/nyct/turnstile/turnstile_150131.txt'\n"
     ]
    },
    {
     "name": "stdout",
     "output_type": "stream",
     "text": [
      "Downloaded 351 of 598\n",
      "Snoozing for 7 seconds before next link\n"
     ]
    },
    {
     "name": "stderr",
     "output_type": "stream",
     "text": [
      "ic| link: 'http://web.mta.info/developers/data/nyct/turnstile/turnstile_150124.txt'\n"
     ]
    },
    {
     "name": "stdout",
     "output_type": "stream",
     "text": [
      "Downloaded 352 of 598\n",
      "Snoozing for 13 seconds before next link\n"
     ]
    },
    {
     "name": "stderr",
     "output_type": "stream",
     "text": [
      "ic| link: 'http://web.mta.info/developers/data/nyct/turnstile/turnstile_150117.txt'\n"
     ]
    },
    {
     "name": "stdout",
     "output_type": "stream",
     "text": [
      "Downloaded 353 of 598\n",
      "Snoozing for 7 seconds before next link\n"
     ]
    },
    {
     "name": "stderr",
     "output_type": "stream",
     "text": [
      "ic| link: 'http://web.mta.info/developers/data/nyct/turnstile/turnstile_150110.txt'\n"
     ]
    },
    {
     "name": "stdout",
     "output_type": "stream",
     "text": [
      "Downloaded 354 of 598\n",
      "Snoozing for 10 seconds before next link\n"
     ]
    },
    {
     "name": "stderr",
     "output_type": "stream",
     "text": [
      "ic| link: 'http://web.mta.info/developers/data/nyct/turnstile/turnstile_150103.txt'\n"
     ]
    },
    {
     "name": "stdout",
     "output_type": "stream",
     "text": [
      "Downloaded 355 of 598\n",
      "Snoozing for 10 seconds before next link\n"
     ]
    },
    {
     "name": "stderr",
     "output_type": "stream",
     "text": [
      "ic| link: 'http://web.mta.info/developers/data/nyct/turnstile/turnstile_141227.txt'\n"
     ]
    },
    {
     "name": "stdout",
     "output_type": "stream",
     "text": [
      "Downloaded 356 of 598\n",
      "Snoozing for 10 seconds before next link\n"
     ]
    },
    {
     "name": "stderr",
     "output_type": "stream",
     "text": [
      "ic| link: 'http://web.mta.info/developers/data/nyct/turnstile/turnstile_141220.txt'\n"
     ]
    },
    {
     "name": "stdout",
     "output_type": "stream",
     "text": [
      "Downloaded 357 of 598\n",
      "Snoozing for 7 seconds before next link\n"
     ]
    },
    {
     "name": "stderr",
     "output_type": "stream",
     "text": [
      "ic| link: 'http://web.mta.info/developers/data/nyct/turnstile/turnstile_141213.txt'\n"
     ]
    },
    {
     "name": "stdout",
     "output_type": "stream",
     "text": [
      "Downloaded 358 of 598\n",
      "Snoozing for 5 seconds before next link\n"
     ]
    },
    {
     "name": "stderr",
     "output_type": "stream",
     "text": [
      "ic| link: 'http://web.mta.info/developers/data/nyct/turnstile/turnstile_141206.txt'\n"
     ]
    },
    {
     "name": "stdout",
     "output_type": "stream",
     "text": [
      "Downloaded 359 of 598\n",
      "Snoozing for 14 seconds before next link\n"
     ]
    },
    {
     "name": "stderr",
     "output_type": "stream",
     "text": [
      "ic| link: 'http://web.mta.info/developers/data/nyct/turnstile/turnstile_141129.txt'\n"
     ]
    },
    {
     "name": "stdout",
     "output_type": "stream",
     "text": [
      "Downloaded 360 of 598\n",
      "Snoozing for 5 seconds before next link\n"
     ]
    },
    {
     "name": "stderr",
     "output_type": "stream",
     "text": [
      "ic| link: 'http://web.mta.info/developers/data/nyct/turnstile/turnstile_141122.txt'\n"
     ]
    },
    {
     "name": "stdout",
     "output_type": "stream",
     "text": [
      "Downloaded 361 of 598\n",
      "Snoozing for 6 seconds before next link\n"
     ]
    },
    {
     "name": "stderr",
     "output_type": "stream",
     "text": [
      "ic| link: 'http://web.mta.info/developers/data/nyct/turnstile/turnstile_141115.txt'\n"
     ]
    },
    {
     "name": "stdout",
     "output_type": "stream",
     "text": [
      "Downloaded 362 of 598\n",
      "Snoozing for 11 seconds before next link\n"
     ]
    },
    {
     "name": "stderr",
     "output_type": "stream",
     "text": [
      "ic| link: 'http://web.mta.info/developers/data/nyct/turnstile/turnstile_141108.txt'\n"
     ]
    },
    {
     "name": "stdout",
     "output_type": "stream",
     "text": [
      "Downloaded 363 of 598\n",
      "Snoozing for 5 seconds before next link\n"
     ]
    },
    {
     "name": "stderr",
     "output_type": "stream",
     "text": [
      "ic| link: 'http://web.mta.info/developers/data/nyct/turnstile/turnstile_141101.txt'\n"
     ]
    },
    {
     "name": "stdout",
     "output_type": "stream",
     "text": [
      "Downloaded 364 of 598\n",
      "Snoozing for 5 seconds before next link\n"
     ]
    },
    {
     "name": "stderr",
     "output_type": "stream",
     "text": [
      "ic| link: 'http://web.mta.info/developers/data/nyct/turnstile/turnstile_141025.txt'\n"
     ]
    },
    {
     "name": "stdout",
     "output_type": "stream",
     "text": [
      "Downloaded 365 of 598\n",
      "Snoozing for 14 seconds before next link\n"
     ]
    },
    {
     "name": "stderr",
     "output_type": "stream",
     "text": [
      "ic| link: 'http://web.mta.info/developers/data/nyct/turnstile/turnstile_141018.txt'\n"
     ]
    },
    {
     "name": "stdout",
     "output_type": "stream",
     "text": [
      "Downloaded 366 of 598\n",
      "Snoozing for 13 seconds before next link\n"
     ]
    },
    {
     "name": "stderr",
     "output_type": "stream",
     "text": [
      "ic| link: 'http://web.mta.info/developers/data/nyct/turnstile/turnstile_141011.txt'\n"
     ]
    },
    {
     "name": "stdout",
     "output_type": "stream",
     "text": [
      "Downloaded 367 of 598\n",
      "Snoozing for 9 seconds before next link\n"
     ]
    },
    {
     "name": "stderr",
     "output_type": "stream",
     "text": [
      "ic| link: 'http://web.mta.info/developers/data/nyct/turnstile/turnstile_141004.txt'\n"
     ]
    },
    {
     "name": "stdout",
     "output_type": "stream",
     "text": [
      "Downloaded 368 of 598\n",
      "Snoozing for 3 seconds before next link\n"
     ]
    },
    {
     "name": "stderr",
     "output_type": "stream",
     "text": [
      "ic| link: 'http://web.mta.info/developers/data/nyct/turnstile/turnstile_140927.txt'\n"
     ]
    },
    {
     "name": "stdout",
     "output_type": "stream",
     "text": [
      "Downloaded 369 of 598\n",
      "Snoozing for 3 seconds before next link\n"
     ]
    },
    {
     "name": "stderr",
     "output_type": "stream",
     "text": [
      "ic| link: 'http://web.mta.info/developers/data/nyct/turnstile/turnstile_140920.txt'\n"
     ]
    },
    {
     "name": "stdout",
     "output_type": "stream",
     "text": [
      "Downloaded 370 of 598\n",
      "Snoozing for 6 seconds before next link\n"
     ]
    },
    {
     "name": "stderr",
     "output_type": "stream",
     "text": [
      "ic| link: 'http://web.mta.info/developers/data/nyct/turnstile/turnstile_140913.txt'\n"
     ]
    },
    {
     "name": "stdout",
     "output_type": "stream",
     "text": [
      "Downloaded 371 of 598\n",
      "Snoozing for 7 seconds before next link\n"
     ]
    },
    {
     "name": "stderr",
     "output_type": "stream",
     "text": [
      "ic| link: 'http://web.mta.info/developers/data/nyct/turnstile/turnstile_140906.txt'\n"
     ]
    },
    {
     "name": "stdout",
     "output_type": "stream",
     "text": [
      "Downloaded 372 of 598\n",
      "Snoozing for 12 seconds before next link\n"
     ]
    },
    {
     "name": "stderr",
     "output_type": "stream",
     "text": [
      "ic| link: 'http://web.mta.info/developers/data/nyct/turnstile/turnstile_140830.txt'\n"
     ]
    },
    {
     "name": "stdout",
     "output_type": "stream",
     "text": [
      "Downloaded 373 of 598\n",
      "Snoozing for 13 seconds before next link\n"
     ]
    },
    {
     "name": "stderr",
     "output_type": "stream",
     "text": [
      "ic| link: 'http://web.mta.info/developers/data/nyct/turnstile/turnstile_140823.txt'\n"
     ]
    },
    {
     "name": "stdout",
     "output_type": "stream",
     "text": [
      "Downloaded 374 of 598\n",
      "Snoozing for 4 seconds before next link\n"
     ]
    },
    {
     "name": "stderr",
     "output_type": "stream",
     "text": [
      "ic| link: 'http://web.mta.info/developers/data/nyct/turnstile/turnstile_140816.txt'\n"
     ]
    },
    {
     "name": "stdout",
     "output_type": "stream",
     "text": [
      "Downloaded 375 of 598\n",
      "Snoozing for 13 seconds before next link\n"
     ]
    },
    {
     "name": "stderr",
     "output_type": "stream",
     "text": [
      "ic| link: 'http://web.mta.info/developers/data/nyct/turnstile/turnstile_140809.txt'\n"
     ]
    },
    {
     "name": "stdout",
     "output_type": "stream",
     "text": [
      "Downloaded 376 of 598\n",
      "Snoozing for 4 seconds before next link\n"
     ]
    },
    {
     "name": "stderr",
     "output_type": "stream",
     "text": [
      "ic| link: 'http://web.mta.info/developers/data/nyct/turnstile/turnstile_140802.txt'\n"
     ]
    },
    {
     "name": "stdout",
     "output_type": "stream",
     "text": [
      "Downloaded 377 of 598\n",
      "Snoozing for 11 seconds before next link\n"
     ]
    },
    {
     "name": "stderr",
     "output_type": "stream",
     "text": [
      "ic| link: 'http://web.mta.info/developers/data/nyct/turnstile/turnstile_140726.txt'\n"
     ]
    },
    {
     "name": "stdout",
     "output_type": "stream",
     "text": [
      "Downloaded 378 of 598\n",
      "Snoozing for 14 seconds before next link\n"
     ]
    },
    {
     "name": "stderr",
     "output_type": "stream",
     "text": [
      "ic| link: 'http://web.mta.info/developers/data/nyct/turnstile/turnstile_140719.txt'\n"
     ]
    },
    {
     "name": "stdout",
     "output_type": "stream",
     "text": [
      "Downloaded 379 of 598\n",
      "Snoozing for 2 seconds before next link\n"
     ]
    },
    {
     "name": "stderr",
     "output_type": "stream",
     "text": [
      "ic| link: 'http://web.mta.info/developers/data/nyct/turnstile/turnstile_140712.txt'\n"
     ]
    },
    {
     "name": "stdout",
     "output_type": "stream",
     "text": [
      "Downloaded 380 of 598\n",
      "Snoozing for 8 seconds before next link\n"
     ]
    },
    {
     "name": "stderr",
     "output_type": "stream",
     "text": [
      "ic| link: 'http://web.mta.info/developers/data/nyct/turnstile/turnstile_140705.txt'\n"
     ]
    },
    {
     "name": "stdout",
     "output_type": "stream",
     "text": [
      "Downloaded 381 of 598\n",
      "Snoozing for 12 seconds before next link\n"
     ]
    },
    {
     "name": "stderr",
     "output_type": "stream",
     "text": [
      "ic| link: 'http://web.mta.info/developers/data/nyct/turnstile/turnstile_140628.txt'\n"
     ]
    },
    {
     "name": "stdout",
     "output_type": "stream",
     "text": [
      "Downloaded 382 of 598\n",
      "Snoozing for 11 seconds before next link\n"
     ]
    },
    {
     "name": "stderr",
     "output_type": "stream",
     "text": [
      "ic| link: 'http://web.mta.info/developers/data/nyct/turnstile/turnstile_140621.txt'\n"
     ]
    },
    {
     "name": "stdout",
     "output_type": "stream",
     "text": [
      "Downloaded 383 of 598\n",
      "Snoozing for 13 seconds before next link\n"
     ]
    },
    {
     "name": "stderr",
     "output_type": "stream",
     "text": [
      "ic| link: 'http://web.mta.info/developers/data/nyct/turnstile/turnstile_140614.txt'\n"
     ]
    },
    {
     "name": "stdout",
     "output_type": "stream",
     "text": [
      "Downloaded 384 of 598\n",
      "Snoozing for 12 seconds before next link\n"
     ]
    },
    {
     "name": "stderr",
     "output_type": "stream",
     "text": [
      "ic| link: 'http://web.mta.info/developers/data/nyct/turnstile/turnstile_140607.txt'\n"
     ]
    },
    {
     "name": "stdout",
     "output_type": "stream",
     "text": [
      "Downloaded 385 of 598\n",
      "Snoozing for 8 seconds before next link\n"
     ]
    },
    {
     "name": "stderr",
     "output_type": "stream",
     "text": [
      "ic| link: 'http://web.mta.info/developers/data/nyct/turnstile/turnstile_140531.txt'\n"
     ]
    },
    {
     "name": "stdout",
     "output_type": "stream",
     "text": [
      "Downloaded 386 of 598\n",
      "Snoozing for 14 seconds before next link\n"
     ]
    },
    {
     "name": "stderr",
     "output_type": "stream",
     "text": [
      "ic| link: 'http://web.mta.info/developers/data/nyct/turnstile/turnstile_140524.txt'\n"
     ]
    },
    {
     "name": "stdout",
     "output_type": "stream",
     "text": [
      "Downloaded 387 of 598\n",
      "Snoozing for 8 seconds before next link\n"
     ]
    },
    {
     "name": "stderr",
     "output_type": "stream",
     "text": [
      "ic| link: 'http://web.mta.info/developers/data/nyct/turnstile/turnstile_140517.txt'\n"
     ]
    },
    {
     "name": "stdout",
     "output_type": "stream",
     "text": [
      "Downloaded 388 of 598\n",
      "Snoozing for 6 seconds before next link\n"
     ]
    },
    {
     "name": "stderr",
     "output_type": "stream",
     "text": [
      "ic| link: 'http://web.mta.info/developers/data/nyct/turnstile/turnstile_140510.txt'\n"
     ]
    },
    {
     "name": "stdout",
     "output_type": "stream",
     "text": [
      "Downloaded 389 of 598\n",
      "Snoozing for 2 seconds before next link\n"
     ]
    },
    {
     "name": "stderr",
     "output_type": "stream",
     "text": [
      "ic| link: 'http://web.mta.info/developers/data/nyct/turnstile/turnstile_140503.txt'\n"
     ]
    },
    {
     "name": "stdout",
     "output_type": "stream",
     "text": [
      "Downloaded 390 of 598\n",
      "Snoozing for 5 seconds before next link\n"
     ]
    },
    {
     "name": "stderr",
     "output_type": "stream",
     "text": [
      "ic| link: 'http://web.mta.info/developers/data/nyct/turnstile/turnstile_140426.txt'\n"
     ]
    },
    {
     "name": "stdout",
     "output_type": "stream",
     "text": [
      "Downloaded 391 of 598\n",
      "Snoozing for 2 seconds before next link\n"
     ]
    },
    {
     "name": "stderr",
     "output_type": "stream",
     "text": [
      "ic| link: 'http://web.mta.info/developers/data/nyct/turnstile/turnstile_140419.txt'\n"
     ]
    },
    {
     "name": "stdout",
     "output_type": "stream",
     "text": [
      "Downloaded 392 of 598\n",
      "Snoozing for 13 seconds before next link\n"
     ]
    },
    {
     "name": "stderr",
     "output_type": "stream",
     "text": [
      "ic| link: 'http://web.mta.info/developers/data/nyct/turnstile/turnstile_140412.txt'\n"
     ]
    },
    {
     "name": "stdout",
     "output_type": "stream",
     "text": [
      "Downloaded 393 of 598\n",
      "Snoozing for 3 seconds before next link\n"
     ]
    },
    {
     "name": "stderr",
     "output_type": "stream",
     "text": [
      "ic| link: 'http://web.mta.info/developers/data/nyct/turnstile/turnstile_140405.txt'\n"
     ]
    },
    {
     "name": "stdout",
     "output_type": "stream",
     "text": [
      "Downloaded 394 of 598\n",
      "Snoozing for 9 seconds before next link\n"
     ]
    },
    {
     "name": "stderr",
     "output_type": "stream",
     "text": [
      "ic| link: 'http://web.mta.info/developers/data/nyct/turnstile/turnstile_140329.txt'\n"
     ]
    },
    {
     "name": "stdout",
     "output_type": "stream",
     "text": [
      "Downloaded 395 of 598\n",
      "Snoozing for 9 seconds before next link\n"
     ]
    },
    {
     "name": "stderr",
     "output_type": "stream",
     "text": [
      "ic| link: 'http://web.mta.info/developers/data/nyct/turnstile/turnstile_140322.txt'\n"
     ]
    },
    {
     "name": "stdout",
     "output_type": "stream",
     "text": [
      "Downloaded 396 of 598\n",
      "Snoozing for 7 seconds before next link\n"
     ]
    },
    {
     "name": "stderr",
     "output_type": "stream",
     "text": [
      "ic| link: 'http://web.mta.info/developers/data/nyct/turnstile/turnstile_140315.txt'\n"
     ]
    },
    {
     "name": "stdout",
     "output_type": "stream",
     "text": [
      "Downloaded 397 of 598\n",
      "Snoozing for 13 seconds before next link\n"
     ]
    },
    {
     "name": "stderr",
     "output_type": "stream",
     "text": [
      "ic| link: 'http://web.mta.info/developers/data/nyct/turnstile/turnstile_140308.txt'\n"
     ]
    },
    {
     "name": "stdout",
     "output_type": "stream",
     "text": [
      "Downloaded 398 of 598\n",
      "Snoozing for 6 seconds before next link\n"
     ]
    },
    {
     "name": "stderr",
     "output_type": "stream",
     "text": [
      "ic| link: 'http://web.mta.info/developers/data/nyct/turnstile/turnstile_140301.txt'\n"
     ]
    },
    {
     "name": "stdout",
     "output_type": "stream",
     "text": [
      "Downloaded 399 of 598\n",
      "Snoozing for 2 seconds before next link\n"
     ]
    },
    {
     "name": "stderr",
     "output_type": "stream",
     "text": [
      "ic| link: 'http://web.mta.info/developers/data/nyct/turnstile/turnstile_140222.txt'\n"
     ]
    },
    {
     "name": "stdout",
     "output_type": "stream",
     "text": [
      "Downloaded 400 of 598\n",
      "Snoozing for 14 seconds before next link\n"
     ]
    },
    {
     "name": "stderr",
     "output_type": "stream",
     "text": [
      "ic| link: 'http://web.mta.info/developers/data/nyct/turnstile/turnstile_140215.txt'\n"
     ]
    },
    {
     "name": "stdout",
     "output_type": "stream",
     "text": [
      "Downloaded 401 of 598\n",
      "Snoozing for 11 seconds before next link\n"
     ]
    },
    {
     "name": "stderr",
     "output_type": "stream",
     "text": [
      "ic| link: 'http://web.mta.info/developers/data/nyct/turnstile/turnstile_140208.txt'\n"
     ]
    },
    {
     "name": "stdout",
     "output_type": "stream",
     "text": [
      "Downloaded 402 of 598\n",
      "Snoozing for 6 seconds before next link\n"
     ]
    },
    {
     "name": "stderr",
     "output_type": "stream",
     "text": [
      "ic| link: 'http://web.mta.info/developers/data/nyct/turnstile/turnstile_140201.txt'\n"
     ]
    },
    {
     "name": "stdout",
     "output_type": "stream",
     "text": [
      "Downloaded 403 of 598\n",
      "Snoozing for 13 seconds before next link\n"
     ]
    },
    {
     "name": "stderr",
     "output_type": "stream",
     "text": [
      "ic| link: 'http://web.mta.info/developers/data/nyct/turnstile/turnstile_140125.txt'\n"
     ]
    },
    {
     "name": "stdout",
     "output_type": "stream",
     "text": [
      "Downloaded 404 of 598\n",
      "Snoozing for 5 seconds before next link\n"
     ]
    },
    {
     "name": "stderr",
     "output_type": "stream",
     "text": [
      "ic| link: 'http://web.mta.info/developers/data/nyct/turnstile/turnstile_140118.txt'\n"
     ]
    },
    {
     "name": "stdout",
     "output_type": "stream",
     "text": [
      "Downloaded 405 of 598\n",
      "Snoozing for 12 seconds before next link\n"
     ]
    },
    {
     "name": "stderr",
     "output_type": "stream",
     "text": [
      "ic| link: 'http://web.mta.info/developers/data/nyct/turnstile/turnstile_140111.txt'\n"
     ]
    },
    {
     "name": "stdout",
     "output_type": "stream",
     "text": [
      "Downloaded 406 of 598\n",
      "Snoozing for 12 seconds before next link\n"
     ]
    },
    {
     "name": "stderr",
     "output_type": "stream",
     "text": [
      "ic| link: 'http://web.mta.info/developers/data/nyct/turnstile/turnstile_140104.txt'\n"
     ]
    },
    {
     "name": "stdout",
     "output_type": "stream",
     "text": [
      "Downloaded 407 of 598\n",
      "Snoozing for 11 seconds before next link\n"
     ]
    },
    {
     "name": "stderr",
     "output_type": "stream",
     "text": [
      "ic| link: 'http://web.mta.info/developers/data/nyct/turnstile/turnstile_131228.txt'\n"
     ]
    },
    {
     "name": "stdout",
     "output_type": "stream",
     "text": [
      "Downloaded 408 of 598\n",
      "Snoozing for 6 seconds before next link\n"
     ]
    },
    {
     "name": "stderr",
     "output_type": "stream",
     "text": [
      "ic| link: 'http://web.mta.info/developers/data/nyct/turnstile/turnstile_131221.txt'\n"
     ]
    },
    {
     "name": "stdout",
     "output_type": "stream",
     "text": [
      "Downloaded 409 of 598\n",
      "Snoozing for 2 seconds before next link\n"
     ]
    },
    {
     "name": "stderr",
     "output_type": "stream",
     "text": [
      "ic| link: 'http://web.mta.info/developers/data/nyct/turnstile/turnstile_131214.txt'\n"
     ]
    },
    {
     "name": "stdout",
     "output_type": "stream",
     "text": [
      "Downloaded 410 of 598\n",
      "Snoozing for 13 seconds before next link\n"
     ]
    },
    {
     "name": "stderr",
     "output_type": "stream",
     "text": [
      "ic| link: 'http://web.mta.info/developers/data/nyct/turnstile/turnstile_131207.txt'\n"
     ]
    },
    {
     "name": "stdout",
     "output_type": "stream",
     "text": [
      "Downloaded 411 of 598\n",
      "Snoozing for 5 seconds before next link\n"
     ]
    },
    {
     "name": "stderr",
     "output_type": "stream",
     "text": [
      "ic| link: 'http://web.mta.info/developers/data/nyct/turnstile/turnstile_131130.txt'\n"
     ]
    },
    {
     "name": "stdout",
     "output_type": "stream",
     "text": [
      "Downloaded 412 of 598\n",
      "Snoozing for 11 seconds before next link\n"
     ]
    },
    {
     "name": "stderr",
     "output_type": "stream",
     "text": [
      "ic| link: 'http://web.mta.info/developers/data/nyct/turnstile/turnstile_131123.txt'\n"
     ]
    },
    {
     "name": "stdout",
     "output_type": "stream",
     "text": [
      "Downloaded 413 of 598\n",
      "Snoozing for 13 seconds before next link\n"
     ]
    },
    {
     "name": "stderr",
     "output_type": "stream",
     "text": [
      "ic| link: 'http://web.mta.info/developers/data/nyct/turnstile/turnstile_131116.txt'\n"
     ]
    },
    {
     "name": "stdout",
     "output_type": "stream",
     "text": [
      "Downloaded 414 of 598\n",
      "Snoozing for 2 seconds before next link\n"
     ]
    },
    {
     "name": "stderr",
     "output_type": "stream",
     "text": [
      "ic| link: 'http://web.mta.info/developers/data/nyct/turnstile/turnstile_131109.txt'\n"
     ]
    },
    {
     "name": "stdout",
     "output_type": "stream",
     "text": [
      "Downloaded 415 of 598\n",
      "Snoozing for 5 seconds before next link\n"
     ]
    },
    {
     "name": "stderr",
     "output_type": "stream",
     "text": [
      "ic| link: 'http://web.mta.info/developers/data/nyct/turnstile/turnstile_131102.txt'\n"
     ]
    },
    {
     "name": "stdout",
     "output_type": "stream",
     "text": [
      "Downloaded 416 of 598\n",
      "Snoozing for 12 seconds before next link\n"
     ]
    },
    {
     "name": "stderr",
     "output_type": "stream",
     "text": [
      "ic| link: 'http://web.mta.info/developers/data/nyct/turnstile/turnstile_131026.txt'\n"
     ]
    },
    {
     "name": "stdout",
     "output_type": "stream",
     "text": [
      "Downloaded 417 of 598\n",
      "Snoozing for 3 seconds before next link\n"
     ]
    },
    {
     "name": "stderr",
     "output_type": "stream",
     "text": [
      "ic| link: 'http://web.mta.info/developers/data/nyct/turnstile/turnstile_131019.txt'\n"
     ]
    },
    {
     "name": "stdout",
     "output_type": "stream",
     "text": [
      "Downloaded 418 of 598\n",
      "Snoozing for 4 seconds before next link\n"
     ]
    },
    {
     "name": "stderr",
     "output_type": "stream",
     "text": [
      "ic| link: 'http://web.mta.info/developers/data/nyct/turnstile/turnstile_131012.txt'\n"
     ]
    },
    {
     "name": "stdout",
     "output_type": "stream",
     "text": [
      "Downloaded 419 of 598\n",
      "Snoozing for 12 seconds before next link\n"
     ]
    },
    {
     "name": "stderr",
     "output_type": "stream",
     "text": [
      "ic| link: 'http://web.mta.info/developers/data/nyct/turnstile/turnstile_131005.txt'\n"
     ]
    },
    {
     "name": "stdout",
     "output_type": "stream",
     "text": [
      "Downloaded 420 of 598\n",
      "Snoozing for 10 seconds before next link\n"
     ]
    },
    {
     "name": "stderr",
     "output_type": "stream",
     "text": [
      "ic| link: 'http://web.mta.info/developers/data/nyct/turnstile/turnstile_130928.txt'\n"
     ]
    },
    {
     "name": "stdout",
     "output_type": "stream",
     "text": [
      "Downloaded 421 of 598\n",
      "Snoozing for 6 seconds before next link\n"
     ]
    },
    {
     "name": "stderr",
     "output_type": "stream",
     "text": [
      "ic| link: 'http://web.mta.info/developers/data/nyct/turnstile/turnstile_130921.txt'\n"
     ]
    },
    {
     "name": "stdout",
     "output_type": "stream",
     "text": [
      "Downloaded 422 of 598\n",
      "Snoozing for 7 seconds before next link\n"
     ]
    },
    {
     "name": "stderr",
     "output_type": "stream",
     "text": [
      "ic| link: 'http://web.mta.info/developers/data/nyct/turnstile/turnstile_130914.txt'\n"
     ]
    },
    {
     "name": "stdout",
     "output_type": "stream",
     "text": [
      "Downloaded 423 of 598\n",
      "Snoozing for 5 seconds before next link\n"
     ]
    },
    {
     "name": "stderr",
     "output_type": "stream",
     "text": [
      "ic| link: 'http://web.mta.info/developers/data/nyct/turnstile/turnstile_130907.txt'\n"
     ]
    },
    {
     "name": "stdout",
     "output_type": "stream",
     "text": [
      "Downloaded 424 of 598\n",
      "Snoozing for 5 seconds before next link\n"
     ]
    },
    {
     "name": "stderr",
     "output_type": "stream",
     "text": [
      "ic| link: 'http://web.mta.info/developers/data/nyct/turnstile/turnstile_130831.txt'\n"
     ]
    },
    {
     "name": "stdout",
     "output_type": "stream",
     "text": [
      "Downloaded 425 of 598\n",
      "Snoozing for 2 seconds before next link\n"
     ]
    },
    {
     "name": "stderr",
     "output_type": "stream",
     "text": [
      "ic| link: 'http://web.mta.info/developers/data/nyct/turnstile/turnstile_130824.txt'\n"
     ]
    },
    {
     "name": "stdout",
     "output_type": "stream",
     "text": [
      "Downloaded 426 of 598\n",
      "Snoozing for 9 seconds before next link\n"
     ]
    },
    {
     "name": "stderr",
     "output_type": "stream",
     "text": [
      "ic| link: 'http://web.mta.info/developers/data/nyct/turnstile/turnstile_130817.txt'\n"
     ]
    },
    {
     "name": "stdout",
     "output_type": "stream",
     "text": [
      "Downloaded 427 of 598\n",
      "Snoozing for 13 seconds before next link\n"
     ]
    },
    {
     "name": "stderr",
     "output_type": "stream",
     "text": [
      "ic| link: 'http://web.mta.info/developers/data/nyct/turnstile/turnstile_130810.txt'\n"
     ]
    },
    {
     "name": "stdout",
     "output_type": "stream",
     "text": [
      "Downloaded 428 of 598\n",
      "Snoozing for 7 seconds before next link\n"
     ]
    },
    {
     "name": "stderr",
     "output_type": "stream",
     "text": [
      "ic| link: 'http://web.mta.info/developers/data/nyct/turnstile/turnstile_130803.txt'\n"
     ]
    },
    {
     "name": "stdout",
     "output_type": "stream",
     "text": [
      "Downloaded 429 of 598\n",
      "Snoozing for 6 seconds before next link\n"
     ]
    },
    {
     "name": "stderr",
     "output_type": "stream",
     "text": [
      "ic| link: 'http://web.mta.info/developers/data/nyct/turnstile/turnstile_130727.txt'\n"
     ]
    },
    {
     "name": "stdout",
     "output_type": "stream",
     "text": [
      "Downloaded 430 of 598\n",
      "Snoozing for 11 seconds before next link\n"
     ]
    },
    {
     "name": "stderr",
     "output_type": "stream",
     "text": [
      "ic| link: 'http://web.mta.info/developers/data/nyct/turnstile/turnstile_130713.txt'\n"
     ]
    },
    {
     "name": "stdout",
     "output_type": "stream",
     "text": [
      "Downloaded 432 of 598\n",
      "Snoozing for 7 seconds before next link\n"
     ]
    },
    {
     "name": "stderr",
     "output_type": "stream",
     "text": [
      "ic| link: 'http://web.mta.info/developers/data/nyct/turnstile/turnstile_130706.txt'\n"
     ]
    },
    {
     "name": "stdout",
     "output_type": "stream",
     "text": [
      "Downloaded 433 of 598\n",
      "Snoozing for 6 seconds before next link\n"
     ]
    },
    {
     "name": "stderr",
     "output_type": "stream",
     "text": [
      "ic| link: 'http://web.mta.info/developers/data/nyct/turnstile/turnstile_130629.txt'\n"
     ]
    },
    {
     "name": "stdout",
     "output_type": "stream",
     "text": [
      "Downloaded 434 of 598\n",
      "Snoozing for 3 seconds before next link\n"
     ]
    },
    {
     "name": "stderr",
     "output_type": "stream",
     "text": [
      "ic| link: 'http://web.mta.info/developers/data/nyct/turnstile/turnstile_130622.txt'\n"
     ]
    },
    {
     "name": "stdout",
     "output_type": "stream",
     "text": [
      "Downloaded 435 of 598\n",
      "Snoozing for 14 seconds before next link\n"
     ]
    },
    {
     "name": "stderr",
     "output_type": "stream",
     "text": [
      "ic| link: 'http://web.mta.info/developers/data/nyct/turnstile/turnstile_130615.txt'\n"
     ]
    },
    {
     "name": "stdout",
     "output_type": "stream",
     "text": [
      "Downloaded 436 of 598\n",
      "Snoozing for 13 seconds before next link\n"
     ]
    },
    {
     "name": "stderr",
     "output_type": "stream",
     "text": [
      "ic| link: 'http://web.mta.info/developers/data/nyct/turnstile/turnstile_130608.txt'\n"
     ]
    },
    {
     "name": "stdout",
     "output_type": "stream",
     "text": [
      "Downloaded 437 of 598\n",
      "Snoozing for 5 seconds before next link\n"
     ]
    },
    {
     "name": "stderr",
     "output_type": "stream",
     "text": [
      "ic| link: 'http://web.mta.info/developers/data/nyct/turnstile/turnstile_130601.txt'\n"
     ]
    },
    {
     "name": "stdout",
     "output_type": "stream",
     "text": [
      "Downloaded 438 of 598\n",
      "Snoozing for 4 seconds before next link\n"
     ]
    },
    {
     "name": "stderr",
     "output_type": "stream",
     "text": [
      "ic| link: 'http://web.mta.info/developers/data/nyct/turnstile/turnstile_130525.txt'\n"
     ]
    },
    {
     "name": "stdout",
     "output_type": "stream",
     "text": [
      "Downloaded 439 of 598\n",
      "Snoozing for 5 seconds before next link\n"
     ]
    },
    {
     "name": "stderr",
     "output_type": "stream",
     "text": [
      "ic| link: 'http://web.mta.info/developers/data/nyct/turnstile/turnstile_130518.txt'\n"
     ]
    },
    {
     "name": "stdout",
     "output_type": "stream",
     "text": [
      "Downloaded 440 of 598\n",
      "Snoozing for 7 seconds before next link\n"
     ]
    },
    {
     "name": "stderr",
     "output_type": "stream",
     "text": [
      "ic| link: 'http://web.mta.info/developers/data/nyct/turnstile/turnstile_130511.txt'\n"
     ]
    },
    {
     "name": "stdout",
     "output_type": "stream",
     "text": [
      "Downloaded 441 of 598\n",
      "Snoozing for 5 seconds before next link\n"
     ]
    },
    {
     "name": "stderr",
     "output_type": "stream",
     "text": [
      "ic| link: 'http://web.mta.info/developers/data/nyct/turnstile/turnstile_130504.txt'\n"
     ]
    },
    {
     "name": "stdout",
     "output_type": "stream",
     "text": [
      "Downloaded 442 of 598\n",
      "Snoozing for 4 seconds before next link\n"
     ]
    },
    {
     "name": "stderr",
     "output_type": "stream",
     "text": [
      "ic| link: 'http://web.mta.info/developers/data/nyct/turnstile/turnstile_130427.txt'\n"
     ]
    },
    {
     "name": "stdout",
     "output_type": "stream",
     "text": [
      "Downloaded 443 of 598\n",
      "Snoozing for 12 seconds before next link\n"
     ]
    },
    {
     "name": "stderr",
     "output_type": "stream",
     "text": [
      "ic| link: 'http://web.mta.info/developers/data/nyct/turnstile/turnstile_130420.txt'\n"
     ]
    },
    {
     "name": "stdout",
     "output_type": "stream",
     "text": [
      "Downloaded 444 of 598\n",
      "Snoozing for 3 seconds before next link\n"
     ]
    },
    {
     "name": "stderr",
     "output_type": "stream",
     "text": [
      "ic| link: 'http://web.mta.info/developers/data/nyct/turnstile/turnstile_130413.txt'\n"
     ]
    },
    {
     "name": "stdout",
     "output_type": "stream",
     "text": [
      "Downloaded 445 of 598\n",
      "Snoozing for 9 seconds before next link\n"
     ]
    },
    {
     "name": "stderr",
     "output_type": "stream",
     "text": [
      "ic| link: 'http://web.mta.info/developers/data/nyct/turnstile/turnstile_130406.txt'\n"
     ]
    },
    {
     "name": "stdout",
     "output_type": "stream",
     "text": [
      "Downloaded 446 of 598\n",
      "Snoozing for 5 seconds before next link\n"
     ]
    },
    {
     "name": "stderr",
     "output_type": "stream",
     "text": [
      "ic| link: 'http://web.mta.info/developers/data/nyct/turnstile/turnstile_130330.txt'\n"
     ]
    },
    {
     "name": "stdout",
     "output_type": "stream",
     "text": [
      "Downloaded 447 of 598\n",
      "Snoozing for 13 seconds before next link\n"
     ]
    },
    {
     "name": "stderr",
     "output_type": "stream",
     "text": [
      "ic| link: 'http://web.mta.info/developers/data/nyct/turnstile/turnstile_130323.txt'\n"
     ]
    },
    {
     "name": "stdout",
     "output_type": "stream",
     "text": [
      "Downloaded 448 of 598\n",
      "Snoozing for 13 seconds before next link\n"
     ]
    },
    {
     "name": "stderr",
     "output_type": "stream",
     "text": [
      "ic| link: 'http://web.mta.info/developers/data/nyct/turnstile/turnstile_130316.txt'\n"
     ]
    },
    {
     "name": "stdout",
     "output_type": "stream",
     "text": [
      "Downloaded 449 of 598\n",
      "Snoozing for 7 seconds before next link\n"
     ]
    },
    {
     "name": "stderr",
     "output_type": "stream",
     "text": [
      "ic| link: 'http://web.mta.info/developers/data/nyct/turnstile/turnstile_130309.txt'\n"
     ]
    },
    {
     "name": "stdout",
     "output_type": "stream",
     "text": [
      "Downloaded 450 of 598\n",
      "Snoozing for 3 seconds before next link\n"
     ]
    },
    {
     "name": "stderr",
     "output_type": "stream",
     "text": [
      "ic| link: 'http://web.mta.info/developers/data/nyct/turnstile/turnstile_130302.txt'\n"
     ]
    },
    {
     "name": "stdout",
     "output_type": "stream",
     "text": [
      "Downloaded 451 of 598\n",
      "Snoozing for 4 seconds before next link\n"
     ]
    },
    {
     "name": "stderr",
     "output_type": "stream",
     "text": [
      "ic| link: 'http://web.mta.info/developers/data/nyct/turnstile/turnstile_130223.txt'\n"
     ]
    },
    {
     "name": "stdout",
     "output_type": "stream",
     "text": [
      "Downloaded 452 of 598\n",
      "Snoozing for 14 seconds before next link\n"
     ]
    },
    {
     "name": "stderr",
     "output_type": "stream",
     "text": [
      "ic| link: 'http://web.mta.info/developers/data/nyct/turnstile/turnstile_130216.txt'\n"
     ]
    },
    {
     "name": "stdout",
     "output_type": "stream",
     "text": [
      "Downloaded 453 of 598\n",
      "Snoozing for 5 seconds before next link\n"
     ]
    },
    {
     "name": "stderr",
     "output_type": "stream",
     "text": [
      "ic| link: 'http://web.mta.info/developers/data/nyct/turnstile/turnstile_130209.txt'\n"
     ]
    },
    {
     "name": "stdout",
     "output_type": "stream",
     "text": [
      "Downloaded 454 of 598\n",
      "Snoozing for 2 seconds before next link\n"
     ]
    },
    {
     "name": "stderr",
     "output_type": "stream",
     "text": [
      "ic| link: 'http://web.mta.info/developers/data/nyct/turnstile/turnstile_130202.txt'\n"
     ]
    },
    {
     "name": "stdout",
     "output_type": "stream",
     "text": [
      "Downloaded 455 of 598\n",
      "Snoozing for 3 seconds before next link\n"
     ]
    },
    {
     "name": "stderr",
     "output_type": "stream",
     "text": [
      "ic| link: 'http://web.mta.info/developers/data/nyct/turnstile/turnstile_130126.txt'\n"
     ]
    },
    {
     "name": "stdout",
     "output_type": "stream",
     "text": [
      "Downloaded 456 of 598\n",
      "Snoozing for 8 seconds before next link\n"
     ]
    },
    {
     "name": "stderr",
     "output_type": "stream",
     "text": [
      "ic| link: 'http://web.mta.info/developers/data/nyct/turnstile/turnstile_130119.txt'\n"
     ]
    },
    {
     "name": "stdout",
     "output_type": "stream",
     "text": [
      "Downloaded 457 of 598\n",
      "Snoozing for 11 seconds before next link\n"
     ]
    },
    {
     "name": "stderr",
     "output_type": "stream",
     "text": [
      "ic| link: 'http://web.mta.info/developers/data/nyct/turnstile/turnstile_130112.txt'\n"
     ]
    },
    {
     "name": "stdout",
     "output_type": "stream",
     "text": [
      "Downloaded 458 of 598\n",
      "Snoozing for 7 seconds before next link\n"
     ]
    },
    {
     "name": "stderr",
     "output_type": "stream",
     "text": [
      "ic| link: 'http://web.mta.info/developers/data/nyct/turnstile/turnstile_130105.txt'\n"
     ]
    },
    {
     "name": "stdout",
     "output_type": "stream",
     "text": [
      "Downloaded 459 of 598\n",
      "Snoozing for 4 seconds before next link\n"
     ]
    },
    {
     "name": "stderr",
     "output_type": "stream",
     "text": [
      "ic| link: 'http://web.mta.info/developers/data/nyct/turnstile/turnstile_121229.txt'\n"
     ]
    },
    {
     "name": "stdout",
     "output_type": "stream",
     "text": [
      "Downloaded 460 of 598\n",
      "Snoozing for 10 seconds before next link\n"
     ]
    },
    {
     "name": "stderr",
     "output_type": "stream",
     "text": [
      "ic| link: 'http://web.mta.info/developers/data/nyct/turnstile/turnstile_121222.txt'\n"
     ]
    },
    {
     "name": "stdout",
     "output_type": "stream",
     "text": [
      "Downloaded 461 of 598\n",
      "Snoozing for 11 seconds before next link\n"
     ]
    },
    {
     "name": "stderr",
     "output_type": "stream",
     "text": [
      "ic| link: 'http://web.mta.info/developers/data/nyct/turnstile/turnstile_121215.txt'\n"
     ]
    },
    {
     "name": "stdout",
     "output_type": "stream",
     "text": [
      "Downloaded 462 of 598\n",
      "Snoozing for 10 seconds before next link\n"
     ]
    },
    {
     "name": "stderr",
     "output_type": "stream",
     "text": [
      "ic| link: 'http://web.mta.info/developers/data/nyct/turnstile/turnstile_121208.txt'\n"
     ]
    },
    {
     "name": "stdout",
     "output_type": "stream",
     "text": [
      "Downloaded 463 of 598\n",
      "Snoozing for 2 seconds before next link\n"
     ]
    },
    {
     "name": "stderr",
     "output_type": "stream",
     "text": [
      "ic| link: 'http://web.mta.info/developers/data/nyct/turnstile/turnstile_121201.txt'\n"
     ]
    },
    {
     "name": "stdout",
     "output_type": "stream",
     "text": [
      "Downloaded 464 of 598\n",
      "Snoozing for 14 seconds before next link\n"
     ]
    },
    {
     "name": "stderr",
     "output_type": "stream",
     "text": [
      "ic| link: 'http://web.mta.info/developers/data/nyct/turnstile/turnstile_121124.txt'\n"
     ]
    },
    {
     "name": "stdout",
     "output_type": "stream",
     "text": [
      "Downloaded 465 of 598\n",
      "Snoozing for 12 seconds before next link\n"
     ]
    },
    {
     "name": "stderr",
     "output_type": "stream",
     "text": [
      "ic| link: 'http://web.mta.info/developers/data/nyct/turnstile/turnstile_121117.txt'\n"
     ]
    },
    {
     "name": "stdout",
     "output_type": "stream",
     "text": [
      "Downloaded 466 of 598\n",
      "Snoozing for 14 seconds before next link\n"
     ]
    },
    {
     "name": "stderr",
     "output_type": "stream",
     "text": [
      "ic| link: 'http://web.mta.info/developers/data/nyct/turnstile/turnstile_121110.txt'\n"
     ]
    },
    {
     "name": "stdout",
     "output_type": "stream",
     "text": [
      "Downloaded 467 of 598\n",
      "Snoozing for 13 seconds before next link\n"
     ]
    },
    {
     "name": "stderr",
     "output_type": "stream",
     "text": [
      "ic| link: 'http://web.mta.info/developers/data/nyct/turnstile/turnstile_121103.txt'\n"
     ]
    },
    {
     "name": "stdout",
     "output_type": "stream",
     "text": [
      "Downloaded 468 of 598\n",
      "Snoozing for 4 seconds before next link\n"
     ]
    },
    {
     "name": "stderr",
     "output_type": "stream",
     "text": [
      "ic| link: 'http://web.mta.info/developers/data/nyct/turnstile/turnstile_121027.txt'\n"
     ]
    },
    {
     "name": "stdout",
     "output_type": "stream",
     "text": [
      "Downloaded 469 of 598\n",
      "Snoozing for 2 seconds before next link\n"
     ]
    },
    {
     "name": "stderr",
     "output_type": "stream",
     "text": [
      "ic| link: 'http://web.mta.info/developers/data/nyct/turnstile/turnstile_121020.txt'\n"
     ]
    },
    {
     "name": "stdout",
     "output_type": "stream",
     "text": [
      "Downloaded 470 of 598\n",
      "Snoozing for 2 seconds before next link\n"
     ]
    },
    {
     "name": "stderr",
     "output_type": "stream",
     "text": [
      "ic| link: 'http://web.mta.info/developers/data/nyct/turnstile/turnstile_121013.txt'\n"
     ]
    },
    {
     "name": "stdout",
     "output_type": "stream",
     "text": [
      "Downloaded 471 of 598\n",
      "Snoozing for 11 seconds before next link\n"
     ]
    },
    {
     "name": "stderr",
     "output_type": "stream",
     "text": [
      "ic| link: 'http://web.mta.info/developers/data/nyct/turnstile/turnstile_121006.txt'\n"
     ]
    },
    {
     "name": "stdout",
     "output_type": "stream",
     "text": [
      "Downloaded 472 of 598\n",
      "Snoozing for 11 seconds before next link\n"
     ]
    },
    {
     "name": "stderr",
     "output_type": "stream",
     "text": [
      "ic| link: 'http://web.mta.info/developers/data/nyct/turnstile/turnstile_120929.txt'\n"
     ]
    },
    {
     "name": "stdout",
     "output_type": "stream",
     "text": [
      "Downloaded 473 of 598\n",
      "Snoozing for 7 seconds before next link\n"
     ]
    },
    {
     "name": "stderr",
     "output_type": "stream",
     "text": [
      "ic| link: 'http://web.mta.info/developers/data/nyct/turnstile/turnstile_120922.txt'\n"
     ]
    },
    {
     "name": "stdout",
     "output_type": "stream",
     "text": [
      "Downloaded 474 of 598\n",
      "Snoozing for 13 seconds before next link\n"
     ]
    },
    {
     "name": "stderr",
     "output_type": "stream",
     "text": [
      "ic| link: 'http://web.mta.info/developers/data/nyct/turnstile/turnstile_120915.txt'\n"
     ]
    },
    {
     "name": "stdout",
     "output_type": "stream",
     "text": [
      "Downloaded 475 of 598\n",
      "Snoozing for 12 seconds before next link\n"
     ]
    },
    {
     "name": "stderr",
     "output_type": "stream",
     "text": [
      "ic| link: 'http://web.mta.info/developers/data/nyct/turnstile/turnstile_120908.txt'\n"
     ]
    },
    {
     "name": "stdout",
     "output_type": "stream",
     "text": [
      "Downloaded 476 of 598\n",
      "Snoozing for 2 seconds before next link\n"
     ]
    },
    {
     "name": "stderr",
     "output_type": "stream",
     "text": [
      "ic| link: 'http://web.mta.info/developers/data/nyct/turnstile/turnstile_120901.txt'\n"
     ]
    },
    {
     "name": "stdout",
     "output_type": "stream",
     "text": [
      "Downloaded 477 of 598\n",
      "Snoozing for 12 seconds before next link\n"
     ]
    },
    {
     "name": "stderr",
     "output_type": "stream",
     "text": [
      "ic| link: 'http://web.mta.info/developers/data/nyct/turnstile/turnstile_120825.txt'\n"
     ]
    },
    {
     "name": "stdout",
     "output_type": "stream",
     "text": [
      "Downloaded 478 of 598\n",
      "Snoozing for 13 seconds before next link\n"
     ]
    },
    {
     "name": "stderr",
     "output_type": "stream",
     "text": [
      "ic| link: 'http://web.mta.info/developers/data/nyct/turnstile/turnstile_120818.txt'\n"
     ]
    },
    {
     "name": "stdout",
     "output_type": "stream",
     "text": [
      "Downloaded 479 of 598\n",
      "Snoozing for 14 seconds before next link\n"
     ]
    },
    {
     "name": "stderr",
     "output_type": "stream",
     "text": [
      "ic| link: 'http://web.mta.info/developers/data/nyct/turnstile/turnstile_120811.txt'\n"
     ]
    },
    {
     "name": "stdout",
     "output_type": "stream",
     "text": [
      "Downloaded 480 of 598\n",
      "Snoozing for 9 seconds before next link\n"
     ]
    },
    {
     "name": "stderr",
     "output_type": "stream",
     "text": [
      "ic| link: 'http://web.mta.info/developers/data/nyct/turnstile/turnstile_120804.txt'\n"
     ]
    },
    {
     "name": "stdout",
     "output_type": "stream",
     "text": [
      "Downloaded 481 of 598\n",
      "Snoozing for 3 seconds before next link\n"
     ]
    },
    {
     "name": "stderr",
     "output_type": "stream",
     "text": [
      "ic| link: 'http://web.mta.info/developers/data/nyct/turnstile/turnstile_120728.txt'\n"
     ]
    },
    {
     "name": "stdout",
     "output_type": "stream",
     "text": [
      "Downloaded 482 of 598\n",
      "Snoozing for 10 seconds before next link\n"
     ]
    },
    {
     "name": "stderr",
     "output_type": "stream",
     "text": [
      "ic| link: 'http://web.mta.info/developers/data/nyct/turnstile/turnstile_120721.txt'\n"
     ]
    },
    {
     "name": "stdout",
     "output_type": "stream",
     "text": [
      "Downloaded 483 of 598\n",
      "Snoozing for 4 seconds before next link\n"
     ]
    },
    {
     "name": "stderr",
     "output_type": "stream",
     "text": [
      "ic| link: 'http://web.mta.info/developers/data/nyct/turnstile/turnstile_120714.txt'\n"
     ]
    },
    {
     "name": "stdout",
     "output_type": "stream",
     "text": [
      "Downloaded 484 of 598\n",
      "Snoozing for 7 seconds before next link\n"
     ]
    },
    {
     "name": "stderr",
     "output_type": "stream",
     "text": [
      "ic| link: 'http://web.mta.info/developers/data/nyct/turnstile/turnstile_120707.txt'\n"
     ]
    },
    {
     "name": "stdout",
     "output_type": "stream",
     "text": [
      "Downloaded 485 of 598\n",
      "Snoozing for 2 seconds before next link\n"
     ]
    },
    {
     "name": "stderr",
     "output_type": "stream",
     "text": [
      "ic| link: 'http://web.mta.info/developers/data/nyct/turnstile/turnstile_120630.txt'\n"
     ]
    },
    {
     "name": "stdout",
     "output_type": "stream",
     "text": [
      "Downloaded 486 of 598\n",
      "Snoozing for 9 seconds before next link\n"
     ]
    },
    {
     "name": "stderr",
     "output_type": "stream",
     "text": [
      "ic| link: 'http://web.mta.info/developers/data/nyct/turnstile/turnstile_120623.txt'\n"
     ]
    },
    {
     "name": "stdout",
     "output_type": "stream",
     "text": [
      "Downloaded 487 of 598\n",
      "Snoozing for 10 seconds before next link\n"
     ]
    },
    {
     "name": "stderr",
     "output_type": "stream",
     "text": [
      "ic| link: 'http://web.mta.info/developers/data/nyct/turnstile/turnstile_120616.txt'\n"
     ]
    },
    {
     "name": "stdout",
     "output_type": "stream",
     "text": [
      "Downloaded 488 of 598\n",
      "Snoozing for 6 seconds before next link\n"
     ]
    },
    {
     "name": "stderr",
     "output_type": "stream",
     "text": [
      "ic| link: 'http://web.mta.info/developers/data/nyct/turnstile/turnstile_120609.txt'\n"
     ]
    },
    {
     "name": "stdout",
     "output_type": "stream",
     "text": [
      "Downloaded 489 of 598\n",
      "Snoozing for 5 seconds before next link\n"
     ]
    },
    {
     "name": "stderr",
     "output_type": "stream",
     "text": [
      "ic| link: 'http://web.mta.info/developers/data/nyct/turnstile/turnstile_120602.txt'\n"
     ]
    },
    {
     "name": "stdout",
     "output_type": "stream",
     "text": [
      "Downloaded 490 of 598\n",
      "Snoozing for 13 seconds before next link\n"
     ]
    },
    {
     "name": "stderr",
     "output_type": "stream",
     "text": [
      "ic| link: 'http://web.mta.info/developers/data/nyct/turnstile/turnstile_120526.txt'\n"
     ]
    },
    {
     "name": "stdout",
     "output_type": "stream",
     "text": [
      "Downloaded 491 of 598\n",
      "Snoozing for 8 seconds before next link\n"
     ]
    },
    {
     "name": "stderr",
     "output_type": "stream",
     "text": [
      "ic| link: 'http://web.mta.info/developers/data/nyct/turnstile/turnstile_120519.txt'\n"
     ]
    },
    {
     "name": "stdout",
     "output_type": "stream",
     "text": [
      "Downloaded 492 of 598\n",
      "Snoozing for 7 seconds before next link\n"
     ]
    },
    {
     "name": "stderr",
     "output_type": "stream",
     "text": [
      "ic| link: 'http://web.mta.info/developers/data/nyct/turnstile/turnstile_120512.txt'\n"
     ]
    },
    {
     "name": "stdout",
     "output_type": "stream",
     "text": [
      "Downloaded 493 of 598\n",
      "Snoozing for 8 seconds before next link\n"
     ]
    },
    {
     "name": "stderr",
     "output_type": "stream",
     "text": [
      "ic| link: 'http://web.mta.info/developers/data/nyct/turnstile/turnstile_120505.txt'\n"
     ]
    },
    {
     "name": "stdout",
     "output_type": "stream",
     "text": [
      "Downloaded 494 of 598\n",
      "Snoozing for 13 seconds before next link\n"
     ]
    },
    {
     "name": "stderr",
     "output_type": "stream",
     "text": [
      "ic| link: 'http://web.mta.info/developers/data/nyct/turnstile/turnstile_120428.txt'\n"
     ]
    },
    {
     "name": "stdout",
     "output_type": "stream",
     "text": [
      "Downloaded 495 of 598\n",
      "Snoozing for 12 seconds before next link\n"
     ]
    },
    {
     "name": "stderr",
     "output_type": "stream",
     "text": [
      "ic| link: 'http://web.mta.info/developers/data/nyct/turnstile/turnstile_120421.txt'\n"
     ]
    },
    {
     "name": "stdout",
     "output_type": "stream",
     "text": [
      "Downloaded 496 of 598\n",
      "Snoozing for 13 seconds before next link\n"
     ]
    },
    {
     "name": "stderr",
     "output_type": "stream",
     "text": [
      "ic| link: 'http://web.mta.info/developers/data/nyct/turnstile/turnstile_120414.txt'\n"
     ]
    },
    {
     "name": "stdout",
     "output_type": "stream",
     "text": [
      "Downloaded 497 of 598\n",
      "Snoozing for 13 seconds before next link\n"
     ]
    },
    {
     "name": "stderr",
     "output_type": "stream",
     "text": [
      "ic| link: 'http://web.mta.info/developers/data/nyct/turnstile/turnstile_120407.txt'\n"
     ]
    },
    {
     "name": "stdout",
     "output_type": "stream",
     "text": [
      "Downloaded 498 of 598\n",
      "Snoozing for 4 seconds before next link\n"
     ]
    },
    {
     "name": "stderr",
     "output_type": "stream",
     "text": [
      "ic| link: 'http://web.mta.info/developers/data/nyct/turnstile/turnstile_120331.txt'\n"
     ]
    },
    {
     "name": "stdout",
     "output_type": "stream",
     "text": [
      "Downloaded 499 of 598\n",
      "Snoozing for 6 seconds before next link\n"
     ]
    },
    {
     "name": "stderr",
     "output_type": "stream",
     "text": [
      "ic| link: 'http://web.mta.info/developers/data/nyct/turnstile/turnstile_120324.txt'\n"
     ]
    },
    {
     "name": "stdout",
     "output_type": "stream",
     "text": [
      "Downloaded 500 of 598\n",
      "Snoozing for 8 seconds before next link\n"
     ]
    },
    {
     "name": "stderr",
     "output_type": "stream",
     "text": [
      "ic| link: 'http://web.mta.info/developers/data/nyct/turnstile/turnstile_120317.txt'\n"
     ]
    },
    {
     "name": "stdout",
     "output_type": "stream",
     "text": [
      "Downloaded 501 of 598\n",
      "Snoozing for 7 seconds before next link\n"
     ]
    },
    {
     "name": "stderr",
     "output_type": "stream",
     "text": [
      "ic| link: 'http://web.mta.info/developers/data/nyct/turnstile/turnstile_120310.txt'\n"
     ]
    },
    {
     "name": "stdout",
     "output_type": "stream",
     "text": [
      "Downloaded 502 of 598\n",
      "Snoozing for 6 seconds before next link\n"
     ]
    },
    {
     "name": "stderr",
     "output_type": "stream",
     "text": [
      "ic| link: 'http://web.mta.info/developers/data/nyct/turnstile/turnstile_120303.txt'\n"
     ]
    },
    {
     "name": "stdout",
     "output_type": "stream",
     "text": [
      "Downloaded 503 of 598\n",
      "Snoozing for 13 seconds before next link\n"
     ]
    },
    {
     "name": "stderr",
     "output_type": "stream",
     "text": [
      "ic| link: 'http://web.mta.info/developers/data/nyct/turnstile/turnstile_120225.txt'\n"
     ]
    },
    {
     "name": "stdout",
     "output_type": "stream",
     "text": [
      "Downloaded 504 of 598\n",
      "Snoozing for 8 seconds before next link\n"
     ]
    },
    {
     "name": "stderr",
     "output_type": "stream",
     "text": [
      "ic| link: 'http://web.mta.info/developers/data/nyct/turnstile/turnstile_120218.txt'\n"
     ]
    },
    {
     "name": "stdout",
     "output_type": "stream",
     "text": [
      "Downloaded 505 of 598\n",
      "Snoozing for 9 seconds before next link\n"
     ]
    },
    {
     "name": "stderr",
     "output_type": "stream",
     "text": [
      "ic| link: 'http://web.mta.info/developers/data/nyct/turnstile/turnstile_120211.txt'\n"
     ]
    },
    {
     "name": "stdout",
     "output_type": "stream",
     "text": [
      "Downloaded 506 of 598\n",
      "Snoozing for 7 seconds before next link\n"
     ]
    },
    {
     "name": "stderr",
     "output_type": "stream",
     "text": [
      "ic| link: 'http://web.mta.info/developers/data/nyct/turnstile/turnstile_120204.txt'\n"
     ]
    },
    {
     "name": "stdout",
     "output_type": "stream",
     "text": [
      "Downloaded 507 of 598\n",
      "Snoozing for 13 seconds before next link\n"
     ]
    },
    {
     "name": "stderr",
     "output_type": "stream",
     "text": [
      "ic| link: 'http://web.mta.info/developers/data/nyct/turnstile/turnstile_120128.txt'\n"
     ]
    },
    {
     "name": "stdout",
     "output_type": "stream",
     "text": [
      "Downloaded 508 of 598\n",
      "Snoozing for 8 seconds before next link\n"
     ]
    },
    {
     "name": "stderr",
     "output_type": "stream",
     "text": [
      "ic| link: 'http://web.mta.info/developers/data/nyct/turnstile/turnstile_120121.txt'\n"
     ]
    },
    {
     "name": "stdout",
     "output_type": "stream",
     "text": [
      "Downloaded 509 of 598\n",
      "Snoozing for 14 seconds before next link\n"
     ]
    },
    {
     "name": "stderr",
     "output_type": "stream",
     "text": [
      "ic| link: 'http://web.mta.info/developers/data/nyct/turnstile/turnstile_120114.txt'\n"
     ]
    },
    {
     "name": "stdout",
     "output_type": "stream",
     "text": [
      "Downloaded 510 of 598\n",
      "Snoozing for 12 seconds before next link\n"
     ]
    },
    {
     "name": "stderr",
     "output_type": "stream",
     "text": [
      "ic| link: 'http://web.mta.info/developers/data/nyct/turnstile/turnstile_120107.txt'\n"
     ]
    },
    {
     "name": "stdout",
     "output_type": "stream",
     "text": [
      "Downloaded 511 of 598\n",
      "Snoozing for 7 seconds before next link\n"
     ]
    },
    {
     "name": "stderr",
     "output_type": "stream",
     "text": [
      "ic| link: 'http://web.mta.info/developers/data/nyct/turnstile/turnstile_111231.txt'\n"
     ]
    },
    {
     "name": "stdout",
     "output_type": "stream",
     "text": [
      "Downloaded 512 of 598\n",
      "Snoozing for 2 seconds before next link\n"
     ]
    },
    {
     "name": "stderr",
     "output_type": "stream",
     "text": [
      "ic| link: 'http://web.mta.info/developers/data/nyct/turnstile/turnstile_111224.txt'\n"
     ]
    },
    {
     "name": "stdout",
     "output_type": "stream",
     "text": [
      "Downloaded 513 of 598\n",
      "Snoozing for 11 seconds before next link\n"
     ]
    },
    {
     "name": "stderr",
     "output_type": "stream",
     "text": [
      "ic| link: 'http://web.mta.info/developers/data/nyct/turnstile/turnstile_111219.txt'\n"
     ]
    },
    {
     "name": "stdout",
     "output_type": "stream",
     "text": [
      "Downloaded 514 of 598\n",
      "Snoozing for 14 seconds before next link\n"
     ]
    },
    {
     "name": "stderr",
     "output_type": "stream",
     "text": [
      "ic| link: 'http://web.mta.info/developers/data/nyct/turnstile/turnstile_111210.txt'\n"
     ]
    },
    {
     "name": "stdout",
     "output_type": "stream",
     "text": [
      "Downloaded 515 of 598\n",
      "Snoozing for 14 seconds before next link\n"
     ]
    },
    {
     "name": "stderr",
     "output_type": "stream",
     "text": [
      "ic| link: 'http://web.mta.info/developers/data/nyct/turnstile/turnstile_111203.txt'\n"
     ]
    },
    {
     "name": "stdout",
     "output_type": "stream",
     "text": [
      "Downloaded 516 of 598\n",
      "Snoozing for 7 seconds before next link\n"
     ]
    },
    {
     "name": "stderr",
     "output_type": "stream",
     "text": [
      "ic| link: 'http://web.mta.info/developers/data/nyct/turnstile/turnstile_111126.txt'\n"
     ]
    },
    {
     "name": "stdout",
     "output_type": "stream",
     "text": [
      "Downloaded 517 of 598\n",
      "Snoozing for 11 seconds before next link\n"
     ]
    },
    {
     "name": "stderr",
     "output_type": "stream",
     "text": [
      "ic| link: 'http://web.mta.info/developers/data/nyct/turnstile/turnstile_111119.txt'\n"
     ]
    },
    {
     "name": "stdout",
     "output_type": "stream",
     "text": [
      "Downloaded 518 of 598\n",
      "Snoozing for 12 seconds before next link\n"
     ]
    },
    {
     "name": "stderr",
     "output_type": "stream",
     "text": [
      "ic| link: 'http://web.mta.info/developers/data/nyct/turnstile/turnstile_111112.txt'\n"
     ]
    },
    {
     "name": "stdout",
     "output_type": "stream",
     "text": [
      "Downloaded 519 of 598\n",
      "Snoozing for 8 seconds before next link\n"
     ]
    },
    {
     "name": "stderr",
     "output_type": "stream",
     "text": [
      "ic| link: 'http://web.mta.info/developers/data/nyct/turnstile/turnstile_111105.txt'\n"
     ]
    },
    {
     "name": "stdout",
     "output_type": "stream",
     "text": [
      "Downloaded 520 of 598\n",
      "Snoozing for 7 seconds before next link\n"
     ]
    },
    {
     "name": "stderr",
     "output_type": "stream",
     "text": [
      "ic| link: 'http://web.mta.info/developers/data/nyct/turnstile/turnstile_111029.txt'\n"
     ]
    },
    {
     "name": "stdout",
     "output_type": "stream",
     "text": [
      "Downloaded 521 of 598\n",
      "Snoozing for 13 seconds before next link\n"
     ]
    },
    {
     "name": "stderr",
     "output_type": "stream",
     "text": [
      "ic| link: 'http://web.mta.info/developers/data/nyct/turnstile/turnstile_111022.txt'\n"
     ]
    },
    {
     "name": "stdout",
     "output_type": "stream",
     "text": [
      "Downloaded 522 of 598\n",
      "Snoozing for 11 seconds before next link\n"
     ]
    },
    {
     "name": "stderr",
     "output_type": "stream",
     "text": [
      "ic| link: 'http://web.mta.info/developers/data/nyct/turnstile/turnstile_111015.txt'\n"
     ]
    },
    {
     "name": "stdout",
     "output_type": "stream",
     "text": [
      "Downloaded 523 of 598\n",
      "Snoozing for 13 seconds before next link\n"
     ]
    },
    {
     "name": "stderr",
     "output_type": "stream",
     "text": [
      "ic| link: 'http://web.mta.info/developers/data/nyct/turnstile/turnstile_111008.txt'\n"
     ]
    },
    {
     "name": "stdout",
     "output_type": "stream",
     "text": [
      "Downloaded 524 of 598\n",
      "Snoozing for 5 seconds before next link\n"
     ]
    },
    {
     "name": "stderr",
     "output_type": "stream",
     "text": [
      "ic| link: 'http://web.mta.info/developers/data/nyct/turnstile/turnstile_111001.txt'\n"
     ]
    },
    {
     "name": "stdout",
     "output_type": "stream",
     "text": [
      "Downloaded 525 of 598\n",
      "Snoozing for 7 seconds before next link\n"
     ]
    },
    {
     "name": "stderr",
     "output_type": "stream",
     "text": [
      "ic| link: 'http://web.mta.info/developers/data/nyct/turnstile/turnstile_110924.txt'\n"
     ]
    },
    {
     "name": "stdout",
     "output_type": "stream",
     "text": [
      "Downloaded 526 of 598\n",
      "Snoozing for 10 seconds before next link\n"
     ]
    },
    {
     "name": "stderr",
     "output_type": "stream",
     "text": [
      "ic| link: 'http://web.mta.info/developers/data/nyct/turnstile/turnstile_110917.txt'\n"
     ]
    },
    {
     "name": "stdout",
     "output_type": "stream",
     "text": [
      "Downloaded 527 of 598\n",
      "Snoozing for 8 seconds before next link\n"
     ]
    },
    {
     "name": "stderr",
     "output_type": "stream",
     "text": [
      "ic| link: 'http://web.mta.info/developers/data/nyct/turnstile/turnstile_110910.txt'\n"
     ]
    },
    {
     "name": "stdout",
     "output_type": "stream",
     "text": [
      "Downloaded 528 of 598\n",
      "Snoozing for 12 seconds before next link\n"
     ]
    },
    {
     "name": "stderr",
     "output_type": "stream",
     "text": [
      "ic| link: 'http://web.mta.info/developers/data/nyct/turnstile/turnstile_110903.txt'\n"
     ]
    },
    {
     "name": "stdout",
     "output_type": "stream",
     "text": [
      "Downloaded 529 of 598\n",
      "Snoozing for 2 seconds before next link\n"
     ]
    },
    {
     "name": "stderr",
     "output_type": "stream",
     "text": [
      "ic| link: 'http://web.mta.info/developers/data/nyct/turnstile/turnstile_110827.txt'\n"
     ]
    },
    {
     "name": "stdout",
     "output_type": "stream",
     "text": [
      "Downloaded 530 of 598\n",
      "Snoozing for 12 seconds before next link\n"
     ]
    },
    {
     "name": "stderr",
     "output_type": "stream",
     "text": [
      "ic| link: 'http://web.mta.info/developers/data/nyct/turnstile/turnstile_110820.txt'\n"
     ]
    },
    {
     "name": "stdout",
     "output_type": "stream",
     "text": [
      "Downloaded 531 of 598\n",
      "Snoozing for 12 seconds before next link\n"
     ]
    },
    {
     "name": "stderr",
     "output_type": "stream",
     "text": [
      "ic| link: 'http://web.mta.info/developers/data/nyct/turnstile/turnstile_110813.txt'\n"
     ]
    },
    {
     "name": "stdout",
     "output_type": "stream",
     "text": [
      "Downloaded 532 of 598\n",
      "Snoozing for 7 seconds before next link\n"
     ]
    },
    {
     "name": "stderr",
     "output_type": "stream",
     "text": [
      "ic| link: 'http://web.mta.info/developers/data/nyct/turnstile/turnstile_110806.txt'\n"
     ]
    },
    {
     "name": "stdout",
     "output_type": "stream",
     "text": [
      "Downloaded 533 of 598\n",
      "Snoozing for 9 seconds before next link\n"
     ]
    },
    {
     "name": "stderr",
     "output_type": "stream",
     "text": [
      "ic| link: 'http://web.mta.info/developers/data/nyct/turnstile/turnstile_110730.txt'\n"
     ]
    },
    {
     "name": "stdout",
     "output_type": "stream",
     "text": [
      "Downloaded 534 of 598\n",
      "Snoozing for 13 seconds before next link\n"
     ]
    },
    {
     "name": "stderr",
     "output_type": "stream",
     "text": [
      "ic| link: 'http://web.mta.info/developers/data/nyct/turnstile/turnstile_110723.txt'\n"
     ]
    },
    {
     "name": "stdout",
     "output_type": "stream",
     "text": [
      "Downloaded 535 of 598\n",
      "Snoozing for 7 seconds before next link\n"
     ]
    },
    {
     "name": "stderr",
     "output_type": "stream",
     "text": [
      "ic| link: 'http://web.mta.info/developers/data/nyct/turnstile/turnstile_110716.txt'\n"
     ]
    },
    {
     "name": "stdout",
     "output_type": "stream",
     "text": [
      "Downloaded 536 of 598\n",
      "Snoozing for 8 seconds before next link\n"
     ]
    },
    {
     "name": "stderr",
     "output_type": "stream",
     "text": [
      "ic| link: 'http://web.mta.info/developers/data/nyct/turnstile/turnstile_110709.txt'\n"
     ]
    },
    {
     "name": "stdout",
     "output_type": "stream",
     "text": [
      "Downloaded 537 of 598\n",
      "Snoozing for 2 seconds before next link\n"
     ]
    },
    {
     "name": "stderr",
     "output_type": "stream",
     "text": [
      "ic| link: 'http://web.mta.info/developers/data/nyct/turnstile/turnstile_110702.txt'\n"
     ]
    },
    {
     "name": "stdout",
     "output_type": "stream",
     "text": [
      "Downloaded 538 of 598\n",
      "Snoozing for 4 seconds before next link\n"
     ]
    },
    {
     "name": "stderr",
     "output_type": "stream",
     "text": [
      "ic| link: 'http://web.mta.info/developers/data/nyct/turnstile/turnstile_110625.txt'\n"
     ]
    },
    {
     "name": "stdout",
     "output_type": "stream",
     "text": [
      "Downloaded 539 of 598\n",
      "Snoozing for 2 seconds before next link\n"
     ]
    },
    {
     "name": "stderr",
     "output_type": "stream",
     "text": [
      "ic| link: 'http://web.mta.info/developers/data/nyct/turnstile/turnstile_110618.txt'\n"
     ]
    },
    {
     "name": "stdout",
     "output_type": "stream",
     "text": [
      "Downloaded 540 of 598\n",
      "Snoozing for 2 seconds before next link\n"
     ]
    },
    {
     "name": "stderr",
     "output_type": "stream",
     "text": [
      "ic| link: 'http://web.mta.info/developers/data/nyct/turnstile/turnstile_110611.txt'\n"
     ]
    },
    {
     "name": "stdout",
     "output_type": "stream",
     "text": [
      "Downloaded 541 of 598\n",
      "Snoozing for 13 seconds before next link\n"
     ]
    },
    {
     "name": "stderr",
     "output_type": "stream",
     "text": [
      "ic| link: 'http://web.mta.info/developers/data/nyct/turnstile/turnstile_110604.txt'\n"
     ]
    },
    {
     "name": "stdout",
     "output_type": "stream",
     "text": [
      "Downloaded 542 of 598\n",
      "Snoozing for 13 seconds before next link\n"
     ]
    },
    {
     "name": "stderr",
     "output_type": "stream",
     "text": [
      "ic| link: 'http://web.mta.info/developers/data/nyct/turnstile/turnstile_110528.txt'\n"
     ]
    },
    {
     "name": "stdout",
     "output_type": "stream",
     "text": [
      "Downloaded 543 of 598\n",
      "Snoozing for 7 seconds before next link\n"
     ]
    },
    {
     "name": "stderr",
     "output_type": "stream",
     "text": [
      "ic| link: 'http://web.mta.info/developers/data/nyct/turnstile/turnstile_110521.txt'\n"
     ]
    },
    {
     "name": "stdout",
     "output_type": "stream",
     "text": [
      "Downloaded 544 of 598\n",
      "Snoozing for 12 seconds before next link\n"
     ]
    },
    {
     "name": "stderr",
     "output_type": "stream",
     "text": [
      "ic| link: 'http://web.mta.info/developers/data/nyct/turnstile/turnstile_110514.txt'\n"
     ]
    },
    {
     "name": "stdout",
     "output_type": "stream",
     "text": [
      "Downloaded 545 of 598\n",
      "Snoozing for 11 seconds before next link\n"
     ]
    },
    {
     "name": "stderr",
     "output_type": "stream",
     "text": [
      "ic| link: 'http://web.mta.info/developers/data/nyct/turnstile/turnstile_110507.txt'\n"
     ]
    },
    {
     "name": "stdout",
     "output_type": "stream",
     "text": [
      "Downloaded 546 of 598\n",
      "Snoozing for 7 seconds before next link\n"
     ]
    },
    {
     "name": "stderr",
     "output_type": "stream",
     "text": [
      "ic| link: 'http://web.mta.info/developers/data/nyct/turnstile/turnstile_110430.txt'\n"
     ]
    },
    {
     "name": "stdout",
     "output_type": "stream",
     "text": [
      "Downloaded 547 of 598\n",
      "Snoozing for 7 seconds before next link\n"
     ]
    },
    {
     "name": "stderr",
     "output_type": "stream",
     "text": [
      "ic| link: 'http://web.mta.info/developers/data/nyct/turnstile/turnstile_110423.txt'\n"
     ]
    },
    {
     "name": "stdout",
     "output_type": "stream",
     "text": [
      "Downloaded 548 of 598\n",
      "Snoozing for 9 seconds before next link\n"
     ]
    },
    {
     "name": "stderr",
     "output_type": "stream",
     "text": [
      "ic| link: 'http://web.mta.info/developers/data/nyct/turnstile/turnstile_110416.txt'\n"
     ]
    },
    {
     "name": "stdout",
     "output_type": "stream",
     "text": [
      "Downloaded 549 of 598\n",
      "Snoozing for 12 seconds before next link\n"
     ]
    },
    {
     "name": "stderr",
     "output_type": "stream",
     "text": [
      "ic| link: 'http://web.mta.info/developers/data/nyct/turnstile/turnstile_110409.txt'\n"
     ]
    },
    {
     "name": "stdout",
     "output_type": "stream",
     "text": [
      "Downloaded 550 of 598\n",
      "Snoozing for 4 seconds before next link\n"
     ]
    },
    {
     "name": "stderr",
     "output_type": "stream",
     "text": [
      "ic| link: 'http://web.mta.info/developers/data/nyct/turnstile/turnstile_110402.txt'\n"
     ]
    },
    {
     "name": "stdout",
     "output_type": "stream",
     "text": [
      "Downloaded 551 of 598\n",
      "Snoozing for 12 seconds before next link\n"
     ]
    },
    {
     "name": "stderr",
     "output_type": "stream",
     "text": [
      "ic| link: 'http://web.mta.info/developers/data/nyct/turnstile/turnstile_110326.txt'\n"
     ]
    },
    {
     "name": "stdout",
     "output_type": "stream",
     "text": [
      "Downloaded 552 of 598\n",
      "Snoozing for 14 seconds before next link\n"
     ]
    },
    {
     "name": "stderr",
     "output_type": "stream",
     "text": [
      "ic| link: 'http://web.mta.info/developers/data/nyct/turnstile/turnstile_110319.txt'\n"
     ]
    },
    {
     "name": "stdout",
     "output_type": "stream",
     "text": [
      "Downloaded 553 of 598\n",
      "Snoozing for 6 seconds before next link\n"
     ]
    },
    {
     "name": "stderr",
     "output_type": "stream",
     "text": [
      "ic| link: 'http://web.mta.info/developers/data/nyct/turnstile/turnstile_110312.txt'\n"
     ]
    },
    {
     "name": "stdout",
     "output_type": "stream",
     "text": [
      "Downloaded 554 of 598\n",
      "Snoozing for 8 seconds before next link\n"
     ]
    },
    {
     "name": "stderr",
     "output_type": "stream",
     "text": [
      "ic| link: 'http://web.mta.info/developers/data/nyct/turnstile/turnstile_110305.txt'\n"
     ]
    },
    {
     "name": "stdout",
     "output_type": "stream",
     "text": [
      "Downloaded 555 of 598\n",
      "Snoozing for 14 seconds before next link\n"
     ]
    },
    {
     "name": "stderr",
     "output_type": "stream",
     "text": [
      "ic| link: 'http://web.mta.info/developers/data/nyct/turnstile/turnstile_110226.txt'\n"
     ]
    },
    {
     "name": "stdout",
     "output_type": "stream",
     "text": [
      "Downloaded 556 of 598\n",
      "Snoozing for 2 seconds before next link\n"
     ]
    },
    {
     "name": "stderr",
     "output_type": "stream",
     "text": [
      "ic| link: 'http://web.mta.info/developers/data/nyct/turnstile/turnstile_110219.txt'\n"
     ]
    },
    {
     "name": "stdout",
     "output_type": "stream",
     "text": [
      "Downloaded 557 of 598\n",
      "Snoozing for 3 seconds before next link\n"
     ]
    },
    {
     "name": "stderr",
     "output_type": "stream",
     "text": [
      "ic| link: 'http://web.mta.info/developers/data/nyct/turnstile/turnstile_110212.txt'\n"
     ]
    },
    {
     "name": "stdout",
     "output_type": "stream",
     "text": [
      "Downloaded 558 of 598\n",
      "Snoozing for 10 seconds before next link\n"
     ]
    },
    {
     "name": "stderr",
     "output_type": "stream",
     "text": [
      "ic| link: 'http://web.mta.info/developers/data/nyct/turnstile/turnstile_110205.txt'\n"
     ]
    },
    {
     "name": "stdout",
     "output_type": "stream",
     "text": [
      "Downloaded 559 of 598\n",
      "Snoozing for 9 seconds before next link\n"
     ]
    },
    {
     "name": "stderr",
     "output_type": "stream",
     "text": [
      "ic| link: 'http://web.mta.info/developers/data/nyct/turnstile/turnstile_110129.txt'\n"
     ]
    },
    {
     "name": "stdout",
     "output_type": "stream",
     "text": [
      "Downloaded 560 of 598\n",
      "Snoozing for 12 seconds before next link\n"
     ]
    },
    {
     "name": "stderr",
     "output_type": "stream",
     "text": [
      "ic| link: 'http://web.mta.info/developers/data/nyct/turnstile/turnstile_110122.txt'\n"
     ]
    },
    {
     "name": "stdout",
     "output_type": "stream",
     "text": [
      "Downloaded 561 of 598\n",
      "Snoozing for 4 seconds before next link\n"
     ]
    },
    {
     "name": "stderr",
     "output_type": "stream",
     "text": [
      "ic| link: 'http://web.mta.info/developers/data/nyct/turnstile/turnstile_110115.txt'\n"
     ]
    },
    {
     "name": "stdout",
     "output_type": "stream",
     "text": [
      "Downloaded 562 of 598\n",
      "Snoozing for 2 seconds before next link\n"
     ]
    },
    {
     "name": "stderr",
     "output_type": "stream",
     "text": [
      "ic| link: 'http://web.mta.info/developers/data/nyct/turnstile/turnstile_110108.txt'\n"
     ]
    },
    {
     "name": "stdout",
     "output_type": "stream",
     "text": [
      "Downloaded 563 of 598\n",
      "Snoozing for 7 seconds before next link\n"
     ]
    },
    {
     "name": "stderr",
     "output_type": "stream",
     "text": [
      "ic| link: 'http://web.mta.info/developers/data/nyct/turnstile/turnstile_110101.txt'\n"
     ]
    },
    {
     "name": "stdout",
     "output_type": "stream",
     "text": [
      "Downloaded 564 of 598\n",
      "Snoozing for 13 seconds before next link\n"
     ]
    },
    {
     "name": "stderr",
     "output_type": "stream",
     "text": [
      "ic| link: 'http://web.mta.info/developers/data/nyct/turnstile/turnstile_101225.txt'\n"
     ]
    },
    {
     "name": "stdout",
     "output_type": "stream",
     "text": [
      "Downloaded 565 of 598\n",
      "Snoozing for 8 seconds before next link\n"
     ]
    },
    {
     "name": "stderr",
     "output_type": "stream",
     "text": [
      "ic| link: 'http://web.mta.info/developers/data/nyct/turnstile/turnstile_101218.txt'\n"
     ]
    },
    {
     "name": "stdout",
     "output_type": "stream",
     "text": [
      "Downloaded 566 of 598\n",
      "Snoozing for 10 seconds before next link\n"
     ]
    },
    {
     "name": "stderr",
     "output_type": "stream",
     "text": [
      "ic| link: 'http://web.mta.info/developers/data/nyct/turnstile/turnstile_101211.txt'\n"
     ]
    },
    {
     "name": "stdout",
     "output_type": "stream",
     "text": [
      "Downloaded 567 of 598\n",
      "Snoozing for 10 seconds before next link\n"
     ]
    },
    {
     "name": "stderr",
     "output_type": "stream",
     "text": [
      "ic| link: 'http://web.mta.info/developers/data/nyct/turnstile/turnstile_101204.txt'\n"
     ]
    },
    {
     "name": "stdout",
     "output_type": "stream",
     "text": [
      "Downloaded 568 of 598\n",
      "Snoozing for 14 seconds before next link\n"
     ]
    },
    {
     "name": "stderr",
     "output_type": "stream",
     "text": [
      "ic| link: 'http://web.mta.info/developers/data/nyct/turnstile/turnstile_101127.txt'\n"
     ]
    },
    {
     "name": "stdout",
     "output_type": "stream",
     "text": [
      "Downloaded 569 of 598\n",
      "Snoozing for 12 seconds before next link\n"
     ]
    },
    {
     "name": "stderr",
     "output_type": "stream",
     "text": [
      "ic| link: 'http://web.mta.info/developers/data/nyct/turnstile/turnstile_101120.txt'\n"
     ]
    },
    {
     "name": "stdout",
     "output_type": "stream",
     "text": [
      "Downloaded 570 of 598\n",
      "Snoozing for 5 seconds before next link\n"
     ]
    },
    {
     "name": "stderr",
     "output_type": "stream",
     "text": [
      "ic| link: 'http://web.mta.info/developers/data/nyct/turnstile/turnstile_101113.txt'\n"
     ]
    },
    {
     "name": "stdout",
     "output_type": "stream",
     "text": [
      "Downloaded 571 of 598\n",
      "Snoozing for 5 seconds before next link\n"
     ]
    },
    {
     "name": "stderr",
     "output_type": "stream",
     "text": [
      "ic| link: 'http://web.mta.info/developers/data/nyct/turnstile/turnstile_101106.txt'\n"
     ]
    },
    {
     "name": "stdout",
     "output_type": "stream",
     "text": [
      "Downloaded 572 of 598\n",
      "Snoozing for 12 seconds before next link\n"
     ]
    },
    {
     "name": "stderr",
     "output_type": "stream",
     "text": [
      "ic| link: 'http://web.mta.info/developers/data/nyct/turnstile/turnstile_101030.txt'\n"
     ]
    },
    {
     "name": "stdout",
     "output_type": "stream",
     "text": [
      "Downloaded 573 of 598\n",
      "Snoozing for 2 seconds before next link\n"
     ]
    },
    {
     "name": "stderr",
     "output_type": "stream",
     "text": [
      "ic| link: 'http://web.mta.info/developers/data/nyct/turnstile/turnstile_101023.txt'\n"
     ]
    },
    {
     "name": "stdout",
     "output_type": "stream",
     "text": [
      "Downloaded 574 of 598\n",
      "Snoozing for 2 seconds before next link\n"
     ]
    },
    {
     "name": "stderr",
     "output_type": "stream",
     "text": [
      "ic| link: 'http://web.mta.info/developers/data/nyct/turnstile/turnstile_101016.txt'\n"
     ]
    },
    {
     "name": "stdout",
     "output_type": "stream",
     "text": [
      "Downloaded 575 of 598\n",
      "Snoozing for 11 seconds before next link\n"
     ]
    },
    {
     "name": "stderr",
     "output_type": "stream",
     "text": [
      "ic| link: 'http://web.mta.info/developers/data/nyct/turnstile/turnstile_101009.txt'\n"
     ]
    },
    {
     "name": "stdout",
     "output_type": "stream",
     "text": [
      "Downloaded 576 of 598\n",
      "Snoozing for 6 seconds before next link\n"
     ]
    },
    {
     "name": "stderr",
     "output_type": "stream",
     "text": [
      "ic| link: 'http://web.mta.info/developers/data/nyct/turnstile/turnstile_101002.txt'\n"
     ]
    },
    {
     "name": "stdout",
     "output_type": "stream",
     "text": [
      "Downloaded 577 of 598\n",
      "Snoozing for 14 seconds before next link\n"
     ]
    },
    {
     "name": "stderr",
     "output_type": "stream",
     "text": [
      "ic| link: 'http://web.mta.info/developers/data/nyct/turnstile/turnstile_100925.txt'\n"
     ]
    },
    {
     "name": "stdout",
     "output_type": "stream",
     "text": [
      "Downloaded 578 of 598\n",
      "Snoozing for 2 seconds before next link\n"
     ]
    },
    {
     "name": "stderr",
     "output_type": "stream",
     "text": [
      "ic| link: 'http://web.mta.info/developers/data/nyct/turnstile/turnstile_100918.txt'\n"
     ]
    },
    {
     "name": "stdout",
     "output_type": "stream",
     "text": [
      "Downloaded 579 of 598\n",
      "Snoozing for 13 seconds before next link\n"
     ]
    },
    {
     "name": "stderr",
     "output_type": "stream",
     "text": [
      "ic| link: 'http://web.mta.info/developers/data/nyct/turnstile/turnstile_100911.txt'\n"
     ]
    },
    {
     "name": "stdout",
     "output_type": "stream",
     "text": [
      "Downloaded 580 of 598\n",
      "Snoozing for 7 seconds before next link\n"
     ]
    },
    {
     "name": "stderr",
     "output_type": "stream",
     "text": [
      "ic| link: 'http://web.mta.info/developers/data/nyct/turnstile/turnstile_100904.txt'\n"
     ]
    },
    {
     "name": "stdout",
     "output_type": "stream",
     "text": [
      "Downloaded 581 of 598\n",
      "Snoozing for 4 seconds before next link\n"
     ]
    },
    {
     "name": "stderr",
     "output_type": "stream",
     "text": [
      "ic| link: 'http://web.mta.info/developers/data/nyct/turnstile/turnstile_100828.txt'\n"
     ]
    },
    {
     "name": "stdout",
     "output_type": "stream",
     "text": [
      "Downloaded 582 of 598\n",
      "Snoozing for 9 seconds before next link\n"
     ]
    },
    {
     "name": "stderr",
     "output_type": "stream",
     "text": [
      "ic| link: 'http://web.mta.info/developers/data/nyct/turnstile/turnstile_100821.txt'\n"
     ]
    },
    {
     "name": "stdout",
     "output_type": "stream",
     "text": [
      "Downloaded 583 of 598\n",
      "Snoozing for 4 seconds before next link\n"
     ]
    },
    {
     "name": "stderr",
     "output_type": "stream",
     "text": [
      "ic| link: 'http://web.mta.info/developers/data/nyct/turnstile/turnstile_100814.txt'\n"
     ]
    },
    {
     "name": "stdout",
     "output_type": "stream",
     "text": [
      "Downloaded 584 of 598\n",
      "Snoozing for 10 seconds before next link\n"
     ]
    },
    {
     "name": "stderr",
     "output_type": "stream",
     "text": [
      "ic| link: 'http://web.mta.info/developers/data/nyct/turnstile/turnstile_100807.txt'\n"
     ]
    },
    {
     "name": "stdout",
     "output_type": "stream",
     "text": [
      "Downloaded 585 of 598\n",
      "Snoozing for 10 seconds before next link\n"
     ]
    },
    {
     "name": "stderr",
     "output_type": "stream",
     "text": [
      "ic| link: 'http://web.mta.info/developers/data/nyct/turnstile/turnstile_100731.txt'\n"
     ]
    },
    {
     "name": "stdout",
     "output_type": "stream",
     "text": [
      "Downloaded 586 of 598\n",
      "Snoozing for 14 seconds before next link\n"
     ]
    },
    {
     "name": "stderr",
     "output_type": "stream",
     "text": [
      "ic| link: 'http://web.mta.info/developers/data/nyct/turnstile/turnstile_100724.txt'\n"
     ]
    },
    {
     "name": "stdout",
     "output_type": "stream",
     "text": [
      "Downloaded 587 of 598\n",
      "Snoozing for 6 seconds before next link\n"
     ]
    },
    {
     "name": "stderr",
     "output_type": "stream",
     "text": [
      "ic| link: 'http://web.mta.info/developers/data/nyct/turnstile/turnstile_100717.txt'\n"
     ]
    },
    {
     "name": "stdout",
     "output_type": "stream",
     "text": [
      "Downloaded 588 of 598\n",
      "Snoozing for 6 seconds before next link\n"
     ]
    },
    {
     "name": "stderr",
     "output_type": "stream",
     "text": [
      "ic| link: 'http://web.mta.info/developers/data/nyct/turnstile/turnstile_100710.txt'\n"
     ]
    },
    {
     "name": "stdout",
     "output_type": "stream",
     "text": [
      "Downloaded 589 of 598\n",
      "Snoozing for 11 seconds before next link\n"
     ]
    },
    {
     "name": "stderr",
     "output_type": "stream",
     "text": [
      "ic| link: 'http://web.mta.info/developers/data/nyct/turnstile/turnstile_100703.txt'\n"
     ]
    },
    {
     "name": "stdout",
     "output_type": "stream",
     "text": [
      "Downloaded 590 of 598\n",
      "Snoozing for 7 seconds before next link\n"
     ]
    },
    {
     "name": "stderr",
     "output_type": "stream",
     "text": [
      "ic| link: 'http://web.mta.info/developers/data/nyct/turnstile/turnstile_100626.txt'\n"
     ]
    },
    {
     "name": "stdout",
     "output_type": "stream",
     "text": [
      "Downloaded 591 of 598\n",
      "Snoozing for 9 seconds before next link\n"
     ]
    },
    {
     "name": "stderr",
     "output_type": "stream",
     "text": [
      "ic| link: 'http://web.mta.info/developers/data/nyct/turnstile/turnstile_100619.txt'\n"
     ]
    },
    {
     "name": "stdout",
     "output_type": "stream",
     "text": [
      "Downloaded 592 of 598\n",
      "Snoozing for 12 seconds before next link\n"
     ]
    },
    {
     "name": "stderr",
     "output_type": "stream",
     "text": [
      "ic| link: 'http://web.mta.info/developers/data/nyct/turnstile/turnstile_100612.txt'\n"
     ]
    },
    {
     "name": "stdout",
     "output_type": "stream",
     "text": [
      "Downloaded 593 of 598\n",
      "Snoozing for 10 seconds before next link\n"
     ]
    },
    {
     "name": "stderr",
     "output_type": "stream",
     "text": [
      "ic| link: 'http://web.mta.info/developers/data/nyct/turnstile/turnstile_100605.txt'\n"
     ]
    },
    {
     "name": "stdout",
     "output_type": "stream",
     "text": [
      "Downloaded 594 of 598\n",
      "Snoozing for 10 seconds before next link\n"
     ]
    },
    {
     "name": "stderr",
     "output_type": "stream",
     "text": [
      "ic| link: 'http://web.mta.info/developers/data/nyct/turnstile/turnstile_100522.txt'\n"
     ]
    },
    {
     "name": "stdout",
     "output_type": "stream",
     "text": [
      "Downloaded 595 of 598\n",
      "Snoozing for 9 seconds before next link\n"
     ]
    },
    {
     "name": "stderr",
     "output_type": "stream",
     "text": [
      "ic| link: 'http://web.mta.info/developers/data/nyct/turnstile/turnstile_100515.txt'\n"
     ]
    },
    {
     "name": "stdout",
     "output_type": "stream",
     "text": [
      "Downloaded 596 of 598\n",
      "Snoozing for 4 seconds before next link\n"
     ]
    },
    {
     "name": "stderr",
     "output_type": "stream",
     "text": [
      "ic| link: 'http://web.mta.info/developers/data/nyct/turnstile/turnstile_100508.txt'\n"
     ]
    },
    {
     "name": "stdout",
     "output_type": "stream",
     "text": [
      "Downloaded 597 of 598\n",
      "Snoozing for 13 seconds before next link\n"
     ]
    },
    {
     "name": "stderr",
     "output_type": "stream",
     "text": [
      "ic| link: 'http://web.mta.info/developers/data/nyct/turnstile/turnstile_100505.txt'\n"
     ]
    },
    {
     "name": "stdout",
     "output_type": "stream",
     "text": [
      "Downloaded 598 of 598\n",
      "Snoozing for 13 seconds before next link\n"
     ]
    }
   ],
   "source": [
    "link_number = len(links)\n",
    "link_count = 1\n",
    "\n",
    "\n",
    "for link in links:           \n",
    "    ic(link)\n",
    "    print (f\"Downloaded {link_count} of {link_number}\")\n",
    "    link_count += 1 \n",
    "##downloading\n",
    "    wget.download(link)\n",
    "#snoozing and telling me for how long before the next downloads\n",
    "    mysnoozerbug = randrange (2,15)     \n",
    "    print (f\"Snoozing for {mysnoozerbug} seconds before next link\") \n",
    "    time.sleep(mysnoozerbug) "
   ]
  },
  {
   "cell_type": "code",
   "execution_count": null,
   "id": "2a0adb1e",
   "metadata": {},
   "outputs": [],
   "source": []
  }
 ],
 "metadata": {
  "kernelspec": {
   "display_name": "Python 3",
   "language": "python",
   "name": "python3"
  },
  "language_info": {
   "codemirror_mode": {
    "name": "ipython",
    "version": 3
   },
   "file_extension": ".py",
   "mimetype": "text/x-python",
   "name": "python",
   "nbconvert_exporter": "python",
   "pygments_lexer": "ipython3",
   "version": "3.8.8"
  }
 },
 "nbformat": 4,
 "nbformat_minor": 5
}
