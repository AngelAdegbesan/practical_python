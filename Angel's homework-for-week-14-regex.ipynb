{
 "cells": [
  {
   "cell_type": "markdown",
   "metadata": {
    "id": "9PmgWaXKRbP8"
   },
   "source": [
    "## Find key data points from multiple documents\n",
    "\n",
    "Download <a href=\"https://drive.google.com/file/d/1V6hmJhCqMyR65e4tal1Q70Lc_jvtZm0F/view?usp=sharing\">these documents</a>.\n",
    "\n",
    "They all have an identical structure to them.\n",
    "\n",
    "Using regex, capture and export as a CSV the following data points in all the documents:\n",
    "\n",
    "- The case number.\n",
    "- Whether the decision was to accept or reject the appeal.\n",
    "- The request date.\n",
    "- The decision date.\n",
    "- Source file name\n",
    "\n",
    "\n"
   ]
  },
  {
   "cell_type": "code",
   "execution_count": 1,
   "metadata": {
    "id": "qoXViR6c1k-s"
   },
   "outputs": [],
   "source": [
    "## import libraries\n",
    "import re\n",
    "import pandas as pd\n"
   ]
  },
  {
   "cell_type": "code",
   "execution_count": 28,
   "metadata": {},
   "outputs": [],
   "source": [
    "#with open(\"decision01.txt\", 'r') as tdoc:\n",
    "#        text1 = tdoc.read()"
   ]
  },
  {
   "cell_type": "code",
   "execution_count": null,
   "metadata": {},
   "outputs": [],
   "source": [
    "#with open(\"decision02.txt\", 'r') as tdoc:\n",
    " #       text2 = tdoc.read()"
   ]
  },
  {
   "cell_type": "code",
   "execution_count": null,
   "metadata": {},
   "outputs": [],
   "source": [
    "#with open(\"decision03.txt\", 'r') as tdoc:\n",
    "    #    text3 = tdoc.read()"
   ]
  },
  {
   "cell_type": "code",
   "execution_count": 67,
   "metadata": {},
   "outputs": [],
   "source": [
    "# def read_text_file(file_path):\n",
    "#     with open(file_path, 'r') as tdoc:\n",
    "#         return tdoc.read()"
   ]
  },
  {
   "cell_type": "code",
   "execution_count": 142,
   "metadata": {},
   "outputs": [],
   "source": [
    "def read_text_file(file_path):\n",
    "    \n",
    "    \"\"\"\n",
    "    this function requires a txt document,\n",
    "    puts in a pattern,\n",
    "    opens the txt document, reads it,\n",
    "    finds the pattern with regex,\n",
    "    unpacks the tuple the pattern comes in,\n",
    "    puts the unpacked tuple in a list,\n",
    "    Puts the list in a variable,\n",
    "    Then returns the wanted/required items from the list\n",
    "    \"\"\"\n",
    " ##regex pattern to find the required info in the document\n",
    "    case_pat = re.compile (\"(#:\\s(\\d+\\w+))\", re.I|re.M)\n",
    "    req_date_pat = re.compile (\"(REQUEST:)\\s(\\w+\\s\\d+[,]?\\s\\d+)\", re.I|re.M)\n",
    "    decision_pat = re.compile (\"(DECISION:)\\s[a-z\\s]+\\W?\\w\\s\\w+\\s\\w+\\s(\\w+\\s\\d+[,]?\\s\\d+)[,]?\\s\\w+\\s(\\w+)\", re.I|re.M)\n",
    "   \n",
    " ##opens and reads the document\n",
    "    with open(file_path, 'r') as tdoc:\n",
    "        file = tdoc.read()\n",
    "\n",
    " ##finds all with the patterns, but unpacks the first tuple as list., then puts it in a variable##\n",
    "        case = list(case_pat.findall(file)[0])\n",
    "        request_date= list(req_date_pat.findall(file)[0])     \n",
    "        decision = list(decision_pat.findall(file)[0])   \n",
    "        \n",
    "##returns the items we want in each list: name, case number, request date, decision date, decision made.   \n",
    "        return file_path, case[1], request_date[1], decision[2], decision [1]\n"
   ]
  },
  {
   "cell_type": "code",
   "execution_count": 143,
   "metadata": {
    "scrolled": true
   },
   "outputs": [],
   "source": [
    "txt1 = read_text_file(\"decision01.txt\")"
   ]
  },
  {
   "cell_type": "code",
   "execution_count": 144,
   "metadata": {},
   "outputs": [],
   "source": [
    "txt2 = read_text_file(\"decision02.txt\")"
   ]
  },
  {
   "cell_type": "code",
   "execution_count": 145,
   "metadata": {
    "scrolled": true
   },
   "outputs": [],
   "source": [
    "txt3 = read_text_file(\"decision03.txt\")"
   ]
  },
  {
   "cell_type": "code",
   "execution_count": 146,
   "metadata": {},
   "outputs": [
    {
     "data": {
      "text/plain": [
       "[('decision01.txt',\n",
       "  '6952578N',\n",
       "  'February 5, 2015',\n",
       "  'rejected',\n",
       "  'February 27, 2015'),\n",
       " ('decision02.txt',\n",
       "  '7924923N',\n",
       "  'March 14, 2019',\n",
       "  'accepted',\n",
       "  'March 14, 2019'),\n",
       " ('decision03.txt',\n",
       "  '4964154N',\n",
       "  'October 28, 2019',\n",
       "  'rejected',\n",
       "  'March 14, 2019')]"
      ]
     },
     "execution_count": 146,
     "metadata": {},
     "output_type": "execute_result"
    }
   ],
   "source": [
    "txt_list = [txt1, txt2, txt3]\n",
    "txt_list"
   ]
  },
  {
   "cell_type": "code",
   "execution_count": 152,
   "metadata": {},
   "outputs": [
    {
     "data": {
      "text/html": [
       "<div>\n",
       "<style scoped>\n",
       "    .dataframe tbody tr th:only-of-type {\n",
       "        vertical-align: middle;\n",
       "    }\n",
       "\n",
       "    .dataframe tbody tr th {\n",
       "        vertical-align: top;\n",
       "    }\n",
       "\n",
       "    .dataframe thead th {\n",
       "        text-align: right;\n",
       "    }\n",
       "</style>\n",
       "<table border=\"1\" class=\"dataframe\">\n",
       "  <thead>\n",
       "    <tr style=\"text-align: right;\">\n",
       "      <th></th>\n",
       "      <th>source</th>\n",
       "      <th>case_number</th>\n",
       "      <th>request_date</th>\n",
       "      <th>decision</th>\n",
       "      <th>decision_date</th>\n",
       "    </tr>\n",
       "  </thead>\n",
       "  <tbody>\n",
       "    <tr>\n",
       "      <th>0</th>\n",
       "      <td>decision01.txt</td>\n",
       "      <td>6952578N</td>\n",
       "      <td>February 5, 2015</td>\n",
       "      <td>rejected</td>\n",
       "      <td>February 27, 2015</td>\n",
       "    </tr>\n",
       "    <tr>\n",
       "      <th>1</th>\n",
       "      <td>decision02.txt</td>\n",
       "      <td>7924923N</td>\n",
       "      <td>March 14, 2019</td>\n",
       "      <td>accepted</td>\n",
       "      <td>March 14, 2019</td>\n",
       "    </tr>\n",
       "    <tr>\n",
       "      <th>2</th>\n",
       "      <td>decision03.txt</td>\n",
       "      <td>4964154N</td>\n",
       "      <td>October 28, 2019</td>\n",
       "      <td>rejected</td>\n",
       "      <td>March 14, 2019</td>\n",
       "    </tr>\n",
       "  </tbody>\n",
       "</table>\n",
       "</div>"
      ],
      "text/plain": [
       "           source case_number      request_date  decision      decision_date\n",
       "0  decision01.txt    6952578N  February 5, 2015  rejected  February 27, 2015\n",
       "1  decision02.txt    7924923N    March 14, 2019  accepted     March 14, 2019\n",
       "2  decision03.txt    4964154N  October 28, 2019  rejected     March 14, 2019"
      ]
     },
     "execution_count": 152,
     "metadata": {},
     "output_type": "execute_result"
    }
   ],
   "source": [
    "##converts to dataframe\n",
    "df = pd.DataFrame(list(txt_list),columns = [\"source\", \"case_number\", \"request_date\", \"decision\", \"decision_date\"])\n",
    "df"
   ]
  },
  {
   "cell_type": "code",
   "execution_count": 153,
   "metadata": {},
   "outputs": [],
   "source": [
    "file_name = \"ny_health_decisions.csv\"\n",
    "df.to_csv(file_name, encoding = \"UTF-8\", index = False)"
   ]
  },
  {
   "cell_type": "code",
   "execution_count": null,
   "metadata": {},
   "outputs": [],
   "source": []
  },
  {
   "cell_type": "code",
   "execution_count": null,
   "metadata": {},
   "outputs": [],
   "source": []
  },
  {
   "cell_type": "code",
   "execution_count": null,
   "metadata": {},
   "outputs": [],
   "source": []
  },
  {
   "cell_type": "code",
   "execution_count": null,
   "metadata": {},
   "outputs": [],
   "source": [
    " ##detailed regex pattern to find the required info in the document\n",
    "    cas_pat = re.compile (\"\"\"(#:       #anchor\n",
    "                              \\s           #space\n",
    "                              (\\d+\\w+)\n",
    "                              )    #captures the case number\n",
    "                            \"\"\"\n",
    "                           , \n",
    "                           re.I|re.M)\n",
    "    \n",
    "    req_date_pat = re.compile (\"\"\"(REQUEST:)    ##anchor\n",
    "                                   \\s                 #space\n",
    "                                   (\\w+\\s\\d+[,]?\\s\\d+)  #captures date as month dd, yyyy\n",
    "                                \"\"\"\n",
    "                               , \n",
    "                               re.I|re.M)\n",
    "    \n",
    "    decision_pat = re.compile (\"\"\"(DECISION:)        ##anchor\n",
    "                                   \\s                    ##space\n",
    "                                   [a-z\\s]+\\W?\\w\\s\\w+\\s\\w+\\s  ##captures text/space before the date in the sentence\n",
    "                                   (\\w+\\s\\d+[,]?\\s\\d+)        ##captures the date in the sentence\n",
    "                                   [,]?\\s\\w+\\s                ##captures punct, words after the date, but before decision in the sentence\n",
    "                                   (\\w+)                     ##captures decision in the sentence\n",
    "                               \"\"\"\n",
    "                               , \n",
    "                               re.I|re.M)"
   ]
  },
  {
   "cell_type": "code",
   "execution_count": null,
   "metadata": {},
   "outputs": [],
   "source": []
  },
  {
   "cell_type": "code",
   "execution_count": null,
   "metadata": {},
   "outputs": [],
   "source": []
  },
  {
   "cell_type": "code",
   "execution_count": null,
   "metadata": {},
   "outputs": [],
   "source": []
  },
  {
   "cell_type": "code",
   "execution_count": null,
   "metadata": {},
   "outputs": [],
   "source": []
  },
  {
   "cell_type": "code",
   "execution_count": null,
   "metadata": {},
   "outputs": [],
   "source": []
  }
 ],
 "metadata": {
  "colab": {
   "collapsed_sections": [],
   "name": "homework-for-week-14-regex_BLANK.ipynb",
   "provenance": []
  },
  "kernelspec": {
   "display_name": "Python 3",
   "language": "python",
   "name": "python3"
  },
  "language_info": {
   "codemirror_mode": {
    "name": "ipython",
    "version": 3
   },
   "file_extension": ".py",
   "mimetype": "text/x-python",
   "name": "python",
   "nbconvert_exporter": "python",
   "pygments_lexer": "ipython3",
   "version": "3.8.8"
  }
 },
 "nbformat": 4,
 "nbformat_minor": 1
}
