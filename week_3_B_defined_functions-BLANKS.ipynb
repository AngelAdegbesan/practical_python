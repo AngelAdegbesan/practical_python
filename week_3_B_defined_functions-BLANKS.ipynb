{
 "cells": [
  {
   "cell_type": "markdown",
   "metadata": {
    "id": "LqFjblutisVw"
   },
   "source": [
    "# Week 3 - Functions"
   ]
  },
  {
   "cell_type": "markdown",
   "metadata": {
    "id": "6Xl8jMnDisVx"
   },
   "source": [
    "The real power in any programming language is the **Function**.\n",
    "\n",
    "A function is:\n",
    "\n",
    "* a little block of script (one line or many) that performs specific task or a series of tasks.\n",
    "* reusable and helps us make our code DRY.\n",
    "* triggered when something \"invokes\" or \"calls\" it.\n",
    "* ideally modular – it performs a narrow task and you call several functions to perform more complex tasks.\n"
   ]
  },
  {
   "cell_type": "markdown",
   "metadata": {
    "id": "4g8iWYR2isVy"
   },
   "source": [
    "### What we'll cover today:\n",
    "\n",
    "* Simple function\n",
    "* Return statements\n",
    "*\n"
   ]
  },
  {
   "cell_type": "code",
   "execution_count": 13,
   "metadata": {
    "id": "Nw_oObNVisVy"
   },
   "outputs": [],
   "source": [
    "## Build a function called myFunction that adds 2 numbers together\n",
    "## it should print \"The total is (whatever the number is)!\"\n",
    "\n",
    "def add_numbers (number1, number2):\n",
    "    '''\n",
    "    needs 2 numbers as arguments\n",
    "    will add them together and print total\n",
    "    '''\n",
    "    total = number1 + number2\n",
    "    print (f\"The total is {total}\")"
   ]
  },
  {
   "cell_type": "code",
   "execution_count": null,
   "metadata": {
    "id": "4XqKP6R3isV2"
   },
   "outputs": [],
   "source": [
    "## build it here\n",
    "\n",
    "add_numbers"
   ]
  },
  {
   "cell_type": "code",
   "execution_count": 11,
   "metadata": {
    "id": "tMueqLJYisV5"
   },
   "outputs": [
    {
     "name": "stdout",
     "output_type": "stream",
     "text": [
      "The total is 9\n"
     ]
    }
   ],
   "source": [
    "## Call myFunction using 4 and 5 as the arguments\n",
    "add_numbers (4, 5)"
   ]
  },
  {
   "cell_type": "code",
   "execution_count": 12,
   "metadata": {
    "id": "jp3txfRTisV-"
   },
   "outputs": [
    {
     "name": "stdout",
     "output_type": "stream",
     "text": [
      "The total is 12\n"
     ]
    }
   ],
   "source": [
    "## Call myFunction using 10 and 2 as the arguments\n",
    "add_numbers (10,2)"
   ]
  },
  {
   "cell_type": "code",
   "execution_count": null,
   "metadata": {
    "id": "m6bmgoa5isWD"
   },
   "outputs": [],
   "source": [
    "## you might forget what arguments are needed for the function to work.\n",
    "## you can add notes that appear on shift-tab as you call the function.\n",
    "## write it here\n"
   ]
  },
  {
   "cell_type": "code",
   "execution_count": 14,
   "metadata": {
    "id": "5GHSN2P1isWH"
   },
   "outputs": [
    {
     "name": "stdout",
     "output_type": "stream",
     "text": [
      "The total is 7\n"
     ]
    }
   ],
   "source": [
    "## test it on 3 and 4\n",
    "add_numbers (3,4)"
   ]
  },
  {
   "cell_type": "markdown",
   "metadata": {
    "id": "IO8U1VBpisWL"
   },
   "source": [
    "### To use or not use functions?\n",
    "\n",
    "Let's compare the two options with a simple example:"
   ]
  },
  {
   "cell_type": "code",
   "execution_count": 15,
   "metadata": {
    "id": "pAht-66-isWL"
   },
   "outputs": [],
   "source": [
    "## You have a list of numbers. \n",
    "mylist1 = [1, -5, 22, -44.2, 33, -45]"
   ]
  },
  {
   "cell_type": "code",
   "execution_count": 17,
   "metadata": {
    "id": "lzSxWxi-isWQ",
    "scrolled": true
   },
   "outputs": [
    {
     "name": "stdout",
     "output_type": "stream",
     "text": [
      "1\n",
      "5\n",
      "22\n",
      "44.2\n",
      "33\n",
      "45\n"
     ]
    }
   ],
   "source": [
    "## Turn each number into an absolute number.\n",
    "## a for loop works perfectly fine here.\n",
    "for number in mylist1:\n",
    "    print(abs(number))"
   ]
  },
  {
   "cell_type": "code",
   "execution_count": 16,
   "metadata": {
    "id": "vAQQoc4gisWT"
   },
   "outputs": [],
   "source": [
    "## The problem is that your project keeps generating more lists.\n",
    "## Each list of numbers has to be turned into absolute numbers\n",
    "mylist2 = [-56, -34, -75, -111, -22]\n",
    "mylist3 = [-100, -200, 100, -300, -100]\n",
    "mylist4 = [-23, -89, -11, -45, -27]\n",
    "mylist5 = [0, 1, 2, 3, 4, 5]"
   ]
  },
  {
   "cell_type": "markdown",
   "metadata": {
    "id": "Bh9pG6QRisWX"
   },
   "source": [
    "## DRY\n",
    "\n",
    "\n",
    "### Do you keep writing for loops for each list?\n",
    "\n",
    "### No, that's a lot of repetition!\n",
    "### DRY stands for \"Don't Repeat Yourself\""
   ]
  },
  {
   "cell_type": "code",
   "execution_count": 19,
   "metadata": {
    "id": "cI2Yp7ouisWY"
   },
   "outputs": [],
   "source": [
    "## Instead we write a function that takes a list,\n",
    "## converts each list item to an absolute number,\n",
    "## and prints out the number\n",
    "\n",
    "def abs_vals (num_list):\n",
    "    '''\n",
    "    converts the number in each list to an absolute number\n",
    "    requires a list\n",
    "    '''\n",
    "    for number in num_list:\n",
    "        print(abs(number))"
   ]
  },
  {
   "cell_type": "code",
   "execution_count": 23,
   "metadata": {},
   "outputs": [
    {
     "name": "stdout",
     "output_type": "stream",
     "text": [
      "23\n",
      "89\n",
      "11\n",
      "45\n",
      "27\n"
     ]
    }
   ],
   "source": [
    "abs_vals (mylist4)"
   ]
  },
  {
   "cell_type": "code",
   "execution_count": 24,
   "metadata": {
    "id": "Z5W8Gwc4isWb"
   },
   "outputs": [
    {
     "name": "stdout",
     "output_type": "stream",
     "text": [
      "23\n",
      "89\n",
      "11\n",
      "45\n",
      "27\n"
     ]
    }
   ],
   "source": [
    "## Try swapping out different lists into the function:\n",
    "abs_vals (mylist4)"
   ]
  },
  {
   "cell_type": "markdown",
   "metadata": {
    "id": "G4NOV4O0isWf"
   },
   "source": [
    "## Timesaver \n",
    "### Imagine for a moment that your editor tells you that the calculation needs to be updated. Instead of needing the absolute number, you need the absolute number minus 5.\n",
    "\n",
    "### Having used multiple for loops, you'd have to change each one. What if you miss one or two? Either way, it's a chore.\n",
    "\n",
    "### With functions, you just revise the function and the update runs everywhere.\n",
    "\n"
   ]
  },
  {
   "cell_type": "code",
   "execution_count": null,
   "metadata": {
    "id": "uhgZEHriisWg"
   },
   "outputs": [],
   "source": [
    "## So if an editor says to actually multiply the absolute number by 1_000_000,\n",
    "def abs_vals (num_list):\n",
    "    '''\n",
    "    converts the number in each list to an absolute number\n",
    "    requires a list\n",
    "    '''\n",
    "    for number in num_list:\n",
    "        print(abs(number))\n"
   ]
  },
  {
   "cell_type": "code",
   "execution_count": null,
   "metadata": {
    "id": "wiSG44-hisWj"
   },
   "outputs": [],
   "source": [
    "## Try swapping out different lists into the function:\n"
   ]
  },
  {
   "cell_type": "markdown",
   "metadata": {
    "id": "nOEX3pEPisWn"
   },
   "source": [
    "## Return Statements\n",
    "\n",
    "### So far we have only printed out values processed by a function. \n",
    "\n",
    "### But we really want to retain the value the function creates. \n",
    "\n",
    "### We can then pass that value to other parts of our calculations and code."
   ]
  },
  {
   "cell_type": "code",
   "execution_count": 25,
   "metadata": {
    "id": "vtUK3hqEisWo"
   },
   "outputs": [],
   "source": [
    "## Simple example\n",
    "## A function that adds two numbers together and prints the value:\n",
    "def add_numbers (number1, number2):\n",
    "    '''\n",
    "    needs 2 numbers as arguments\n",
    "    will add them together and print total\n",
    "    '''\n",
    "    total = number1 + number2\n",
    "    print (f\"The total is {total}\")"
   ]
  },
  {
   "cell_type": "code",
   "execution_count": 26,
   "metadata": {
    "id": "NYPOUHPYisWr"
   },
   "outputs": [
    {
     "name": "stdout",
     "output_type": "stream",
     "text": [
      "The total is 6\n"
     ]
    }
   ],
   "source": [
    "## call the function with the numbers 2 and 4\n",
    "add_numbers (2,4)"
   ]
  },
  {
   "cell_type": "code",
   "execution_count": 28,
   "metadata": {
    "id": "KW-RR26kisWu"
   },
   "outputs": [
    {
     "name": "stdout",
     "output_type": "stream",
     "text": [
      "The total is 6\n"
     ]
    }
   ],
   "source": [
    "## let's try to save it in a variable called myCalc\n",
    "myCalc = add_numbers(2,4)"
   ]
  },
  {
   "cell_type": "code",
   "execution_count": 30,
   "metadata": {
    "id": "FAjPbbetisWw"
   },
   "outputs": [
    {
     "name": "stdout",
     "output_type": "stream",
     "text": [
      "None\n"
     ]
    }
   ],
   "source": [
    "## Print myCalc. What does it hold?\n",
    "print(myCalc)"
   ]
  },
  {
   "cell_type": "code",
   "execution_count": 31,
   "metadata": {},
   "outputs": [
    {
     "data": {
      "text/plain": [
       "NoneType"
      ]
     },
     "execution_count": 31,
     "metadata": {},
     "output_type": "execute_result"
    }
   ],
   "source": [
    "type(myCalc)"
   ]
  },
  {
   "cell_type": "markdown",
   "metadata": {
    "id": "1nWPhLX7isW0"
   },
   "source": [
    "### The return Statement"
   ]
  },
  {
   "cell_type": "code",
   "execution_count": 32,
   "metadata": {
    "id": "K8-SnWdbisW9"
   },
   "outputs": [],
   "source": [
    "## Tweak our function by adding return statement\n",
    "## instead of printing a value we want to return a value(or values).\n",
    "def add_numbers (number1, number2):\n",
    "    '''\n",
    "    needs 2 numbers as arguments\n",
    "    will add them together and print total\n",
    "    '''\n",
    "    total = number1 + number2\n",
    "    print (f\"The total is {total}\")\n",
    "    return total ###return statement has to be the last thing in a statement"
   ]
  },
  {
   "cell_type": "code",
   "execution_count": 34,
   "metadata": {
    "id": "qqHWY6hDisXA"
   },
   "outputs": [
    {
     "name": "stdout",
     "output_type": "stream",
     "text": [
      "The total is 6\n"
     ]
    },
    {
     "data": {
      "text/plain": [
       "6"
      ]
     },
     "execution_count": 34,
     "metadata": {},
     "output_type": "execute_result"
    }
   ],
   "source": [
    "## call the function add_numbers_ret \n",
    "## and store in variable called myCalc\n",
    "myCalc = add_numbers (2,4)\n"
   ]
  },
  {
   "cell_type": "code",
   "execution_count": 35,
   "metadata": {
    "id": "fstAjEs7isXC"
   },
   "outputs": [
    {
     "data": {
      "text/plain": [
       "6"
      ]
     },
     "execution_count": 35,
     "metadata": {},
     "output_type": "execute_result"
    }
   ],
   "source": [
    "## print myCalc\n",
    "myCalc"
   ]
  },
  {
   "cell_type": "code",
   "execution_count": 37,
   "metadata": {
    "id": "CEMgm7GPisXE"
   },
   "outputs": [
    {
     "data": {
      "text/plain": [
       "int"
      ]
     },
     "execution_count": 37,
     "metadata": {},
     "output_type": "execute_result"
    }
   ],
   "source": [
    "## What type is myCalc?\n",
    "type (myCalc)"
   ]
  },
  {
   "cell_type": "markdown",
   "metadata": {
    "id": "AexgFVAbisXG"
   },
   "source": [
    "## Return multiple values"
   ]
  },
  {
   "cell_type": "code",
   "execution_count": 38,
   "metadata": {
    "id": "kayhb9aFisXH"
   },
   "outputs": [],
   "source": [
    "## demo function\n",
    "\n",
    "def get_person (name, age, country):\n",
    "    '''\n",
    "    takes name as string, age as int, country as string\n",
    "    returns name in allcaps, age x 100, country lowercased\n",
    "    '''\n",
    "    return name.upper(), age * 100, country.lower()\n"
   ]
  },
  {
   "cell_type": "code",
   "execution_count": 45,
   "metadata": {
    "id": "QSNk1gZRisXJ"
   },
   "outputs": [],
   "source": [
    "name,age,country = get_person(\"David\", 35, \"France\")\n"
   ]
  },
  {
   "cell_type": "code",
   "execution_count": 47,
   "metadata": {},
   "outputs": [],
   "source": [
    "name, age,country = get_person (\"Olivia\", 40, \"India\")"
   ]
  },
  {
   "cell_type": "code",
   "execution_count": 48,
   "metadata": {},
   "outputs": [
    {
     "data": {
      "text/plain": [
       "'OLIVIA'"
      ]
     },
     "execution_count": 48,
     "metadata": {},
     "output_type": "execute_result"
    }
   ],
   "source": [
    "name"
   ]
  },
  {
   "cell_type": "markdown",
   "metadata": {
    "id": "X6S4AmDyisXL"
   },
   "source": [
    "### Let's revise our earlier absolute values converter with a return statement\n",
    "#### Here is the earlier version:\n",
    "<img src=\"https://github.com/sandeepmj/fall20-student-practical-python/blob/master/support_files/abs-function.png?raw=true\" style=\"width: 100%;\">"
   ]
  },
  {
   "cell_type": "code",
   "execution_count": 52,
   "metadata": {
    "id": "T8659oO6isXM"
   },
   "outputs": [],
   "source": [
    "## Here it is revised with a return statement\n",
    "def abs_vals (num_list):\n",
    "    '''\n",
    "    converts the number in each list to an absolute number\n",
    "    requires a list\n",
    "    '''\n",
    "    absolute_list = []\n",
    "    for number in num_list:\n",
    "        absolute_list.append(abs(number))\n",
    "    return abs(number) \n",
    "         \n",
    "        \n",
    "        \n",
    "        "
   ]
  },
  {
   "cell_type": "code",
   "execution_count": 53,
   "metadata": {},
   "outputs": [
    {
     "data": {
      "text/plain": [
       "45"
      ]
     },
     "execution_count": 53,
     "metadata": {},
     "output_type": "execute_result"
    }
   ],
   "source": [
    "abs_vals (mylist1)"
   ]
  },
  {
   "cell_type": "code",
   "execution_count": 55,
   "metadata": {
    "id": "F5zkbh9WisXQ"
   },
   "outputs": [],
   "source": [
    "## Let's actually make that a list comprehension version of the function:\n",
    "def abs_vals_lc (num_list):\n",
    "    '''\n",
    "    converts the number in each list to an absolute number\n",
    "    requires a list\n",
    "    '''\n",
    "    return [abs(number) for number in num_list]"
   ]
  },
  {
   "cell_type": "code",
   "execution_count": 58,
   "metadata": {
    "id": "bgutKkejisXS"
   },
   "outputs": [
    {
     "data": {
      "text/plain": [
       "[100, 200, 100, 300, 100]"
      ]
     },
     "execution_count": 58,
     "metadata": {},
     "output_type": "execute_result"
    }
   ],
   "source": [
    "## Let's test it by storing the return value in variable x\n",
    "x = abs_vals_lc (mylist3)\n",
    "x"
   ]
  },
  {
   "cell_type": "code",
   "execution_count": 59,
   "metadata": {
    "id": "rG4DOzrtisXU"
   },
   "outputs": [
    {
     "data": {
      "text/plain": [
       "list"
      ]
     },
     "execution_count": 59,
     "metadata": {},
     "output_type": "execute_result"
    }
   ],
   "source": [
    "## What type of data object is it?\n",
    "type (x)"
   ]
  },
  {
   "cell_type": "markdown",
   "metadata": {
    "id": "v-Fzlv8bisXW"
   },
   "source": [
    "# Make a function more flexible and universal\n",
    "\n",
    "* Currently, we have a function that takes ONLY a list as an argument.\n",
    "* We'd have to write another one for a single number argument."
   ]
  },
  {
   "cell_type": "code",
   "execution_count": 61,
   "metadata": {
    "id": "JuEm_at2isXX"
   },
   "outputs": [
    {
     "data": {
      "text/plain": [
       "1"
      ]
     },
     "execution_count": 61,
     "metadata": {},
     "output_type": "execute_result"
    }
   ],
   "source": [
    "## try using return_absolutes_lc on a single number like -10\n",
    "## it will break\n",
    "\n",
    "abs_vals([1])"
   ]
  },
  {
   "cell_type": "markdown",
   "metadata": {
    "id": "0Z17Ai35isXZ"
   },
   "source": [
    "# Universalize our absolute numbers function"
   ]
  },
  {
   "cell_type": "code",
   "execution_count": 63,
   "metadata": {
    "id": "T1RZMy6ZisXZ"
   },
   "outputs": [],
   "source": [
    "## call the function make_abs\n",
    "def make_abs (a_number):\n",
    "    '''\n",
    "    function to turn an individual number into an absolute\n",
    "    '''\n",
    "    return abs(a_number)"
   ]
  },
  {
   "cell_type": "code",
   "execution_count": 64,
   "metadata": {
    "id": "MAGdM0l2isXc"
   },
   "outputs": [
    {
     "data": {
      "text/plain": [
       "10"
      ]
     },
     "execution_count": 64,
     "metadata": {},
     "output_type": "execute_result"
    }
   ],
   "source": [
    "## try it on -10\n",
    "make_abs (-10)"
   ]
  },
  {
   "cell_type": "code",
   "execution_count": 65,
   "metadata": {
    "id": "tYFM9eigisXe"
   },
   "outputs": [
    {
     "ename": "TypeError",
     "evalue": "bad operand type for abs(): 'list'",
     "output_type": "error",
     "traceback": [
      "\u001b[0;31m---------------------------------------------------------------------------\u001b[0m",
      "\u001b[0;31mTypeError\u001b[0m                                 Traceback (most recent call last)",
      "\u001b[0;32m<ipython-input-65-4d1a407beb2c>\u001b[0m in \u001b[0;36m<module>\u001b[0;34m\u001b[0m\n\u001b[1;32m      1\u001b[0m \u001b[0;31m## Try it on mylist3 - it will break!\u001b[0m\u001b[0;34m\u001b[0m\u001b[0;34m\u001b[0m\u001b[0;34m\u001b[0m\u001b[0m\n\u001b[0;32m----> 2\u001b[0;31m \u001b[0mmake_abs\u001b[0m \u001b[0;34m(\u001b[0m\u001b[0mmylist1\u001b[0m\u001b[0;34m)\u001b[0m\u001b[0;34m\u001b[0m\u001b[0;34m\u001b[0m\u001b[0m\n\u001b[0m",
      "\u001b[0;32m<ipython-input-63-505d24f49730>\u001b[0m in \u001b[0;36mmake_abs\u001b[0;34m(a_number)\u001b[0m\n\u001b[1;32m      1\u001b[0m \u001b[0;31m## call the function make_abs\u001b[0m\u001b[0;34m\u001b[0m\u001b[0;34m\u001b[0m\u001b[0;34m\u001b[0m\u001b[0m\n\u001b[1;32m      2\u001b[0m \u001b[0;32mdef\u001b[0m \u001b[0mmake_abs\u001b[0m \u001b[0;34m(\u001b[0m\u001b[0ma_number\u001b[0m\u001b[0;34m)\u001b[0m\u001b[0;34m:\u001b[0m\u001b[0;34m\u001b[0m\u001b[0;34m\u001b[0m\u001b[0m\n\u001b[0;32m----> 3\u001b[0;31m     \u001b[0;32mreturn\u001b[0m \u001b[0mabs\u001b[0m\u001b[0;34m(\u001b[0m\u001b[0ma_number\u001b[0m\u001b[0;34m)\u001b[0m\u001b[0;34m\u001b[0m\u001b[0;34m\u001b[0m\u001b[0m\n\u001b[0m",
      "\u001b[0;31mTypeError\u001b[0m: bad operand type for abs(): 'list'"
     ]
    }
   ],
   "source": [
    "## Try it on mylist3 - it will break!\n",
    "make_abs (mylist1)"
   ]
  },
  {
   "cell_type": "markdown",
   "metadata": {
    "id": "XSrEIiOOisXf"
   },
   "source": [
    "## We can use the ```map()``` function to tackle this problem.\n",
    "\n",
    "```map()``` takes 2 arguments: a ```function``` and ```iterable like a list```."
   ]
  },
  {
   "cell_type": "code",
   "execution_count": 66,
   "metadata": {
    "id": "jlXq8fI2isXg"
   },
   "outputs": [
    {
     "data": {
      "text/plain": [
       "<map at 0x7fb7e498fd90>"
      ]
     },
     "execution_count": 66,
     "metadata": {},
     "output_type": "execute_result"
    }
   ],
   "source": [
    "## try it on make_abs and mylist3\n",
    "map(make_abs, mylist1)"
   ]
  },
  {
   "cell_type": "code",
   "execution_count": 68,
   "metadata": {
    "id": "Et9oBSbfisXi"
   },
   "outputs": [],
   "source": [
    "## save it into a list\n",
    "updated_list = list(map(make_abs, mylist1))"
   ]
  },
  {
   "cell_type": "markdown",
   "metadata": {
    "id": "0CsViTZAisXk"
   },
   "source": [
    "## ```map()``` also works for multiple iterables\n",
    "\n",
    "#### remember our ```add_numbers_ret``` function."
   ]
  },
  {
   "cell_type": "code",
   "execution_count": 69,
   "metadata": {
    "id": "cODMzJ8IisXk"
   },
   "outputs": [],
   "source": [
    "## here it is again:\n",
    "\n",
    "def add_numbers_ret(number1, number2):\n",
    "    return (number1 + number2)"
   ]
  },
  {
   "cell_type": "code",
   "execution_count": 70,
   "metadata": {
    "id": "amKppxB6isXn"
   },
   "outputs": [],
   "source": [
    "## two lists\n",
    "a_even = [2, 4, 6, 8]\n",
    "a_odd = [1, 3, 5, 7, 9] ## note this has one more item in the list."
   ]
  },
  {
   "cell_type": "code",
   "execution_count": 71,
   "metadata": {
    "id": "Eq6Rah9gisXp"
   },
   "outputs": [
    {
     "data": {
      "text/plain": [
       "[3, 7, 11, 15]"
      ]
     },
     "execution_count": 71,
     "metadata": {},
     "output_type": "execute_result"
    }
   ],
   "source": [
    "## run map on a_even and a_odd\n",
    "b = list(map(add_numbers_ret, a_even, a_odd)) #map means connecting two or more things together\n",
    "b"
   ]
  },
  {
   "cell_type": "markdown",
   "metadata": {
    "id": "x9xlNCaTisXr"
   },
   "source": [
    "## Functions that call other funcions"
   ]
  },
  {
   "cell_type": "code",
   "execution_count": 73,
   "metadata": {
    "id": "46e6SsNjisXr"
   },
   "outputs": [],
   "source": [
    "## let's create a function that returns the square of a number\n",
    "def sq_me(num):\n",
    "    '''\n",
    "    takes a number and returns its square\n",
    "    '''\n",
    "    return pow (num, 2)\n"
   ]
  },
  {
   "cell_type": "code",
   "execution_count": 74,
   "metadata": {
    "id": "lXVf6yyoisXt"
   },
   "outputs": [
    {
     "data": {
      "text/plain": [
       "81"
      ]
     },
     "execution_count": 74,
     "metadata": {},
     "output_type": "execute_result"
    }
   ],
   "source": [
    "## what is 9 squared?\n",
    "sq_me (9)"
   ]
  },
  {
   "cell_type": "code",
   "execution_count": 75,
   "metadata": {},
   "outputs": [
    {
     "name": "stdout",
     "output_type": "stream",
     "text": [
      "The total is 32\n"
     ]
    },
    {
     "data": {
      "text/plain": [
       "32"
      ]
     },
     "execution_count": 75,
     "metadata": {},
     "output_type": "execute_result"
    }
   ],
   "source": [
    "add_numbers (10, 22)"
   ]
  },
  {
   "cell_type": "markdown",
   "metadata": {
    "id": "KEs8xN58isXw"
   },
   "source": [
    "### Making a point here with a simple example\n",
    "Let's say we want to add 2 numbers together and then square that result.\n",
    "Instead of writing one \"complex\" function, we can call on our modular functions."
   ]
  },
  {
   "cell_type": "code",
   "execution_count": 76,
   "metadata": {
    "id": "02MJSeJeisXw"
   },
   "outputs": [],
   "source": [
    "## a function that calls our modular functions\n",
    "def making_a_point (num1,num2):\n",
    "    '''\n",
    "    uses sq_me to square\n",
    "    uses add_numbers to add 2 numbers\n",
    "    '''\n",
    "    return (sq_me(add_numbers(num1, num2)))"
   ]
  },
  {
   "cell_type": "code",
   "execution_count": 78,
   "metadata": {
    "id": "-JoHUTu0isXy"
   },
   "outputs": [
    {
     "name": "stdout",
     "output_type": "stream",
     "text": [
      "The total is 7\n"
     ]
    },
    {
     "data": {
      "text/plain": [
       "49"
      ]
     },
     "execution_count": 78,
     "metadata": {},
     "output_type": "execute_result"
    }
   ],
   "source": [
    "## call make_point() on 2 and 5\n",
    "making_a_point(2,5)"
   ]
  },
  {
   "cell_type": "code",
   "execution_count": null,
   "metadata": {},
   "outputs": [],
   "source": []
  }
 ],
 "metadata": {
  "celltoolbar": "Slideshow",
  "colab": {
   "collapsed_sections": [
    "KEs8xN58isXw"
   ],
   "name": "week-3 inclass functions-BLANKS.ipynb",
   "provenance": []
  },
  "kernelspec": {
   "display_name": "Python 3",
   "language": "python",
   "name": "python3"
  },
  "language_info": {
   "codemirror_mode": {
    "name": "ipython",
    "version": 3
   },
   "file_extension": ".py",
   "mimetype": "text/x-python",
   "name": "python",
   "nbconvert_exporter": "python",
   "pygments_lexer": "ipython3",
   "version": "3.8.8"
  }
 },
 "nbformat": 4,
 "nbformat_minor": 1
}
