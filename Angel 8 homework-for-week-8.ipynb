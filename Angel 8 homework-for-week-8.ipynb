{
 "cells": [
  {
   "cell_type": "markdown",
   "metadata": {
    "id": "s72TOboY74hw"
   },
   "source": [
    "Write a scraper to download the documents from <a href=\"http://dof.ca.gov/Forecasting/Economics/Economic_and_Revenue_Updates/\">this site</a>. \n",
    "\n",
    "NOTE: \n",
    "\n",
    "- There are different tags you might target to get the same final results.\n",
    "\n",
    "- COLAB ONLY: Because of Colab issues, Not ALL the files will actually download to your desktop. I’ll show you a workaround during class.\n",
    "\n",
    "- When it's time to use ```wget``` your code might throw an ```SSL error```. Just run the code below:\n"
   ]
  },
  {
   "cell_type": "code",
   "execution_count": 27,
   "metadata": {
    "id": "lyESng5tC4V7"
   },
   "outputs": [],
   "source": [
    "## if you get an error in the wget step come back and run this step\n",
    "import ssl\n",
    "ssl._create_default_https_context = ssl._create_unverified_context"
   ]
  },
  {
   "cell_type": "code",
   "execution_count": 1,
   "metadata": {},
   "outputs": [
    {
     "name": "stdout",
     "output_type": "stream",
     "text": [
      "Requirement already satisfied: icecream in /Users/angeladegbesan/opt/anaconda3/lib/python3.8/site-packages (2.1.1)\n",
      "Requirement already satisfied: pygments>=2.2.0 in /Users/angeladegbesan/opt/anaconda3/lib/python3.8/site-packages (from icecream) (2.8.1)\n",
      "Requirement already satisfied: colorama>=0.3.9 in /Users/angeladegbesan/opt/anaconda3/lib/python3.8/site-packages (from icecream) (0.4.4)\n",
      "Requirement already satisfied: asttokens>=2.0.1 in /Users/angeladegbesan/opt/anaconda3/lib/python3.8/site-packages (from icecream) (2.0.5)\n",
      "Requirement already satisfied: executing>=0.3.1 in /Users/angeladegbesan/opt/anaconda3/lib/python3.8/site-packages (from icecream) (0.8.1)\n",
      "Requirement already satisfied: six in /Users/angeladegbesan/opt/anaconda3/lib/python3.8/site-packages (from asttokens>=2.0.1->icecream) (1.15.0)\n",
      "Note: you may need to restart the kernel to use updated packages.\n"
     ]
    }
   ],
   "source": [
    "pip install icecream"
   ]
  },
  {
   "cell_type": "code",
   "execution_count": 2,
   "metadata": {},
   "outputs": [],
   "source": [
    "from icecream import ic\n",
    "import wget\n",
    "import requests\n",
    "from bs4 import BeautifulSoup \n",
    "from random import randrange\n",
    "import time\n",
    "import itertools"
   ]
  },
  {
   "cell_type": "code",
   "execution_count": 7,
   "metadata": {},
   "outputs": [
    {
     "name": "stderr",
     "output_type": "stream",
     "text": [
      "/Users/angeladegbesan/opt/anaconda3/lib/python3.8/site-packages/urllib3/connectionpool.py:1013: InsecureRequestWarning: Unverified HTTPS request is being made to host 'dof.ca.gov'. Adding certificate verification is strongly advised. See: https://urllib3.readthedocs.io/en/latest/advanced-usage.html#ssl-warnings\n",
      "  warnings.warn(\n",
      "ic| response.status_code: 200\n"
     ]
    },
    {
     "data": {
      "text/plain": [
       "200"
      ]
     },
     "execution_count": 7,
     "metadata": {},
     "output_type": "execute_result"
    }
   ],
   "source": [
    "url = \"https://dof.ca.gov/Forecasting/Economics/Economic_and_Revenue_Updates/\"\n",
    "response = requests.get(url, verify=False)\n",
    "ic(response.status_code)"
   ]
  },
  {
   "cell_type": "code",
   "execution_count": 11,
   "metadata": {
    "scrolled": true
   },
   "outputs": [
    {
     "name": "stdout",
     "output_type": "stream",
     "text": [
      "ï»¿\n",
      "<!DOCTYPE html>\n",
      "<!--[if lt IE 7]> <html class=\"no-js ie6 oldie\" lang=\"en\"> <![endif]-->\n",
      "<!--[if IE 7]>    <html class=\"no-js ie7 oldie\" lang=\"en\"> <![endif]-->\n",
      "<!--[if IE 8]>    <html class=\"no-js ie8 oldie\" lang=\"en\"> <![endif]-->\n",
      "<!--[if IE 9]>    <html class=\"no-js ie9 oldie\" lang=\"en\"> <![endif]-->\n",
      "<!--[if (gt IE 9)]><!-->\n",
      "<html class=\"no-js\" lang=\"en\">\n",
      " <!--<![endif]-->\n",
      " <head>\n",
      "  <!--\r\n",
      "California State Template\r\n",
      "Version 5.0.6\r\n",
      "\r\n",
      "    Based on Twitter Bootstrap\r\n",
      "    -->\n",
      "  <meta charset=\"utf-8\"/>\n",
      "  <title>\n",
      "   Economic and Revenue Updates\n",
      "  </title>\n",
      "  <meta content=\"State of California\" name=\"Author\">\n",
      "   <meta content=\"State of California\" name=\"Description\"/>\n",
      "   <meta content=\"California, government\" name=\"Keywords\"/>\n",
      "   <!-- head content, for all pages -->\n",
      "   <!-- Use highest compatibility mode -->\n",
      "   <meta content=\"IE=edge\" http-equiv=\"X-UA-Compatible\"/>\n",
      "   <!-- http://t.co/dKP3o1e -->\n",
      "   <meta content=\"True\" name=\"HandheldFriendly\"/>\n",
      "   <!-- for Blackberry, AvantGo -->\n",
      "   <meta content=\"320\" name=\"MobileOptimized\"/>\n",
      "   <!-- for Windows mobile -->\n",
      "   <meta content=\"width=device-width, initial-scale=1.0, minimum-scale=1.0\" name=\"viewport\"/>\n",
      "   <!-- Google Fonts -->\n",
      "   <link href=\"https://fonts.googleapis.com/css?family=Source+Sans+Pro:400,700\" rel=\"stylesheet\" type=\"text/css\"/>\n",
      "   <!-- For all browsers -->\n",
      "   <link href=\"/css/cagov.core.css\" rel=\"stylesheet\"/>\n",
      "   <script src=\"/js/search.js\">\n",
      "   </script>\n",
      "   <!--\n",
      "Step 3\n",
      "Select a color scheme:\n",
      "<link rel=\"stylesheet\" href=\"/css/colorscheme-eureka.css\">\n",
      "<link rel=\"stylesheet\" href=\"/css/colorscheme-mono.css\">\n",
      "<link rel=\"stylesheet\" href=\"/css/colorscheme-sacramento.css\">\n",
      "<link rel=\"stylesheet\" href=\"/css/colorscheme-orangecounty.css\">\n",
      "<link rel=\"stylesheet\" href=\"/css/colorscheme-pasorobles.css\">\n",
      "<link rel=\"stylesheet\" href=\"/css/colorscheme-santabarbara.css\">\n",
      "\n",
      "<link rel=\"stylesheet\" href=\"/css/colorscheme-sierra.css\">\n",
      "<link rel=\"stylesheet\" href=\"/css/colorscheme-trinity.css\">\n",
      "<link rel=\"stylesheet\" href=\"/css/colorscheme-oceanside.css\">\n",
      "<link rel=\"stylesheet\" href=\"/css/colorscheme-dof.css\">-->\n",
      "   <link href=\"/css/colorscheme-sacramento.css\" rel=\"stylesheet\"/>\n",
      "   <!-- selectivizr.com, emulates CSS3 pseudo-classes and attribute selectors in Internet Explorer 6-8 -->\n",
      "   <!--[if (lt IE 9) & (!IEMobile)]>\n",
      "<script src=\"/js/libs/selectivizr-min.js\"></script>\n",
      "<![endif]-->\n",
      "   <!-- Load jQuery from CDN with fallback to local copy -->\n",
      "   <script src=\"https://ajax.googleapis.com/ajax/libs/jquery/3.2.1/jquery.min.js\" type=\"text/javascript\">\n",
      "   </script>\n",
      "   <script>\n",
      "    //Fall back to local copy if no jquery found\n",
      "    if (typeof jQuery == 'undefined') {\n",
      "        document.write(unescape(\"%3Cscript src='/js/libs/jquery-3.2.1.min.js' type='text/javascript'%3E%3C/script%3E\"));\n",
      "    }\n",
      "   </script>\n",
      "   <!-- Load jQuery migrate from CDN with fallback to local copy -->\n",
      "   <script src=\"https://code.jquery.com/jquery-migrate-3.0.1.min.js\">\n",
      "   </script>\n",
      "   <script>\n",
      "    //Fall back to local copy if no jQuery migrate found\n",
      "    if (typeof jQuery.migrateWarnings == 'undefined') { // or typeof jQuery.fn.live == 'undefined'\n",
      "        document.write(unescape(\"%3Cscript src='/js/libs/jquery-migrate-3.0.1.js' type='text/javascript'%3E%3C/script%3E\"));\n",
      "    }\n",
      "   </script>\n",
      "   <!-- For iPad 3-->\n",
      "   <link href=\"/images/template2014/apple-touch-icon-144x144.png\" rel=\"apple-touch-icon\" sizes=\"144x144\"/>\n",
      "   <!-- For iPhone 4 -->\n",
      "   <link href=\"/images/template2014/apple-touch-icon-114x114.png\" rel=\"apple-touch-icon\" sizes=\"114x114\"/>\n",
      "   <!-- For iPad 1-->\n",
      "   <link href=\"/images/template2014/apple-touch-icon-72x72.png\" rel=\"apple-touch-icon\" sizes=\"72x72\"/>\n",
      "   <!-- For iPhone 3G, iPod Touch and Android -->\n",
      "   <link href=\"/images/template2014/apple-touch-icon-57x57.png\" rel=\"apple-touch-icon\"/>\n",
      "   <!-- For Nokia -->\n",
      "   <link href=\"/images/template2014/apple-touch-icon-57x57.png\" rel=\"shortcut icon\"/>\n",
      "   <!-- For everything else -->\n",
      "   <link href=\"/favicon.ico\" rel=\"shortcut icon\"/>\n",
      "   <link href=\"/css/custom.css\" rel=\"stylesheet\" type=\"text/css\">\n",
      "    <link href=\"/css/link-text.css\" rel=\"stylesheet\" type=\"text/css\">\n",
      "     <!-- Activate ClearType for Mobile IE -->\n",
      "     <!--[if IE]>\n",
      "<meta http-equiv=\"cleartype\" content=\"on\">\n",
      "<![endif]-->\n",
      "     <!-- HTML5 shim and Respond.js IE8 support of HTML5 elements and media queries -->\n",
      "     <!--[if lt IE 9]>\n",
      "  <script src=\"/js/libs/html5shiv.min.js\"></script>\n",
      "  <script src=\"/js/libs/respond.min.js\"></script>\n",
      "<![endif]-->\n",
      "     <!-- Include Google Analytics -->\n",
      "     <!-- virtual=\"/ssi/analytics.html\" -->\n",
      "    </link>\n",
      "   </link>\n",
      "  </meta>\n",
      " </head>\n",
      " <body>\n",
      "  <header class=\"global-header\" id=\"header\" role=\"banner\">\n",
      "   <div id=\"skip-to-content\">\n",
      "    <a href=\"#main-content\">\n",
      "     Skip to Main Content\n",
      "    </a>\n",
      "   </div>\n",
      "   <!-- Settings Bar -->\n",
      "   <div class=\"site-settings section section-standout collapse collapsed\" id=\"siteSettings\" role=\"alert\">\n",
      "    <div class=\"container p-y\">\n",
      "     <button aria-controls=\"siteSettings\" aria-expanded=\"false\" aria-label=\"Close\" class=\"close\" data-target=\"#siteSettings\" data-toggle=\"collapse\" type=\"button\">\n",
      "      <span aria-hidden=\"true\">\n",
      "       ×\n",
      "      </span>\n",
      "     </button>\n",
      "     <div aria-label=\"contrastMode\" class=\"btn-group btn-group-justified-sm\" role=\"group\">\n",
      "      <div class=\"btn-group\">\n",
      "       <button class=\"btn btn-standout disableHighContrastMode\" type=\"button\">\n",
      "        Default\n",
      "       </button>\n",
      "      </div>\n",
      "      <div class=\"btn-group\">\n",
      "       <button class=\"btn btn-standout enableHighContrastMode\" type=\"button\">\n",
      "        High Contrast\n",
      "       </button>\n",
      "      </div>\n",
      "     </div>\n",
      "     <div aria-label=\"textSizeMode\" class=\"btn-group\" role=\"group\">\n",
      "      <div class=\"btn-group\">\n",
      "       <button class=\"btn btn-standout resetTextSize\" type=\"button\">\n",
      "        Reset\n",
      "       </button>\n",
      "      </div>\n",
      "      <div class=\"btn-group\">\n",
      "       <button class=\"btn btn-standout increaseTextSize\" type=\"button\">\n",
      "        <span class=\"hidden-xs\">\n",
      "         Increase Font Size\n",
      "        </span>\n",
      "        <span class=\"visible-xs\">\n",
      "         Font\n",
      "         <span class=\"sr-only\">\n",
      "          Increase\n",
      "         </span>\n",
      "         <span aria-hidden=\"true\" class=\"ca-gov-icon-plus-line font-size-sm\">\n",
      "         </span>\n",
      "        </span>\n",
      "       </button>\n",
      "      </div>\n",
      "      <div class=\"btn-group\">\n",
      "       <button class=\"btn btn-standout decreaseTextSize\" type=\"button\">\n",
      "        <span class=\"hidden-xs\">\n",
      "         Decrease Font Size\n",
      "        </span>\n",
      "        <span class=\"visible-xs\">\n",
      "         Font\n",
      "         <span class=\"sr-only\">\n",
      "          Decrease\n",
      "         </span>\n",
      "         <span aria-hidden=\"true\" class=\"ca-gov-icon-minus-line font-size-sm\">\n",
      "         </span>\n",
      "        </span>\n",
      "       </button>\n",
      "      </div>\n",
      "     </div>\n",
      "    </div>\n",
      "   </div>\n",
      "   <!-- Alert Banner -->\n",
      "   <!-- Include Utility Header -->\n",
      "   <div class=\"utility-header\">\n",
      "    <div class=\"container\">\n",
      "     <div class=\"group flex-row\">\n",
      "      <div class=\"social-media-links\">\n",
      "       <div class=\"header-cagov-logo\">\n",
      "        <a href=\"https://ca.gov\">\n",
      "         <span class=\"sr-only\">\n",
      "          CA.gov\n",
      "         </span>\n",
      "         <img alt=\"\" aria-hidden=\"true\" class=\"pos-rel\" src=\"/images/Ca-Gov-Logo-Gold.svg\"/>\n",
      "        </a>\n",
      "       </div>\n",
      "       <a class=\"ca-gov-icon-home\" href=\"/\">\n",
      "        <span class=\"sr-only\">\n",
      "         Home\n",
      "        </span>\n",
      "       </a>\n",
      "       <!-- <a href=\"/\" class=\"ca-gov-icon-facebook\"><span class=\"sr-only\">Facebook</span></a>\n",
      "                <a href=\"/\" class=\"ca-gov-icon-twitter\"><span class=\"sr-only\">Twitter</span></a>\n",
      "                <a href=\"/\" class=\"ca-gov-icon-email\"><span class=\"sr-only\">Email</span></a>-->\n",
      "      </div>\n",
      "      <div class=\"settings-links\">\n",
      "       <a aria-controls=\"siteSettings\" aria-expanded=\"true\" aria-selected=\"false\" data-toggle=\"collapse\" href=\"#siteSettings\" id=\"ui-collapse-744\" role=\"tab\">\n",
      "        <img alt=\"universal icon for web accessibility\" class=\"icon icon-top\" src=\"/images/accessibility-icon.png\" title=\"Universal Icon for Web Accessibility\"/>\n",
      "       </a>\n",
      "       <!--<button class=\"btn btn-xs btn-primary\" data-toggle=\"collapse\" data-target=\"#siteSettings\" aria-expanded=\"false\" aria-controls=\"siteSettings\"><span class=\"ca-gov-icon-gear\" aria-hidden=\"true\"></span> Accessibility Settings</button>-->\n",
      "       <a href=\"/Translator/\">\n",
      "        <span class=\"ca-gov-icon-globe\">\n",
      "        </span>\n",
      "        Google Translate\n",
      "       </a>\n",
      "      </div>\n",
      "      <!--<div>\n",
      "\t\t\t\t<div id=\"google_translate_element\"></div>\n",
      "\n",
      "\t\t\t\t\t\t<script type=\"text/javascript\">\n",
      "\t\t\t\t\t\tfunction googleTranslateElementInit() {\n",
      "\t\t\t\t\t\t  new google.translate.TranslateElement({pageLanguage: 'en'}, 'google_translate_element');\n",
      "\t\t\t\t\t\t}\n",
      "\t\t\t\t\t\t</script>\n",
      "\n",
      "\t\t\t\t\t\t<script type=\"text/javascript\" src=\"//translate.google.com/translate_a/element.js?cb=googleTranslateElementInit\"></script>\n",
      "\n",
      "\t\t\t\t\n",
      "\t\t\t</div>\n",
      "\t\t\t\n",
      "\t\t\t-->\n",
      "     </div>\n",
      "    </div>\n",
      "   </div>\n",
      "   <!-- Include Branding -->\n",
      "   <!-- header branding -->\n",
      "   <div class=\"branding\">\n",
      "    <div class=\"header-organization-banner\">\n",
      "     <a href=\"/\">\n",
      "      <img alt=\"State of California Website Template logo\" src=\"/images/template-logo.png\"/>\n",
      "     </a>\n",
      "    </div>\n",
      "   </div>\n",
      "   <!-- Include Mobile Controls -->\n",
      "   <!-- mobile navigation controls -->\n",
      "   <div class=\"mobile-controls\">\n",
      "    <span class=\"mobile-control-group mobile-header-icons\">\n",
      "     <!-- Add more mobile controls here. These will be on the right side of the mobile page header section -->\n",
      "    </span>\n",
      "    <div class=\"mobile-control-group main-nav-icons float-right\">\n",
      "     <button aria-controls=\"navigation\" aria-expanded=\"false\" class=\"mobile-control toggle-menu float-right\" id=\"nav-icon3\">\n",
      "      <span>\n",
      "      </span>\n",
      "      <span>\n",
      "      </span>\n",
      "      <span>\n",
      "      </span>\n",
      "      <span>\n",
      "      </span>\n",
      "      <span class=\"sr-only\">\n",
      "       Menu\n",
      "      </span>\n",
      "     </button>\n",
      "     <button class=\"mobile-control toggle-search\">\n",
      "      <span aria-hidden=\"true\" class=\"ca-gov-icon-search hidden-print\">\n",
      "      </span>\n",
      "      <span class=\"sr-only\">\n",
      "       Search\n",
      "      </span>\n",
      "     </button>\n",
      "    </div>\n",
      "   </div>\n",
      "   <div class=\"navigation-search\">\n",
      "    <!-- Include Navigation -->\n",
      "    <!--\r\n",
      "Step 2\r\n",
      "Select Navigation Type:\r\n",
      "\r\n",
      "Options are: megadropdown dropdown singlelevel\r\n",
      "\r\n",
      "v506\r\n",
      "-->\n",
      "    <nav class=\"main-navigation singlelevel\" id=\"navigation\">\n",
      "     <ul class=\"top-level-nav\" id=\"nav_list\">\n",
      "      <li class=\"nav-item\">\n",
      "       <a class=\"first-level-link\" href=\"/Budget/\" title=\"Budget\">\n",
      "        <span class=\"ca-gov-icon-state\">\n",
      "        </span>\n",
      "        Budget\n",
      "       </a>\n",
      "      </li>\n",
      "      <li class=\"nav-item\">\n",
      "       <a class=\"first-level-link\" href=\"/Accounting/\" title=\"Accounting\">\n",
      "        <span aria-hidden=\"true\" class=\"ca-gov-icon-calculator\">\n",
      "        </span>\n",
      "        Accounting\n",
      "       </a>\n",
      "      </li>\n",
      "      <li class=\"nav-item\">\n",
      "       <a class=\"first-level-link\" href=\"/Forecasting/\" title=\"Forecasting\">\n",
      "        <span aria-hidden=\"true\" class=\"ca-gov-icon-binoculars\">\n",
      "        </span>\n",
      "        Forecasting\n",
      "       </a>\n",
      "      </li>\n",
      "      <li class=\"nav-item\">\n",
      "       <a class=\"first-level-link\" href=\"/Reports/\" title=\"Reports\">\n",
      "        <span aria-hidden=\"true\" class=\"ca-gov-icon-document\">\n",
      "        </span>\n",
      "        Reports\n",
      "       </a>\n",
      "      </li>\n",
      "      <li class=\"nav-item\">\n",
      "       <a class=\"first-level-link\" href=\"/Programs/\" title=\"Programs\">\n",
      "        <span aria-hidden=\"true\" class=\"ca-gov-icon-charge-units\">\n",
      "        </span>\n",
      "        Programs\n",
      "       </a>\n",
      "      </li>\n",
      "      <li class=\"nav-item\">\n",
      "       <a class=\"first-level-link\" href=\"/About_Us/Careers/\" title=\"Careers\">\n",
      "        <span aria-hidden=\"true\" class=\"ca-gov-icon-users\">\n",
      "        </span>\n",
      "        Careers\n",
      "       </a>\n",
      "      </li>\n",
      "      <li class=\"nav-item\">\n",
      "       <a class=\"first-level-link\" href=\"/What_Is_New/\" title=\"What's New\">\n",
      "        <span aria-hidden=\"true\" class=\"ca-gov-icon-loud-speaker\">\n",
      "        </span>\n",
      "        What's New\n",
      "       </a>\n",
      "      </li>\n",
      "      <li class=\"nav-item\">\n",
      "       <a class=\"first-level-link\" href=\"/Quick_Links/\" title=\"Quick Links\">\n",
      "        <span class=\"ca-gov-icon-charge\">\n",
      "        </span>\n",
      "        Quick Links\n",
      "       </a>\n",
      "      </li>\n",
      "      <li class=\"nav-item\" id=\"nav-item-search\">\n",
      "       <a class=\"first-level-link\" href=\"javascript:;\">\n",
      "        <span aria-hidden=\"true\" class=\"ca-gov-icon-search\">\n",
      "        </span>\n",
      "        Search\n",
      "       </a>\n",
      "      </li>\n",
      "     </ul>\n",
      "    </nav>\n",
      "    <div class=\"search-container\" id=\"head-search\">\n",
      "     <!-- Include Search -->\n",
      "     <!-- Google Custom Search - /ssi/search.html-->\n",
      "     <!--Uncomment if you prefer to use original google search box.\n",
      "    (be advided that original custom search box is not meeting WCAG accessibility standards)-->\n",
      "     <!--<script type=\"text/javascript\">\n",
      "    var cx = '001779225245372747843:9s-idxui5pk';// Step 7: Update this value with your search engine unique ID. Submit a request to the CDT Service Desk if you don't already know your unique search engine ID.\n",
      "    var gcse = document.createElement('script');\n",
      "    gcse.type = 'text/javascript';\n",
      "    gcse.async = true;\n",
      "    gcse.src = 'https://cse.google.com/cse.js?cx=' + cx;\n",
      "    var s = document.getElementsByTagName('script');\n",
      "    s[s.length - 1].parentNode.insertBefore(gcse, s[s.length - 1]);\n",
      "</script>\n",
      "<gcse:searchbox-only resultsUrl=\"/serp.html\" enableAutoComplete=\"true\"></gcse:searchbox-only>-->\n",
      "     <!--Custom Google Search ID Script can be found inside of serp.html file -->\n",
      "     <div class=\"container\">\n",
      "      <form action=\"/serp.html\" class=\"pos-rel\" id=\"Search\">\n",
      "       <span class=\"sr-only\" id=\"SearchInput\">\n",
      "        Custom Google Search\n",
      "       </span>\n",
      "       <input aria-labelledby=\"SearchInput\" class=\"height-50 border-0 p-x-sm w-100\" id=\"q\" name=\"q\" placeholder=\"Custom Search\" type=\"text\"/>\n",
      "       <button class=\"pos-abs gsc-search-button top-0 width-50 height-50 border-0 bg-transparent\" type=\"submit\">\n",
      "        <span aria-hidden=\"true\" class=\"ca-gov-icon-search font-size-30 color-gray\">\n",
      "        </span>\n",
      "        <span class=\"sr-only\">\n",
      "         Submit\n",
      "        </span>\n",
      "       </button>\n",
      "       <div class=\"width-50 height-50 close-search-btn\">\n",
      "        <button class=\"close-search gsc-clear-button width-50 height-50 border-0 bg-transparent pos-rel\" type=\"reset\">\n",
      "         <span class=\"sr-only\">\n",
      "          Close Search\n",
      "         </span>\n",
      "         <span aria-hidden=\"true\" class=\"ca-gov-icon-close-mark\">\n",
      "         </span>\n",
      "        </button>\n",
      "       </div>\n",
      "      </form>\n",
      "     </div>\n",
      "    </div>\n",
      "   </div>\n",
      "  </header>\n",
      "  <!-- Include Page Template -->\n",
      "  <!-- include virtual=\"/ssi/header-primary-banner_reports.html\" -->\n",
      "  <div class=\"main-content\" id=\"main-content\">\n",
      "   <div class=\"section\">\n",
      "    <main class=\"main-primary\">\n",
      "     <ol class=\"breadcrumb dynamic\">\n",
      "     </ol>\n",
      "     <h1>\n",
      "      Economic and Revenue Updates\n",
      "     </h1>\n",
      "     <div style=\"padding-left: 0px;\">\n",
      "      <p>\n",
      "       The Finance Bulletin is an economic update and cash report published\r\n",
      "\t\t\t\t\tby the California Department of Finance, in every month but January and\r\n",
      "\t\t\t\t\tMay. You can receive an email notification when the newest edition is published by subscribing to the\n",
      "       <a href=\"/mailing_list.html\">\n",
      "        Finance Bulletin mailing list.\n",
      "       </a>\n",
      "      </p>\n",
      "      <p>\n",
      "       <strong>\n",
      "        <a href=\"documents/2021/FB_Oct_21_final.pdf\">\n",
      "         October 2021\n",
      "        </a>\n",
      "       </strong>\n",
      "       You may also view past editions below:\n",
      "      </p>\n",
      "      <div class=\"quarter\">\n",
      "       <h3 class=\"year\">\n",
      "        2021\n",
      "       </h3>\n",
      "       <ul class=\"archive\">\n",
      "        <li>\n",
      "         <a href=\"documents/2021/Feb-21.pdf\">\n",
      "          February\n",
      "         </a>\n",
      "        </li>\n",
      "        <li>\n",
      "         <a href=\"documents/2021/Mar-21.pdf\">\n",
      "          March\n",
      "         </a>\n",
      "        </li>\n",
      "        <li>\n",
      "         <a href=\"documents/2021/Apr-21.pdf\">\n",
      "          April\n",
      "         </a>\n",
      "        </li>\n",
      "        <li>\n",
      "         <a href=\"documents/2021/Jun-21.pdf\">\n",
      "          June\n",
      "         </a>\n",
      "        </li>\n",
      "        <li>\n",
      "         <a href=\"documents/2021/Jul-21.pdf\">\n",
      "          July\n",
      "         </a>\n",
      "        </li>\n",
      "        <li>\n",
      "         <a href=\"documents/2021/August_2021.pdf\">\n",
      "          August\n",
      "         </a>\n",
      "        </li>\n",
      "        <li>\n",
      "         <a href=\"documents/2021/Sept_2021b.pdf\">\n",
      "          September\n",
      "         </a>\n",
      "        </li>\n",
      "        <li>\n",
      "         <a href=\"documents/2021/FB_Oct_21_final.pdf\">\n",
      "          October\n",
      "         </a>\n",
      "        </li>\n",
      "       </ul>\n",
      "       <!-------->\n",
      "      </div>\n",
      "      <div class=\"quarter\">\n",
      "       <h3 class=\"year\">\n",
      "        2020\n",
      "       </h3>\n",
      "       <ul class=\"archive\">\n",
      "        <li>\n",
      "         <a href=\"documents/2020/Feb_2020_FB.pdf\">\n",
      "          February\n",
      "         </a>\n",
      "        </li>\n",
      "        <li>\n",
      "         <a href=\"documents/Mar_2020_FB.pdf\">\n",
      "          March\n",
      "         </a>\n",
      "        </li>\n",
      "        <li>\n",
      "         <a href=\"documents/2020/FB_April.pdf\">\n",
      "          April\n",
      "         </a>\n",
      "        </li>\n",
      "        <li>\n",
      "         <a href=\"documents/2020/Jun-20.pdf\">\n",
      "          June\n",
      "         </a>\n",
      "        </li>\n",
      "        <li>\n",
      "         <a href=\"documents/2020/Jul-20.pdf\">\n",
      "          July\n",
      "         </a>\n",
      "        </li>\n",
      "        <li>\n",
      "         <a href=\"documents/2020/Aug-20.pdf\">\n",
      "          August\n",
      "         </a>\n",
      "        </li>\n",
      "        <li>\n",
      "         <a href=\"documents/2020/Sep-20.pdf\">\n",
      "          September\n",
      "         </a>\n",
      "        </li>\n",
      "        <li>\n",
      "         <a href=\"documents/2020/Oct-20.pdf\">\n",
      "          October\n",
      "         </a>\n",
      "        </li>\n",
      "        <li>\n",
      "         <a href=\"documents/2020/Nov-20.pdf\">\n",
      "          November\n",
      "         </a>\n",
      "        </li>\n",
      "        <li>\n",
      "         <a href=\"documents/2020/Dec-20.pdf\">\n",
      "          December\n",
      "         </a>\n",
      "        </li>\n",
      "       </ul>\n",
      "       <!-------->\n",
      "      </div>\n",
      "      <div class=\"quarter\">\n",
      "       <h3 class=\"year\">\n",
      "        2019\n",
      "       </h3>\n",
      "       <ul class=\"archive\">\n",
      "        <li>\n",
      "         <a href=\"documents/2019/Feb-19.pdf\">\n",
      "          February\n",
      "         </a>\n",
      "        </li>\n",
      "        <li>\n",
      "         <a href=\"documents/2019/Mar-19.pdf\">\n",
      "          March\n",
      "         </a>\n",
      "        </li>\n",
      "        <li>\n",
      "         <a href=\"documents/2019/Apr-19.pdf\">\n",
      "          April\n",
      "         </a>\n",
      "        </li>\n",
      "        <li>\n",
      "         <a href=\"documents/2019/Jun-19.pdf\">\n",
      "          June\n",
      "         </a>\n",
      "        </li>\n",
      "        <li>\n",
      "         <a href=\"documents/2019/Jul-19.pdf\">\n",
      "          July\n",
      "         </a>\n",
      "        </li>\n",
      "        <li>\n",
      "         <a href=\"documents/2019/Aug-19_Finance_Bulletin.pdf\">\n",
      "          August\n",
      "         </a>\n",
      "        </li>\n",
      "        <li>\n",
      "         <a href=\"documents/2019/Sept-19_Finance_Bulletin.pdf\">\n",
      "          September\n",
      "         </a>\n",
      "        </li>\n",
      "        <li>\n",
      "         <a href=\"documents/2019/Oct-19_Finance_Bulletin.pdf\">\n",
      "          October\n",
      "         </a>\n",
      "        </li>\n",
      "        <li>\n",
      "         <a href=\"documents/2019/Nov-19_Finance_Bulletin.pdf\">\n",
      "          November\n",
      "         </a>\n",
      "        </li>\n",
      "        <li>\n",
      "         <a href=\"documents/2019/Dec-19 Finance_Bulletin.pdf\">\n",
      "          December\n",
      "         </a>\n",
      "        </li>\n",
      "       </ul>\n",
      "      </div>\n",
      "      <div class=\"quarter\">\n",
      "       <h3 class=\"year\">\n",
      "        2018\n",
      "       </h3>\n",
      "       <ul class=\"archive\">\n",
      "        <li>\n",
      "         <a href=\"documents/2018/EconFebruary2018.pdf\">\n",
      "          February\n",
      "         </a>\n",
      "        </li>\n",
      "        <li>\n",
      "         <a href=\"documents/2018/Mar-18.pdf\">\n",
      "          March\n",
      "         </a>\n",
      "        </li>\n",
      "        <li>\n",
      "         <a href=\"documents/2018/Apr-18.pdf\">\n",
      "          April\n",
      "         </a>\n",
      "        </li>\n",
      "        <li>\n",
      "         <a href=\"documents/2018/June_final_6_15.pdf\">\n",
      "          June\n",
      "         </a>\n",
      "        </li>\n",
      "        <li>\n",
      "         <a href=\"documents/2018/Jul-18b.pdf\">\n",
      "          July\n",
      "         </a>\n",
      "        </li>\n",
      "        <li>\n",
      "         <a href=\"documents/2018/Aug-18.pdf\">\n",
      "          August\n",
      "         </a>\n",
      "        </li>\n",
      "        <li>\n",
      "         <a href=\"documents/2018/Sep-18.pdf\">\n",
      "          September\n",
      "         </a>\n",
      "        </li>\n",
      "        <li>\n",
      "         <a href=\"documents/2018/oct_2018.pdf\">\n",
      "          October\n",
      "         </a>\n",
      "        </li>\n",
      "        <li>\n",
      "         <a href=\"documents/2018/Nov-18.pdf\">\n",
      "          November\n",
      "         </a>\n",
      "        </li>\n",
      "        <li>\n",
      "         <a href=\"documents/2018/Dec-18.pdf\">\n",
      "          December\n",
      "         </a>\n",
      "        </li>\n",
      "       </ul>\n",
      "       <!-------->\n",
      "      </div>\n",
      "      <div class=\"quarter\">\n",
      "       <h3 class=\"year\">\n",
      "        2017\n",
      "       </h3>\n",
      "       <ul class=\"archive\">\n",
      "        <li>\n",
      "         <a href=\"documents/2017/Feb-17.pdf\">\n",
      "          February\n",
      "         </a>\n",
      "        </li>\n",
      "        <li>\n",
      "         <a href=\"documents/2017/Mar-17.pdf\">\n",
      "          March\n",
      "         </a>\n",
      "        </li>\n",
      "        <li>\n",
      "         <a href=\"documents/2017/Apr-17.pdf\">\n",
      "          April\n",
      "         </a>\n",
      "        </li>\n",
      "        <li>\n",
      "         <a href=\"documents/2017/Jun-17.pdf\">\n",
      "          June\n",
      "         </a>\n",
      "        </li>\n",
      "        <li>\n",
      "         <a href=\"documents/2017/Jul-17.pdf\">\n",
      "          July\n",
      "         </a>\n",
      "        </li>\n",
      "        <li>\n",
      "         <a href=\"documents/2017/Aug-17.pdf\">\n",
      "          August\n",
      "         </a>\n",
      "        </li>\n",
      "        <li>\n",
      "         <a href=\"documents/2017/September2017.pdf\">\n",
      "          September\n",
      "         </a>\n",
      "        </li>\n",
      "        <li>\n",
      "         <a href=\"documents/2017/Oct-17.pdf\">\n",
      "          October\n",
      "         </a>\n",
      "        </li>\n",
      "        <li>\n",
      "         <a href=\"documents/2017/Nov-17.pdf\">\n",
      "          November\n",
      "         </a>\n",
      "        </li>\n",
      "        <li>\n",
      "         <a href=\"documents/2017/Dec-17.pdf\">\n",
      "          December\n",
      "         </a>\n",
      "        </li>\n",
      "       </ul>\n",
      "       <!-------->\n",
      "      </div>\n",
      "      <div class=\"quarter\">\n",
      "       <h3 class=\"year\">\n",
      "        2016\n",
      "       </h3>\n",
      "       <ul class=\"archive\">\n",
      "        <li>\n",
      "         <a href=\"documents/2016/february/documents/Feb-16.pdf\">\n",
      "          February\n",
      "         </a>\n",
      "        </li>\n",
      "        <li>\n",
      "         <a href=\"documents/2016/march/documents/Mar-16.pdf\">\n",
      "          March\n",
      "         </a>\n",
      "        </li>\n",
      "        <li>\n",
      "         <a href=\"documents/2016/april/documents/Apr-16.pdf\">\n",
      "          April\n",
      "         </a>\n",
      "        </li>\n",
      "        <li>\n",
      "         <a href=\"documents/2016/june/documents/Jun-16.pdf\">\n",
      "          June\n",
      "         </a>\n",
      "        </li>\n",
      "        <li class=\"lightgoldbkgd\">\n",
      "         <a href=\"documents/2016/july/documents/Jul-16.pdf\">\n",
      "          July\n",
      "         </a>\n",
      "        </li>\n",
      "        <li>\n",
      "         <a href=\"documents/2016/august/Aug-16.pdf\">\n",
      "          August\n",
      "         </a>\n",
      "        </li>\n",
      "        <li class=\"lightgoldbkgd\">\n",
      "         <a href=\"documents/2016/september/sept_2016_FB.pdf\">\n",
      "          September\n",
      "         </a>\n",
      "        </li>\n",
      "        <li>\n",
      "         <a href=\"documents/2016/October/Oct-16.pdf\">\n",
      "          October\n",
      "         </a>\n",
      "        </li>\n",
      "        <li class=\"lightgoldbkgd\">\n",
      "         <a href=\"documents/2016/Nov_Finance_bulletin_2016.pdf\">\n",
      "          November\n",
      "         </a>\n",
      "        </li>\n",
      "        <li>\n",
      "         <a href=\"documents/2016/december/Dec-16.pdf\">\n",
      "          December\n",
      "         </a>\n",
      "        </li>\n",
      "       </ul>\n",
      "      </div>\n",
      "      <div class=\"quarter\">\n",
      "       <h3 class=\"year\">\n",
      "        2015\n",
      "       </h3>\n",
      "       <ul class=\"archive\">\n",
      "        <li class=\"lightgoldbkgd leftborder\">\n",
      "         <a href=\"documents/2015/february/documents/Feb-15.pdf\">\n",
      "          February\n",
      "         </a>\n",
      "        </li>\n",
      "        <li>\n",
      "         <a href=\"documents/2015/march/documents/Mar-15.pdf\">\n",
      "          March\n",
      "         </a>\n",
      "        </li>\n",
      "        <li class=\"lightgoldbkgd\">\n",
      "         <a href=\"documents/2015/april/documents/Apr-15.pdf\">\n",
      "          April\n",
      "         </a>\n",
      "        </li>\n",
      "        <li>\n",
      "         <a href=\"documents/2015/june/documents/Jun-15.pdf\">\n",
      "          June\n",
      "         </a>\n",
      "        </li>\n",
      "        <li class=\"lightgoldbkgd\">\n",
      "         <a href=\"documents/2015/july/documents/jul-15.pdf\">\n",
      "          July\n",
      "         </a>\n",
      "        </li>\n",
      "        <li>\n",
      "         <a href=\"documents/2015/august/documents/aug-15-rv2.pdf\">\n",
      "          August\n",
      "         </a>\n",
      "        </li>\n",
      "        <li class=\"lightgoldbkgd\">\n",
      "         <a href=\"documents/2015/september/documents/Sep-15.pdf\">\n",
      "          September\n",
      "         </a>\n",
      "        </li>\n",
      "        <li>\n",
      "         <a href=\"documents/2015/october/documents/Oct-15.pdf\">\n",
      "          October\n",
      "         </a>\n",
      "        </li>\n",
      "        <li class=\"lightgoldbkgd\">\n",
      "         <a href=\"documents/2015/november/documents/Nov-15.pdf\">\n",
      "          November\n",
      "         </a>\n",
      "        </li>\n",
      "        <!-- </li>-->\n",
      "        <li>\n",
      "         <a href=\"documents/2015/december/documents/Dec-15.pdf\">\n",
      "          December\n",
      "         </a>\n",
      "        </li>\n",
      "       </ul>\n",
      "      </div>\n",
      "      <div class=\"quarter\">\n",
      "       <h3 class=\"year\">\n",
      "        2014\n",
      "       </h3>\n",
      "       <ul class=\"archive\" id=\"year2014\">\n",
      "        <li class=\"lightgoldbkgd leftborder\">\n",
      "         <a href=\"documents/PDF_Files/Feb-14.pdf\">\n",
      "          February\n",
      "         </a>\n",
      "        </li>\n",
      "        <li>\n",
      "         <a href=\"documents/PDF_Files/Mar-14.pdf\">\n",
      "          March\n",
      "         </a>\n",
      "        </li>\n",
      "        <li class=\"lightgoldbkgd\">\n",
      "         <a href=\"documents/PDF_Files/Apr-14.pdf\">\n",
      "          April\n",
      "         </a>\n",
      "        </li>\n",
      "        <li>\n",
      "         <a href=\"documents/PDF_Files/Jun-14.pdf\">\n",
      "          June\n",
      "         </a>\n",
      "        </li>\n",
      "        <li class=\"lightgoldbkgd\">\n",
      "         <a href=\"documents/PDF_Files/Jul-14.pdf\">\n",
      "          July\n",
      "         </a>\n",
      "        </li>\n",
      "        <li>\n",
      "         <a href=\"documents/PDF_Files/Aug-14.pdf\">\n",
      "          August\n",
      "         </a>\n",
      "        </li>\n",
      "        <li class=\"lightgoldbkgd\">\n",
      "         <a href=\"documents/PDF_Files/Sep-14.pdf\">\n",
      "          September\n",
      "         </a>\n",
      "        </li>\n",
      "        <li>\n",
      "         <a href=\"documents/PDF_Files/Oct-14.pdf\">\n",
      "          October\n",
      "         </a>\n",
      "        </li>\n",
      "        <li class=\"lightgoldbkgd\">\n",
      "         <a href=\"documents/PDF_Files/Nov-14.pdf\">\n",
      "          November\n",
      "         </a>\n",
      "        </li>\n",
      "        <!-- </li>-->\n",
      "        <li>\n",
      "         <a href=\"documents/PDF_Files/Dec-14.pdf\">\n",
      "          December\n",
      "         </a>\n",
      "        </li>\n",
      "       </ul>\n",
      "      </div>\n",
      "      <div class=\"quarter\">\n",
      "       <h3 class=\"year\">\n",
      "        2013\n",
      "       </h3>\n",
      "       <ul class=\"archive\" id=\"year2013\">\n",
      "        <li class=\"lightgoldbkgd leftborder\">\n",
      "         <a href=\"documents/PDF_Files/Feb-13.pdf\">\n",
      "          February\n",
      "         </a>\n",
      "        </li>\n",
      "        <li>\n",
      "         <a href=\"documents/PDF_Files/Mar-13.pdf\">\n",
      "          March\n",
      "         </a>\n",
      "        </li>\n",
      "        <li class=\"lightgoldbkgd\">\n",
      "         <a href=\"documents/PDF_Files/Apr-13.pdf\">\n",
      "          April\n",
      "         </a>\n",
      "        </li>\n",
      "        <li>\n",
      "         <a href=\"documents/PDF_Files/Jun-13.pdf\">\n",
      "          June\n",
      "         </a>\n",
      "        </li>\n",
      "        <li class=\"lightgoldbkgd\">\n",
      "         <a href=\"documents//PDF_Files/Jul-13.pdf\">\n",
      "          July\n",
      "         </a>\n",
      "        </li>\n",
      "        <li>\n",
      "         <a href=\"documents/PDF_Files/Aug-13.pdf\">\n",
      "          August\n",
      "         </a>\n",
      "        </li>\n",
      "        <li class=\"lightgoldbkgd\">\n",
      "         <a href=\"documents/PDF_Files/Sep-13.pdf\">\n",
      "          September\n",
      "         </a>\n",
      "        </li>\n",
      "        <li>\n",
      "         <a href=\"documents/PDF_Files/Oct-13.pdf\">\n",
      "          October\n",
      "         </a>\n",
      "        </li>\n",
      "        <li class=\"lightgoldbkgd\">\n",
      "         <a href=\"documents/PDF_Files/Nov-13.pdf\">\n",
      "          November\n",
      "         </a>\n",
      "        </li>\n",
      "        <!-- </li>-->\n",
      "        <li>\n",
      "         <a href=\"documents/PDF_Files/Dec-13.pdf\">\n",
      "          December\n",
      "         </a>\n",
      "        </li>\n",
      "       </ul>\n",
      "      </div>\n",
      "      <div class=\"quarter\">\n",
      "       <h3 class=\"year\">\n",
      "        2012\n",
      "       </h3>\n",
      "       <ul class=\"archive\" id=\"year2012\">\n",
      "        <li class=\"lightgoldbkgd leftborder\">\n",
      "         <a href=\"documents/PDF_Files/Feb-12.pdf\">\n",
      "          February\n",
      "         </a>\n",
      "        </li>\n",
      "        <li>\n",
      "         <a href=\"documents/PDF_Files/Mar-12.pdf\">\n",
      "          March\n",
      "         </a>\n",
      "        </li>\n",
      "        <li class=\"lightgoldbkgd\">\n",
      "         <a href=\"documents/PDF_Files/Apr-12.pdf\">\n",
      "          April\n",
      "         </a>\n",
      "        </li>\n",
      "        <li>\n",
      "         <a href=\"documents/PDF_Files/Jun-12.pdf\">\n",
      "          June\n",
      "         </a>\n",
      "        </li>\n",
      "        <li class=\"lightgoldbkgd\">\n",
      "         <a href=\"documents/PDF_Files/Jul-12.pdf\">\n",
      "          July\n",
      "         </a>\n",
      "        </li>\n",
      "        <li>\n",
      "         <a href=\"documents/PDF_Files/Aug-12.pdf\">\n",
      "          August\n",
      "         </a>\n",
      "        </li>\n",
      "        <li class=\"lightgoldbkgd\">\n",
      "         <a href=\"documents/PDF_Files/Sep-12.pdf\">\n",
      "          September\n",
      "         </a>\n",
      "        </li>\n",
      "        <li>\n",
      "         <a href=\"documents/PDF_Files/Oct-12.pdf\">\n",
      "          October\n",
      "         </a>\n",
      "        </li>\n",
      "        <li class=\"lightgoldbkgd\">\n",
      "         <a href=\"documents/PDF_Files/Nov-12.pdf\">\n",
      "          November\n",
      "         </a>\n",
      "        </li>\n",
      "        <!-- </li>-->\n",
      "        <li>\n",
      "         <a href=\"documents/PDF_Files/Dec-12.pdf\">\n",
      "          December\n",
      "         </a>\n",
      "        </li>\n",
      "       </ul>\n",
      "      </div>\n",
      "      <div class=\"quarter\">\n",
      "       <h3 class=\"year\">\n",
      "        2011\n",
      "       </h3>\n",
      "       <ul class=\"archive\" id=\"year2011\">\n",
      "        <li class=\"lightgoldbkgd leftborder\">\n",
      "         <a href=\"documents/PDF_Files/Feb-11.pdf\">\n",
      "          February\n",
      "         </a>\n",
      "        </li>\n",
      "        <li>\n",
      "         <a href=\"documents/PDF_Files/Mar-11.pdf\">\n",
      "          March\n",
      "         </a>\n",
      "        </li>\n",
      "        <li class=\"lightgoldbkgd\">\n",
      "         <a href=\"documents/PDF_Files/Apr-11.pdf\">\n",
      "          April\n",
      "         </a>\n",
      "        </li>\n",
      "        <li>\n",
      "         <a href=\"documents/PDF_Files/Jun-11.pdf\">\n",
      "          June\n",
      "         </a>\n",
      "        </li>\n",
      "        <li class=\"lightgoldbkgd\">\n",
      "         <a href=\"documents/PDF_Files/jul-11.pdf\">\n",
      "          July\n",
      "         </a>\n",
      "        </li>\n",
      "        <li>\n",
      "         <a href=\"documents/PDF_Files/aug-11.pdf\">\n",
      "          August\n",
      "         </a>\n",
      "        </li>\n",
      "        <li class=\"lightgoldbkgd\">\n",
      "         <a href=\"documents/PDF_Files/Sep-11.pdf\">\n",
      "          September\n",
      "         </a>\n",
      "        </li>\n",
      "        <li>\n",
      "         <a href=\"documents/PDF_Files/Oct-11.pdf\">\n",
      "          October\n",
      "         </a>\n",
      "        </li>\n",
      "        <li class=\"lightgoldbkgd\">\n",
      "         <a href=\"documents/PDF_Files/Nov-11.pdf\">\n",
      "          November\n",
      "         </a>\n",
      "        </li>\n",
      "        <!-- </li>-->\n",
      "       </ul>\n",
      "      </div>\n",
      "      <div class=\"quarter\">\n",
      "       <h3 class=\"year\">\n",
      "        2010\n",
      "       </h3>\n",
      "       <ul class=\"archive\" id=\"year2010\">\n",
      "        <li class=\"lightgoldbkgd leftborder\">\n",
      "         <a href=\"documents/PDF_Files/Feb-10.pdf\">\n",
      "          February\n",
      "         </a>\n",
      "        </li>\n",
      "        <li>\n",
      "         <a href=\"documents/PDF_Files/Mar-10.pdf\">\n",
      "          March\n",
      "         </a>\n",
      "        </li>\n",
      "        <li class=\"lightgoldbkgd\">\n",
      "         <a href=\"documents/PDF_Files/Apr-10.pdf\">\n",
      "          April\n",
      "         </a>\n",
      "        </li>\n",
      "        <li>\n",
      "         <a href=\"documents/PDF_Files/Jun-10.pdf\">\n",
      "          June\n",
      "         </a>\n",
      "        </li>\n",
      "        <li class=\"lightgoldbkgd\">\n",
      "         <a href=\"documents/PDF_Files/jul-10.pdf\">\n",
      "          July\n",
      "         </a>\n",
      "        </li>\n",
      "        <li>\n",
      "         <a href=\"documents/PDF_Files/aug-10.pdf\">\n",
      "          August\n",
      "         </a>\n",
      "        </li>\n",
      "        <li class=\"lightgoldbkgd\">\n",
      "         <a href=\"documents/PDF_Files/Sep-10.pdf\">\n",
      "          September\n",
      "         </a>\n",
      "        </li>\n",
      "        <li>\n",
      "         <a href=\"documents/PDF_Files/Oct-10.pdf\">\n",
      "          October\n",
      "         </a>\n",
      "        </li>\n",
      "        <li class=\"lightgoldbkgd\">\n",
      "         <a href=\"documents/PDF_Files/Nov-10.pdf\">\n",
      "          November\n",
      "         </a>\n",
      "        </li>\n",
      "        <!-- </li>-->\n",
      "        <li>\n",
      "         <a href=\"documents/PDF_Files/Dec-10.pdf\">\n",
      "          December\n",
      "         </a>\n",
      "        </li>\n",
      "       </ul>\n",
      "      </div>\n",
      "      <div class=\"quarter\">\n",
      "       <h3 class=\"year\">\n",
      "        2009\n",
      "       </h3>\n",
      "       <ul class=\"archive\" id=\"year2009\">\n",
      "        <li>\n",
      "         <a href=\"documents/PDF_Files/Mar-09.pdf\">\n",
      "          March\n",
      "         </a>\n",
      "        </li>\n",
      "        <li class=\"lightgoldbkgd\">\n",
      "         <a href=\"documents/PDF_Files/Apr-09.pdf\">\n",
      "          April\n",
      "         </a>\n",
      "        </li>\n",
      "        <li>\n",
      "         <a href=\"documents/PDF_Files/Jun-09.pdf\">\n",
      "          June\n",
      "         </a>\n",
      "        </li>\n",
      "        <li class=\"lightgoldbkgd\">\n",
      "         <a href=\"documents/PDF_Files/jul-09.pdf\">\n",
      "          July\n",
      "         </a>\n",
      "        </li>\n",
      "        <li>\n",
      "         <a href=\"documents/PDF_Files/aug-09.pdf\">\n",
      "          August\n",
      "         </a>\n",
      "        </li>\n",
      "        <li class=\"lightgoldbkgd\">\n",
      "         <a href=\"documents/PDF_Files/Sep-09.pdf\">\n",
      "          September\n",
      "         </a>\n",
      "        </li>\n",
      "        <li>\n",
      "         <a href=\"documents/PDF_Files/Oct-09.pdf\">\n",
      "          October\n",
      "         </a>\n",
      "        </li>\n",
      "        <li class=\"lightgoldbkgd\">\n",
      "         <a href=\"documents/PDF_Files/Nov-09.pdf\">\n",
      "          November\n",
      "         </a>\n",
      "        </li>\n",
      "        <!-- </li>-->\n",
      "        <li>\n",
      "         <a href=\"documents/PDF_Files/Dec-09.pdf\">\n",
      "          December\n",
      "         </a>\n",
      "        </li>\n",
      "       </ul>\n",
      "      </div>\n",
      "     </div>\n",
      "    </main>\n",
      "   </div>\n",
      "  </div>\n",
      "  <div class=\"section section-primary\">\n",
      "   <div class=\"container\">\n",
      "    <div class=\"row group\">\n",
      "     <div class=\"quarter\">\n",
      "      <ul>\n",
      "       <li>\n",
      "        <a href=\"/Forecasting/Demographics/\">\n",
      "         Demographics\n",
      "        </a>\n",
      "       </li>\n",
      "       <span style=\"font-size: 14px\">\n",
      "        <!-- <li><a href=\"\">Register</a></li>-->\n",
      "       </span>\n",
      "      </ul>\n",
      "     </div>\n",
      "     <div class=\"quarter\">\n",
      "      <ul>\n",
      "       <li>\n",
      "        <a href=\"/Forecasting/Economics/Index.html\">\n",
      "         Economics\n",
      "        </a>\n",
      "       </li>\n",
      "      </ul>\n",
      "     </div>\n",
      "     <div class=\"quarter\">\n",
      "      <ul>\n",
      "       <li>\n",
      "        <a href=\"/Forecasting/Revenue_and_Taxation/\">\n",
      "         Revenue and Taxation\n",
      "        </a>\n",
      "       </li>\n",
      "       <span style=\"font-size: 14px\">\n",
      "        <!--<li><a href=\"\"  class=\"btn btn-default btn-xs\"><span class=\"ca-gov-icon-caret-line-right\"></span>Feedback Survey</a></li>\n",
      "                    <li><a href=\"\"  class=\"btn btn-default btn-xs\"><span class=\"ca-gov-icon-caret-line-right\"></span>Technical Issues</a></li>\n",
      "                    <li ><a href=\"\" class=\"btn btn-default btn-xs\"><span class=\"ca-gov-icon-caret-line-right\"></span>&#43;1.800.807.6755</a></li>-->\n",
      "       </span>\n",
      "      </ul>\n",
      "     </div>\n",
      "     <div class=\"quarter\">\n",
      "      <ul>\n",
      "       <!-- <li><a href=\"http://www.cotce.ca.gov/\" class=\"btn btn-default btn-xs\" ><span class=\"ca-gov-icon-check-line\"></span>Commission on the 21st Century Economy</a></li>-->\n",
      "       <!-- <li><a href=\"\" class=\"btn btn-default btn-xs\" ><span class=\"ca-gov-icon-check-line\"></span>Top Transparency</a></li>-->\n",
      "       <li>\n",
      "        <a href=\"/Forecasting/Economics/Major_Regulations/Index.html\">\n",
      "         Major Regulations\n",
      "        </a>\n",
      "       </li>\n",
      "      </ul>\n",
      "     </div>\n",
      "    </div>\n",
      "   </div>\n",
      "  </div>\n",
      "  <!-- Global Footer -->\n",
      "  <style type=\"text/css\">\n",
      "   a:link {\r\n",
      "\ttext-decoration: none;\r\n",
      "}\r\n",
      "a:visited {\r\n",
      "\ttext-decoration: none;\r\n",
      "}\r\n",
      "a:hover {\r\n",
      "\ttext-decoration: none;\r\n",
      "}\r\n",
      "a:active {\r\n",
      "\ttext-decoration: none;\r\n",
      "}\n",
      "  </style>\n",
      "  <footer class=\"global-footer\" id=\"footer\">\n",
      "   <div class=\"container\">\n",
      "    <div class=\"row\">\n",
      "     <div class=\"full\">\n",
      "      <!-- <div class=\"three-quarters\"> -->\n",
      "      <ul class=\"footer-links\">\n",
      "       <li>\n",
      "        <a href=\"#skip-to-content\">\n",
      "         Back to Top\n",
      "        </a>\n",
      "       </li>\n",
      "       <li>\n",
      "        <a href=\"/site_map/index.html\">\n",
      "         Site Map\n",
      "        </a>\n",
      "       </li>\n",
      "       <li>\n",
      "        <a href=\"/Web_Content_Accessibility/index.html\">\n",
      "         Accessibility\n",
      "        </a>\n",
      "       </li>\n",
      "       <li>\n",
      "        <a href=\"/Conditions_Of_Use_Policy/index.html\">\n",
      "         Conditions of Use\n",
      "        </a>\n",
      "       </li>\n",
      "       <li>\n",
      "        <a href=\"/Privacy_Policy/index.html\">\n",
      "         Privacy Policy\n",
      "        </a>\n",
      "       </li>\n",
      "       <li>\n",
      "        <a href=\"/About_Us/index.html\">\n",
      "         About Us\n",
      "        </a>\n",
      "       </li>\n",
      "       <!--\t<li><a href=\"/About_Us/Executive_Staff/index.html\">Contact Us</a></li> -->\n",
      "       <li>\n",
      "        <a href=\"mailto:webmaster@dof.ca.gov\">\n",
      "         Webmaster\n",
      "        </a>\n",
      "       </li>\n",
      "       <li>\n",
      "        <a href=\"https://twitter.com/HDatFinance\" target=\"_blank\">\n",
      "         Twitter\n",
      "        </a>\n",
      "       </li>\n",
      "       <li>\n",
      "        <a href=\"/Mailing_List.html\">\n",
      "         Mailing Lists\n",
      "        </a>\n",
      "       </li>\n",
      "      </ul>\n",
      "     </div>\n",
      "    </div>\n",
      "   </div>\n",
      "   <!-- Copyright Statement -->\n",
      "   <div class=\"copyright\">\n",
      "    <div class=\"container\" style=\"font-size: 14px; text-align: center;\">\n",
      "     Copyright ©\n",
      "     <script>\n",
      "      document.write(new Date().getFullYear())\n",
      "     </script>\n",
      "     State of California\n",
      "    </div>\n",
      "   </div>\n",
      "  </footer>\n",
      "  <!-- Extra Decorative Content -->\n",
      "  <!-- Load template core -->\n",
      "  <script src=\"/js/cagov.core.js\">\n",
      "  </script>\n",
      "  <script>\n",
      "   $(document).ready(function() {\n",
      "    // Backward compatability fix for removing wrapper on new \"sections\"\n",
      "    $('.main-primary > .section').closest('div.wrapper').removeClass('wrapper');\n",
      "});\n",
      "  </script>\n",
      " </body>\n",
      "</html>\n"
     ]
    }
   ],
   "source": [
    "soup = BeautifulSoup (response.text, \"html.parser\")\n",
    "print(soup.prettify())"
   ]
  },
  {
   "cell_type": "code",
   "execution_count": 15,
   "metadata": {},
   "outputs": [
    {
     "name": "stderr",
     "output_type": "stream",
     "text": [
      "ic| holder: [<ul class=\"archive\">\n",
      "            <li> <a href=\"documents/2021/Feb-21.pdf\">February</a></li>\n",
      "            <li> <a href=\"documents/2021/Mar-21.pdf\">March</a></li>\n",
      "            <li> <a href=\"documents/2021/Apr-21.pdf\">April</a></li>\n",
      "            <li> <a href=\"documents/2021/Jun-21.pdf\">June</a></li>\n",
      "            <li> <a href=\"documents/2021/Jul-21.pdf\">July</a></li>\n",
      "            <li><a href=\"documents/2021/August_2021.pdf\">August</a></li>\n",
      "            <li><a href=\"documents/2021/Sept_2021b.pdf\">September</a></li>\n",
      "            <li><a href=\"documents/2021/FB_Oct_21_final.pdf\">October</a></li>\n",
      "            </ul>,\n",
      "             <ul class=\"archive\">\n",
      "            <li> <a href=\"documents/2020/Feb_2020_FB.pdf\">February</a></li>\n",
      "            <li> <a href=\"documents/Mar_2020_FB.pdf\">March</a></li>\n",
      "            <li> <a href=\"documents/2020/FB_April.pdf\">April</a></li>\n",
      "            <li> <a href=\"documents/2020/Jun-20.pdf\">June</a></li>\n",
      "            <li> <a href=\"documents/2020/Jul-20.pdf\">July</a></li>\n",
      "            <li> <a href=\"documents/2020/Aug-20.pdf\">August</a></li>\n",
      "            <li> <a href=\"documents/2020/Sep-20.pdf\">September</a></li>\n",
      "            <li> <a href=\"documents/2020/Oct-20.pdf\">October</a></li>\n",
      "            <li> <a href=\"documents/2020/Nov-20.pdf\">November</a></li>\n",
      "            <li> <a href=\"documents/2020/Dec-20.pdf\">December</a></li>\n",
      "            </ul>,\n",
      "             <ul class=\"archive\">\n",
      "            <li> <a href=\"documents/2019/Feb-19.pdf\">February</a></li>\n",
      "            <li> <a href=\"documents/2019/Mar-19.pdf\">March</a></li>\n",
      "            <li> <a href=\"documents/2019/Apr-19.pdf\">April</a></li>\n",
      "            <li> <a href=\"documents/2019/Jun-19.pdf\">June</a></li>\n",
      "            <li> <a href=\"documents/2019/Jul-19.pdf\">July</a></li>\n",
      "            <li> <a href=\"documents/2019/Aug-19_Finance_Bulletin.pdf\">August</a></li>\n",
      "            <li> <a href=\"documents/2019/Sept-19_Finance_Bulletin.pdf\">September</a></li>\n",
      "            <li> <a href=\"documents/2019/Oct-19_Finance_Bulletin.pdf\">October</a></li>\n",
      "            <li> <a href=\"documents/2019/Nov-19_Finance_Bulletin.pdf\">November</a></li>\n",
      "            <li> <a href=\"documents/2019/Dec-19 Finance_Bulletin.pdf\">December</a></li>\n",
      "            </ul>,\n",
      "             <ul class=\"archive\">\n",
      "            <li> <a href=\"documents/2018/EconFebruary2018.pdf\">February</a></li>\n",
      "            <li> <a href=\"documents/2018/Mar-18.pdf\">March</a></li>\n",
      "            <li> <a href=\"documents/2018/Apr-18.pdf\">April</a></li>\n",
      "            <li> <a href=\"documents/2018/June_final_6_15.pdf\">June</a></li>\n",
      "            <li> <a href=\"documents/2018/Jul-18b.pdf\">July</a></li>\n",
      "            <li> <a href=\"documents/2018/Aug-18.pdf\">August</a></li>\n",
      "            <li> <a href=\"documents/2018/Sep-18.pdf\">September</a></li>\n",
      "            <li> <a href=\"documents/2018/oct_2018.pdf\">October</a></li>\n",
      "            <li> <a href=\"documents/2018/Nov-18.pdf\">November</a></li>\n",
      "            <li> <a href=\"documents/2018/Dec-18.pdf\">December</a></li>\n",
      "            </ul>,\n",
      "             <ul class=\"archive\">\n",
      "            <li> <a href=\"documents/2017/Feb-17.pdf\">February</a> </li>\n",
      "            <li> <a href=\"documents/2017/Mar-17.pdf\">March</a> </li>\n",
      "            <li> <a href=\"documents/2017/Apr-17.pdf\">April</a> </li>\n",
      "            <li> <a href=\"documents/2017/Jun-17.pdf\">June</a> </li>\n",
      "            <li> <a href=\"documents/2017/Jul-17.pdf\">July</a> </li>\n",
      "            <li> <a href=\"documents/2017/Aug-17.pdf\">August</a> </li>\n",
      "            <li> <a href=\"documents/2017/September2017.pdf\">September</a> </li>\n",
      "            <li> <a href=\"documents/2017/Oct-17.pdf\">October</a> </li>\n",
      "            <li> <a href=\"documents/2017/Nov-17.pdf\">November</a> </li>\n",
      "            <li> <a href=\"documents/2017/Dec-17.pdf\">December</a> </li>\n",
      "            </ul>,\n",
      "             <ul class=\"archive\">\n",
      "            <li> <a href=\"documents/2016/february/documents/Feb-16.pdf\">February</a> </li>\n",
      "            <li> <a href=\"documents/2016/march/documents/Mar-16.pdf\">March</a> </li>\n",
      "            <li> <a href=\"documents/2016/april/documents/Apr-16.pdf\">April</a> </li>\n",
      "            <li> <a href=\"documents/2016/june/documents/Jun-16.pdf\">June</a> </li>\n",
      "            <li class=\"lightgoldbkgd\"> <a href=\"documents/2016/july/documents/Jul-16.pdf\">July</a>\n",
      "            </li>\n",
      "            <li> <a href=\"documents/2016/august/Aug-16.pdf\">August</a>\n",
      "            </li>\n",
      "            <li class=\"lightgoldbkgd\"> <a href=\"documents/2016/september/sept_2016_FB.pdf\">September</a>\n",
      "            </li>\n",
      "            <li><a href=\"documents/2016/October/Oct-16.pdf\"> October</a>\n",
      "            </li>\n",
      "            <li class=\"lightgoldbkgd\"> <a href=\"documents/2016/Nov_Finance_bulletin_2016.pdf\">November</a>\n",
      "            </li>\n",
      "            <li><a href=\"documents/2016/december/Dec-16.pdf\"> December</a> </li>\n",
      "            </ul>,\n",
      "             <ul class=\"archive\">\n",
      "            <li class=\"lightgoldbkgd leftborder\"> <a href=\"documents/2015/february/documents/Feb-15.pdf\">February</a>\n",
      "            </li>\n",
      "            <li> <a href=\"documents/2015/march/documents/Mar-15.pdf\">March</a>\n",
      "            </li>\n",
      "            <li class=\"lightgoldbkgd\"> <a href=\"documents/2015/april/documents/Apr-15.pdf\">April</a>\n",
      "            </li>\n",
      "            <li> <a href=\"documents/2015/june/documents/Jun-15.pdf\">June</a>\n",
      "            </li>\n",
      "            <li class=\"lightgoldbkgd\"> <a href=\"documents/2015/july/documents/jul-15.pdf\">July</a>\n",
      "            </li>\n",
      "            <li> <a href=\"documents/2015/august/documents/aug-15-rv2.pdf\">August</a>\n",
      "            </li>\n",
      "            <li class=\"lightgoldbkgd\"> <a href=\"documents/2015/september/documents/Sep-15.pdf\">September</a>\n",
      "            </li>\n",
      "            <li> <a href=\"documents/2015/october/documents/Oct-15.pdf\">October</a>\n",
      "            </li>\n",
      "            <li class=\"lightgoldbkgd\"> <a href=\"documents/2015/november/documents/Nov-15.pdf\">November</a>\n",
      "            </li>\n",
      "            <!-- </li>-->\n",
      "            <li> <a href=\"documents/2015/december/documents/Dec-15.pdf\">December</a>\n",
      "            </li>\n",
      "            </ul>,\n",
      "             <ul class=\"archive\" id=\"year2014\">\n",
      "            <li class=\"lightgoldbkgd leftborder\"> <a href=\"documents/PDF_Files/Feb-14.pdf\">February</a>\n",
      "            </li>\n",
      "            <li> <a href=\"documents/PDF_Files/Mar-14.pdf\">March</a>\n",
      "            </li>\n",
      "            <li class=\"lightgoldbkgd\"> <a href=\"documents/PDF_Files/Apr-14.pdf\">April</a>\n",
      "            </li>\n",
      "            <li> <a href=\"documents/PDF_Files/Jun-14.pdf\">June</a> </li>\n",
      "            <li class=\"lightgoldbkgd\"> <a href=\"documents/PDF_Files/Jul-14.pdf\">July</a> </li>\n",
      "            <li> <a href=\"documents/PDF_Files/Aug-14.pdf\">August</a>\n",
      "            </li>\n",
      "            <li class=\"lightgoldbkgd\"> <a href=\"documents/PDF_Files/Sep-14.pdf\">September</a>\n",
      "            </li>\n",
      "            <li> <a href=\"documents/PDF_Files/Oct-14.pdf\">October</a>\n",
      "            </li>\n",
      "            <li class=\"lightgoldbkgd\"> <a href=\"documents/PDF_Files/Nov-14.pdf\">November</a> </li>\n",
      "            <!-- </li>-->\n",
      "            <li> <a href=\"documents/PDF_Files/Dec-14.pdf\">December</a>\n",
      "            </li>\n",
      "            </ul>,\n",
      "             <ul class=\"archive\" id=\"year2013\">\n",
      "            <li class=\"lightgoldbkgd leftborder\"> <a href=\"documents/PDF_Files/Feb-13.pdf\">February</a>\n",
      "            </li>\n",
      "            <li> <a href=\"documents/PDF_Files/Mar-13.pdf\">March</a>\n",
      "            </li>\n",
      "            <li class=\"lightgoldbkgd\"> <a href=\"documents/PDF_Files/Apr-13.pdf\">April</a>\n",
      "            </li>\n",
      "            <li> <a href=\"documents/PDF_Files/Jun-13.pdf\">June</a> </li>\n",
      "            <li class=\"lightgoldbkgd\"> <a href=\"documents//PDF_Files/Jul-13.pdf\">July</a> </li>\n",
      "            <li> <a href=\"documents/PDF_Files/Aug-13.pdf\">August</a>\n",
      "            </li>\n",
      "            <li class=\"lightgoldbkgd\"> <a href=\"documents/PDF_Files/Sep-13.pdf\">September</a>\n",
      "            </li>\n",
      "            <li> <a href=\"documents/PDF_Files/Oct-13.pdf\">October</a>\n",
      "            </li>\n",
      "            <li class=\"lightgoldbkgd\"> <a href=\"documents/PDF_Files/Nov-13.pdf\">November</a> </li>\n",
      "            <!-- </li>-->\n",
      "            <li> <a href=\"documents/PDF_Files/Dec-13.pdf\">December</a>\n",
      "            </li>\n",
      "            </ul>,\n",
      "             <ul class=\"archive\" id=\"year2012\">\n"
     ]
    },
    {
     "name": "stderr",
     "output_type": "stream",
     "text": [
      "            <li class=\"lightgoldbkgd leftborder\"> <a href=\"documents/PDF_Files/Feb-12.pdf\">February</a>\n",
      "            </li>\n",
      "            <li> <a href=\"documents/PDF_Files/Mar-12.pdf\">March</a>\n",
      "            </li>\n",
      "            <li class=\"lightgoldbkgd\"> <a href=\"documents/PDF_Files/Apr-12.pdf\">April</a>\n",
      "            </li>\n",
      "            <li> <a href=\"documents/PDF_Files/Jun-12.pdf\">June</a> </li>\n",
      "            <li class=\"lightgoldbkgd\"> <a href=\"documents/PDF_Files/Jul-12.pdf\">July</a> </li>\n",
      "            <li> <a href=\"documents/PDF_Files/Aug-12.pdf\">August</a>\n",
      "            </li>\n",
      "            <li class=\"lightgoldbkgd\"> <a href=\"documents/PDF_Files/Sep-12.pdf\">September</a>\n",
      "            </li>\n",
      "            <li> <a href=\"documents/PDF_Files/Oct-12.pdf\">October</a>\n",
      "            </li>\n",
      "            <li class=\"lightgoldbkgd\"> <a href=\"documents/PDF_Files/Nov-12.pdf\">November</a> </li>\n",
      "            <!-- </li>-->\n",
      "            <li> <a href=\"documents/PDF_Files/Dec-12.pdf\">December</a>\n",
      "            </li>\n",
      "            </ul>,\n",
      "             <ul class=\"archive\" id=\"year2011\">\n",
      "            <li class=\"lightgoldbkgd leftborder\"> <a href=\"documents/PDF_Files/Feb-11.pdf\">February</a>\n",
      "            </li>\n",
      "            <li> <a href=\"documents/PDF_Files/Mar-11.pdf\">March</a>\n",
      "            </li>\n",
      "            <li class=\"lightgoldbkgd\"> <a href=\"documents/PDF_Files/Apr-11.pdf\">April</a>\n",
      "            </li>\n",
      "            <li> <a href=\"documents/PDF_Files/Jun-11.pdf\">June</a> </li>\n",
      "            <li class=\"lightgoldbkgd\"> <a href=\"documents/PDF_Files/jul-11.pdf\">July</a> </li>\n",
      "            <li> <a href=\"documents/PDF_Files/aug-11.pdf\">August</a>\n",
      "            </li>\n",
      "            <li class=\"lightgoldbkgd\"> <a href=\"documents/PDF_Files/Sep-11.pdf\">September</a>\n",
      "            </li>\n",
      "            <li> <a href=\"documents/PDF_Files/Oct-11.pdf\">October</a>\n",
      "            </li>\n",
      "            <li class=\"lightgoldbkgd\"> <a href=\"documents/PDF_Files/Nov-11.pdf\">November</a> </li>\n",
      "            <!-- </li>-->\n",
      "            </ul>,\n",
      "             <ul class=\"archive\" id=\"year2010\">\n",
      "            <li class=\"lightgoldbkgd leftborder\"> <a href=\"documents/PDF_Files/Feb-10.pdf\">February</a>\n",
      "            </li>\n",
      "            <li> <a href=\"documents/PDF_Files/Mar-10.pdf\">March</a>\n",
      "            </li>\n",
      "            <li class=\"lightgoldbkgd\"> <a href=\"documents/PDF_Files/Apr-10.pdf\">April</a>\n",
      "            </li>\n",
      "            <li> <a href=\"documents/PDF_Files/Jun-10.pdf\">June</a> </li>\n",
      "            <li class=\"lightgoldbkgd\"> <a href=\"documents/PDF_Files/jul-10.pdf\">July</a> </li>\n",
      "            <li> <a href=\"documents/PDF_Files/aug-10.pdf\">August</a>\n",
      "            </li>\n",
      "            <li class=\"lightgoldbkgd\"> <a href=\"documents/PDF_Files/Sep-10.pdf\">September</a>\n",
      "            </li>\n",
      "            <li> <a href=\"documents/PDF_Files/Oct-10.pdf\">October</a>\n",
      "            </li>\n",
      "            <li class=\"lightgoldbkgd\"> <a href=\"documents/PDF_Files/Nov-10.pdf\">November</a> </li>\n",
      "            <!-- </li>-->\n",
      "            <li> <a href=\"documents/PDF_Files/Dec-10.pdf\">December</a>\n",
      "            </li>\n",
      "            </ul>,\n",
      "             <ul class=\"archive\" id=\"year2009\">\n",
      "            <li> <a href=\"documents/PDF_Files/Mar-09.pdf\">March</a>\n",
      "            </li>\n",
      "            <li class=\"lightgoldbkgd\"> <a href=\"documents/PDF_Files/Apr-09.pdf\">April</a>\n",
      "            </li>\n",
      "            <li> <a href=\"documents/PDF_Files/Jun-09.pdf\">June</a> </li>\n",
      "            <li class=\"lightgoldbkgd\"> <a href=\"documents/PDF_Files/jul-09.pdf\">July</a> </li>\n",
      "            <li> <a href=\"documents/PDF_Files/aug-09.pdf\">August</a>\n",
      "            </li>\n",
      "            <li class=\"lightgoldbkgd\"> <a href=\"documents/PDF_Files/Sep-09.pdf\">September</a>\n",
      "            </li>\n",
      "            <li> <a href=\"documents/PDF_Files/Oct-09.pdf\">October</a>\n",
      "            </li>\n",
      "            <li class=\"lightgoldbkgd\"> <a href=\"documents/PDF_Files/Nov-09.pdf\">November</a> </li>\n",
      "            <!-- </li>-->\n",
      "            <li> <a href=\"documents/PDF_Files/Dec-09.pdf\">December</a>\n",
      "            </li>\n",
      "            </ul>]\n"
     ]
    },
    {
     "data": {
      "text/plain": [
       "[<ul class=\"archive\">\n",
       " <li> <a href=\"documents/2021/Feb-21.pdf\">February</a></li>\n",
       " <li> <a href=\"documents/2021/Mar-21.pdf\">March</a></li>\n",
       " <li> <a href=\"documents/2021/Apr-21.pdf\">April</a></li>\n",
       " <li> <a href=\"documents/2021/Jun-21.pdf\">June</a></li>\n",
       " <li> <a href=\"documents/2021/Jul-21.pdf\">July</a></li>\n",
       " <li><a href=\"documents/2021/August_2021.pdf\">August</a></li>\n",
       " <li><a href=\"documents/2021/Sept_2021b.pdf\">September</a></li>\n",
       " <li><a href=\"documents/2021/FB_Oct_21_final.pdf\">October</a></li>\n",
       " </ul>,\n",
       " <ul class=\"archive\">\n",
       " <li> <a href=\"documents/2020/Feb_2020_FB.pdf\">February</a></li>\n",
       " <li> <a href=\"documents/Mar_2020_FB.pdf\">March</a></li>\n",
       " <li> <a href=\"documents/2020/FB_April.pdf\">April</a></li>\n",
       " <li> <a href=\"documents/2020/Jun-20.pdf\">June</a></li>\n",
       " <li> <a href=\"documents/2020/Jul-20.pdf\">July</a></li>\n",
       " <li> <a href=\"documents/2020/Aug-20.pdf\">August</a></li>\n",
       " <li> <a href=\"documents/2020/Sep-20.pdf\">September</a></li>\n",
       " <li> <a href=\"documents/2020/Oct-20.pdf\">October</a></li>\n",
       " <li> <a href=\"documents/2020/Nov-20.pdf\">November</a></li>\n",
       " <li> <a href=\"documents/2020/Dec-20.pdf\">December</a></li>\n",
       " </ul>,\n",
       " <ul class=\"archive\">\n",
       " <li> <a href=\"documents/2019/Feb-19.pdf\">February</a></li>\n",
       " <li> <a href=\"documents/2019/Mar-19.pdf\">March</a></li>\n",
       " <li> <a href=\"documents/2019/Apr-19.pdf\">April</a></li>\n",
       " <li> <a href=\"documents/2019/Jun-19.pdf\">June</a></li>\n",
       " <li> <a href=\"documents/2019/Jul-19.pdf\">July</a></li>\n",
       " <li> <a href=\"documents/2019/Aug-19_Finance_Bulletin.pdf\">August</a></li>\n",
       " <li> <a href=\"documents/2019/Sept-19_Finance_Bulletin.pdf\">September</a></li>\n",
       " <li> <a href=\"documents/2019/Oct-19_Finance_Bulletin.pdf\">October</a></li>\n",
       " <li> <a href=\"documents/2019/Nov-19_Finance_Bulletin.pdf\">November</a></li>\n",
       " <li> <a href=\"documents/2019/Dec-19 Finance_Bulletin.pdf\">December</a></li>\n",
       " </ul>,\n",
       " <ul class=\"archive\">\n",
       " <li> <a href=\"documents/2018/EconFebruary2018.pdf\">February</a></li>\n",
       " <li> <a href=\"documents/2018/Mar-18.pdf\">March</a></li>\n",
       " <li> <a href=\"documents/2018/Apr-18.pdf\">April</a></li>\n",
       " <li> <a href=\"documents/2018/June_final_6_15.pdf\">June</a></li>\n",
       " <li> <a href=\"documents/2018/Jul-18b.pdf\">July</a></li>\n",
       " <li> <a href=\"documents/2018/Aug-18.pdf\">August</a></li>\n",
       " <li> <a href=\"documents/2018/Sep-18.pdf\">September</a></li>\n",
       " <li> <a href=\"documents/2018/oct_2018.pdf\">October</a></li>\n",
       " <li> <a href=\"documents/2018/Nov-18.pdf\">November</a></li>\n",
       " <li> <a href=\"documents/2018/Dec-18.pdf\">December</a></li>\n",
       " </ul>,\n",
       " <ul class=\"archive\">\n",
       " <li> <a href=\"documents/2017/Feb-17.pdf\">February</a> </li>\n",
       " <li> <a href=\"documents/2017/Mar-17.pdf\">March</a> </li>\n",
       " <li> <a href=\"documents/2017/Apr-17.pdf\">April</a> </li>\n",
       " <li> <a href=\"documents/2017/Jun-17.pdf\">June</a> </li>\n",
       " <li> <a href=\"documents/2017/Jul-17.pdf\">July</a> </li>\n",
       " <li> <a href=\"documents/2017/Aug-17.pdf\">August</a> </li>\n",
       " <li> <a href=\"documents/2017/September2017.pdf\">September</a> </li>\n",
       " <li> <a href=\"documents/2017/Oct-17.pdf\">October</a> </li>\n",
       " <li> <a href=\"documents/2017/Nov-17.pdf\">November</a> </li>\n",
       " <li> <a href=\"documents/2017/Dec-17.pdf\">December</a> </li>\n",
       " </ul>,\n",
       " <ul class=\"archive\">\n",
       " <li> <a href=\"documents/2016/february/documents/Feb-16.pdf\">February</a> </li>\n",
       " <li> <a href=\"documents/2016/march/documents/Mar-16.pdf\">March</a> </li>\n",
       " <li> <a href=\"documents/2016/april/documents/Apr-16.pdf\">April</a> </li>\n",
       " <li> <a href=\"documents/2016/june/documents/Jun-16.pdf\">June</a> </li>\n",
       " <li class=\"lightgoldbkgd\"> <a href=\"documents/2016/july/documents/Jul-16.pdf\">July</a>\n",
       " </li>\n",
       " <li> <a href=\"documents/2016/august/Aug-16.pdf\">August</a>\n",
       " </li>\n",
       " <li class=\"lightgoldbkgd\"> <a href=\"documents/2016/september/sept_2016_FB.pdf\">September</a>\n",
       " </li>\n",
       " <li><a href=\"documents/2016/October/Oct-16.pdf\"> October</a>\n",
       " </li>\n",
       " <li class=\"lightgoldbkgd\"> <a href=\"documents/2016/Nov_Finance_bulletin_2016.pdf\">November</a>\n",
       " </li>\n",
       " <li><a href=\"documents/2016/december/Dec-16.pdf\"> December</a> </li>\n",
       " </ul>,\n",
       " <ul class=\"archive\">\n",
       " <li class=\"lightgoldbkgd leftborder\"> <a href=\"documents/2015/february/documents/Feb-15.pdf\">February</a>\n",
       " </li>\n",
       " <li> <a href=\"documents/2015/march/documents/Mar-15.pdf\">March</a>\n",
       " </li>\n",
       " <li class=\"lightgoldbkgd\"> <a href=\"documents/2015/april/documents/Apr-15.pdf\">April</a>\n",
       " </li>\n",
       " <li> <a href=\"documents/2015/june/documents/Jun-15.pdf\">June</a>\n",
       " </li>\n",
       " <li class=\"lightgoldbkgd\"> <a href=\"documents/2015/july/documents/jul-15.pdf\">July</a>\n",
       " </li>\n",
       " <li> <a href=\"documents/2015/august/documents/aug-15-rv2.pdf\">August</a>\n",
       " </li>\n",
       " <li class=\"lightgoldbkgd\"> <a href=\"documents/2015/september/documents/Sep-15.pdf\">September</a>\n",
       " </li>\n",
       " <li> <a href=\"documents/2015/october/documents/Oct-15.pdf\">October</a>\n",
       " </li>\n",
       " <li class=\"lightgoldbkgd\"> <a href=\"documents/2015/november/documents/Nov-15.pdf\">November</a>\n",
       " </li>\n",
       " <!-- </li>-->\n",
       " <li> <a href=\"documents/2015/december/documents/Dec-15.pdf\">December</a>\n",
       " </li>\n",
       " </ul>,\n",
       " <ul class=\"archive\" id=\"year2014\">\n",
       " <li class=\"lightgoldbkgd leftborder\"> <a href=\"documents/PDF_Files/Feb-14.pdf\">February</a>\n",
       " </li>\n",
       " <li> <a href=\"documents/PDF_Files/Mar-14.pdf\">March</a>\n",
       " </li>\n",
       " <li class=\"lightgoldbkgd\"> <a href=\"documents/PDF_Files/Apr-14.pdf\">April</a>\n",
       " </li>\n",
       " <li> <a href=\"documents/PDF_Files/Jun-14.pdf\">June</a> </li>\n",
       " <li class=\"lightgoldbkgd\"> <a href=\"documents/PDF_Files/Jul-14.pdf\">July</a> </li>\n",
       " <li> <a href=\"documents/PDF_Files/Aug-14.pdf\">August</a>\n",
       " </li>\n",
       " <li class=\"lightgoldbkgd\"> <a href=\"documents/PDF_Files/Sep-14.pdf\">September</a>\n",
       " </li>\n",
       " <li> <a href=\"documents/PDF_Files/Oct-14.pdf\">October</a>\n",
       " </li>\n",
       " <li class=\"lightgoldbkgd\"> <a href=\"documents/PDF_Files/Nov-14.pdf\">November</a> </li>\n",
       " <!-- </li>-->\n",
       " <li> <a href=\"documents/PDF_Files/Dec-14.pdf\">December</a>\n",
       " </li>\n",
       " </ul>,\n",
       " <ul class=\"archive\" id=\"year2013\">\n",
       " <li class=\"lightgoldbkgd leftborder\"> <a href=\"documents/PDF_Files/Feb-13.pdf\">February</a>\n",
       " </li>\n",
       " <li> <a href=\"documents/PDF_Files/Mar-13.pdf\">March</a>\n",
       " </li>\n",
       " <li class=\"lightgoldbkgd\"> <a href=\"documents/PDF_Files/Apr-13.pdf\">April</a>\n",
       " </li>\n",
       " <li> <a href=\"documents/PDF_Files/Jun-13.pdf\">June</a> </li>\n",
       " <li class=\"lightgoldbkgd\"> <a href=\"documents//PDF_Files/Jul-13.pdf\">July</a> </li>\n",
       " <li> <a href=\"documents/PDF_Files/Aug-13.pdf\">August</a>\n",
       " </li>\n",
       " <li class=\"lightgoldbkgd\"> <a href=\"documents/PDF_Files/Sep-13.pdf\">September</a>\n",
       " </li>\n",
       " <li> <a href=\"documents/PDF_Files/Oct-13.pdf\">October</a>\n",
       " </li>\n",
       " <li class=\"lightgoldbkgd\"> <a href=\"documents/PDF_Files/Nov-13.pdf\">November</a> </li>\n",
       " <!-- </li>-->\n",
       " <li> <a href=\"documents/PDF_Files/Dec-13.pdf\">December</a>\n",
       " </li>\n",
       " </ul>,\n",
       " <ul class=\"archive\" id=\"year2012\">\n",
       " <li class=\"lightgoldbkgd leftborder\"> <a href=\"documents/PDF_Files/Feb-12.pdf\">February</a>\n",
       " </li>\n",
       " <li> <a href=\"documents/PDF_Files/Mar-12.pdf\">March</a>\n",
       " </li>\n",
       " <li class=\"lightgoldbkgd\"> <a href=\"documents/PDF_Files/Apr-12.pdf\">April</a>\n",
       " </li>\n",
       " <li> <a href=\"documents/PDF_Files/Jun-12.pdf\">June</a> </li>\n",
       " <li class=\"lightgoldbkgd\"> <a href=\"documents/PDF_Files/Jul-12.pdf\">July</a> </li>\n",
       " <li> <a href=\"documents/PDF_Files/Aug-12.pdf\">August</a>\n",
       " </li>\n",
       " <li class=\"lightgoldbkgd\"> <a href=\"documents/PDF_Files/Sep-12.pdf\">September</a>\n",
       " </li>\n",
       " <li> <a href=\"documents/PDF_Files/Oct-12.pdf\">October</a>\n",
       " </li>\n",
       " <li class=\"lightgoldbkgd\"> <a href=\"documents/PDF_Files/Nov-12.pdf\">November</a> </li>\n",
       " <!-- </li>-->\n",
       " <li> <a href=\"documents/PDF_Files/Dec-12.pdf\">December</a>\n",
       " </li>\n",
       " </ul>,\n",
       " <ul class=\"archive\" id=\"year2011\">\n",
       " <li class=\"lightgoldbkgd leftborder\"> <a href=\"documents/PDF_Files/Feb-11.pdf\">February</a>\n",
       " </li>\n",
       " <li> <a href=\"documents/PDF_Files/Mar-11.pdf\">March</a>\n",
       " </li>\n",
       " <li class=\"lightgoldbkgd\"> <a href=\"documents/PDF_Files/Apr-11.pdf\">April</a>\n",
       " </li>\n",
       " <li> <a href=\"documents/PDF_Files/Jun-11.pdf\">June</a> </li>\n",
       " <li class=\"lightgoldbkgd\"> <a href=\"documents/PDF_Files/jul-11.pdf\">July</a> </li>\n",
       " <li> <a href=\"documents/PDF_Files/aug-11.pdf\">August</a>\n",
       " </li>\n",
       " <li class=\"lightgoldbkgd\"> <a href=\"documents/PDF_Files/Sep-11.pdf\">September</a>\n",
       " </li>\n",
       " <li> <a href=\"documents/PDF_Files/Oct-11.pdf\">October</a>\n",
       " </li>\n",
       " <li class=\"lightgoldbkgd\"> <a href=\"documents/PDF_Files/Nov-11.pdf\">November</a> </li>\n",
       " <!-- </li>-->\n",
       " </ul>,\n",
       " <ul class=\"archive\" id=\"year2010\">\n",
       " <li class=\"lightgoldbkgd leftborder\"> <a href=\"documents/PDF_Files/Feb-10.pdf\">February</a>\n",
       " </li>\n",
       " <li> <a href=\"documents/PDF_Files/Mar-10.pdf\">March</a>\n",
       " </li>\n",
       " <li class=\"lightgoldbkgd\"> <a href=\"documents/PDF_Files/Apr-10.pdf\">April</a>\n",
       " </li>\n",
       " <li> <a href=\"documents/PDF_Files/Jun-10.pdf\">June</a> </li>\n",
       " <li class=\"lightgoldbkgd\"> <a href=\"documents/PDF_Files/jul-10.pdf\">July</a> </li>\n",
       " <li> <a href=\"documents/PDF_Files/aug-10.pdf\">August</a>\n",
       " </li>\n",
       " <li class=\"lightgoldbkgd\"> <a href=\"documents/PDF_Files/Sep-10.pdf\">September</a>\n",
       " </li>\n",
       " <li> <a href=\"documents/PDF_Files/Oct-10.pdf\">October</a>\n",
       " </li>\n",
       " <li class=\"lightgoldbkgd\"> <a href=\"documents/PDF_Files/Nov-10.pdf\">November</a> </li>\n",
       " <!-- </li>-->\n",
       " <li> <a href=\"documents/PDF_Files/Dec-10.pdf\">December</a>\n",
       " </li>\n",
       " </ul>,\n",
       " <ul class=\"archive\" id=\"year2009\">\n",
       " <li> <a href=\"documents/PDF_Files/Mar-09.pdf\">March</a>\n",
       " </li>\n",
       " <li class=\"lightgoldbkgd\"> <a href=\"documents/PDF_Files/Apr-09.pdf\">April</a>\n",
       " </li>\n",
       " <li> <a href=\"documents/PDF_Files/Jun-09.pdf\">June</a> </li>\n",
       " <li class=\"lightgoldbkgd\"> <a href=\"documents/PDF_Files/jul-09.pdf\">July</a> </li>\n",
       " <li> <a href=\"documents/PDF_Files/aug-09.pdf\">August</a>\n",
       " </li>\n",
       " <li class=\"lightgoldbkgd\"> <a href=\"documents/PDF_Files/Sep-09.pdf\">September</a>\n",
       " </li>\n",
       " <li> <a href=\"documents/PDF_Files/Oct-09.pdf\">October</a>\n",
       " </li>\n",
       " <li class=\"lightgoldbkgd\"> <a href=\"documents/PDF_Files/Nov-09.pdf\">November</a> </li>\n",
       " <!-- </li>-->\n",
       " <li> <a href=\"documents/PDF_Files/Dec-09.pdf\">December</a>\n",
       " </li>\n",
       " </ul>]"
      ]
     },
     "execution_count": 15,
     "metadata": {},
     "output_type": "execute_result"
    }
   ],
   "source": [
    "holder = soup.find_all(\"ul\", class_=\"archive\")\n",
    "ic(holder)"
   ]
  },
  {
   "cell_type": "code",
   "execution_count": 16,
   "metadata": {},
   "outputs": [],
   "source": [
    "base_url= \"https://dof.ca.gov/Forecasting/Economics/Economic_and_Revenue_Updates/\""
   ]
  },
  {
   "cell_type": "code",
   "execution_count": 20,
   "metadata": {
    "collapsed": true
   },
   "outputs": [
    {
     "data": {
      "text/plain": [
       "[[<a href=\"documents/2021/Feb-21.pdf\">February</a>,\n",
       "  <a href=\"documents/2021/Mar-21.pdf\">March</a>,\n",
       "  <a href=\"documents/2021/Apr-21.pdf\">April</a>,\n",
       "  <a href=\"documents/2021/Jun-21.pdf\">June</a>,\n",
       "  <a href=\"documents/2021/Jul-21.pdf\">July</a>,\n",
       "  <a href=\"documents/2021/August_2021.pdf\">August</a>,\n",
       "  <a href=\"documents/2021/Sept_2021b.pdf\">September</a>,\n",
       "  <a href=\"documents/2021/FB_Oct_21_final.pdf\">October</a>],\n",
       " [<a href=\"documents/2020/Feb_2020_FB.pdf\">February</a>,\n",
       "  <a href=\"documents/Mar_2020_FB.pdf\">March</a>,\n",
       "  <a href=\"documents/2020/FB_April.pdf\">April</a>,\n",
       "  <a href=\"documents/2020/Jun-20.pdf\">June</a>,\n",
       "  <a href=\"documents/2020/Jul-20.pdf\">July</a>,\n",
       "  <a href=\"documents/2020/Aug-20.pdf\">August</a>,\n",
       "  <a href=\"documents/2020/Sep-20.pdf\">September</a>,\n",
       "  <a href=\"documents/2020/Oct-20.pdf\">October</a>,\n",
       "  <a href=\"documents/2020/Nov-20.pdf\">November</a>,\n",
       "  <a href=\"documents/2020/Dec-20.pdf\">December</a>],\n",
       " [<a href=\"documents/2019/Feb-19.pdf\">February</a>,\n",
       "  <a href=\"documents/2019/Mar-19.pdf\">March</a>,\n",
       "  <a href=\"documents/2019/Apr-19.pdf\">April</a>,\n",
       "  <a href=\"documents/2019/Jun-19.pdf\">June</a>,\n",
       "  <a href=\"documents/2019/Jul-19.pdf\">July</a>,\n",
       "  <a href=\"documents/2019/Aug-19_Finance_Bulletin.pdf\">August</a>,\n",
       "  <a href=\"documents/2019/Sept-19_Finance_Bulletin.pdf\">September</a>,\n",
       "  <a href=\"documents/2019/Oct-19_Finance_Bulletin.pdf\">October</a>,\n",
       "  <a href=\"documents/2019/Nov-19_Finance_Bulletin.pdf\">November</a>,\n",
       "  <a href=\"documents/2019/Dec-19 Finance_Bulletin.pdf\">December</a>],\n",
       " [<a href=\"documents/2018/EconFebruary2018.pdf\">February</a>,\n",
       "  <a href=\"documents/2018/Mar-18.pdf\">March</a>,\n",
       "  <a href=\"documents/2018/Apr-18.pdf\">April</a>,\n",
       "  <a href=\"documents/2018/June_final_6_15.pdf\">June</a>,\n",
       "  <a href=\"documents/2018/Jul-18b.pdf\">July</a>,\n",
       "  <a href=\"documents/2018/Aug-18.pdf\">August</a>,\n",
       "  <a href=\"documents/2018/Sep-18.pdf\">September</a>,\n",
       "  <a href=\"documents/2018/oct_2018.pdf\">October</a>,\n",
       "  <a href=\"documents/2018/Nov-18.pdf\">November</a>,\n",
       "  <a href=\"documents/2018/Dec-18.pdf\">December</a>],\n",
       " [<a href=\"documents/2017/Feb-17.pdf\">February</a>,\n",
       "  <a href=\"documents/2017/Mar-17.pdf\">March</a>,\n",
       "  <a href=\"documents/2017/Apr-17.pdf\">April</a>,\n",
       "  <a href=\"documents/2017/Jun-17.pdf\">June</a>,\n",
       "  <a href=\"documents/2017/Jul-17.pdf\">July</a>,\n",
       "  <a href=\"documents/2017/Aug-17.pdf\">August</a>,\n",
       "  <a href=\"documents/2017/September2017.pdf\">September</a>,\n",
       "  <a href=\"documents/2017/Oct-17.pdf\">October</a>,\n",
       "  <a href=\"documents/2017/Nov-17.pdf\">November</a>,\n",
       "  <a href=\"documents/2017/Dec-17.pdf\">December</a>],\n",
       " [<a href=\"documents/2016/february/documents/Feb-16.pdf\">February</a>,\n",
       "  <a href=\"documents/2016/march/documents/Mar-16.pdf\">March</a>,\n",
       "  <a href=\"documents/2016/april/documents/Apr-16.pdf\">April</a>,\n",
       "  <a href=\"documents/2016/june/documents/Jun-16.pdf\">June</a>,\n",
       "  <a href=\"documents/2016/july/documents/Jul-16.pdf\">July</a>,\n",
       "  <a href=\"documents/2016/august/Aug-16.pdf\">August</a>,\n",
       "  <a href=\"documents/2016/september/sept_2016_FB.pdf\">September</a>,\n",
       "  <a href=\"documents/2016/October/Oct-16.pdf\"> October</a>,\n",
       "  <a href=\"documents/2016/Nov_Finance_bulletin_2016.pdf\">November</a>,\n",
       "  <a href=\"documents/2016/december/Dec-16.pdf\"> December</a>],\n",
       " [<a href=\"documents/2015/february/documents/Feb-15.pdf\">February</a>,\n",
       "  <a href=\"documents/2015/march/documents/Mar-15.pdf\">March</a>,\n",
       "  <a href=\"documents/2015/april/documents/Apr-15.pdf\">April</a>,\n",
       "  <a href=\"documents/2015/june/documents/Jun-15.pdf\">June</a>,\n",
       "  <a href=\"documents/2015/july/documents/jul-15.pdf\">July</a>,\n",
       "  <a href=\"documents/2015/august/documents/aug-15-rv2.pdf\">August</a>,\n",
       "  <a href=\"documents/2015/september/documents/Sep-15.pdf\">September</a>,\n",
       "  <a href=\"documents/2015/october/documents/Oct-15.pdf\">October</a>,\n",
       "  <a href=\"documents/2015/november/documents/Nov-15.pdf\">November</a>,\n",
       "  <a href=\"documents/2015/december/documents/Dec-15.pdf\">December</a>],\n",
       " [<a href=\"documents/PDF_Files/Feb-14.pdf\">February</a>,\n",
       "  <a href=\"documents/PDF_Files/Mar-14.pdf\">March</a>,\n",
       "  <a href=\"documents/PDF_Files/Apr-14.pdf\">April</a>,\n",
       "  <a href=\"documents/PDF_Files/Jun-14.pdf\">June</a>,\n",
       "  <a href=\"documents/PDF_Files/Jul-14.pdf\">July</a>,\n",
       "  <a href=\"documents/PDF_Files/Aug-14.pdf\">August</a>,\n",
       "  <a href=\"documents/PDF_Files/Sep-14.pdf\">September</a>,\n",
       "  <a href=\"documents/PDF_Files/Oct-14.pdf\">October</a>,\n",
       "  <a href=\"documents/PDF_Files/Nov-14.pdf\">November</a>,\n",
       "  <a href=\"documents/PDF_Files/Dec-14.pdf\">December</a>],\n",
       " [<a href=\"documents/PDF_Files/Feb-13.pdf\">February</a>,\n",
       "  <a href=\"documents/PDF_Files/Mar-13.pdf\">March</a>,\n",
       "  <a href=\"documents/PDF_Files/Apr-13.pdf\">April</a>,\n",
       "  <a href=\"documents/PDF_Files/Jun-13.pdf\">June</a>,\n",
       "  <a href=\"documents//PDF_Files/Jul-13.pdf\">July</a>,\n",
       "  <a href=\"documents/PDF_Files/Aug-13.pdf\">August</a>,\n",
       "  <a href=\"documents/PDF_Files/Sep-13.pdf\">September</a>,\n",
       "  <a href=\"documents/PDF_Files/Oct-13.pdf\">October</a>,\n",
       "  <a href=\"documents/PDF_Files/Nov-13.pdf\">November</a>,\n",
       "  <a href=\"documents/PDF_Files/Dec-13.pdf\">December</a>],\n",
       " [<a href=\"documents/PDF_Files/Feb-12.pdf\">February</a>,\n",
       "  <a href=\"documents/PDF_Files/Mar-12.pdf\">March</a>,\n",
       "  <a href=\"documents/PDF_Files/Apr-12.pdf\">April</a>,\n",
       "  <a href=\"documents/PDF_Files/Jun-12.pdf\">June</a>,\n",
       "  <a href=\"documents/PDF_Files/Jul-12.pdf\">July</a>,\n",
       "  <a href=\"documents/PDF_Files/Aug-12.pdf\">August</a>,\n",
       "  <a href=\"documents/PDF_Files/Sep-12.pdf\">September</a>,\n",
       "  <a href=\"documents/PDF_Files/Oct-12.pdf\">October</a>,\n",
       "  <a href=\"documents/PDF_Files/Nov-12.pdf\">November</a>,\n",
       "  <a href=\"documents/PDF_Files/Dec-12.pdf\">December</a>],\n",
       " [<a href=\"documents/PDF_Files/Feb-11.pdf\">February</a>,\n",
       "  <a href=\"documents/PDF_Files/Mar-11.pdf\">March</a>,\n",
       "  <a href=\"documents/PDF_Files/Apr-11.pdf\">April</a>,\n",
       "  <a href=\"documents/PDF_Files/Jun-11.pdf\">June</a>,\n",
       "  <a href=\"documents/PDF_Files/jul-11.pdf\">July</a>,\n",
       "  <a href=\"documents/PDF_Files/aug-11.pdf\">August</a>,\n",
       "  <a href=\"documents/PDF_Files/Sep-11.pdf\">September</a>,\n",
       "  <a href=\"documents/PDF_Files/Oct-11.pdf\">October</a>,\n",
       "  <a href=\"documents/PDF_Files/Nov-11.pdf\">November</a>],\n",
       " [<a href=\"documents/PDF_Files/Feb-10.pdf\">February</a>,\n",
       "  <a href=\"documents/PDF_Files/Mar-10.pdf\">March</a>,\n",
       "  <a href=\"documents/PDF_Files/Apr-10.pdf\">April</a>,\n",
       "  <a href=\"documents/PDF_Files/Jun-10.pdf\">June</a>,\n",
       "  <a href=\"documents/PDF_Files/jul-10.pdf\">July</a>,\n",
       "  <a href=\"documents/PDF_Files/aug-10.pdf\">August</a>,\n",
       "  <a href=\"documents/PDF_Files/Sep-10.pdf\">September</a>,\n",
       "  <a href=\"documents/PDF_Files/Oct-10.pdf\">October</a>,\n",
       "  <a href=\"documents/PDF_Files/Nov-10.pdf\">November</a>,\n",
       "  <a href=\"documents/PDF_Files/Dec-10.pdf\">December</a>],\n",
       " [<a href=\"documents/PDF_Files/Mar-09.pdf\">March</a>,\n",
       "  <a href=\"documents/PDF_Files/Apr-09.pdf\">April</a>,\n",
       "  <a href=\"documents/PDF_Files/Jun-09.pdf\">June</a>,\n",
       "  <a href=\"documents/PDF_Files/jul-09.pdf\">July</a>,\n",
       "  <a href=\"documents/PDF_Files/aug-09.pdf\">August</a>,\n",
       "  <a href=\"documents/PDF_Files/Sep-09.pdf\">September</a>,\n",
       "  <a href=\"documents/PDF_Files/Oct-09.pdf\">October</a>,\n",
       "  <a href=\"documents/PDF_Files/Nov-09.pdf\">November</a>,\n",
       "  <a href=\"documents/PDF_Files/Dec-09.pdf\">December</a>]]"
      ]
     },
     "execution_count": 20,
     "metadata": {},
     "output_type": "execute_result"
    }
   ],
   "source": [
    "a_holder = [file.find_all(\"a\") for file in holder]\n",
    "a_holder"
   ]
  },
  {
   "cell_type": "code",
   "execution_count": 22,
   "metadata": {
    "scrolled": true
   },
   "outputs": [
    {
     "data": {
      "text/plain": [
       "list"
      ]
     },
     "execution_count": 22,
     "metadata": {},
     "output_type": "execute_result"
    }
   ],
   "source": [
    "type(a_holder)"
   ]
  },
  {
   "cell_type": "code",
   "execution_count": 23,
   "metadata": {
    "collapsed": true
   },
   "outputs": [
    {
     "data": {
      "text/plain": [
       "[<a href=\"documents/2021/Feb-21.pdf\">February</a>,\n",
       " <a href=\"documents/2021/Mar-21.pdf\">March</a>,\n",
       " <a href=\"documents/2021/Apr-21.pdf\">April</a>,\n",
       " <a href=\"documents/2021/Jun-21.pdf\">June</a>,\n",
       " <a href=\"documents/2021/Jul-21.pdf\">July</a>,\n",
       " <a href=\"documents/2021/August_2021.pdf\">August</a>,\n",
       " <a href=\"documents/2021/Sept_2021b.pdf\">September</a>,\n",
       " <a href=\"documents/2021/FB_Oct_21_final.pdf\">October</a>,\n",
       " <a href=\"documents/2020/Feb_2020_FB.pdf\">February</a>,\n",
       " <a href=\"documents/Mar_2020_FB.pdf\">March</a>,\n",
       " <a href=\"documents/2020/FB_April.pdf\">April</a>,\n",
       " <a href=\"documents/2020/Jun-20.pdf\">June</a>,\n",
       " <a href=\"documents/2020/Jul-20.pdf\">July</a>,\n",
       " <a href=\"documents/2020/Aug-20.pdf\">August</a>,\n",
       " <a href=\"documents/2020/Sep-20.pdf\">September</a>,\n",
       " <a href=\"documents/2020/Oct-20.pdf\">October</a>,\n",
       " <a href=\"documents/2020/Nov-20.pdf\">November</a>,\n",
       " <a href=\"documents/2020/Dec-20.pdf\">December</a>,\n",
       " <a href=\"documents/2019/Feb-19.pdf\">February</a>,\n",
       " <a href=\"documents/2019/Mar-19.pdf\">March</a>,\n",
       " <a href=\"documents/2019/Apr-19.pdf\">April</a>,\n",
       " <a href=\"documents/2019/Jun-19.pdf\">June</a>,\n",
       " <a href=\"documents/2019/Jul-19.pdf\">July</a>,\n",
       " <a href=\"documents/2019/Aug-19_Finance_Bulletin.pdf\">August</a>,\n",
       " <a href=\"documents/2019/Sept-19_Finance_Bulletin.pdf\">September</a>,\n",
       " <a href=\"documents/2019/Oct-19_Finance_Bulletin.pdf\">October</a>,\n",
       " <a href=\"documents/2019/Nov-19_Finance_Bulletin.pdf\">November</a>,\n",
       " <a href=\"documents/2019/Dec-19 Finance_Bulletin.pdf\">December</a>,\n",
       " <a href=\"documents/2018/EconFebruary2018.pdf\">February</a>,\n",
       " <a href=\"documents/2018/Mar-18.pdf\">March</a>,\n",
       " <a href=\"documents/2018/Apr-18.pdf\">April</a>,\n",
       " <a href=\"documents/2018/June_final_6_15.pdf\">June</a>,\n",
       " <a href=\"documents/2018/Jul-18b.pdf\">July</a>,\n",
       " <a href=\"documents/2018/Aug-18.pdf\">August</a>,\n",
       " <a href=\"documents/2018/Sep-18.pdf\">September</a>,\n",
       " <a href=\"documents/2018/oct_2018.pdf\">October</a>,\n",
       " <a href=\"documents/2018/Nov-18.pdf\">November</a>,\n",
       " <a href=\"documents/2018/Dec-18.pdf\">December</a>,\n",
       " <a href=\"documents/2017/Feb-17.pdf\">February</a>,\n",
       " <a href=\"documents/2017/Mar-17.pdf\">March</a>,\n",
       " <a href=\"documents/2017/Apr-17.pdf\">April</a>,\n",
       " <a href=\"documents/2017/Jun-17.pdf\">June</a>,\n",
       " <a href=\"documents/2017/Jul-17.pdf\">July</a>,\n",
       " <a href=\"documents/2017/Aug-17.pdf\">August</a>,\n",
       " <a href=\"documents/2017/September2017.pdf\">September</a>,\n",
       " <a href=\"documents/2017/Oct-17.pdf\">October</a>,\n",
       " <a href=\"documents/2017/Nov-17.pdf\">November</a>,\n",
       " <a href=\"documents/2017/Dec-17.pdf\">December</a>,\n",
       " <a href=\"documents/2016/february/documents/Feb-16.pdf\">February</a>,\n",
       " <a href=\"documents/2016/march/documents/Mar-16.pdf\">March</a>,\n",
       " <a href=\"documents/2016/april/documents/Apr-16.pdf\">April</a>,\n",
       " <a href=\"documents/2016/june/documents/Jun-16.pdf\">June</a>,\n",
       " <a href=\"documents/2016/july/documents/Jul-16.pdf\">July</a>,\n",
       " <a href=\"documents/2016/august/Aug-16.pdf\">August</a>,\n",
       " <a href=\"documents/2016/september/sept_2016_FB.pdf\">September</a>,\n",
       " <a href=\"documents/2016/October/Oct-16.pdf\"> October</a>,\n",
       " <a href=\"documents/2016/Nov_Finance_bulletin_2016.pdf\">November</a>,\n",
       " <a href=\"documents/2016/december/Dec-16.pdf\"> December</a>,\n",
       " <a href=\"documents/2015/february/documents/Feb-15.pdf\">February</a>,\n",
       " <a href=\"documents/2015/march/documents/Mar-15.pdf\">March</a>,\n",
       " <a href=\"documents/2015/april/documents/Apr-15.pdf\">April</a>,\n",
       " <a href=\"documents/2015/june/documents/Jun-15.pdf\">June</a>,\n",
       " <a href=\"documents/2015/july/documents/jul-15.pdf\">July</a>,\n",
       " <a href=\"documents/2015/august/documents/aug-15-rv2.pdf\">August</a>,\n",
       " <a href=\"documents/2015/september/documents/Sep-15.pdf\">September</a>,\n",
       " <a href=\"documents/2015/october/documents/Oct-15.pdf\">October</a>,\n",
       " <a href=\"documents/2015/november/documents/Nov-15.pdf\">November</a>,\n",
       " <a href=\"documents/2015/december/documents/Dec-15.pdf\">December</a>,\n",
       " <a href=\"documents/PDF_Files/Feb-14.pdf\">February</a>,\n",
       " <a href=\"documents/PDF_Files/Mar-14.pdf\">March</a>,\n",
       " <a href=\"documents/PDF_Files/Apr-14.pdf\">April</a>,\n",
       " <a href=\"documents/PDF_Files/Jun-14.pdf\">June</a>,\n",
       " <a href=\"documents/PDF_Files/Jul-14.pdf\">July</a>,\n",
       " <a href=\"documents/PDF_Files/Aug-14.pdf\">August</a>,\n",
       " <a href=\"documents/PDF_Files/Sep-14.pdf\">September</a>,\n",
       " <a href=\"documents/PDF_Files/Oct-14.pdf\">October</a>,\n",
       " <a href=\"documents/PDF_Files/Nov-14.pdf\">November</a>,\n",
       " <a href=\"documents/PDF_Files/Dec-14.pdf\">December</a>,\n",
       " <a href=\"documents/PDF_Files/Feb-13.pdf\">February</a>,\n",
       " <a href=\"documents/PDF_Files/Mar-13.pdf\">March</a>,\n",
       " <a href=\"documents/PDF_Files/Apr-13.pdf\">April</a>,\n",
       " <a href=\"documents/PDF_Files/Jun-13.pdf\">June</a>,\n",
       " <a href=\"documents//PDF_Files/Jul-13.pdf\">July</a>,\n",
       " <a href=\"documents/PDF_Files/Aug-13.pdf\">August</a>,\n",
       " <a href=\"documents/PDF_Files/Sep-13.pdf\">September</a>,\n",
       " <a href=\"documents/PDF_Files/Oct-13.pdf\">October</a>,\n",
       " <a href=\"documents/PDF_Files/Nov-13.pdf\">November</a>,\n",
       " <a href=\"documents/PDF_Files/Dec-13.pdf\">December</a>,\n",
       " <a href=\"documents/PDF_Files/Feb-12.pdf\">February</a>,\n",
       " <a href=\"documents/PDF_Files/Mar-12.pdf\">March</a>,\n",
       " <a href=\"documents/PDF_Files/Apr-12.pdf\">April</a>,\n",
       " <a href=\"documents/PDF_Files/Jun-12.pdf\">June</a>,\n",
       " <a href=\"documents/PDF_Files/Jul-12.pdf\">July</a>,\n",
       " <a href=\"documents/PDF_Files/Aug-12.pdf\">August</a>,\n",
       " <a href=\"documents/PDF_Files/Sep-12.pdf\">September</a>,\n",
       " <a href=\"documents/PDF_Files/Oct-12.pdf\">October</a>,\n",
       " <a href=\"documents/PDF_Files/Nov-12.pdf\">November</a>,\n",
       " <a href=\"documents/PDF_Files/Dec-12.pdf\">December</a>,\n",
       " <a href=\"documents/PDF_Files/Feb-11.pdf\">February</a>,\n",
       " <a href=\"documents/PDF_Files/Mar-11.pdf\">March</a>,\n",
       " <a href=\"documents/PDF_Files/Apr-11.pdf\">April</a>,\n",
       " <a href=\"documents/PDF_Files/Jun-11.pdf\">June</a>,\n",
       " <a href=\"documents/PDF_Files/jul-11.pdf\">July</a>,\n",
       " <a href=\"documents/PDF_Files/aug-11.pdf\">August</a>,\n",
       " <a href=\"documents/PDF_Files/Sep-11.pdf\">September</a>,\n",
       " <a href=\"documents/PDF_Files/Oct-11.pdf\">October</a>,\n",
       " <a href=\"documents/PDF_Files/Nov-11.pdf\">November</a>,\n",
       " <a href=\"documents/PDF_Files/Feb-10.pdf\">February</a>,\n",
       " <a href=\"documents/PDF_Files/Mar-10.pdf\">March</a>,\n",
       " <a href=\"documents/PDF_Files/Apr-10.pdf\">April</a>,\n",
       " <a href=\"documents/PDF_Files/Jun-10.pdf\">June</a>,\n",
       " <a href=\"documents/PDF_Files/jul-10.pdf\">July</a>,\n",
       " <a href=\"documents/PDF_Files/aug-10.pdf\">August</a>,\n",
       " <a href=\"documents/PDF_Files/Sep-10.pdf\">September</a>,\n",
       " <a href=\"documents/PDF_Files/Oct-10.pdf\">October</a>,\n",
       " <a href=\"documents/PDF_Files/Nov-10.pdf\">November</a>,\n",
       " <a href=\"documents/PDF_Files/Dec-10.pdf\">December</a>,\n",
       " <a href=\"documents/PDF_Files/Mar-09.pdf\">March</a>,\n",
       " <a href=\"documents/PDF_Files/Apr-09.pdf\">April</a>,\n",
       " <a href=\"documents/PDF_Files/Jun-09.pdf\">June</a>,\n",
       " <a href=\"documents/PDF_Files/jul-09.pdf\">July</a>,\n",
       " <a href=\"documents/PDF_Files/aug-09.pdf\">August</a>,\n",
       " <a href=\"documents/PDF_Files/Sep-09.pdf\">September</a>,\n",
       " <a href=\"documents/PDF_Files/Oct-09.pdf\">October</a>,\n",
       " <a href=\"documents/PDF_Files/Nov-09.pdf\">November</a>,\n",
       " <a href=\"documents/PDF_Files/Dec-09.pdf\">December</a>]"
      ]
     },
     "execution_count": 23,
     "metadata": {},
     "output_type": "execute_result"
    }
   ],
   "source": [
    "flat_holder = list(itertools.chain(*a_holder))\n",
    "flat_holder"
   ]
  },
  {
   "cell_type": "code",
   "execution_count": 25,
   "metadata": {
    "collapsed": true
   },
   "outputs": [
    {
     "data": {
      "text/plain": [
       "['https://dof.ca.gov/Forecasting/Economics/Economic_and_Revenue_Updates/documents/2021/Feb-21.pdf',\n",
       " 'https://dof.ca.gov/Forecasting/Economics/Economic_and_Revenue_Updates/documents/2021/Mar-21.pdf',\n",
       " 'https://dof.ca.gov/Forecasting/Economics/Economic_and_Revenue_Updates/documents/2021/Apr-21.pdf',\n",
       " 'https://dof.ca.gov/Forecasting/Economics/Economic_and_Revenue_Updates/documents/2021/Jun-21.pdf',\n",
       " 'https://dof.ca.gov/Forecasting/Economics/Economic_and_Revenue_Updates/documents/2021/Jul-21.pdf',\n",
       " 'https://dof.ca.gov/Forecasting/Economics/Economic_and_Revenue_Updates/documents/2021/August_2021.pdf',\n",
       " 'https://dof.ca.gov/Forecasting/Economics/Economic_and_Revenue_Updates/documents/2021/Sept_2021b.pdf',\n",
       " 'https://dof.ca.gov/Forecasting/Economics/Economic_and_Revenue_Updates/documents/2021/FB_Oct_21_final.pdf',\n",
       " 'https://dof.ca.gov/Forecasting/Economics/Economic_and_Revenue_Updates/documents/2020/Feb_2020_FB.pdf',\n",
       " 'https://dof.ca.gov/Forecasting/Economics/Economic_and_Revenue_Updates/documents/Mar_2020_FB.pdf',\n",
       " 'https://dof.ca.gov/Forecasting/Economics/Economic_and_Revenue_Updates/documents/2020/FB_April.pdf',\n",
       " 'https://dof.ca.gov/Forecasting/Economics/Economic_and_Revenue_Updates/documents/2020/Jun-20.pdf',\n",
       " 'https://dof.ca.gov/Forecasting/Economics/Economic_and_Revenue_Updates/documents/2020/Jul-20.pdf',\n",
       " 'https://dof.ca.gov/Forecasting/Economics/Economic_and_Revenue_Updates/documents/2020/Aug-20.pdf',\n",
       " 'https://dof.ca.gov/Forecasting/Economics/Economic_and_Revenue_Updates/documents/2020/Sep-20.pdf',\n",
       " 'https://dof.ca.gov/Forecasting/Economics/Economic_and_Revenue_Updates/documents/2020/Oct-20.pdf',\n",
       " 'https://dof.ca.gov/Forecasting/Economics/Economic_and_Revenue_Updates/documents/2020/Nov-20.pdf',\n",
       " 'https://dof.ca.gov/Forecasting/Economics/Economic_and_Revenue_Updates/documents/2020/Dec-20.pdf',\n",
       " 'https://dof.ca.gov/Forecasting/Economics/Economic_and_Revenue_Updates/documents/2019/Feb-19.pdf',\n",
       " 'https://dof.ca.gov/Forecasting/Economics/Economic_and_Revenue_Updates/documents/2019/Mar-19.pdf',\n",
       " 'https://dof.ca.gov/Forecasting/Economics/Economic_and_Revenue_Updates/documents/2019/Apr-19.pdf',\n",
       " 'https://dof.ca.gov/Forecasting/Economics/Economic_and_Revenue_Updates/documents/2019/Jun-19.pdf',\n",
       " 'https://dof.ca.gov/Forecasting/Economics/Economic_and_Revenue_Updates/documents/2019/Jul-19.pdf',\n",
       " 'https://dof.ca.gov/Forecasting/Economics/Economic_and_Revenue_Updates/documents/2019/Aug-19_Finance_Bulletin.pdf',\n",
       " 'https://dof.ca.gov/Forecasting/Economics/Economic_and_Revenue_Updates/documents/2019/Sept-19_Finance_Bulletin.pdf',\n",
       " 'https://dof.ca.gov/Forecasting/Economics/Economic_and_Revenue_Updates/documents/2019/Oct-19_Finance_Bulletin.pdf',\n",
       " 'https://dof.ca.gov/Forecasting/Economics/Economic_and_Revenue_Updates/documents/2019/Nov-19_Finance_Bulletin.pdf',\n",
       " 'https://dof.ca.gov/Forecasting/Economics/Economic_and_Revenue_Updates/documents/2019/Dec-19 Finance_Bulletin.pdf',\n",
       " 'https://dof.ca.gov/Forecasting/Economics/Economic_and_Revenue_Updates/documents/2018/EconFebruary2018.pdf',\n",
       " 'https://dof.ca.gov/Forecasting/Economics/Economic_and_Revenue_Updates/documents/2018/Mar-18.pdf',\n",
       " 'https://dof.ca.gov/Forecasting/Economics/Economic_and_Revenue_Updates/documents/2018/Apr-18.pdf',\n",
       " 'https://dof.ca.gov/Forecasting/Economics/Economic_and_Revenue_Updates/documents/2018/June_final_6_15.pdf',\n",
       " 'https://dof.ca.gov/Forecasting/Economics/Economic_and_Revenue_Updates/documents/2018/Jul-18b.pdf',\n",
       " 'https://dof.ca.gov/Forecasting/Economics/Economic_and_Revenue_Updates/documents/2018/Aug-18.pdf',\n",
       " 'https://dof.ca.gov/Forecasting/Economics/Economic_and_Revenue_Updates/documents/2018/Sep-18.pdf',\n",
       " 'https://dof.ca.gov/Forecasting/Economics/Economic_and_Revenue_Updates/documents/2018/oct_2018.pdf',\n",
       " 'https://dof.ca.gov/Forecasting/Economics/Economic_and_Revenue_Updates/documents/2018/Nov-18.pdf',\n",
       " 'https://dof.ca.gov/Forecasting/Economics/Economic_and_Revenue_Updates/documents/2018/Dec-18.pdf',\n",
       " 'https://dof.ca.gov/Forecasting/Economics/Economic_and_Revenue_Updates/documents/2017/Feb-17.pdf',\n",
       " 'https://dof.ca.gov/Forecasting/Economics/Economic_and_Revenue_Updates/documents/2017/Mar-17.pdf',\n",
       " 'https://dof.ca.gov/Forecasting/Economics/Economic_and_Revenue_Updates/documents/2017/Apr-17.pdf',\n",
       " 'https://dof.ca.gov/Forecasting/Economics/Economic_and_Revenue_Updates/documents/2017/Jun-17.pdf',\n",
       " 'https://dof.ca.gov/Forecasting/Economics/Economic_and_Revenue_Updates/documents/2017/Jul-17.pdf',\n",
       " 'https://dof.ca.gov/Forecasting/Economics/Economic_and_Revenue_Updates/documents/2017/Aug-17.pdf',\n",
       " 'https://dof.ca.gov/Forecasting/Economics/Economic_and_Revenue_Updates/documents/2017/September2017.pdf',\n",
       " 'https://dof.ca.gov/Forecasting/Economics/Economic_and_Revenue_Updates/documents/2017/Oct-17.pdf',\n",
       " 'https://dof.ca.gov/Forecasting/Economics/Economic_and_Revenue_Updates/documents/2017/Nov-17.pdf',\n",
       " 'https://dof.ca.gov/Forecasting/Economics/Economic_and_Revenue_Updates/documents/2017/Dec-17.pdf',\n",
       " 'https://dof.ca.gov/Forecasting/Economics/Economic_and_Revenue_Updates/documents/2016/february/documents/Feb-16.pdf',\n",
       " 'https://dof.ca.gov/Forecasting/Economics/Economic_and_Revenue_Updates/documents/2016/march/documents/Mar-16.pdf',\n",
       " 'https://dof.ca.gov/Forecasting/Economics/Economic_and_Revenue_Updates/documents/2016/april/documents/Apr-16.pdf',\n",
       " 'https://dof.ca.gov/Forecasting/Economics/Economic_and_Revenue_Updates/documents/2016/june/documents/Jun-16.pdf',\n",
       " 'https://dof.ca.gov/Forecasting/Economics/Economic_and_Revenue_Updates/documents/2016/july/documents/Jul-16.pdf',\n",
       " 'https://dof.ca.gov/Forecasting/Economics/Economic_and_Revenue_Updates/documents/2016/august/Aug-16.pdf',\n",
       " 'https://dof.ca.gov/Forecasting/Economics/Economic_and_Revenue_Updates/documents/2016/september/sept_2016_FB.pdf',\n",
       " 'https://dof.ca.gov/Forecasting/Economics/Economic_and_Revenue_Updates/documents/2016/October/Oct-16.pdf',\n",
       " 'https://dof.ca.gov/Forecasting/Economics/Economic_and_Revenue_Updates/documents/2016/Nov_Finance_bulletin_2016.pdf',\n",
       " 'https://dof.ca.gov/Forecasting/Economics/Economic_and_Revenue_Updates/documents/2016/december/Dec-16.pdf',\n",
       " 'https://dof.ca.gov/Forecasting/Economics/Economic_and_Revenue_Updates/documents/2015/february/documents/Feb-15.pdf',\n",
       " 'https://dof.ca.gov/Forecasting/Economics/Economic_and_Revenue_Updates/documents/2015/march/documents/Mar-15.pdf',\n",
       " 'https://dof.ca.gov/Forecasting/Economics/Economic_and_Revenue_Updates/documents/2015/april/documents/Apr-15.pdf',\n",
       " 'https://dof.ca.gov/Forecasting/Economics/Economic_and_Revenue_Updates/documents/2015/june/documents/Jun-15.pdf',\n",
       " 'https://dof.ca.gov/Forecasting/Economics/Economic_and_Revenue_Updates/documents/2015/july/documents/jul-15.pdf',\n",
       " 'https://dof.ca.gov/Forecasting/Economics/Economic_and_Revenue_Updates/documents/2015/august/documents/aug-15-rv2.pdf',\n",
       " 'https://dof.ca.gov/Forecasting/Economics/Economic_and_Revenue_Updates/documents/2015/september/documents/Sep-15.pdf',\n",
       " 'https://dof.ca.gov/Forecasting/Economics/Economic_and_Revenue_Updates/documents/2015/october/documents/Oct-15.pdf',\n",
       " 'https://dof.ca.gov/Forecasting/Economics/Economic_and_Revenue_Updates/documents/2015/november/documents/Nov-15.pdf',\n",
       " 'https://dof.ca.gov/Forecasting/Economics/Economic_and_Revenue_Updates/documents/2015/december/documents/Dec-15.pdf',\n",
       " 'https://dof.ca.gov/Forecasting/Economics/Economic_and_Revenue_Updates/documents/PDF_Files/Feb-14.pdf',\n",
       " 'https://dof.ca.gov/Forecasting/Economics/Economic_and_Revenue_Updates/documents/PDF_Files/Mar-14.pdf',\n",
       " 'https://dof.ca.gov/Forecasting/Economics/Economic_and_Revenue_Updates/documents/PDF_Files/Apr-14.pdf',\n",
       " 'https://dof.ca.gov/Forecasting/Economics/Economic_and_Revenue_Updates/documents/PDF_Files/Jun-14.pdf',\n",
       " 'https://dof.ca.gov/Forecasting/Economics/Economic_and_Revenue_Updates/documents/PDF_Files/Jul-14.pdf',\n",
       " 'https://dof.ca.gov/Forecasting/Economics/Economic_and_Revenue_Updates/documents/PDF_Files/Aug-14.pdf',\n",
       " 'https://dof.ca.gov/Forecasting/Economics/Economic_and_Revenue_Updates/documents/PDF_Files/Sep-14.pdf',\n",
       " 'https://dof.ca.gov/Forecasting/Economics/Economic_and_Revenue_Updates/documents/PDF_Files/Oct-14.pdf',\n",
       " 'https://dof.ca.gov/Forecasting/Economics/Economic_and_Revenue_Updates/documents/PDF_Files/Nov-14.pdf',\n",
       " 'https://dof.ca.gov/Forecasting/Economics/Economic_and_Revenue_Updates/documents/PDF_Files/Dec-14.pdf',\n",
       " 'https://dof.ca.gov/Forecasting/Economics/Economic_and_Revenue_Updates/documents/PDF_Files/Feb-13.pdf',\n",
       " 'https://dof.ca.gov/Forecasting/Economics/Economic_and_Revenue_Updates/documents/PDF_Files/Mar-13.pdf',\n",
       " 'https://dof.ca.gov/Forecasting/Economics/Economic_and_Revenue_Updates/documents/PDF_Files/Apr-13.pdf',\n",
       " 'https://dof.ca.gov/Forecasting/Economics/Economic_and_Revenue_Updates/documents/PDF_Files/Jun-13.pdf',\n",
       " 'https://dof.ca.gov/Forecasting/Economics/Economic_and_Revenue_Updates/documents//PDF_Files/Jul-13.pdf',\n",
       " 'https://dof.ca.gov/Forecasting/Economics/Economic_and_Revenue_Updates/documents/PDF_Files/Aug-13.pdf',\n",
       " 'https://dof.ca.gov/Forecasting/Economics/Economic_and_Revenue_Updates/documents/PDF_Files/Sep-13.pdf',\n",
       " 'https://dof.ca.gov/Forecasting/Economics/Economic_and_Revenue_Updates/documents/PDF_Files/Oct-13.pdf',\n",
       " 'https://dof.ca.gov/Forecasting/Economics/Economic_and_Revenue_Updates/documents/PDF_Files/Nov-13.pdf',\n",
       " 'https://dof.ca.gov/Forecasting/Economics/Economic_and_Revenue_Updates/documents/PDF_Files/Dec-13.pdf',\n",
       " 'https://dof.ca.gov/Forecasting/Economics/Economic_and_Revenue_Updates/documents/PDF_Files/Feb-12.pdf',\n",
       " 'https://dof.ca.gov/Forecasting/Economics/Economic_and_Revenue_Updates/documents/PDF_Files/Mar-12.pdf',\n",
       " 'https://dof.ca.gov/Forecasting/Economics/Economic_and_Revenue_Updates/documents/PDF_Files/Apr-12.pdf',\n",
       " 'https://dof.ca.gov/Forecasting/Economics/Economic_and_Revenue_Updates/documents/PDF_Files/Jun-12.pdf',\n",
       " 'https://dof.ca.gov/Forecasting/Economics/Economic_and_Revenue_Updates/documents/PDF_Files/Jul-12.pdf',\n",
       " 'https://dof.ca.gov/Forecasting/Economics/Economic_and_Revenue_Updates/documents/PDF_Files/Aug-12.pdf',\n",
       " 'https://dof.ca.gov/Forecasting/Economics/Economic_and_Revenue_Updates/documents/PDF_Files/Sep-12.pdf',\n",
       " 'https://dof.ca.gov/Forecasting/Economics/Economic_and_Revenue_Updates/documents/PDF_Files/Oct-12.pdf',\n",
       " 'https://dof.ca.gov/Forecasting/Economics/Economic_and_Revenue_Updates/documents/PDF_Files/Nov-12.pdf',\n",
       " 'https://dof.ca.gov/Forecasting/Economics/Economic_and_Revenue_Updates/documents/PDF_Files/Dec-12.pdf',\n",
       " 'https://dof.ca.gov/Forecasting/Economics/Economic_and_Revenue_Updates/documents/PDF_Files/Feb-11.pdf',\n",
       " 'https://dof.ca.gov/Forecasting/Economics/Economic_and_Revenue_Updates/documents/PDF_Files/Mar-11.pdf',\n",
       " 'https://dof.ca.gov/Forecasting/Economics/Economic_and_Revenue_Updates/documents/PDF_Files/Apr-11.pdf',\n",
       " 'https://dof.ca.gov/Forecasting/Economics/Economic_and_Revenue_Updates/documents/PDF_Files/Jun-11.pdf',\n",
       " 'https://dof.ca.gov/Forecasting/Economics/Economic_and_Revenue_Updates/documents/PDF_Files/jul-11.pdf',\n",
       " 'https://dof.ca.gov/Forecasting/Economics/Economic_and_Revenue_Updates/documents/PDF_Files/aug-11.pdf',\n",
       " 'https://dof.ca.gov/Forecasting/Economics/Economic_and_Revenue_Updates/documents/PDF_Files/Sep-11.pdf',\n",
       " 'https://dof.ca.gov/Forecasting/Economics/Economic_and_Revenue_Updates/documents/PDF_Files/Oct-11.pdf',\n",
       " 'https://dof.ca.gov/Forecasting/Economics/Economic_and_Revenue_Updates/documents/PDF_Files/Nov-11.pdf',\n",
       " 'https://dof.ca.gov/Forecasting/Economics/Economic_and_Revenue_Updates/documents/PDF_Files/Feb-10.pdf',\n",
       " 'https://dof.ca.gov/Forecasting/Economics/Economic_and_Revenue_Updates/documents/PDF_Files/Mar-10.pdf',\n",
       " 'https://dof.ca.gov/Forecasting/Economics/Economic_and_Revenue_Updates/documents/PDF_Files/Apr-10.pdf',\n",
       " 'https://dof.ca.gov/Forecasting/Economics/Economic_and_Revenue_Updates/documents/PDF_Files/Jun-10.pdf',\n",
       " 'https://dof.ca.gov/Forecasting/Economics/Economic_and_Revenue_Updates/documents/PDF_Files/jul-10.pdf',\n",
       " 'https://dof.ca.gov/Forecasting/Economics/Economic_and_Revenue_Updates/documents/PDF_Files/aug-10.pdf',\n",
       " 'https://dof.ca.gov/Forecasting/Economics/Economic_and_Revenue_Updates/documents/PDF_Files/Sep-10.pdf',\n",
       " 'https://dof.ca.gov/Forecasting/Economics/Economic_and_Revenue_Updates/documents/PDF_Files/Oct-10.pdf',\n",
       " 'https://dof.ca.gov/Forecasting/Economics/Economic_and_Revenue_Updates/documents/PDF_Files/Nov-10.pdf',\n",
       " 'https://dof.ca.gov/Forecasting/Economics/Economic_and_Revenue_Updates/documents/PDF_Files/Dec-10.pdf',\n",
       " 'https://dof.ca.gov/Forecasting/Economics/Economic_and_Revenue_Updates/documents/PDF_Files/Mar-09.pdf',\n",
       " 'https://dof.ca.gov/Forecasting/Economics/Economic_and_Revenue_Updates/documents/PDF_Files/Apr-09.pdf',\n",
       " 'https://dof.ca.gov/Forecasting/Economics/Economic_and_Revenue_Updates/documents/PDF_Files/Jun-09.pdf',\n",
       " 'https://dof.ca.gov/Forecasting/Economics/Economic_and_Revenue_Updates/documents/PDF_Files/jul-09.pdf',\n",
       " 'https://dof.ca.gov/Forecasting/Economics/Economic_and_Revenue_Updates/documents/PDF_Files/aug-09.pdf',\n",
       " 'https://dof.ca.gov/Forecasting/Economics/Economic_and_Revenue_Updates/documents/PDF_Files/Sep-09.pdf',\n",
       " 'https://dof.ca.gov/Forecasting/Economics/Economic_and_Revenue_Updates/documents/PDF_Files/Oct-09.pdf',\n",
       " 'https://dof.ca.gov/Forecasting/Economics/Economic_and_Revenue_Updates/documents/PDF_Files/Nov-09.pdf',\n",
       " 'https://dof.ca.gov/Forecasting/Economics/Economic_and_Revenue_Updates/documents/PDF_Files/Dec-09.pdf']"
      ]
     },
     "execution_count": 25,
     "metadata": {},
     "output_type": "execute_result"
    }
   ],
   "source": [
    "links = [base_url + file.get(\"href\") for file in flat_holder ]\n",
    "links"
   ]
  },
  {
   "cell_type": "code",
   "execution_count": 28,
   "metadata": {},
   "outputs": [
    {
     "name": "stderr",
     "output_type": "stream",
     "text": [
      "ic| link: 'https://dof.ca.gov/Forecasting/Economics/Economic_and_Revenue_Updates/documents/2021/Feb-21.pdf'\n"
     ]
    },
    {
     "name": "stdout",
     "output_type": "stream",
     "text": [
      "Downloaded 1 of 126\n",
      "Snoozing for 10 seconds before next link\n"
     ]
    },
    {
     "name": "stderr",
     "output_type": "stream",
     "text": [
      "ic| link: 'https://dof.ca.gov/Forecasting/Economics/Economic_and_Revenue_Updates/documents/2021/Mar-21.pdf'\n"
     ]
    },
    {
     "name": "stdout",
     "output_type": "stream",
     "text": [
      "Downloaded 2 of 126\n",
      "Snoozing for 14 seconds before next link\n"
     ]
    },
    {
     "name": "stderr",
     "output_type": "stream",
     "text": [
      "ic| link: 'https://dof.ca.gov/Forecasting/Economics/Economic_and_Revenue_Updates/documents/2021/Apr-21.pdf'\n"
     ]
    },
    {
     "name": "stdout",
     "output_type": "stream",
     "text": [
      "Downloaded 3 of 126\n",
      "Snoozing for 17 seconds before next link\n"
     ]
    },
    {
     "name": "stderr",
     "output_type": "stream",
     "text": [
      "ic| link: 'https://dof.ca.gov/Forecasting/Economics/Economic_and_Revenue_Updates/documents/2021/Jun-21.pdf'\n"
     ]
    },
    {
     "name": "stdout",
     "output_type": "stream",
     "text": [
      "Downloaded 4 of 126\n",
      "Snoozing for 13 seconds before next link\n"
     ]
    },
    {
     "name": "stderr",
     "output_type": "stream",
     "text": [
      "ic| link: 'https://dof.ca.gov/Forecasting/Economics/Economic_and_Revenue_Updates/documents/2021/Jul-21.pdf'\n"
     ]
    },
    {
     "name": "stdout",
     "output_type": "stream",
     "text": [
      "Downloaded 5 of 126\n",
      "Snoozing for 48 seconds before next link\n"
     ]
    },
    {
     "name": "stderr",
     "output_type": "stream",
     "text": [
      "ic| link: 'https://dof.ca.gov/Forecasting/Economics/Economic_and_Revenue_Updates/documents/2021/August_2021.pdf'\n"
     ]
    },
    {
     "name": "stdout",
     "output_type": "stream",
     "text": [
      "Downloaded 6 of 126\n",
      "Snoozing for 41 seconds before next link\n"
     ]
    },
    {
     "name": "stderr",
     "output_type": "stream",
     "text": [
      "ic| link: 'https://dof.ca.gov/Forecasting/Economics/Economic_and_Revenue_Updates/documents/2021/Sept_2021b.pdf'\n"
     ]
    },
    {
     "name": "stdout",
     "output_type": "stream",
     "text": [
      "Downloaded 7 of 126\n",
      "Snoozing for 33 seconds before next link\n"
     ]
    },
    {
     "name": "stderr",
     "output_type": "stream",
     "text": [
      "ic| link: 'https://dof.ca.gov/Forecasting/Economics/Economic_and_Revenue_Updates/documents/2021/FB_Oct_21_final.pdf'\n"
     ]
    },
    {
     "name": "stdout",
     "output_type": "stream",
     "text": [
      "Downloaded 8 of 126\n",
      "Snoozing for 17 seconds before next link\n"
     ]
    },
    {
     "name": "stderr",
     "output_type": "stream",
     "text": [
      "ic| link: 'https://dof.ca.gov/Forecasting/Economics/Economic_and_Revenue_Updates/documents/2020/Feb_2020_FB.pdf'\n"
     ]
    },
    {
     "name": "stdout",
     "output_type": "stream",
     "text": [
      "Downloaded 9 of 126\n",
      "Snoozing for 23 seconds before next link\n"
     ]
    },
    {
     "name": "stderr",
     "output_type": "stream",
     "text": [
      "ic| link: 'https://dof.ca.gov/Forecasting/Economics/Economic_and_Revenue_Updates/documents/Mar_2020_FB.pdf'\n"
     ]
    },
    {
     "name": "stdout",
     "output_type": "stream",
     "text": [
      "Downloaded 10 of 126\n",
      "Snoozing for 21 seconds before next link\n"
     ]
    },
    {
     "name": "stderr",
     "output_type": "stream",
     "text": [
      "ic| link: 'https://dof.ca.gov/Forecasting/Economics/Economic_and_Revenue_Updates/documents/2020/FB_April.pdf'\n"
     ]
    },
    {
     "name": "stdout",
     "output_type": "stream",
     "text": [
      "Downloaded 11 of 126\n",
      "Snoozing for 11 seconds before next link\n"
     ]
    },
    {
     "name": "stderr",
     "output_type": "stream",
     "text": [
      "ic| link: 'https://dof.ca.gov/Forecasting/Economics/Economic_and_Revenue_Updates/documents/2020/Jun-20.pdf'\n"
     ]
    },
    {
     "name": "stdout",
     "output_type": "stream",
     "text": [
      "Downloaded 12 of 126\n",
      "Snoozing for 48 seconds before next link\n"
     ]
    },
    {
     "name": "stderr",
     "output_type": "stream",
     "text": [
      "ic| link: 'https://dof.ca.gov/Forecasting/Economics/Economic_and_Revenue_Updates/documents/2020/Jul-20.pdf'\n"
     ]
    },
    {
     "name": "stdout",
     "output_type": "stream",
     "text": [
      "Downloaded 13 of 126\n",
      "Snoozing for 19 seconds before next link\n"
     ]
    },
    {
     "name": "stderr",
     "output_type": "stream",
     "text": [
      "ic| link: 'https://dof.ca.gov/Forecasting/Economics/Economic_and_Revenue_Updates/documents/2020/Aug-20.pdf'\n"
     ]
    },
    {
     "name": "stdout",
     "output_type": "stream",
     "text": [
      "Downloaded 14 of 126\n",
      "Snoozing for 43 seconds before next link\n"
     ]
    },
    {
     "name": "stderr",
     "output_type": "stream",
     "text": [
      "ic| link: 'https://dof.ca.gov/Forecasting/Economics/Economic_and_Revenue_Updates/documents/2020/Sep-20.pdf'\n"
     ]
    },
    {
     "name": "stdout",
     "output_type": "stream",
     "text": [
      "Downloaded 15 of 126\n",
      "Snoozing for 41 seconds before next link\n"
     ]
    },
    {
     "name": "stderr",
     "output_type": "stream",
     "text": [
      "ic| link: 'https://dof.ca.gov/Forecasting/Economics/Economic_and_Revenue_Updates/documents/2020/Oct-20.pdf'\n"
     ]
    },
    {
     "name": "stdout",
     "output_type": "stream",
     "text": [
      "Downloaded 16 of 126\n",
      "Snoozing for 35 seconds before next link\n"
     ]
    },
    {
     "name": "stderr",
     "output_type": "stream",
     "text": [
      "ic| link: 'https://dof.ca.gov/Forecasting/Economics/Economic_and_Revenue_Updates/documents/2020/Nov-20.pdf'\n"
     ]
    },
    {
     "name": "stdout",
     "output_type": "stream",
     "text": [
      "Downloaded 17 of 126\n",
      "Snoozing for 13 seconds before next link\n"
     ]
    },
    {
     "name": "stderr",
     "output_type": "stream",
     "text": [
      "ic| link: 'https://dof.ca.gov/Forecasting/Economics/Economic_and_Revenue_Updates/documents/2020/Dec-20.pdf'\n"
     ]
    },
    {
     "name": "stdout",
     "output_type": "stream",
     "text": [
      "Downloaded 18 of 126\n",
      "Snoozing for 13 seconds before next link\n"
     ]
    },
    {
     "name": "stderr",
     "output_type": "stream",
     "text": [
      "ic| link: 'https://dof.ca.gov/Forecasting/Economics/Economic_and_Revenue_Updates/documents/2019/Feb-19.pdf'\n"
     ]
    },
    {
     "name": "stdout",
     "output_type": "stream",
     "text": [
      "Downloaded 19 of 126\n",
      "Snoozing for 45 seconds before next link\n"
     ]
    },
    {
     "name": "stderr",
     "output_type": "stream",
     "text": [
      "ic| link: 'https://dof.ca.gov/Forecasting/Economics/Economic_and_Revenue_Updates/documents/2019/Mar-19.pdf'\n"
     ]
    },
    {
     "name": "stdout",
     "output_type": "stream",
     "text": [
      "Downloaded 20 of 126\n",
      "Snoozing for 36 seconds before next link\n"
     ]
    },
    {
     "name": "stderr",
     "output_type": "stream",
     "text": [
      "ic| link: 'https://dof.ca.gov/Forecasting/Economics/Economic_and_Revenue_Updates/documents/2019/Apr-19.pdf'\n"
     ]
    },
    {
     "name": "stdout",
     "output_type": "stream",
     "text": [
      "Downloaded 21 of 126\n",
      "Snoozing for 32 seconds before next link\n"
     ]
    },
    {
     "name": "stderr",
     "output_type": "stream",
     "text": [
      "ic| link: 'https://dof.ca.gov/Forecasting/Economics/Economic_and_Revenue_Updates/documents/2019/Jun-19.pdf'\n"
     ]
    },
    {
     "name": "stdout",
     "output_type": "stream",
     "text": [
      "Downloaded 22 of 126\n",
      "Snoozing for 16 seconds before next link\n"
     ]
    },
    {
     "name": "stderr",
     "output_type": "stream",
     "text": [
      "ic| link: 'https://dof.ca.gov/Forecasting/Economics/Economic_and_Revenue_Updates/documents/2019/Jul-19.pdf'\n"
     ]
    },
    {
     "name": "stdout",
     "output_type": "stream",
     "text": [
      "Downloaded 23 of 126\n",
      "Snoozing for 35 seconds before next link\n"
     ]
    },
    {
     "name": "stderr",
     "output_type": "stream",
     "text": [
      "ic| link: 'https://dof.ca.gov/Forecasting/Economics/Economic_and_Revenue_Updates/documents/2019/Aug-19_Finance_Bulletin.pdf'\n"
     ]
    },
    {
     "name": "stdout",
     "output_type": "stream",
     "text": [
      "Downloaded 24 of 126\n",
      "Snoozing for 20 seconds before next link\n"
     ]
    },
    {
     "name": "stderr",
     "output_type": "stream",
     "text": [
      "ic| link: 'https://dof.ca.gov/Forecasting/Economics/Economic_and_Revenue_Updates/documents/2019/Sept-19_Finance_Bulletin.pdf'\n"
     ]
    },
    {
     "name": "stdout",
     "output_type": "stream",
     "text": [
      "Downloaded 25 of 126\n",
      "Snoozing for 28 seconds before next link\n"
     ]
    },
    {
     "name": "stderr",
     "output_type": "stream",
     "text": [
      "ic| link: 'https://dof.ca.gov/Forecasting/Economics/Economic_and_Revenue_Updates/documents/2019/Oct-19_Finance_Bulletin.pdf'\n"
     ]
    },
    {
     "name": "stdout",
     "output_type": "stream",
     "text": [
      "Downloaded 26 of 126\n",
      "Snoozing for 11 seconds before next link\n"
     ]
    },
    {
     "name": "stderr",
     "output_type": "stream",
     "text": [
      "ic| link: 'https://dof.ca.gov/Forecasting/Economics/Economic_and_Revenue_Updates/documents/2019/Nov-19_Finance_Bulletin.pdf'\n"
     ]
    },
    {
     "name": "stdout",
     "output_type": "stream",
     "text": [
      "Downloaded 27 of 126\n",
      "Snoozing for 33 seconds before next link\n"
     ]
    },
    {
     "name": "stderr",
     "output_type": "stream",
     "text": [
      "ic| link: ('https://dof.ca.gov/Forecasting/Economics/Economic_and_Revenue_Updates/documents/2019/Dec-19 '\n",
      "           'Finance_Bulletin.pdf')\n"
     ]
    },
    {
     "name": "stdout",
     "output_type": "stream",
     "text": [
      "Downloaded 28 of 126\n",
      "Snoozing for 34 seconds before next link\n"
     ]
    },
    {
     "name": "stderr",
     "output_type": "stream",
     "text": [
      "ic| link: 'https://dof.ca.gov/Forecasting/Economics/Economic_and_Revenue_Updates/documents/2018/EconFebruary2018.pdf'\n"
     ]
    },
    {
     "name": "stdout",
     "output_type": "stream",
     "text": [
      "Downloaded 29 of 126\n",
      "Snoozing for 47 seconds before next link\n"
     ]
    },
    {
     "name": "stderr",
     "output_type": "stream",
     "text": [
      "ic| link: 'https://dof.ca.gov/Forecasting/Economics/Economic_and_Revenue_Updates/documents/2018/Mar-18.pdf'\n"
     ]
    },
    {
     "name": "stdout",
     "output_type": "stream",
     "text": [
      "Downloaded 30 of 126\n",
      "Snoozing for 16 seconds before next link\n"
     ]
    },
    {
     "name": "stderr",
     "output_type": "stream",
     "text": [
      "ic| link: 'https://dof.ca.gov/Forecasting/Economics/Economic_and_Revenue_Updates/documents/2018/Apr-18.pdf'\n"
     ]
    },
    {
     "name": "stdout",
     "output_type": "stream",
     "text": [
      "Downloaded 31 of 126\n",
      "Snoozing for 22 seconds before next link\n"
     ]
    },
    {
     "name": "stderr",
     "output_type": "stream",
     "text": [
      "ic| link: 'https://dof.ca.gov/Forecasting/Economics/Economic_and_Revenue_Updates/documents/2018/June_final_6_15.pdf'\n"
     ]
    },
    {
     "name": "stdout",
     "output_type": "stream",
     "text": [
      "Downloaded 32 of 126\n",
      "Snoozing for 30 seconds before next link\n"
     ]
    },
    {
     "name": "stderr",
     "output_type": "stream",
     "text": [
      "ic| link: 'https://dof.ca.gov/Forecasting/Economics/Economic_and_Revenue_Updates/documents/2018/Jul-18b.pdf'\n"
     ]
    },
    {
     "name": "stdout",
     "output_type": "stream",
     "text": [
      "Downloaded 33 of 126\n",
      "Snoozing for 27 seconds before next link\n"
     ]
    },
    {
     "name": "stderr",
     "output_type": "stream",
     "text": [
      "ic| link: 'https://dof.ca.gov/Forecasting/Economics/Economic_and_Revenue_Updates/documents/2018/Aug-18.pdf'\n"
     ]
    },
    {
     "name": "stdout",
     "output_type": "stream",
     "text": [
      "Downloaded 34 of 126\n",
      "Snoozing for 28 seconds before next link\n"
     ]
    },
    {
     "name": "stderr",
     "output_type": "stream",
     "text": [
      "ic| link: 'https://dof.ca.gov/Forecasting/Economics/Economic_and_Revenue_Updates/documents/2018/Sep-18.pdf'\n"
     ]
    },
    {
     "name": "stdout",
     "output_type": "stream",
     "text": [
      "Downloaded 35 of 126\n",
      "Snoozing for 46 seconds before next link\n"
     ]
    },
    {
     "name": "stderr",
     "output_type": "stream",
     "text": [
      "ic| link: 'https://dof.ca.gov/Forecasting/Economics/Economic_and_Revenue_Updates/documents/2018/oct_2018.pdf'\n"
     ]
    },
    {
     "name": "stdout",
     "output_type": "stream",
     "text": [
      "Downloaded 36 of 126\n",
      "Snoozing for 20 seconds before next link\n"
     ]
    },
    {
     "name": "stderr",
     "output_type": "stream",
     "text": [
      "ic| link: 'https://dof.ca.gov/Forecasting/Economics/Economic_and_Revenue_Updates/documents/2018/Nov-18.pdf'\n"
     ]
    },
    {
     "name": "stdout",
     "output_type": "stream",
     "text": [
      "Downloaded 37 of 126\n",
      "Snoozing for 48 seconds before next link\n"
     ]
    },
    {
     "name": "stderr",
     "output_type": "stream",
     "text": [
      "ic| link: 'https://dof.ca.gov/Forecasting/Economics/Economic_and_Revenue_Updates/documents/2018/Dec-18.pdf'\n"
     ]
    },
    {
     "name": "stdout",
     "output_type": "stream",
     "text": [
      "Downloaded 38 of 126\n",
      "Snoozing for 35 seconds before next link\n"
     ]
    },
    {
     "name": "stderr",
     "output_type": "stream",
     "text": [
      "ic| link: 'https://dof.ca.gov/Forecasting/Economics/Economic_and_Revenue_Updates/documents/2017/Feb-17.pdf'\n"
     ]
    },
    {
     "name": "stdout",
     "output_type": "stream",
     "text": [
      "Downloaded 39 of 126\n",
      "Snoozing for 38 seconds before next link\n"
     ]
    },
    {
     "name": "stderr",
     "output_type": "stream",
     "text": [
      "ic| link: 'https://dof.ca.gov/Forecasting/Economics/Economic_and_Revenue_Updates/documents/2017/Mar-17.pdf'\n"
     ]
    },
    {
     "name": "stdout",
     "output_type": "stream",
     "text": [
      "Downloaded 40 of 126\n",
      "Snoozing for 30 seconds before next link\n"
     ]
    },
    {
     "name": "stderr",
     "output_type": "stream",
     "text": [
      "ic| link: 'https://dof.ca.gov/Forecasting/Economics/Economic_and_Revenue_Updates/documents/2017/Apr-17.pdf'\n"
     ]
    },
    {
     "name": "stdout",
     "output_type": "stream",
     "text": [
      "Downloaded 41 of 126\n",
      "Snoozing for 47 seconds before next link\n"
     ]
    },
    {
     "name": "stderr",
     "output_type": "stream",
     "text": [
      "ic| link: 'https://dof.ca.gov/Forecasting/Economics/Economic_and_Revenue_Updates/documents/2017/Jun-17.pdf'\n"
     ]
    },
    {
     "name": "stdout",
     "output_type": "stream",
     "text": [
      "Downloaded 42 of 126\n",
      "Snoozing for 11 seconds before next link\n"
     ]
    },
    {
     "name": "stderr",
     "output_type": "stream",
     "text": [
      "ic| link: 'https://dof.ca.gov/Forecasting/Economics/Economic_and_Revenue_Updates/documents/2017/Jul-17.pdf'\n"
     ]
    },
    {
     "name": "stdout",
     "output_type": "stream",
     "text": [
      "Downloaded 43 of 126\n",
      "Snoozing for 26 seconds before next link\n"
     ]
    },
    {
     "name": "stderr",
     "output_type": "stream",
     "text": [
      "ic| link: 'https://dof.ca.gov/Forecasting/Economics/Economic_and_Revenue_Updates/documents/2017/Aug-17.pdf'\n"
     ]
    },
    {
     "name": "stdout",
     "output_type": "stream",
     "text": [
      "Downloaded 44 of 126\n",
      "Snoozing for 31 seconds before next link\n"
     ]
    },
    {
     "name": "stderr",
     "output_type": "stream",
     "text": [
      "ic| link: 'https://dof.ca.gov/Forecasting/Economics/Economic_and_Revenue_Updates/documents/2017/September2017.pdf'\n"
     ]
    },
    {
     "name": "stdout",
     "output_type": "stream",
     "text": [
      "Downloaded 45 of 126\n",
      "Snoozing for 40 seconds before next link\n"
     ]
    },
    {
     "name": "stderr",
     "output_type": "stream",
     "text": [
      "ic| link: 'https://dof.ca.gov/Forecasting/Economics/Economic_and_Revenue_Updates/documents/2017/Oct-17.pdf'\n"
     ]
    },
    {
     "name": "stdout",
     "output_type": "stream",
     "text": [
      "Downloaded 46 of 126\n",
      "Snoozing for 29 seconds before next link\n"
     ]
    },
    {
     "name": "stderr",
     "output_type": "stream",
     "text": [
      "ic| link: 'https://dof.ca.gov/Forecasting/Economics/Economic_and_Revenue_Updates/documents/2017/Nov-17.pdf'\n"
     ]
    },
    {
     "name": "stdout",
     "output_type": "stream",
     "text": [
      "Downloaded 47 of 126\n",
      "Snoozing for 32 seconds before next link\n"
     ]
    },
    {
     "name": "stderr",
     "output_type": "stream",
     "text": [
      "ic| link: 'https://dof.ca.gov/Forecasting/Economics/Economic_and_Revenue_Updates/documents/2017/Dec-17.pdf'\n"
     ]
    },
    {
     "name": "stdout",
     "output_type": "stream",
     "text": [
      "Downloaded 48 of 126\n",
      "Snoozing for 16 seconds before next link\n"
     ]
    },
    {
     "name": "stderr",
     "output_type": "stream",
     "text": [
      "ic| link: 'https://dof.ca.gov/Forecasting/Economics/Economic_and_Revenue_Updates/documents/2016/february/documents/Feb-16.pdf'\n"
     ]
    },
    {
     "name": "stdout",
     "output_type": "stream",
     "text": [
      "Downloaded 49 of 126\n",
      "Snoozing for 11 seconds before next link\n"
     ]
    },
    {
     "name": "stderr",
     "output_type": "stream",
     "text": [
      "ic| link: 'https://dof.ca.gov/Forecasting/Economics/Economic_and_Revenue_Updates/documents/2016/march/documents/Mar-16.pdf'\n"
     ]
    },
    {
     "name": "stdout",
     "output_type": "stream",
     "text": [
      "Downloaded 50 of 126\n",
      "Snoozing for 29 seconds before next link\n"
     ]
    },
    {
     "name": "stderr",
     "output_type": "stream",
     "text": [
      "ic| link: 'https://dof.ca.gov/Forecasting/Economics/Economic_and_Revenue_Updates/documents/2016/april/documents/Apr-16.pdf'\n"
     ]
    },
    {
     "name": "stdout",
     "output_type": "stream",
     "text": [
      "Downloaded 51 of 126\n",
      "Snoozing for 49 seconds before next link\n"
     ]
    },
    {
     "name": "stderr",
     "output_type": "stream",
     "text": [
      "ic| link: 'https://dof.ca.gov/Forecasting/Economics/Economic_and_Revenue_Updates/documents/2016/june/documents/Jun-16.pdf'\n"
     ]
    },
    {
     "name": "stdout",
     "output_type": "stream",
     "text": [
      "Downloaded 52 of 126\n",
      "Snoozing for 45 seconds before next link\n"
     ]
    },
    {
     "name": "stderr",
     "output_type": "stream",
     "text": [
      "ic| link: 'https://dof.ca.gov/Forecasting/Economics/Economic_and_Revenue_Updates/documents/2016/july/documents/Jul-16.pdf'\n"
     ]
    },
    {
     "name": "stdout",
     "output_type": "stream",
     "text": [
      "Downloaded 53 of 126\n",
      "Snoozing for 27 seconds before next link\n"
     ]
    },
    {
     "name": "stderr",
     "output_type": "stream",
     "text": [
      "ic| link: 'https://dof.ca.gov/Forecasting/Economics/Economic_and_Revenue_Updates/documents/2016/august/Aug-16.pdf'\n"
     ]
    },
    {
     "name": "stdout",
     "output_type": "stream",
     "text": [
      "Downloaded 54 of 126\n",
      "Snoozing for 16 seconds before next link\n"
     ]
    },
    {
     "name": "stderr",
     "output_type": "stream",
     "text": [
      "ic| link: 'https://dof.ca.gov/Forecasting/Economics/Economic_and_Revenue_Updates/documents/2016/september/sept_2016_FB.pdf'\n"
     ]
    },
    {
     "name": "stdout",
     "output_type": "stream",
     "text": [
      "Downloaded 55 of 126\n",
      "Snoozing for 10 seconds before next link\n"
     ]
    },
    {
     "name": "stderr",
     "output_type": "stream",
     "text": [
      "ic| link: 'https://dof.ca.gov/Forecasting/Economics/Economic_and_Revenue_Updates/documents/2016/October/Oct-16.pdf'\n"
     ]
    },
    {
     "name": "stdout",
     "output_type": "stream",
     "text": [
      "Downloaded 56 of 126\n",
      "Snoozing for 34 seconds before next link\n"
     ]
    },
    {
     "name": "stderr",
     "output_type": "stream",
     "text": [
      "ic| link: 'https://dof.ca.gov/Forecasting/Economics/Economic_and_Revenue_Updates/documents/2016/Nov_Finance_bulletin_2016.pdf'\n"
     ]
    },
    {
     "name": "stdout",
     "output_type": "stream",
     "text": [
      "Downloaded 57 of 126\n",
      "Snoozing for 48 seconds before next link\n"
     ]
    },
    {
     "name": "stderr",
     "output_type": "stream",
     "text": [
      "ic| link: 'https://dof.ca.gov/Forecasting/Economics/Economic_and_Revenue_Updates/documents/2016/december/Dec-16.pdf'\n"
     ]
    },
    {
     "name": "stdout",
     "output_type": "stream",
     "text": [
      "Downloaded 58 of 126\n",
      "Snoozing for 41 seconds before next link\n"
     ]
    },
    {
     "name": "stderr",
     "output_type": "stream",
     "text": [
      "ic| link: 'https://dof.ca.gov/Forecasting/Economics/Economic_and_Revenue_Updates/documents/2015/february/documents/Feb-15.pdf'\n"
     ]
    },
    {
     "name": "stdout",
     "output_type": "stream",
     "text": [
      "Downloaded 59 of 126\n",
      "Snoozing for 12 seconds before next link\n"
     ]
    },
    {
     "name": "stderr",
     "output_type": "stream",
     "text": [
      "ic| link: 'https://dof.ca.gov/Forecasting/Economics/Economic_and_Revenue_Updates/documents/2015/march/documents/Mar-15.pdf'\n"
     ]
    },
    {
     "name": "stdout",
     "output_type": "stream",
     "text": [
      "Downloaded 60 of 126\n",
      "Snoozing for 39 seconds before next link\n"
     ]
    },
    {
     "name": "stderr",
     "output_type": "stream",
     "text": [
      "ic| link: 'https://dof.ca.gov/Forecasting/Economics/Economic_and_Revenue_Updates/documents/2015/april/documents/Apr-15.pdf'\n"
     ]
    },
    {
     "name": "stdout",
     "output_type": "stream",
     "text": [
      "Downloaded 61 of 126\n",
      "Snoozing for 22 seconds before next link\n"
     ]
    },
    {
     "name": "stderr",
     "output_type": "stream",
     "text": [
      "ic| link: 'https://dof.ca.gov/Forecasting/Economics/Economic_and_Revenue_Updates/documents/2015/june/documents/Jun-15.pdf'\n"
     ]
    },
    {
     "name": "stdout",
     "output_type": "stream",
     "text": [
      "Downloaded 62 of 126\n",
      "Snoozing for 44 seconds before next link\n"
     ]
    },
    {
     "name": "stderr",
     "output_type": "stream",
     "text": [
      "ic| link: 'https://dof.ca.gov/Forecasting/Economics/Economic_and_Revenue_Updates/documents/2015/july/documents/jul-15.pdf'\n"
     ]
    },
    {
     "name": "stdout",
     "output_type": "stream",
     "text": [
      "Downloaded 63 of 126\n",
      "Snoozing for 48 seconds before next link\n"
     ]
    },
    {
     "name": "stderr",
     "output_type": "stream",
     "text": [
      "ic| link: 'https://dof.ca.gov/Forecasting/Economics/Economic_and_Revenue_Updates/documents/2015/august/documents/aug-15-rv2.pdf'\n"
     ]
    },
    {
     "name": "stdout",
     "output_type": "stream",
     "text": [
      "Downloaded 64 of 126\n",
      "Snoozing for 10 seconds before next link\n"
     ]
    },
    {
     "name": "stderr",
     "output_type": "stream",
     "text": [
      "ic| link: 'https://dof.ca.gov/Forecasting/Economics/Economic_and_Revenue_Updates/documents/2015/september/documents/Sep-15.pdf'\n"
     ]
    },
    {
     "name": "stdout",
     "output_type": "stream",
     "text": [
      "Downloaded 65 of 126\n",
      "Snoozing for 32 seconds before next link\n"
     ]
    },
    {
     "name": "stderr",
     "output_type": "stream",
     "text": [
      "ic| link: 'https://dof.ca.gov/Forecasting/Economics/Economic_and_Revenue_Updates/documents/2015/october/documents/Oct-15.pdf'\n"
     ]
    },
    {
     "name": "stdout",
     "output_type": "stream",
     "text": [
      "Downloaded 66 of 126\n",
      "Snoozing for 28 seconds before next link\n"
     ]
    },
    {
     "name": "stderr",
     "output_type": "stream",
     "text": [
      "ic| link: 'https://dof.ca.gov/Forecasting/Economics/Economic_and_Revenue_Updates/documents/2015/november/documents/Nov-15.pdf'\n"
     ]
    },
    {
     "name": "stdout",
     "output_type": "stream",
     "text": [
      "Downloaded 67 of 126\n",
      "Snoozing for 22 seconds before next link\n"
     ]
    },
    {
     "name": "stderr",
     "output_type": "stream",
     "text": [
      "ic| link: 'https://dof.ca.gov/Forecasting/Economics/Economic_and_Revenue_Updates/documents/2015/december/documents/Dec-15.pdf'\n"
     ]
    },
    {
     "name": "stdout",
     "output_type": "stream",
     "text": [
      "Downloaded 68 of 126\n",
      "Snoozing for 44 seconds before next link\n"
     ]
    },
    {
     "name": "stderr",
     "output_type": "stream",
     "text": [
      "ic| link: 'https://dof.ca.gov/Forecasting/Economics/Economic_and_Revenue_Updates/documents/PDF_Files/Feb-14.pdf'\n"
     ]
    },
    {
     "name": "stdout",
     "output_type": "stream",
     "text": [
      "Downloaded 69 of 126\n",
      "Snoozing for 34 seconds before next link\n"
     ]
    },
    {
     "name": "stderr",
     "output_type": "stream",
     "text": [
      "ic| link: 'https://dof.ca.gov/Forecasting/Economics/Economic_and_Revenue_Updates/documents/PDF_Files/Mar-14.pdf'\n"
     ]
    },
    {
     "name": "stdout",
     "output_type": "stream",
     "text": [
      "Downloaded 70 of 126\n",
      "Snoozing for 18 seconds before next link\n"
     ]
    },
    {
     "name": "stderr",
     "output_type": "stream",
     "text": [
      "ic| link: 'https://dof.ca.gov/Forecasting/Economics/Economic_and_Revenue_Updates/documents/PDF_Files/Apr-14.pdf'\n"
     ]
    },
    {
     "name": "stdout",
     "output_type": "stream",
     "text": [
      "Downloaded 71 of 126\n",
      "Snoozing for 14 seconds before next link\n"
     ]
    },
    {
     "name": "stderr",
     "output_type": "stream",
     "text": [
      "ic| link: 'https://dof.ca.gov/Forecasting/Economics/Economic_and_Revenue_Updates/documents/PDF_Files/Jun-14.pdf'\n"
     ]
    },
    {
     "name": "stdout",
     "output_type": "stream",
     "text": [
      "Downloaded 72 of 126\n",
      "Snoozing for 46 seconds before next link\n"
     ]
    },
    {
     "name": "stderr",
     "output_type": "stream",
     "text": [
      "ic| link: 'https://dof.ca.gov/Forecasting/Economics/Economic_and_Revenue_Updates/documents/PDF_Files/Jul-14.pdf'\n"
     ]
    },
    {
     "name": "stdout",
     "output_type": "stream",
     "text": [
      "Downloaded 73 of 126\n",
      "Snoozing for 20 seconds before next link\n"
     ]
    },
    {
     "name": "stderr",
     "output_type": "stream",
     "text": [
      "ic| link: 'https://dof.ca.gov/Forecasting/Economics/Economic_and_Revenue_Updates/documents/PDF_Files/Aug-14.pdf'\n"
     ]
    },
    {
     "name": "stdout",
     "output_type": "stream",
     "text": [
      "Downloaded 74 of 126\n",
      "Snoozing for 47 seconds before next link\n"
     ]
    },
    {
     "name": "stderr",
     "output_type": "stream",
     "text": [
      "ic| link: 'https://dof.ca.gov/Forecasting/Economics/Economic_and_Revenue_Updates/documents/PDF_Files/Sep-14.pdf'\n"
     ]
    },
    {
     "name": "stdout",
     "output_type": "stream",
     "text": [
      "Downloaded 75 of 126\n",
      "Snoozing for 29 seconds before next link\n"
     ]
    },
    {
     "name": "stderr",
     "output_type": "stream",
     "text": [
      "ic| link: 'https://dof.ca.gov/Forecasting/Economics/Economic_and_Revenue_Updates/documents/PDF_Files/Oct-14.pdf'\n"
     ]
    },
    {
     "name": "stdout",
     "output_type": "stream",
     "text": [
      "Downloaded 76 of 126\n",
      "Snoozing for 22 seconds before next link\n"
     ]
    },
    {
     "name": "stderr",
     "output_type": "stream",
     "text": [
      "ic| link: 'https://dof.ca.gov/Forecasting/Economics/Economic_and_Revenue_Updates/documents/PDF_Files/Nov-14.pdf'\n"
     ]
    },
    {
     "name": "stdout",
     "output_type": "stream",
     "text": [
      "Downloaded 77 of 126\n",
      "Snoozing for 29 seconds before next link\n"
     ]
    },
    {
     "name": "stderr",
     "output_type": "stream",
     "text": [
      "ic| link: 'https://dof.ca.gov/Forecasting/Economics/Economic_and_Revenue_Updates/documents/PDF_Files/Dec-14.pdf'\n"
     ]
    },
    {
     "name": "stdout",
     "output_type": "stream",
     "text": [
      "Downloaded 78 of 126\n",
      "Snoozing for 44 seconds before next link\n"
     ]
    },
    {
     "name": "stderr",
     "output_type": "stream",
     "text": [
      "ic| link: 'https://dof.ca.gov/Forecasting/Economics/Economic_and_Revenue_Updates/documents/PDF_Files/Feb-13.pdf'\n"
     ]
    },
    {
     "name": "stdout",
     "output_type": "stream",
     "text": [
      "Downloaded 79 of 126\n",
      "Snoozing for 46 seconds before next link\n"
     ]
    },
    {
     "name": "stderr",
     "output_type": "stream",
     "text": [
      "ic| link: 'https://dof.ca.gov/Forecasting/Economics/Economic_and_Revenue_Updates/documents/PDF_Files/Mar-13.pdf'\n"
     ]
    },
    {
     "name": "stdout",
     "output_type": "stream",
     "text": [
      "Downloaded 80 of 126\n",
      "Snoozing for 20 seconds before next link\n"
     ]
    },
    {
     "name": "stderr",
     "output_type": "stream",
     "text": [
      "ic| link: 'https://dof.ca.gov/Forecasting/Economics/Economic_and_Revenue_Updates/documents/PDF_Files/Apr-13.pdf'\n"
     ]
    },
    {
     "name": "stdout",
     "output_type": "stream",
     "text": [
      "Downloaded 81 of 126\n",
      "Snoozing for 34 seconds before next link\n"
     ]
    },
    {
     "name": "stderr",
     "output_type": "stream",
     "text": [
      "ic| link: 'https://dof.ca.gov/Forecasting/Economics/Economic_and_Revenue_Updates/documents/PDF_Files/Jun-13.pdf'\n"
     ]
    },
    {
     "name": "stdout",
     "output_type": "stream",
     "text": [
      "Downloaded 82 of 126\n",
      "Snoozing for 19 seconds before next link\n"
     ]
    },
    {
     "name": "stderr",
     "output_type": "stream",
     "text": [
      "ic| link: 'https://dof.ca.gov/Forecasting/Economics/Economic_and_Revenue_Updates/documents//PDF_Files/Jul-13.pdf'\n"
     ]
    },
    {
     "name": "stdout",
     "output_type": "stream",
     "text": [
      "Downloaded 83 of 126\n",
      "Snoozing for 49 seconds before next link\n"
     ]
    },
    {
     "name": "stderr",
     "output_type": "stream",
     "text": [
      "ic| link: 'https://dof.ca.gov/Forecasting/Economics/Economic_and_Revenue_Updates/documents/PDF_Files/Aug-13.pdf'\n"
     ]
    },
    {
     "name": "stdout",
     "output_type": "stream",
     "text": [
      "Downloaded 84 of 126\n",
      "Snoozing for 32 seconds before next link\n"
     ]
    },
    {
     "name": "stderr",
     "output_type": "stream",
     "text": [
      "ic| link: 'https://dof.ca.gov/Forecasting/Economics/Economic_and_Revenue_Updates/documents/PDF_Files/Sep-13.pdf'\n"
     ]
    },
    {
     "name": "stdout",
     "output_type": "stream",
     "text": [
      "Downloaded 85 of 126\n",
      "Snoozing for 35 seconds before next link\n"
     ]
    },
    {
     "name": "stderr",
     "output_type": "stream",
     "text": [
      "ic| link: 'https://dof.ca.gov/Forecasting/Economics/Economic_and_Revenue_Updates/documents/PDF_Files/Oct-13.pdf'\n"
     ]
    },
    {
     "name": "stdout",
     "output_type": "stream",
     "text": [
      "Downloaded 86 of 126\n",
      "Snoozing for 48 seconds before next link\n"
     ]
    },
    {
     "name": "stderr",
     "output_type": "stream",
     "text": [
      "ic| link: 'https://dof.ca.gov/Forecasting/Economics/Economic_and_Revenue_Updates/documents/PDF_Files/Nov-13.pdf'\n"
     ]
    },
    {
     "name": "stdout",
     "output_type": "stream",
     "text": [
      "Downloaded 87 of 126\n",
      "Snoozing for 35 seconds before next link\n"
     ]
    },
    {
     "name": "stderr",
     "output_type": "stream",
     "text": [
      "ic| link: 'https://dof.ca.gov/Forecasting/Economics/Economic_and_Revenue_Updates/documents/PDF_Files/Dec-13.pdf'\n"
     ]
    },
    {
     "name": "stdout",
     "output_type": "stream",
     "text": [
      "Downloaded 88 of 126\n",
      "Snoozing for 28 seconds before next link\n"
     ]
    },
    {
     "name": "stderr",
     "output_type": "stream",
     "text": [
      "ic| link: 'https://dof.ca.gov/Forecasting/Economics/Economic_and_Revenue_Updates/documents/PDF_Files/Feb-12.pdf'\n"
     ]
    },
    {
     "name": "stdout",
     "output_type": "stream",
     "text": [
      "Downloaded 89 of 126\n",
      "Snoozing for 21 seconds before next link\n"
     ]
    },
    {
     "name": "stderr",
     "output_type": "stream",
     "text": [
      "ic| link: 'https://dof.ca.gov/Forecasting/Economics/Economic_and_Revenue_Updates/documents/PDF_Files/Mar-12.pdf'\n"
     ]
    },
    {
     "name": "stdout",
     "output_type": "stream",
     "text": [
      "Downloaded 90 of 126\n",
      "Snoozing for 46 seconds before next link\n"
     ]
    },
    {
     "name": "stderr",
     "output_type": "stream",
     "text": [
      "ic| link: 'https://dof.ca.gov/Forecasting/Economics/Economic_and_Revenue_Updates/documents/PDF_Files/Apr-12.pdf'\n"
     ]
    },
    {
     "name": "stdout",
     "output_type": "stream",
     "text": [
      "Downloaded 91 of 126\n",
      "Snoozing for 41 seconds before next link\n"
     ]
    },
    {
     "name": "stderr",
     "output_type": "stream",
     "text": [
      "ic| link: 'https://dof.ca.gov/Forecasting/Economics/Economic_and_Revenue_Updates/documents/PDF_Files/Jun-12.pdf'\n"
     ]
    },
    {
     "name": "stdout",
     "output_type": "stream",
     "text": [
      "Downloaded 92 of 126\n",
      "Snoozing for 48 seconds before next link\n"
     ]
    },
    {
     "name": "stderr",
     "output_type": "stream",
     "text": [
      "ic| link: 'https://dof.ca.gov/Forecasting/Economics/Economic_and_Revenue_Updates/documents/PDF_Files/Jul-12.pdf'\n"
     ]
    },
    {
     "name": "stdout",
     "output_type": "stream",
     "text": [
      "Downloaded 93 of 126\n",
      "Snoozing for 10 seconds before next link\n"
     ]
    },
    {
     "name": "stderr",
     "output_type": "stream",
     "text": [
      "ic| link: 'https://dof.ca.gov/Forecasting/Economics/Economic_and_Revenue_Updates/documents/PDF_Files/Aug-12.pdf'\n"
     ]
    },
    {
     "name": "stdout",
     "output_type": "stream",
     "text": [
      "Downloaded 94 of 126\n",
      "Snoozing for 37 seconds before next link\n"
     ]
    },
    {
     "name": "stderr",
     "output_type": "stream",
     "text": [
      "ic| link: 'https://dof.ca.gov/Forecasting/Economics/Economic_and_Revenue_Updates/documents/PDF_Files/Sep-12.pdf'\n"
     ]
    },
    {
     "name": "stdout",
     "output_type": "stream",
     "text": [
      "Downloaded 95 of 126\n",
      "Snoozing for 41 seconds before next link\n"
     ]
    },
    {
     "name": "stderr",
     "output_type": "stream",
     "text": [
      "ic| link: 'https://dof.ca.gov/Forecasting/Economics/Economic_and_Revenue_Updates/documents/PDF_Files/Oct-12.pdf'\n"
     ]
    },
    {
     "name": "stdout",
     "output_type": "stream",
     "text": [
      "Downloaded 96 of 126\n",
      "Snoozing for 35 seconds before next link\n"
     ]
    },
    {
     "name": "stderr",
     "output_type": "stream",
     "text": [
      "ic| link: 'https://dof.ca.gov/Forecasting/Economics/Economic_and_Revenue_Updates/documents/PDF_Files/Nov-12.pdf'\n"
     ]
    },
    {
     "name": "stdout",
     "output_type": "stream",
     "text": [
      "Downloaded 97 of 126\n",
      "Snoozing for 12 seconds before next link\n"
     ]
    },
    {
     "name": "stderr",
     "output_type": "stream",
     "text": [
      "ic| link: 'https://dof.ca.gov/Forecasting/Economics/Economic_and_Revenue_Updates/documents/PDF_Files/Dec-12.pdf'\n"
     ]
    },
    {
     "name": "stdout",
     "output_type": "stream",
     "text": [
      "Downloaded 98 of 126\n",
      "Snoozing for 43 seconds before next link\n"
     ]
    },
    {
     "name": "stderr",
     "output_type": "stream",
     "text": [
      "ic| link: 'https://dof.ca.gov/Forecasting/Economics/Economic_and_Revenue_Updates/documents/PDF_Files/Feb-11.pdf'\n"
     ]
    },
    {
     "name": "stdout",
     "output_type": "stream",
     "text": [
      "Downloaded 99 of 126\n",
      "Snoozing for 37 seconds before next link\n"
     ]
    },
    {
     "name": "stderr",
     "output_type": "stream",
     "text": [
      "ic| link: 'https://dof.ca.gov/Forecasting/Economics/Economic_and_Revenue_Updates/documents/PDF_Files/Mar-11.pdf'\n"
     ]
    },
    {
     "name": "stdout",
     "output_type": "stream",
     "text": [
      "Downloaded 100 of 126\n",
      "Snoozing for 23 seconds before next link\n"
     ]
    },
    {
     "name": "stderr",
     "output_type": "stream",
     "text": [
      "ic| link: 'https://dof.ca.gov/Forecasting/Economics/Economic_and_Revenue_Updates/documents/PDF_Files/Apr-11.pdf'\n"
     ]
    },
    {
     "name": "stdout",
     "output_type": "stream",
     "text": [
      "Downloaded 101 of 126\n",
      "Snoozing for 46 seconds before next link\n"
     ]
    },
    {
     "name": "stderr",
     "output_type": "stream",
     "text": [
      "ic| link: 'https://dof.ca.gov/Forecasting/Economics/Economic_and_Revenue_Updates/documents/PDF_Files/Jun-11.pdf'\n"
     ]
    },
    {
     "name": "stdout",
     "output_type": "stream",
     "text": [
      "Downloaded 102 of 126\n",
      "Snoozing for 48 seconds before next link\n"
     ]
    },
    {
     "name": "stderr",
     "output_type": "stream",
     "text": [
      "ic| link: 'https://dof.ca.gov/Forecasting/Economics/Economic_and_Revenue_Updates/documents/PDF_Files/jul-11.pdf'\n"
     ]
    },
    {
     "name": "stdout",
     "output_type": "stream",
     "text": [
      "Downloaded 103 of 126\n",
      "Snoozing for 16 seconds before next link\n"
     ]
    },
    {
     "name": "stderr",
     "output_type": "stream",
     "text": [
      "ic| link: 'https://dof.ca.gov/Forecasting/Economics/Economic_and_Revenue_Updates/documents/PDF_Files/aug-11.pdf'\n"
     ]
    },
    {
     "name": "stdout",
     "output_type": "stream",
     "text": [
      "Downloaded 104 of 126\n",
      "Snoozing for 13 seconds before next link\n"
     ]
    },
    {
     "name": "stderr",
     "output_type": "stream",
     "text": [
      "ic| link: 'https://dof.ca.gov/Forecasting/Economics/Economic_and_Revenue_Updates/documents/PDF_Files/Sep-11.pdf'\n"
     ]
    },
    {
     "name": "stdout",
     "output_type": "stream",
     "text": [
      "Downloaded 105 of 126\n",
      "Snoozing for 21 seconds before next link\n"
     ]
    },
    {
     "name": "stderr",
     "output_type": "stream",
     "text": [
      "ic| link: 'https://dof.ca.gov/Forecasting/Economics/Economic_and_Revenue_Updates/documents/PDF_Files/Oct-11.pdf'\n"
     ]
    },
    {
     "name": "stdout",
     "output_type": "stream",
     "text": [
      "Downloaded 106 of 126\n",
      "Snoozing for 19 seconds before next link\n"
     ]
    },
    {
     "name": "stderr",
     "output_type": "stream",
     "text": [
      "ic| link: 'https://dof.ca.gov/Forecasting/Economics/Economic_and_Revenue_Updates/documents/PDF_Files/Nov-11.pdf'\n"
     ]
    },
    {
     "name": "stdout",
     "output_type": "stream",
     "text": [
      "Downloaded 107 of 126\n",
      "Snoozing for 27 seconds before next link\n"
     ]
    },
    {
     "name": "stderr",
     "output_type": "stream",
     "text": [
      "ic| link: 'https://dof.ca.gov/Forecasting/Economics/Economic_and_Revenue_Updates/documents/PDF_Files/Feb-10.pdf'\n"
     ]
    },
    {
     "name": "stdout",
     "output_type": "stream",
     "text": [
      "Downloaded 108 of 126\n",
      "Snoozing for 43 seconds before next link\n"
     ]
    },
    {
     "name": "stderr",
     "output_type": "stream",
     "text": [
      "ic| link: 'https://dof.ca.gov/Forecasting/Economics/Economic_and_Revenue_Updates/documents/PDF_Files/Mar-10.pdf'\n"
     ]
    },
    {
     "name": "stdout",
     "output_type": "stream",
     "text": [
      "Downloaded 109 of 126\n",
      "Snoozing for 19 seconds before next link\n"
     ]
    },
    {
     "name": "stderr",
     "output_type": "stream",
     "text": [
      "ic| link: 'https://dof.ca.gov/Forecasting/Economics/Economic_and_Revenue_Updates/documents/PDF_Files/Apr-10.pdf'\n"
     ]
    },
    {
     "name": "stdout",
     "output_type": "stream",
     "text": [
      "Downloaded 110 of 126\n",
      "Snoozing for 45 seconds before next link\n"
     ]
    },
    {
     "name": "stderr",
     "output_type": "stream",
     "text": [
      "ic| link: 'https://dof.ca.gov/Forecasting/Economics/Economic_and_Revenue_Updates/documents/PDF_Files/Jun-10.pdf'\n"
     ]
    },
    {
     "name": "stdout",
     "output_type": "stream",
     "text": [
      "Downloaded 111 of 126\n",
      "Snoozing for 49 seconds before next link\n"
     ]
    },
    {
     "name": "stderr",
     "output_type": "stream",
     "text": [
      "ic| link: 'https://dof.ca.gov/Forecasting/Economics/Economic_and_Revenue_Updates/documents/PDF_Files/jul-10.pdf'\n"
     ]
    },
    {
     "name": "stdout",
     "output_type": "stream",
     "text": [
      "Downloaded 112 of 126\n",
      "Snoozing for 14 seconds before next link\n"
     ]
    },
    {
     "name": "stderr",
     "output_type": "stream",
     "text": [
      "ic| link: 'https://dof.ca.gov/Forecasting/Economics/Economic_and_Revenue_Updates/documents/PDF_Files/aug-10.pdf'\n"
     ]
    },
    {
     "name": "stdout",
     "output_type": "stream",
     "text": [
      "Downloaded 113 of 126\n",
      "Snoozing for 10 seconds before next link\n"
     ]
    },
    {
     "name": "stderr",
     "output_type": "stream",
     "text": [
      "ic| link: 'https://dof.ca.gov/Forecasting/Economics/Economic_and_Revenue_Updates/documents/PDF_Files/Sep-10.pdf'\n"
     ]
    },
    {
     "name": "stdout",
     "output_type": "stream",
     "text": [
      "Downloaded 114 of 126\n",
      "Snoozing for 30 seconds before next link\n"
     ]
    },
    {
     "name": "stderr",
     "output_type": "stream",
     "text": [
      "ic| link: 'https://dof.ca.gov/Forecasting/Economics/Economic_and_Revenue_Updates/documents/PDF_Files/Oct-10.pdf'\n"
     ]
    },
    {
     "name": "stdout",
     "output_type": "stream",
     "text": [
      "Downloaded 115 of 126\n",
      "Snoozing for 12 seconds before next link\n"
     ]
    },
    {
     "name": "stderr",
     "output_type": "stream",
     "text": [
      "ic| link: 'https://dof.ca.gov/Forecasting/Economics/Economic_and_Revenue_Updates/documents/PDF_Files/Nov-10.pdf'\n"
     ]
    },
    {
     "name": "stdout",
     "output_type": "stream",
     "text": [
      "Downloaded 116 of 126\n",
      "Snoozing for 46 seconds before next link\n"
     ]
    },
    {
     "name": "stderr",
     "output_type": "stream",
     "text": [
      "ic| link: 'https://dof.ca.gov/Forecasting/Economics/Economic_and_Revenue_Updates/documents/PDF_Files/Dec-10.pdf'\n"
     ]
    },
    {
     "name": "stdout",
     "output_type": "stream",
     "text": [
      "Downloaded 117 of 126\n",
      "Snoozing for 25 seconds before next link\n"
     ]
    },
    {
     "name": "stderr",
     "output_type": "stream",
     "text": [
      "ic| link: 'https://dof.ca.gov/Forecasting/Economics/Economic_and_Revenue_Updates/documents/PDF_Files/Mar-09.pdf'\n"
     ]
    },
    {
     "name": "stdout",
     "output_type": "stream",
     "text": [
      "Downloaded 118 of 126\n",
      "Snoozing for 49 seconds before next link\n"
     ]
    },
    {
     "name": "stderr",
     "output_type": "stream",
     "text": [
      "ic| link: 'https://dof.ca.gov/Forecasting/Economics/Economic_and_Revenue_Updates/documents/PDF_Files/Apr-09.pdf'\n"
     ]
    },
    {
     "name": "stdout",
     "output_type": "stream",
     "text": [
      "Downloaded 119 of 126\n",
      "Snoozing for 29 seconds before next link\n"
     ]
    },
    {
     "name": "stderr",
     "output_type": "stream",
     "text": [
      "ic| link: 'https://dof.ca.gov/Forecasting/Economics/Economic_and_Revenue_Updates/documents/PDF_Files/Jun-09.pdf'\n"
     ]
    },
    {
     "name": "stdout",
     "output_type": "stream",
     "text": [
      "Downloaded 120 of 126\n",
      "Snoozing for 20 seconds before next link\n"
     ]
    },
    {
     "name": "stderr",
     "output_type": "stream",
     "text": [
      "ic| link: 'https://dof.ca.gov/Forecasting/Economics/Economic_and_Revenue_Updates/documents/PDF_Files/jul-09.pdf'\n"
     ]
    },
    {
     "name": "stdout",
     "output_type": "stream",
     "text": [
      "Downloaded 121 of 126\n",
      "Snoozing for 41 seconds before next link\n"
     ]
    },
    {
     "name": "stderr",
     "output_type": "stream",
     "text": [
      "ic| link: 'https://dof.ca.gov/Forecasting/Economics/Economic_and_Revenue_Updates/documents/PDF_Files/aug-09.pdf'\n"
     ]
    },
    {
     "name": "stdout",
     "output_type": "stream",
     "text": [
      "Downloaded 122 of 126\n",
      "Snoozing for 46 seconds before next link\n"
     ]
    },
    {
     "name": "stderr",
     "output_type": "stream",
     "text": [
      "ic| link: 'https://dof.ca.gov/Forecasting/Economics/Economic_and_Revenue_Updates/documents/PDF_Files/Sep-09.pdf'\n"
     ]
    },
    {
     "name": "stdout",
     "output_type": "stream",
     "text": [
      "Downloaded 123 of 126\n",
      "Snoozing for 18 seconds before next link\n"
     ]
    },
    {
     "name": "stderr",
     "output_type": "stream",
     "text": [
      "ic| link: 'https://dof.ca.gov/Forecasting/Economics/Economic_and_Revenue_Updates/documents/PDF_Files/Oct-09.pdf'\n"
     ]
    },
    {
     "name": "stdout",
     "output_type": "stream",
     "text": [
      "Downloaded 124 of 126\n",
      "Snoozing for 14 seconds before next link\n"
     ]
    },
    {
     "name": "stderr",
     "output_type": "stream",
     "text": [
      "ic| link: 'https://dof.ca.gov/Forecasting/Economics/Economic_and_Revenue_Updates/documents/PDF_Files/Nov-09.pdf'\n"
     ]
    },
    {
     "name": "stdout",
     "output_type": "stream",
     "text": [
      "Downloaded 125 of 126\n",
      "Snoozing for 24 seconds before next link\n"
     ]
    },
    {
     "name": "stderr",
     "output_type": "stream",
     "text": [
      "ic| link: 'https://dof.ca.gov/Forecasting/Economics/Economic_and_Revenue_Updates/documents/PDF_Files/Dec-09.pdf'\n"
     ]
    },
    {
     "name": "stdout",
     "output_type": "stream",
     "text": [
      "Downloaded 126 of 126\n",
      "Snoozing for 33 seconds before next link\n",
      "all docs are in your local folder!\n"
     ]
    }
   ],
   "source": [
    "link_number = len(links)\n",
    "link_count = 1\n",
    "\n",
    "\n",
    "for link in links:          \n",
    "    ic(link)\n",
    "    print (f\"Downloaded {link_count} of {link_number}\")\n",
    "    link_count += 1 \n",
    "##downloading\n",
    "    wget.download(link)\n",
    "#snoozing and telling me for how long before the next downloads\n",
    "    mysnoozerbug = randrange (10,50)     \n",
    "    print (f\"Snoozing for {mysnoozerbug} seconds before next link\") \n",
    "    time.sleep(mysnoozerbug) \n",
    "print(f\"all docs are in your local folder!\")"
   ]
  },
  {
   "cell_type": "code",
   "execution_count": null,
   "metadata": {},
   "outputs": [],
   "source": []
  },
  {
   "cell_type": "code",
   "execution_count": null,
   "metadata": {},
   "outputs": [],
   "source": []
  },
  {
   "cell_type": "code",
   "execution_count": null,
   "metadata": {},
   "outputs": [],
   "source": []
  },
  {
   "cell_type": "code",
   "execution_count": null,
   "metadata": {},
   "outputs": [],
   "source": []
  },
  {
   "cell_type": "code",
   "execution_count": null,
   "metadata": {},
   "outputs": [],
   "source": []
  },
  {
   "cell_type": "code",
   "execution_count": null,
   "metadata": {},
   "outputs": [],
   "source": []
  }
 ],
 "metadata": {
  "colab": {
   "collapsed_sections": [],
   "name": "homework-for-week-8-BLANK.ipynb",
   "provenance": []
  },
  "kernelspec": {
   "display_name": "Python 3",
   "language": "python",
   "name": "python3"
  },
  "language_info": {
   "codemirror_mode": {
    "name": "ipython",
    "version": 3
   },
   "file_extension": ".py",
   "mimetype": "text/x-python",
   "name": "python",
   "nbconvert_exporter": "python",
   "pygments_lexer": "ipython3",
   "version": "3.8.8"
  }
 },
 "nbformat": 4,
 "nbformat_minor": 1
}
