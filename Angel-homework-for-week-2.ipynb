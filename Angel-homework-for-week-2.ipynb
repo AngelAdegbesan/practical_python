{
 "cells": [
  {
   "cell_type": "markdown",
   "metadata": {
    "id": "R6SmhOOxaFTn"
   },
   "source": [
    "# Homework for Week 2\n"
   ]
  },
  {
   "cell_type": "markdown",
   "metadata": {
    "id": "FtBGyPEuaFTo"
   },
   "source": [
    "## Working with Numbers"
   ]
  },
  {
   "cell_type": "code",
   "execution_count": 5,
   "metadata": {
    "id": "RPtXtDhEaFTp"
   },
   "outputs": [
    {
     "name": "stdout",
     "output_type": "stream",
     "text": [
      "Sales totalled $45,300,000 in 2019\n"
     ]
    }
   ],
   "source": [
    "## create a variable called sales equal to 45.3 million\n",
    "## print it as \"Sales totalled $45,300,000 in 2019\" using f-string literal (0 decimal places)\n",
    "## use thousands separator/digit group separator to make it easier to read\n",
    "sales = 45_300_000\n",
    "print (f\"Sales totalled ${45300000:,.0f} in 2019\")"
   ]
  },
  {
   "cell_type": "code",
   "execution_count": 11,
   "metadata": {
    "id": "ECSh04wFaFTt"
   },
   "outputs": [
    {
     "name": "stdout",
     "output_type": "stream",
     "text": [
      "$1,410,000,000,000\n"
     ]
    }
   ],
   "source": [
    "## create a variable called apple_cap equal to $1.41 trillion in scientific notation\n",
    "## Print it like you did above but to no decimal places.\n",
    "apple_cap = 1_410_000_000_000\n",
    "print (f\"${1410000000000:,.0f}\")"
   ]
  },
  {
   "cell_type": "markdown",
   "metadata": {
    "id": "qUiBkO2LaFTw"
   },
   "source": [
    "## Working with Lists"
   ]
  },
  {
   "cell_type": "code",
   "execution_count": 14,
   "metadata": {
    "id": "XvSKlFugaFTx"
   },
   "outputs": [
    {
     "name": "stdout",
     "output_type": "stream",
     "text": [
      "['Bankruptcy', 'Mergers', 'Acquisitions', 'Short selling', 'Liquidations', 'Equity']\n"
     ]
    }
   ],
   "source": [
    "## Combine the two lists into a single list called combined_list\n",
    "terms_1 = [\"Bankruptcy\", \"Mergers\", \"Acquisitions\"]\n",
    "terms_2 = [\"Short selling\", \"Liquidations\", \"Equity\"]\n",
    "\n",
    "combined_list = terms_1 + terms_2\n",
    "print (combined_list)"
   ]
  },
  {
   "cell_type": "markdown",
   "metadata": {
    "id": "9D2piamnaFT0"
   },
   "source": [
    "## Working with List of Dictionaries\n",
    "\n",
    "#### Create a list of dictionaries called \"donations\" using the content from the image below:\n",
    "\n",
    "![alt text](https://raw.githubusercontent.com/sandeepmj/practical_python_exercises/master/support_files/donors.png)\n",
    "\n",
    "\n",
    "\n",
    "## If you want to copy and paste the content, click <a href=\"https://github.com/sandeepmj/practical_python_exercises/blob/master/support_files/giving.xlsx?raw=true\" target=\"blank\">here</a> to download the Excel file.\n",
    "More instructions in the next cell:"
   ]
  },
  {
   "cell_type": "code",
   "execution_count": 19,
   "metadata": {
    "id": "_y4IeSSMaFT1"
   },
   "outputs": [
    {
     "data": {
      "text/plain": [
       "[{'year': '2017',\n",
       "  'donor': 'David H Koch Charitable Foundation',\n",
       "  'grantee': 'City Center For Music And Drama',\n",
       "  'amount': '$15,000,000'},\n",
       " {'year': '2013',\n",
       "  'donor': 'Bradley Impact Fund Inc',\n",
       "  'grantee': 'Young Americas Foundation',\n",
       "  'amount': '$11,000'},\n",
       " {'year': '2016',\n",
       "  'donor': 'Mercer Family Foundation',\n",
       "  'grantee': 'The Becket Fund',\n",
       "  'amount': '$250,000'},\n",
       " {'year': '2012',\n",
       "  'donor': 'Charles Koch Foundation',\n",
       "  'grantee': 'The Phillips Foundation',\n",
       "  'amount': '$25,000'},\n",
       " {'year': '2017',\n",
       "  'donor': 'Barbara And Barre Seid Foundation',\n",
       "  'grantee': 'Boys Scouts of America',\n",
       "  'amount': '$2,634,600'}]"
      ]
     },
     "execution_count": 19,
     "metadata": {},
     "output_type": "execute_result"
    }
   ],
   "source": [
    "\n",
    "## You may copy the contents of each cell in the XLSX file, but...\n",
    "## ...type out all the code.\n",
    "## ## print or call the list of dictionaries\n",
    "donations =[{\"year\":\"2017\", \"donor\":\"David H Koch Charitable Foundation\" , \"grantee\":\"City Center For Music And Drama\",\"amount\": (f\"${15000000:,.0f}\")},\n",
    "          {\"year\":\"2013\", \"donor\":\"Bradley Impact Fund Inc\" , \"grantee\":\"Young Americas Foundation\",\"amount\": (f\"${11000:,.0f}\")},\n",
    "          {\"year\":\"2016\", \"donor\":\"Mercer Family Foundation\" , \"grantee\":\"The Becket Fund\",\"amount\": (f\"${250000:,.0f}\")},\n",
    "          {\"year\":\"2012\", \"donor\":\"Charles Koch Foundation\" , \"grantee\":\"The Phillips Foundation\",\"amount\": (f\"${25000:,.0f}\")},\n",
    "           {\"year\":\"2017\", \"donor\":\"Barbara And Barre Seid Foundation\" , \"grantee\":\"Boys Scouts of America\",\"amount\": (f\"${2634600:,.0f}\")}\n",
    "           ]\n",
    "donations"
   ]
  },
  {
   "cell_type": "code",
   "execution_count": 27,
   "metadata": {
    "id": "CyZqlARYaFT4"
   },
   "outputs": [
    {
     "data": {
      "text/plain": [
       "5"
      ]
     },
     "execution_count": 27,
     "metadata": {},
     "output_type": "execute_result"
    }
   ],
   "source": [
    "## How many items are in this list?\n",
    "## Don't just manually count them.\n",
    "## There will come a time when you will have thousands of items!\n",
    "len (donations)"
   ]
  },
  {
   "cell_type": "code",
   "execution_count": 44,
   "metadata": {
    "id": "DPBk1u92aFT8"
   },
   "outputs": [
    {
     "name": "stdout",
     "output_type": "stream",
     "text": [
      "4\n"
     ]
    }
   ],
   "source": [
    "## How many key/value pairs are there in the last dictionary\n",
    "donation_count = len(donations[-1])\n",
    "print (donation_count)"
   ]
  },
  {
   "cell_type": "code",
   "execution_count": 70,
   "metadata": {
    "id": "lwWbCgqTaFT_"
   },
   "outputs": [
    {
     "data": {
      "text/plain": [
       "[{'year': '2017',\n",
       "  'donor': 'David H Koch Charitable Foundation',\n",
       "  'grantee': 'City Center For Music And Drama',\n",
       "  'amount': '$15,000,000',\n",
       "  'category': 'youth'},\n",
       " {'year': '2013',\n",
       "  'donor': 'Bradley Impact Fund Inc',\n",
       "  'grantee': 'Young Americas Foundation',\n",
       "  'amount': '$11,000'},\n",
       " {'year': '2016',\n",
       "  'donor': 'Mercer Family Foundation',\n",
       "  'grantee': 'The Becket Fund',\n",
       "  'amount': '$250,000'},\n",
       " {'year': '2012',\n",
       "  'donor': 'Charles Koch Foundation',\n",
       "  'grantee': 'The Phillips Foundation',\n",
       "  'amount': '$25,000'},\n",
       " {'year': '2017',\n",
       "  'donor': 'Barbara And Barre Seid Foundation',\n",
       "  'grantee': 'Boys Scouts of America',\n",
       "  'amount': '$2,634,600'}]"
      ]
     },
     "execution_count": 70,
     "metadata": {},
     "output_type": "execute_result"
    }
   ],
   "source": [
    "## Add one more key/value pair to the first dictionary in the list\n",
    "## Add: \"category\": \"youth\"\n",
    "donations[0].update({\"category\":\"youth\"})\n",
    "donations"
   ]
  },
  {
   "cell_type": "code",
   "execution_count": 53,
   "metadata": {
    "id": "yz3szN8PaFUC"
   },
   "outputs": [
    {
     "ename": "SyntaxError",
     "evalue": "invalid syntax (<ipython-input-53-dc215c9fb2f1>, line 3)",
     "output_type": "error",
     "traceback": [
      "\u001b[0;36m  File \u001b[0;32m\"<ipython-input-53-dc215c9fb2f1>\"\u001b[0;36m, line \u001b[0;32m3\u001b[0m\n\u001b[0;31m    len donations[0]\u001b[0m\n\u001b[0m        ^\u001b[0m\n\u001b[0;31mSyntaxError\u001b[0m\u001b[0;31m:\u001b[0m invalid syntax\n"
     ]
    }
   ],
   "source": [
    "## Show the 3rd item in the list (including keys and values)\n",
    "first_donation= donations[0]\n"
   ]
  },
  {
   "cell_type": "code",
   "execution_count": null,
   "metadata": {
    "id": "l7nVl-yKaFUF"
   },
   "outputs": [],
   "source": [
    "##show the 2nd through last:\n"
   ]
  },
  {
   "cell_type": "code",
   "execution_count": 76,
   "metadata": {
    "id": "L3rz8Y3_aFUI"
   },
   "outputs": [
    {
     "name": "stdout",
     "output_type": "stream",
     "text": [
      "['year', 'donor', 'grantee', 'amount', 'category']\n"
     ]
    }
   ],
   "source": [
    "## Go full circle and create a list that holds just the column headers.\n",
    "## Call that list \"csv_columns\"\n",
    "## print the list\n",
    "csv_columns = [\"year\",\"donor\",\"grantee\",\"amount\", \"category\"]\n",
    "print (csv_columns)"
   ]
  },
  {
   "cell_type": "markdown",
   "metadata": {
    "id": "v5c9PH1aaFUL"
   },
   "source": [
    "### Removing items from a dictionary\n",
    "We realize the first item in the list of dictionaries is the only one with \"category\" key. "
   ]
  },
  {
   "cell_type": "code",
   "execution_count": 72,
   "metadata": {
    "id": "NgmwK6x6aFUL"
   },
   "outputs": [
    {
     "data": {
      "text/plain": [
       "'youth'"
      ]
     },
     "execution_count": 72,
     "metadata": {},
     "output_type": "execute_result"
    }
   ],
   "source": [
    "## Remove that single key/value pair prior to the next task.\n",
    "donations[0].pop(\"category\")"
   ]
  },
  {
   "cell_type": "code",
   "execution_count": 74,
   "metadata": {},
   "outputs": [
    {
     "name": "stdout",
     "output_type": "stream",
     "text": [
      "{'year': '2017', 'donor': 'David H Koch Charitable Foundation', 'grantee': 'City Center For Music And Drama', 'amount': '$15,000,000'}\n"
     ]
    }
   ],
   "source": [
    "print (donations [0])"
   ]
  },
  {
   "cell_type": "code",
   "execution_count": 79,
   "metadata": {
    "id": "Bcr0BCclaFUO"
   },
   "outputs": [
    {
     "name": "stdout",
     "output_type": "stream",
     "text": [
      "['year', 'donor', 'grantee', 'amount']\n"
     ]
    }
   ],
   "source": [
    "## Create the column headers again\n",
    "## Call that list \"csv_columns\"\n",
    "## print the list\n",
    "csv_columns = [\"year\",\"donor\",\"grantee\",\"amount\"]\n",
    "print (csv_columns)"
   ]
  },
  {
   "cell_type": "markdown",
   "metadata": {
    "id": "p_kTKQuVaFUR"
   },
   "source": [
    "### What are relevant journalistic uses for the various methods above?\n",
    "\n",
    "#### 1. Making numbers more readable (using f-string literal formatting)\n",
    "#### 2. Organizing data points after acquiring them through scraping (creating lists, dictionaries and lists of dictionaries)\n",
    "#### 3. Confirming that we have unique values (or removing duplicates in a data set)\n",
    "#### 4. Creating column headers to prepare data for export to a CSV file"
   ]
  }
 ],
 "metadata": {
  "colab": {
   "collapsed_sections": [],
   "name": "homework-for-week-2-BLANKS.ipynb",
   "provenance": []
  },
  "kernelspec": {
   "display_name": "Python 3",
   "language": "python",
   "name": "python3"
  },
  "language_info": {
   "codemirror_mode": {
    "name": "ipython",
    "version": 3
   },
   "file_extension": ".py",
   "mimetype": "text/x-python",
   "name": "python",
   "nbconvert_exporter": "python",
   "pygments_lexer": "ipython3",
   "version": "3.8.8"
  }
 },
 "nbformat": 4,
 "nbformat_minor": 1
}
