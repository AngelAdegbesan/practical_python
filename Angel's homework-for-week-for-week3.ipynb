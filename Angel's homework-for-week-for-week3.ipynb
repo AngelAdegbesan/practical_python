{
 "cells": [
  {
   "cell_type": "markdown",
   "metadata": {
    "id": "rk4Z15RKcNpO"
   },
   "source": [
    "# Homework for Week 3"
   ]
  },
  {
   "cell_type": "markdown",
   "metadata": {
    "id": "J0I7ZoMIcNpd"
   },
   "source": [
    "### 1. Counter\n",
    "* Build a counter that counts from 2 to 10, but only even numbers.\n",
    "* Print the counter numbers in statement that reads: \"The even number is [whatever the even number is]\".\n",
    "* Once it reaches 10, it should print \"Done counting from 2 to 10 even numbers!\""
   ]
  },
  {
   "cell_type": "code",
   "execution_count": 25,
   "metadata": {
    "id": "mPUWYmXRcNpd"
   },
   "outputs": [
    {
     "name": "stdout",
     "output_type": "stream",
     "text": [
      "The even number is 2\n",
      "The even number is 4\n",
      "The even number is 6\n",
      "The even number is 8\n",
      "The even number is 10\n",
      "Done counting from 2 to 10!\n"
     ]
    }
   ],
   "source": [
    "## build here:\n",
    "count=0\n",
    "while count <10:\n",
    "    count = count +2\n",
    "    print (f\"The even number is {count}\")\n",
    "\n",
    "print (\"Done counting from 2 to 10!\")\n"
   ]
  },
  {
   "cell_type": "markdown",
   "metadata": {
    "id": "iOT-583zcNph"
   },
   "source": [
    "### 2. Build a counter with a timer\n",
    "* Add a timer to the previous code so it runs every 3 to 15 seconds"
   ]
  },
  {
   "cell_type": "code",
   "execution_count": 24,
   "metadata": {
    "id": "8UrD9GR1cNpi"
   },
   "outputs": [
    {
     "name": "stdout",
     "output_type": "stream",
     "text": [
      "The even number is 2. Snooze for 3 seconds\n",
      "The even number is 4. Snooze for 6 seconds\n",
      "The even number is 6. Snooze for 14 seconds\n",
      "The even number is 8. Snooze for 12 seconds\n",
      "The even number is 10. Snooze for 12 seconds\n",
      "Done counting from 2 to 10!\n"
     ]
    }
   ],
   "source": [
    "## build here:\n",
    "import time\n",
    "import datetime as dt\n",
    "from random import randint \n",
    "\n",
    "count=0\n",
    "while count <10:\n",
    "    count = count + 2\n",
    "    sleep = randint (3,15)\n",
    "    current = dt.datetime.now () \n",
    "    print (f\"The even number is {count}. Snooze for {sleep} seconds\")\n",
    "   \n",
    "  \n",
    "    time.sleep (sleep)    \n",
    "\n",
    "print (\"Done counting from 2 to 10!\")"
   ]
  },
  {
   "cell_type": "markdown",
   "metadata": {
    "id": "rL9NFvkTcNpi"
   },
   "source": [
    "### 3. For Looping...\n",
    "\n",
    "* The USDA puts out a report on toxins that can be found in foods.\n",
    "* You have a list of toxins that you specifically want to search for."
   ]
  },
  {
   "cell_type": "code",
   "execution_count": 26,
   "metadata": {
    "id": "8Ue7a160cNpk"
   },
   "outputs": [],
   "source": [
    "## run this cell to activate the list\n",
    "\n",
    "toxins = [\"Recombinant Bovine Growth Hormone\", \n",
    "          \"Butylated Hydroxyanisole\", \n",
    "          \"Sodium Aluminum Sulphate\",\n",
    "          \"Potassium Aluminum Sulphate\",\n",
    "          \"Sodium Nitrite\",\n",
    "          \"Polycyclic Aromatic Hydrocarbons\",\n",
    "          \"Dioxins\",\n",
    "          \"Heterocyclic Amines\",\n",
    "          \"Butylated Hydroxytoluene\"]\n",
    "\n"
   ]
  },
  {
   "cell_type": "code",
   "execution_count": 27,
   "metadata": {
    "id": "t2FEx5YscNpl"
   },
   "outputs": [
    {
     "data": {
      "text/plain": [
       "['Recombinant Bovine Growth Hormone',\n",
       " 'Butylated Hydroxyanisole',\n",
       " 'Sodium Aluminum Sulphate',\n",
       " 'Potassium Aluminum Sulphate',\n",
       " 'Sodium Nitrite',\n",
       " 'Polycyclic Aromatic Hydrocarbons',\n",
       " 'Dioxins',\n",
       " 'Heterocyclic Amines',\n",
       " 'Butylated Hydroxytoluene']"
      ]
     },
     "execution_count": 27,
     "metadata": {},
     "output_type": "execute_result"
    }
   ],
   "source": [
    "## call the list\n",
    "toxins"
   ]
  },
  {
   "cell_type": "markdown",
   "metadata": {
    "id": "JPiiCzoAcNpm"
   },
   "source": [
    "#### You plan to check for mentions of these toxins in a text report.\n",
    "#### Since Python is case sensitive, you have first have lower-case the entire report. This called ```pre-processing``` the text.\n",
    "\n",
    "* use a ```for loop``` to lowercase and ```print``` the toxins list."
   ]
  },
  {
   "cell_type": "code",
   "execution_count": 35,
   "metadata": {
    "id": "7fmSOz8LcNpn"
   },
   "outputs": [
    {
     "name": "stdout",
     "output_type": "stream",
     "text": [
      "recombinant bovine growth hormone\n",
      "butylated hydroxyanisole\n",
      "sodium aluminum sulphate\n",
      "potassium aluminum sulphate\n",
      "sodium nitrite\n",
      "polycyclic aromatic hydrocarbons\n",
      "dioxins\n",
      "heterocyclic amines\n",
      "butylated hydroxytoluene\n"
     ]
    }
   ],
   "source": [
    "## build here:\n",
    "\n",
    "for each in toxins:\n",
    "    print (each.lower())"
   ]
  },
  {
   "cell_type": "markdown",
   "metadata": {
    "id": "cUic8N87cNpn"
   },
   "source": [
    "#### The toxins list was not actually lowercased. You only printed out the lowercased updates.\n",
    "#### Check out the toxins list. Did it change?"
   ]
  },
  {
   "cell_type": "code",
   "execution_count": 38,
   "metadata": {
    "id": "-G3RGrQxcNpn"
   },
   "outputs": [
    {
     "data": {
      "text/plain": [
       "['Recombinant Bovine Growth Hormone',\n",
       " 'Butylated Hydroxyanisole',\n",
       " 'Sodium Aluminum Sulphate',\n",
       " 'Potassium Aluminum Sulphate',\n",
       " 'Sodium Nitrite',\n",
       " 'Polycyclic Aromatic Hydrocarbons',\n",
       " 'Dioxins',\n",
       " 'Heterocyclic Amines',\n",
       " 'Butylated Hydroxytoluene']"
      ]
     },
     "execution_count": 38,
     "metadata": {},
     "output_type": "execute_result"
    }
   ],
   "source": [
    "## call the list here\n",
    "toxins"
   ]
  },
  {
   "cell_type": "markdown",
   "metadata": {
    "id": "O-NxGPx8cNpo"
   },
   "source": [
    "### Update your ```for loop``` to actually create a new list called ```updated_toxins```."
   ]
  },
  {
   "cell_type": "code",
   "execution_count": 52,
   "metadata": {
    "id": "vXTGgdrYcNpo"
   },
   "outputs": [],
   "source": [
    "## build here:\n",
    "updated_toxins = []\n",
    "for each in toxins:\n",
    "    new_list = (each.lower())\n",
    "    updated_toxins.append(new_list)\n"
   ]
  },
  {
   "cell_type": "markdown",
   "metadata": {
    "id": "MJse9ih-cNpp"
   },
   "source": [
    "#### Print the updated list:\n",
    "#### Is it lowercased now?"
   ]
  },
  {
   "cell_type": "code",
   "execution_count": 53,
   "metadata": {
    "id": "m9fJUDAzcNpp"
   },
   "outputs": [
    {
     "data": {
      "text/plain": [
       "['recombinant bovine growth hormone',\n",
       " 'butylated hydroxyanisole',\n",
       " 'sodium aluminum sulphate',\n",
       " 'potassium aluminum sulphate',\n",
       " 'sodium nitrite',\n",
       " 'polycyclic aromatic hydrocarbons',\n",
       " 'dioxins',\n",
       " 'heterocyclic amines',\n",
       " 'butylated hydroxytoluene']"
      ]
     },
     "execution_count": 53,
     "metadata": {},
     "output_type": "execute_result"
    }
   ],
   "source": [
    "## print it here\n",
    "updated_toxins"
   ]
  },
  {
   "cell_type": "markdown",
   "metadata": {
    "id": "aJGfwNQgcNpr"
   },
   "source": [
    "### 4. List Comprehension\n",
    "\n",
    "* Lower case all the toxins in our original toxins list using list comprehension\n",
    "* The new list should be called ```updated_toxins_lc```."
   ]
  },
  {
   "cell_type": "code",
   "execution_count": 55,
   "metadata": {
    "id": "tZ5Fr0tWcNpr"
   },
   "outputs": [],
   "source": [
    "## build here:\n",
    "updated_toxins_lc = [each.lower() for each in toxins ]"
   ]
  },
  {
   "cell_type": "code",
   "execution_count": 56,
   "metadata": {},
   "outputs": [
    {
     "data": {
      "text/plain": [
       "['recombinant bovine growth hormone',\n",
       " 'butylated hydroxyanisole',\n",
       " 'sodium aluminum sulphate',\n",
       " 'potassium aluminum sulphate',\n",
       " 'sodium nitrite',\n",
       " 'polycyclic aromatic hydrocarbons',\n",
       " 'dioxins',\n",
       " 'heterocyclic amines',\n",
       " 'butylated hydroxytoluene']"
      ]
     },
     "execution_count": 56,
     "metadata": {},
     "output_type": "execute_result"
    }
   ],
   "source": [
    "updated_toxins_lc"
   ]
  },
  {
   "cell_type": "markdown",
   "metadata": {
    "id": "n76r1NiXcNps"
   },
   "source": [
    "### 5. Challenge Question:\n",
    "\n",
    "* Use **list comprehension** to create a new list called ```sodium_tox``` that only contains toxins that include the word \"sodium\""
   ]
  },
  {
   "cell_type": "code",
   "execution_count": 127,
   "metadata": {
    "id": "8AdezBSFcNps"
   },
   "outputs": [],
   "source": [
    "## build here: \n",
    "sodium_tox = [each for each in toxins if \"Sodium\" in each]"
   ]
  },
  {
   "cell_type": "code",
   "execution_count": 128,
   "metadata": {},
   "outputs": [
    {
     "data": {
      "text/plain": [
       "['Sodium Aluminum Sulphate', 'Sodium Nitrite']"
      ]
     },
     "execution_count": 128,
     "metadata": {},
     "output_type": "execute_result"
    }
   ],
   "source": [
    "sodium_tox"
   ]
  },
  {
   "cell_type": "markdown",
   "metadata": {
    "id": "qyF7l64ScNpt"
   },
   "source": [
    "### 6.  ``` for loop``` continued...\n",
    "\n",
    "#### You scrape some URLs and place them in a list called myURLS (provided below):\n"
   ]
  },
  {
   "cell_type": "code",
   "execution_count": 94,
   "metadata": {
    "id": "wyfNpkSfcNpt"
   },
   "outputs": [],
   "source": [
    "## run this cell to activate the list\n",
    "myURLS = [\n",
    "    'great-unique-data-1.html',\n",
    "    'great-unique-data-2.html',\n",
    "    'great-unique-data-3.html',\n",
    "    'great-unique-data-4.html',\n",
    "    'great-unique-data-5.html',\n",
    "    'great-unique-data-6.html',\n",
    "    'great-unique-data-7.html',\n",
    "    'great-unique-data-8.html',\n",
    "    'great-unique-data-9.html',\n",
    "    'great-unique-data-10.html',\n",
    "    'great-unique-data-11.html',\n",
    "    'great-unique-data-12.html',\n",
    "    'great-unique-data-13.html',\n",
    "    'great-unique-data-14.html',\n",
    "    'great-unique-data-15.html'\n",
    "]\n"
   ]
  },
  {
   "cell_type": "code",
   "execution_count": 96,
   "metadata": {
    "id": "3qGJcJxlcNpt"
   },
   "outputs": [
    {
     "name": "stdout",
     "output_type": "stream",
     "text": [
      "['great-unique-data-1.html', 'great-unique-data-2.html', 'great-unique-data-3.html', 'great-unique-data-4.html', 'great-unique-data-5.html', 'great-unique-data-6.html', 'great-unique-data-7.html', 'great-unique-data-8.html', 'great-unique-data-9.html', 'great-unique-data-10.html', 'great-unique-data-11.html', 'great-unique-data-12.html', 'great-unique-data-13.html', 'great-unique-data-14.html', 'great-unique-data-15.html']\n"
     ]
    }
   ],
   "source": [
    "## Print myURLS to check it out\n",
    "print (myURLS)"
   ]
  },
  {
   "cell_type": "markdown",
   "metadata": {
    "id": "kUEWHW0QcNpt"
   },
   "source": [
    "### * You realize that these URLs are missing the base of \"http://www.importantsite.com\"\n",
    "### * Use a ```for loop``` to join the base URL to every partial URL in your list.\n",
    "### * Print each joined item"
   ]
  },
  {
   "cell_type": "code",
   "execution_count": 114,
   "metadata": {
    "id": "yI0iz7YjcNpu"
   },
   "outputs": [
    {
     "name": "stdout",
     "output_type": "stream",
     "text": [
      "http://www.importantsite.comgreat-unique-data-1.html\n",
      "http://www.importantsite.comgreat-unique-data-2.html\n",
      "http://www.importantsite.comgreat-unique-data-3.html\n",
      "http://www.importantsite.comgreat-unique-data-4.html\n",
      "http://www.importantsite.comgreat-unique-data-5.html\n",
      "http://www.importantsite.comgreat-unique-data-6.html\n",
      "http://www.importantsite.comgreat-unique-data-7.html\n",
      "http://www.importantsite.comgreat-unique-data-8.html\n",
      "http://www.importantsite.comgreat-unique-data-9.html\n",
      "http://www.importantsite.comgreat-unique-data-10.html\n",
      "http://www.importantsite.comgreat-unique-data-11.html\n",
      "http://www.importantsite.comgreat-unique-data-12.html\n",
      "http://www.importantsite.comgreat-unique-data-13.html\n",
      "http://www.importantsite.comgreat-unique-data-14.html\n",
      "http://www.importantsite.comgreat-unique-data-15.html\n"
     ]
    }
   ],
   "source": [
    "## build here:\n",
    "\n",
    "for item in myURLS: \n",
    "    new_url = \"http://www.importantsite.com\" + item\n",
    "    print (new_url)\n",
    "  \n"
   ]
  },
  {
   "cell_type": "code",
   "execution_count": 115,
   "metadata": {
    "id": "kqAkKvAtcNpu"
   },
   "outputs": [
    {
     "data": {
      "text/plain": [
       "['great-unique-data-1.html',\n",
       " 'great-unique-data-2.html',\n",
       " 'great-unique-data-3.html',\n",
       " 'great-unique-data-4.html',\n",
       " 'great-unique-data-5.html',\n",
       " 'great-unique-data-6.html',\n",
       " 'great-unique-data-7.html',\n",
       " 'great-unique-data-8.html',\n",
       " 'great-unique-data-9.html',\n",
       " 'great-unique-data-10.html',\n",
       " 'great-unique-data-11.html',\n",
       " 'great-unique-data-12.html',\n",
       " 'great-unique-data-13.html',\n",
       " 'great-unique-data-14.html',\n",
       " 'great-unique-data-15.html']"
      ]
     },
     "execution_count": 115,
     "metadata": {},
     "output_type": "execute_result"
    }
   ],
   "source": [
    "## Your myURLs list didn't actually change. You only printed out the joined full URLS.\n",
    "## Check out myURLs. Did it change?\n",
    "myURLS"
   ]
  },
  {
   "cell_type": "markdown",
   "metadata": {
    "id": "rc0ScOY7cNpu"
   },
   "source": [
    "### 7. List Comprehension challenge\n",
    "\n",
    "#### * Instead of just printing the joined URLs, create a new list called ```my_full_urls``` that holds the full URLs."
   ]
  },
  {
   "cell_type": "code",
   "execution_count": 134,
   "metadata": {
    "id": "TwC8W25ecNpv"
   },
   "outputs": [],
   "source": [
    "## build here:\n",
    "my_full_urls = []\n",
    "for item in myURLS: \n",
    "    new_url = \"http://www.importantsite.com\" + item\n",
    "    my_full_urls.append(new_url)\n"
   ]
  },
  {
   "cell_type": "code",
   "execution_count": 135,
   "metadata": {},
   "outputs": [
    {
     "data": {
      "text/plain": [
       "['http://www.importantsite.comgreat-unique-data-1.html',\n",
       " 'http://www.importantsite.comgreat-unique-data-2.html',\n",
       " 'http://www.importantsite.comgreat-unique-data-3.html',\n",
       " 'http://www.importantsite.comgreat-unique-data-4.html',\n",
       " 'http://www.importantsite.comgreat-unique-data-5.html',\n",
       " 'http://www.importantsite.comgreat-unique-data-6.html',\n",
       " 'http://www.importantsite.comgreat-unique-data-7.html',\n",
       " 'http://www.importantsite.comgreat-unique-data-8.html',\n",
       " 'http://www.importantsite.comgreat-unique-data-9.html',\n",
       " 'http://www.importantsite.comgreat-unique-data-10.html',\n",
       " 'http://www.importantsite.comgreat-unique-data-11.html',\n",
       " 'http://www.importantsite.comgreat-unique-data-12.html',\n",
       " 'http://www.importantsite.comgreat-unique-data-13.html',\n",
       " 'http://www.importantsite.comgreat-unique-data-14.html',\n",
       " 'http://www.importantsite.comgreat-unique-data-15.html']"
      ]
     },
     "execution_count": 135,
     "metadata": {},
     "output_type": "execute_result"
    }
   ],
   "source": [
    "my_full_urls"
   ]
  },
  {
   "cell_type": "markdown",
   "metadata": {
    "id": "WpSKR41ueV5j"
   },
   "source": [
    "## Challenge\n",
    "\n",
    "Write a tenary expression to update the first conditional exercise from our week 2 inclass exercise to deal Zeros. For example if the random list generates:\n",
    "\n",
    "```[46, 30, 31, -56, 18, 57, -90, 81, 0, 0]```\n",
    "\n",
    "It should print out:\n",
    "\n",
    "```The last number (0) is neither negative or positive at zero while the penultimate number (0) is neither negative or positive at zero.```"
   ]
  },
  {
   "cell_type": "code",
   "execution_count": null,
   "metadata": {
    "id": "Updp5TekedB5"
   },
   "outputs": [],
   "source": [
    "## activate the list\n",
    "numbers = [46, 30, 31, -56, 18, 57, -90, 81, 0, 0]"
   ]
  },
  {
   "cell_type": "code",
   "execution_count": null,
   "metadata": {
    "id": "eLZyjDu2ej3d"
   },
   "outputs": [],
   "source": [
    "## write your multiple ternary expression\n"
   ]
  }
 ],
 "metadata": {
  "colab": {
   "collapsed_sections": [],
   "name": "homework-for-week-3-BLANKS.ipynb",
   "provenance": []
  },
  "kernelspec": {
   "display_name": "Python 3",
   "language": "python",
   "name": "python3"
  },
  "language_info": {
   "codemirror_mode": {
    "name": "ipython",
    "version": 3
   },
   "file_extension": ".py",
   "mimetype": "text/x-python",
   "name": "python",
   "nbconvert_exporter": "python",
   "pygments_lexer": "ipython3",
   "version": "3.8.8"
  }
 },
 "nbformat": 4,
 "nbformat_minor": 1
}
