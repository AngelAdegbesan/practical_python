{
 "cells": [
  {
   "cell_type": "code",
   "execution_count": 1,
   "id": "d80b843f",
   "metadata": {},
   "outputs": [
    {
     "name": "stdout",
     "output_type": "stream",
     "text": [
      "List of available languages (163):\r\n",
      "afr\r\n",
      "amh\r\n",
      "ara\r\n",
      "asm\r\n",
      "aze\r\n",
      "aze_cyrl\r\n",
      "bel\r\n",
      "ben\r\n",
      "bod\r\n",
      "bos\r\n",
      "bre\r\n",
      "bul\r\n",
      "cat\r\n",
      "ceb\r\n",
      "ces\r\n",
      "chi_sim\r\n",
      "chi_sim_vert\r\n",
      "chi_tra\r\n",
      "chi_tra_vert\r\n",
      "chr\r\n",
      "cos\r\n",
      "cym\r\n",
      "dan\r\n",
      "deu\r\n",
      "div\r\n",
      "dzo\r\n",
      "ell\r\n",
      "eng\r\n",
      "enm\r\n",
      "epo\r\n",
      "equ\r\n",
      "est\r\n",
      "eus\r\n",
      "fao\r\n",
      "fas\r\n",
      "fil\r\n",
      "fin\r\n",
      "fra\r\n",
      "frk\r\n",
      "frm\r\n",
      "fry\r\n",
      "gla\r\n",
      "gle\r\n",
      "glg\r\n",
      "grc\r\n",
      "guj\r\n",
      "hat\r\n",
      "heb\r\n",
      "hin\r\n",
      "hrv\r\n",
      "hun\r\n",
      "hye\r\n",
      "iku\r\n",
      "ind\r\n",
      "isl\r\n",
      "ita\r\n",
      "ita_old\r\n",
      "jav\r\n",
      "jpn\r\n",
      "jpn_vert\r\n",
      "kan\r\n",
      "kat\r\n",
      "kat_old\r\n",
      "kaz\r\n",
      "khm\r\n",
      "kir\r\n",
      "kmr\r\n",
      "kor\r\n",
      "kor_vert\r\n",
      "lao\r\n",
      "lat\r\n",
      "lav\r\n",
      "lit\r\n",
      "ltz\r\n",
      "mal\r\n",
      "mar\r\n",
      "mkd\r\n",
      "mlt\r\n",
      "mon\r\n",
      "mri\r\n",
      "msa\r\n",
      "mya\r\n",
      "nep\r\n",
      "nld\r\n",
      "nor\r\n",
      "oci\r\n",
      "ori\r\n",
      "osd\r\n",
      "pan\r\n",
      "pol\r\n",
      "por\r\n",
      "pus\r\n",
      "que\r\n",
      "ron\r\n",
      "rus\r\n",
      "san\r\n",
      "script/Arabic\r\n",
      "script/Armenian\r\n",
      "script/Bengali\r\n",
      "script/Canadian_Aboriginal\r\n",
      "script/Cherokee\r\n",
      "script/Cyrillic\r\n",
      "script/Devanagari\r\n",
      "script/Ethiopic\r\n",
      "script/Fraktur\r\n",
      "script/Georgian\r\n",
      "script/Greek\r\n",
      "script/Gujarati\r\n",
      "script/Gurmukhi\r\n",
      "script/HanS\r\n",
      "script/HanS_vert\r\n",
      "script/HanT\r\n",
      "script/HanT_vert\r\n",
      "script/Hangul\r\n",
      "script/Hangul_vert\r\n",
      "script/Hebrew\r\n",
      "script/Japanese\r\n",
      "script/Japanese_vert\r\n",
      "script/Kannada\r\n",
      "script/Khmer\r\n",
      "script/Lao\r\n",
      "script/Latin\r\n",
      "script/Malayalam\r\n",
      "script/Myanmar\r\n",
      "script/Oriya\r\n",
      "script/Sinhala\r\n",
      "script/Syriac\r\n",
      "script/Tamil\r\n",
      "script/Telugu\r\n",
      "script/Thaana\r\n",
      "script/Thai\r\n",
      "script/Tibetan\r\n",
      "script/Vietnamese\r\n",
      "sin\r\n",
      "slk\r\n",
      "slv\r\n",
      "snd\r\n",
      "snum\r\n",
      "spa\r\n",
      "spa_old\r\n",
      "sqi\r\n",
      "srp\r\n",
      "srp_latn\r\n",
      "sun\r\n",
      "swa\r\n",
      "swe\r\n",
      "syr\r\n",
      "tam\r\n",
      "tat\r\n",
      "tel\r\n",
      "tgk\r\n",
      "tha\r\n",
      "tir\r\n",
      "ton\r\n",
      "tur\r\n",
      "uig\r\n",
      "ukr\r\n",
      "urd\r\n",
      "uzb\r\n",
      "uzb_cyrl\r\n",
      "vie\r\n",
      "yid\r\n",
      "yor\r\n"
     ]
    }
   ],
   "source": [
    "!tesseract --list-langs"
   ]
  },
  {
   "cell_type": "code",
   "execution_count": 2,
   "id": "ed24b5c6",
   "metadata": {},
   "outputs": [
    {
     "name": "stdout",
     "output_type": "stream",
     "text": [
      "Requirement already satisfied: pytesseract in /Users/angeladegbesan/opt/anaconda3/lib/python3.8/site-packages (0.3.8)\r\n",
      "Requirement already satisfied: Pillow in /Users/angeladegbesan/opt/anaconda3/lib/python3.8/site-packages (from pytesseract) (8.2.0)\r\n"
     ]
    }
   ],
   "source": [
    "!pip install pytesseract"
   ]
  },
  {
   "cell_type": "code",
   "execution_count": 3,
   "id": "3142327f",
   "metadata": {},
   "outputs": [
    {
     "name": "stdout",
     "output_type": "stream",
     "text": [
      "Requirement already satisfied: pdf2image in /Users/angeladegbesan/opt/anaconda3/lib/python3.8/site-packages (1.16.0)\r\n",
      "Requirement already satisfied: pillow in /Users/angeladegbesan/opt/anaconda3/lib/python3.8/site-packages (from pdf2image) (8.2.0)\r\n"
     ]
    }
   ],
   "source": [
    "!pip install pdf2image"
   ]
  },
  {
   "cell_type": "code",
   "execution_count": 4,
   "id": "d44ae0a2",
   "metadata": {},
   "outputs": [
    {
     "name": "stdout",
     "output_type": "stream",
     "text": [
      "Requirement already satisfied: natsort in /Users/angeladegbesan/opt/anaconda3/lib/python3.8/site-packages (8.0.0)\n",
      "Note: you may need to restart the kernel to use updated packages.\n"
     ]
    }
   ],
   "source": [
    "pip install natsort"
   ]
  },
  {
   "cell_type": "code",
   "execution_count": 5,
   "id": "380029e8",
   "metadata": {},
   "outputs": [],
   "source": [
    "# Import libraries\n",
    "from PIL import Image\n",
    "import pytesseract\n",
    "import os ## navitage, create directories\n",
    "import shutil ## to delete the image folders with their imgs\n",
    "from pdf2image import convert_from_path ## to turn pdf to image\n",
    "import glob ## to glob files into a list\n",
    "from pathlib import Path ## to specify path to your files\n",
    "from natsort import natsorted, ns ## natural sorting\n",
    "import os      ##to sort files\n",
    "import re"
   ]
  },
  {
   "cell_type": "markdown",
   "id": "f04e84bf",
   "metadata": {},
   "source": [
    "# testing conversions on one pdf"
   ]
  },
  {
   "cell_type": "code",
   "execution_count": 6,
   "id": "38e7a8d7",
   "metadata": {},
   "outputs": [],
   "source": [
    "##path for a test pdf\n",
    "PDF_file1 = \"found_docs/Jun-20.pdf\""
   ]
  },
  {
   "cell_type": "code",
   "execution_count": 7,
   "id": "368bbe73",
   "metadata": {},
   "outputs": [
    {
     "name": "stdout",
     "output_type": "stream",
     "text": [
      "<class 'list'>\n"
     ]
    },
    {
     "data": {
      "text/plain": [
       "[<PIL.PpmImagePlugin.PpmImageFile image mode=RGB size=2550x3301 at 0x7F98AFBA2280>]"
      ]
     },
     "execution_count": 7,
     "metadata": {},
     "output_type": "execute_result"
    }
   ],
   "source": [
    "pages = convert_from_path(PDF_file1, 300) ## 500 dpi. balance between hi-res and computation power\n",
    "print(type(pages))\n",
    "pages"
   ]
  },
  {
   "cell_type": "code",
   "execution_count": 8,
   "id": "cac90901",
   "metadata": {},
   "outputs": [
    {
     "name": "stdout",
     "output_type": "stream",
     "text": [
      "[<PIL.PpmImagePlugin.PpmImageFile image mode=RGB size=3400x4400 at 0x7F98B4606FA0>]\n",
      "Give me a second...converting 'found_docs/Jun-20.pdf' to a JPEG\n",
      "Here we go: found_docs/Jun-20_page_1.jpg\n",
      "<class 'str'>\n"
     ]
    }
   ],
   "source": [
    "## Take your PDF and convert each page to a JPEG\n",
    "\n",
    "# Store all the pages of the PDF in a variable\n",
    "pages = convert_from_path(PDF_file1, 400) ## 500 dpi. balance between hi-res and computation power\n",
    "print(pages)\n",
    "print(f\"Give me a second...converting '{PDF_file1}' to a JPEG\")\n",
    "\n",
    "# Counter to store images of each page of PDF to image\n",
    "image_counter = 1\n",
    "\n",
    "# Iterate through all the pages stored above\n",
    "for page in pages:\n",
    "    ## Declaring filename for each page of PDF as JPG\n",
    "    ## remove the .pdf extention (last 4 characters)\n",
    "    filename = str(PDF_file1[ : -4])+\"_page_\"+str(image_counter)+\".jpg\"\n",
    "    print(f\"Here we go: {filename}\")\n",
    "    print(type(filename))\n",
    "    # Save the image of the page in system\n",
    "    page.save(filename, 'JPEG') ## here we tell it to be a \"jpeg\" file\n",
    "    # Increment the counter to update filename\n",
    "    image_counter+=1"
   ]
  },
  {
   "cell_type": "code",
   "execution_count": 9,
   "id": "285807fd",
   "metadata": {},
   "outputs": [
    {
     "data": {
      "text/plain": [
       "['found_docs/Jun-20_page_1.jpg']"
      ]
     },
     "execution_count": 9,
     "metadata": {},
     "output_type": "execute_result"
    }
   ],
   "source": [
    "##putting in a path for the test document\n",
    "img_path = \"found_docs/Jun-20*.jpg\"\n",
    "myimg = sorted(glob.glob(img_path))\n",
    "myimg"
   ]
  },
  {
   "cell_type": "code",
   "execution_count": 10,
   "id": "95667d21",
   "metadata": {},
   "outputs": [],
   "source": [
    "outfile = \"Juun-20.txt\""
   ]
  },
  {
   "cell_type": "code",
   "execution_count": 11,
   "id": "02d9a04c",
   "metadata": {},
   "outputs": [
    {
     "name": "stdout",
     "output_type": "stream",
     "text": [
      "['found_docs/Jun-20_page_1.jpg']\n",
      "Converting image 1 of 1 to text\n",
      "Your converted PDFs are waiting in Juun-20.txt!\n"
     ]
    }
   ],
   "source": [
    "## Open each Jpeg, OCR and append text to output file\n",
    "\n",
    "with open(outfile, \"a\") as my_conversion_file:    ##using a to append, not w because w will write over it\n",
    "  ## grab all jpegs\n",
    "  img_files = sorted(glob.glob(img_path))\n",
    "  print(img_files)\n",
    "  counter = 0\n",
    "    ## name each file\n",
    "  for img_file in img_files:\n",
    "    counter+=1\n",
    "    print(f\"Converting image {counter} of {len(img_files)} to text\")\n",
    "    text = f\"FILE_Info: {img_file} \\n\\n\\n + {str(pytesseract.image_to_string(Image.open(img_file)))}\" \n",
    "\n",
    "  ## In many PDFs, at line ending, if a word can't\n",
    "    ## be written fully, a 'hyphen' is added.\n",
    "    ## To remove this, we replace every '-\\n' to ''.\n",
    "    text = text.replace('-\\n', '')\n",
    "\n",
    "    my_conversion_file.write(text)\n",
    "\n",
    "print(f\"Your converted PDFs are waiting in {outfile}!\")"
   ]
  },
  {
   "cell_type": "markdown",
   "id": "187553f4",
   "metadata": {},
   "source": [
    "# functions to use on multiple pdfs"
   ]
  },
  {
   "cell_type": "code",
   "execution_count": 12,
   "id": "84a6c376",
   "metadata": {},
   "outputs": [],
   "source": [
    "### FUNCTION to convert pdf to jpg\n",
    "def to_jpg(PDF_file, resolution):\n",
    "    '''\n",
    "    arguments\n",
    "    - PDF_file = name of pdf file to OCR\n",
    "    - resolution = resolution of conversion of pdf to jpeg\n",
    "    \n",
    "    '''\n",
    "    ## store in a folder for conversion\n",
    "    conversion_path = Path('conversion_img/')\n",
    "    conversion_path.mkdir(exist_ok=True)\n",
    "\n",
    "    '''\n",
    "    Part #1 : Converting PDF to images\n",
    "    '''\n",
    "\n",
    "    # Store all the pages of the PDF in a variable\n",
    "    pages = convert_from_path(PDF_file, resolution)\n",
    "    print(f\"Give me a second...converting '{PDF_file}' to a JPEG\")\n",
    "\n",
    "    # Counter to store images of each page of PDF to image\n",
    "    image_counter = 1\n",
    "    \n",
    "\n",
    "    # Iterate through Sall the pages stored above\n",
    "    for page in pages:\n",
    "        ## Declaring filename for each page of PDF as JPG\n",
    "        ## remove the .pdf extention (last 4 characters)\n",
    "        ## remove the\n",
    "        if re.search(folder_pattern, PDF_file) != None:\n",
    "            PDF_file = re.split(folder_pattern, PDF_file)[1]\n",
    "   \n",
    "        filename = str(PDF_file[ : -4])+\"_page_\"+str(image_counter)+\".jpg\"\n",
    "        print(f\"{filename} has been converted to an image. Will OCR it now...\")\n",
    "        filename = os.path.join(conversion_path,filename)\n",
    "        print(filename)\n",
    "        # Save the image of the page in system\n",
    "        page.save(filename, 'JPEG')\n",
    "\n",
    "        # Increment the counter to update filename\n",
    "        image_counter+=1"
   ]
  },
  {
   "cell_type": "code",
   "execution_count": 13,
   "id": "179a631f",
   "metadata": {},
   "outputs": [],
   "source": [
    "### FUNCTION TO OCR JPG\n",
    "\n",
    "def jpg_to_txt(outfile, language = \"eng\"):\n",
    "\n",
    "    '''\n",
    "    Function that Recognizing text from the images using OCR\n",
    "    Argument(s):\n",
    "    - outfile = file name (as a string) to store your OCRed text \n",
    "    - language = tessaract language code. eng by default\n",
    "    '''\n",
    "    ## store in an output folder\n",
    "    output_path = Path('output/')\n",
    "    output_path.mkdir(exist_ok=True)\n",
    "    conversion_path = Path('conversion_img/')\n",
    "\n",
    "    # # # # Creating a text file to write the output\n",
    "    outfile = os.path.join(output_path,outfile)\n",
    "    # # #\n",
    "    # # # # Open output file and append all info\n",
    "\n",
    "    with open(outfile, \"a\") as f:\n",
    "        ## grab all jpegs\n",
    "        img_files = sorted(Path(conversion_path).glob('*.jpg'), reverse=False)\n",
    "\n",
    "        ## path objects turn urls into strings and you can't sort numbers with underscores, etc\n",
    "        ## the function below uses regex to find the numbers and turn them into integer.\n",
    "        ## natsort library\n",
    "        ## https://natsort.readthedocs.io/en/master/howitworks.html\n",
    "        from natsort import natsorted, ns\n",
    "        \n",
    "        ## .as_posix() returns a string representation of the path with forward slashes (/)\n",
    "        ## more info: https://docs.python.org/3/library/pathlib.html#pathlib.PurePath.as_posix\n",
    "        ## if you receive a posix error, comment out next line and uncomment the one after\n",
    "        img_files = [img_file for img_file in img_files] \n",
    "#         img_files = [img_file.as_posix() for img_file in img_files] \n",
    "#         print(f\"img_files: {img_files}\")\n",
    "        img_files = natsorted(img_files, alg=ns.PATH)\n",
    "#         print(img_files)\n",
    "\n",
    "        counter = 0\n",
    "        for img_file in img_files:\n",
    "            counter+=1\n",
    "            print(f\"Converting image {counter} of {len(img_files)} to text!\")\n",
    "            text = f\"\\n\\n\\nFILE_Info: {img_file} \\n\\n\\n \\\n",
    "             {str(pytesseract.image_to_string(Image.open(img_file), lang = language))}\"\n",
    "            \n",
    "            ## In many PDFs, at line ending, if a word can't\n",
    "            ## be written fully, a 'hyphen' is added.\n",
    "            ## To remove this, we replace every '-\\n' to ''.\n",
    "            text = text.replace('-\\n', '')\n",
    "            # print(f\"Here's the text: \\n {text}\")\n",
    "\n",
    "            f.write(text)\n",
    "\n",
    "            ## Delete the folder\n",
    "        shutil.rmtree(conversion_path)\n",
    "        return img_files\n",
    "        "
   ]
  },
  {
   "cell_type": "code",
   "execution_count": 14,
   "id": "5434d8a8",
   "metadata": {},
   "outputs": [],
   "source": [
    "##function that calls on both functions above together\n",
    "def ocr_file(PDF_file, outfile, pdf_path = \"\", resolution = 400 ):\n",
    "    '''\n",
    "    args:\n",
    "    - pdf file name(as strings)\n",
    "    - name of outfile (as strings)\n",
    "    - path to pdf as string (default \"\" same folder)\n",
    "    - resolution as int between 300 and 600\n",
    "    '''\n",
    "    to_jpg(PDF_file, resolution)\n",
    "    jpg_to_txt(outfile)\n",
    "    "
   ]
  },
  {
   "cell_type": "code",
   "execution_count": 15,
   "id": "8703e005",
   "metadata": {},
   "outputs": [
    {
     "data": {
      "text/plain": [
       "['found_docs/Apr-19.pdf',\n",
       " 'found_docs/Aug-19_Finance_Bulletin.pdf',\n",
       " 'found_docs/Aug-20.pdf',\n",
       " 'found_docs/Dec-19 Finance_Bulletin.pdf',\n",
       " 'found_docs/Dec-20.pdf',\n",
       " 'found_docs/FB_April_2020.pdf',\n",
       " 'found_docs/Feb-19.pdf',\n",
       " 'found_docs/Feb_2020_FB.pdf',\n",
       " 'found_docs/Jul-19.pdf',\n",
       " 'found_docs/Jul-20.pdf',\n",
       " 'found_docs/Jun-19.pdf',\n",
       " 'found_docs/Jun-20.pdf',\n",
       " 'found_docs/Mar-19.pdf',\n",
       " 'found_docs/Mar_2020_FB.pdf',\n",
       " 'found_docs/Nov-19_Finance_Bulletin.pdf',\n",
       " 'found_docs/Nov-20.pdf',\n",
       " 'found_docs/Oct-19_Finance_Bulletin.pdf',\n",
       " 'found_docs/Oct-20.pdf',\n",
       " 'found_docs/Sep-20.pdf',\n",
       " 'found_docs/Sept-19_Finance_Bulletin.pdf']"
      ]
     },
     "execution_count": 15,
     "metadata": {},
     "output_type": "execute_result"
    }
   ],
   "source": [
    "##putting/sorting all documents from a folder to a list\n",
    "path = \"found_docs/*.pdf\"\n",
    "myfiles = sorted(glob.glob(path))\n",
    "myfiles"
   ]
  },
  {
   "cell_type": "code",
   "execution_count": 16,
   "id": "dc969dde",
   "metadata": {
    "scrolled": true
   },
   "outputs": [
    {
     "name": "stdout",
     "output_type": "stream",
     "text": [
      "Give me a second...converting 'found_docs/Apr-19.pdf' to a JPEG\n"
     ]
    },
    {
     "ename": "NameError",
     "evalue": "name 'folder_pattern' is not defined",
     "output_type": "error",
     "traceback": [
      "\u001b[0;31m---------------------------------------------------------------------------\u001b[0m",
      "\u001b[0;31mNameError\u001b[0m                                 Traceback (most recent call last)",
      "\u001b[0;32m<ipython-input-16-8fac467fbff2>\u001b[0m in \u001b[0;36m<module>\u001b[0;34m\u001b[0m\n\u001b[1;32m      1\u001b[0m \u001b[0;31m##An attempt to iterate through each item in the list file\u001b[0m\u001b[0;34m\u001b[0m\u001b[0;34m\u001b[0m\u001b[0;34m\u001b[0m\u001b[0m\n\u001b[1;32m      2\u001b[0m \u001b[0;32mfor\u001b[0m \u001b[0meach\u001b[0m \u001b[0;32min\u001b[0m \u001b[0mmyfiles\u001b[0m\u001b[0;34m:\u001b[0m\u001b[0;34m\u001b[0m\u001b[0;34m\u001b[0m\u001b[0m\n\u001b[0;32m----> 3\u001b[0;31m     \u001b[0mocr_file\u001b[0m\u001b[0;34m(\u001b[0m\u001b[0meach\u001b[0m\u001b[0;34m,\u001b[0m \u001b[0;34m\"{each}.txt\"\u001b[0m\u001b[0;34m,\u001b[0m \u001b[0;34m\"\"\u001b[0m\u001b[0;34m,\u001b[0m \u001b[0;36m400\u001b[0m\u001b[0;34m)\u001b[0m\u001b[0;34m\u001b[0m\u001b[0;34m\u001b[0m\u001b[0m\n\u001b[0m",
      "\u001b[0;32m<ipython-input-14-b7b235fe5259>\u001b[0m in \u001b[0;36mocr_file\u001b[0;34m(PDF_file, outfile, pdf_path, resolution)\u001b[0m\n\u001b[1;32m      8\u001b[0m     \u001b[0;34m-\u001b[0m \u001b[0mresolution\u001b[0m \u001b[0;32mas\u001b[0m \u001b[0mint\u001b[0m \u001b[0mbetween\u001b[0m \u001b[0;36m300\u001b[0m \u001b[0;32mand\u001b[0m \u001b[0;36m600\u001b[0m\u001b[0;34m\u001b[0m\u001b[0;34m\u001b[0m\u001b[0m\n\u001b[1;32m      9\u001b[0m     '''\n\u001b[0;32m---> 10\u001b[0;31m     \u001b[0mto_jpg\u001b[0m\u001b[0;34m(\u001b[0m\u001b[0mPDF_file\u001b[0m\u001b[0;34m,\u001b[0m \u001b[0mresolution\u001b[0m\u001b[0;34m)\u001b[0m\u001b[0;34m\u001b[0m\u001b[0;34m\u001b[0m\u001b[0m\n\u001b[0m\u001b[1;32m     11\u001b[0m     \u001b[0mjpg_to_txt\u001b[0m\u001b[0;34m(\u001b[0m\u001b[0moutfile\u001b[0m\u001b[0;34m)\u001b[0m\u001b[0;34m\u001b[0m\u001b[0;34m\u001b[0m\u001b[0m\n\u001b[1;32m     12\u001b[0m \u001b[0;34m\u001b[0m\u001b[0m\n",
      "\u001b[0;32m<ipython-input-12-58ce18ba6f65>\u001b[0m in \u001b[0;36mto_jpg\u001b[0;34m(PDF_file, resolution)\u001b[0m\n\u001b[1;32m     28\u001b[0m         \u001b[0;31m## remove the .pdf extention (last 4 characters)\u001b[0m\u001b[0;34m\u001b[0m\u001b[0;34m\u001b[0m\u001b[0;34m\u001b[0m\u001b[0m\n\u001b[1;32m     29\u001b[0m         \u001b[0;31m## remove the\u001b[0m\u001b[0;34m\u001b[0m\u001b[0;34m\u001b[0m\u001b[0;34m\u001b[0m\u001b[0m\n\u001b[0;32m---> 30\u001b[0;31m         \u001b[0;32mif\u001b[0m \u001b[0mre\u001b[0m\u001b[0;34m.\u001b[0m\u001b[0msearch\u001b[0m\u001b[0;34m(\u001b[0m\u001b[0mfolder_pattern\u001b[0m\u001b[0;34m,\u001b[0m \u001b[0mPDF_file\u001b[0m\u001b[0;34m)\u001b[0m \u001b[0;34m!=\u001b[0m \u001b[0;32mNone\u001b[0m\u001b[0;34m:\u001b[0m\u001b[0;34m\u001b[0m\u001b[0;34m\u001b[0m\u001b[0m\n\u001b[0m\u001b[1;32m     31\u001b[0m             \u001b[0mPDF_file\u001b[0m \u001b[0;34m=\u001b[0m \u001b[0mre\u001b[0m\u001b[0;34m.\u001b[0m\u001b[0msplit\u001b[0m\u001b[0;34m(\u001b[0m\u001b[0mfolder_pattern\u001b[0m\u001b[0;34m,\u001b[0m \u001b[0mPDF_file\u001b[0m\u001b[0;34m)\u001b[0m\u001b[0;34m[\u001b[0m\u001b[0;36m1\u001b[0m\u001b[0;34m]\u001b[0m\u001b[0;34m\u001b[0m\u001b[0;34m\u001b[0m\u001b[0m\n\u001b[1;32m     32\u001b[0m \u001b[0;34m\u001b[0m\u001b[0m\n",
      "\u001b[0;31mNameError\u001b[0m: name 'folder_pattern' is not defined"
     ]
    }
   ],
   "source": [
    "##An attempt to iterate through each item in the list file\n",
    "for each in myfiles:\n",
    "    ocr_file(each, \"{each}.txt\", \"\", 400)"
   ]
  },
  {
   "cell_type": "code",
   "execution_count": 17,
   "id": "ef7efc42",
   "metadata": {},
   "outputs": [],
   "source": [
    "folder_pattern = re.compile(r\".+\\/\")"
   ]
  },
  {
   "cell_type": "code",
   "execution_count": 18,
   "id": "58d4ca2f",
   "metadata": {},
   "outputs": [],
   "source": [
    "##function that iterates through the list of files and then calls on the ocr_file function\n",
    "def process_files(files_list, name_output_file, language = \"eng\", resolution = 400):\n",
    "    '''\n",
    "    This function iterates through a list that needs OCRing\n",
    "    It taps all the functions above so we enter ALL the arguments here:\n",
    "    Arguments:\n",
    "    - files_list = name of list that must be iterated. You have globbed files into it.\n",
    "    - outfile = file name (as a string) to store your OCRed text\n",
    "    - resolution = resolution of scan as int between 300 and 600\n",
    "    '''\n",
    "#     checker(name_output_file)\n",
    "    counter = 1\n",
    "    len(files_list)\n",
    "    for file in files_list:\n",
    "        print(f\"Grabbing '{file}' (file {counter} of {len(files_list)}) from your list....\")\n",
    "        counter += 1\n",
    "        ocr_file(file, name_output_file, resolution)\n",
    "    print(f\"A text file called '{name_output_file}' is ready for you....\")"
   ]
  },
  {
   "cell_type": "code",
   "execution_count": 19,
   "id": "d595f564",
   "metadata": {
    "scrolled": true
   },
   "outputs": [
    {
     "name": "stdout",
     "output_type": "stream",
     "text": [
      "Grabbing 'found_docs/Apr-19.pdf' (file 1 of 20) from your list....\n",
      "Give me a second...converting 'found_docs/Apr-19.pdf' to a JPEG\n",
      "Apr-19_page_1.jpg has been converted to an image. Will OCR it now...\n",
      "conversion_img/Apr-19_page_1.jpg\n",
      "Converting image 1 of 1 to text!\n",
      "Grabbing 'found_docs/Aug-19_Finance_Bulletin.pdf' (file 2 of 20) from your list....\n",
      "Give me a second...converting 'found_docs/Aug-19_Finance_Bulletin.pdf' to a JPEG\n",
      "Aug-19_Finance_Bulletin_page_1.jpg has been converted to an image. Will OCR it now...\n",
      "conversion_img/Aug-19_Finance_Bulletin_page_1.jpg\n",
      "Converting image 1 of 1 to text!\n",
      "Grabbing 'found_docs/Aug-20.pdf' (file 3 of 20) from your list....\n",
      "Give me a second...converting 'found_docs/Aug-20.pdf' to a JPEG\n",
      "Aug-20_page_1.jpg has been converted to an image. Will OCR it now...\n",
      "conversion_img/Aug-20_page_1.jpg\n",
      "Converting image 1 of 1 to text!\n",
      "Grabbing 'found_docs/Dec-19 Finance_Bulletin.pdf' (file 4 of 20) from your list....\n",
      "Give me a second...converting 'found_docs/Dec-19 Finance_Bulletin.pdf' to a JPEG\n",
      "Dec-19 Finance_Bulletin_page_1.jpg has been converted to an image. Will OCR it now...\n",
      "conversion_img/Dec-19 Finance_Bulletin_page_1.jpg\n",
      "Converting image 1 of 1 to text!\n",
      "Grabbing 'found_docs/Dec-20.pdf' (file 5 of 20) from your list....\n",
      "Give me a second...converting 'found_docs/Dec-20.pdf' to a JPEG\n",
      "Dec-20_page_1.jpg has been converted to an image. Will OCR it now...\n",
      "conversion_img/Dec-20_page_1.jpg\n",
      "Converting image 1 of 1 to text!\n",
      "Grabbing 'found_docs/FB_April_2020.pdf' (file 6 of 20) from your list....\n",
      "Give me a second...converting 'found_docs/FB_April_2020.pdf' to a JPEG\n",
      "FB_April_2020_page_1.jpg has been converted to an image. Will OCR it now...\n",
      "conversion_img/FB_April_2020_page_1.jpg\n",
      "Converting image 1 of 1 to text!\n",
      "Grabbing 'found_docs/Feb-19.pdf' (file 7 of 20) from your list....\n",
      "Give me a second...converting 'found_docs/Feb-19.pdf' to a JPEG\n",
      "Feb-19_page_1.jpg has been converted to an image. Will OCR it now...\n",
      "conversion_img/Feb-19_page_1.jpg\n",
      "Converting image 1 of 1 to text!\n",
      "Grabbing 'found_docs/Feb_2020_FB.pdf' (file 8 of 20) from your list....\n",
      "Give me a second...converting 'found_docs/Feb_2020_FB.pdf' to a JPEG\n",
      "Feb_2020_FB_page_1.jpg has been converted to an image. Will OCR it now...\n",
      "conversion_img/Feb_2020_FB_page_1.jpg\n",
      "Converting image 1 of 1 to text!\n",
      "Grabbing 'found_docs/Jul-19.pdf' (file 9 of 20) from your list....\n",
      "Give me a second...converting 'found_docs/Jul-19.pdf' to a JPEG\n",
      "Jul-19_page_1.jpg has been converted to an image. Will OCR it now...\n",
      "conversion_img/Jul-19_page_1.jpg\n",
      "Converting image 1 of 1 to text!\n",
      "Grabbing 'found_docs/Jul-20.pdf' (file 10 of 20) from your list....\n",
      "Give me a second...converting 'found_docs/Jul-20.pdf' to a JPEG\n",
      "Jul-20_page_1.jpg has been converted to an image. Will OCR it now...\n",
      "conversion_img/Jul-20_page_1.jpg\n",
      "Converting image 1 of 1 to text!\n",
      "Grabbing 'found_docs/Jun-19.pdf' (file 11 of 20) from your list....\n",
      "Give me a second...converting 'found_docs/Jun-19.pdf' to a JPEG\n",
      "Jun-19_page_1.jpg has been converted to an image. Will OCR it now...\n",
      "conversion_img/Jun-19_page_1.jpg\n",
      "Converting image 1 of 1 to text!\n",
      "Grabbing 'found_docs/Jun-20.pdf' (file 12 of 20) from your list....\n",
      "Give me a second...converting 'found_docs/Jun-20.pdf' to a JPEG\n",
      "Jun-20_page_1.jpg has been converted to an image. Will OCR it now...\n",
      "conversion_img/Jun-20_page_1.jpg\n",
      "Converting image 1 of 1 to text!\n",
      "Grabbing 'found_docs/Mar-19.pdf' (file 13 of 20) from your list....\n",
      "Give me a second...converting 'found_docs/Mar-19.pdf' to a JPEG\n",
      "Mar-19_page_1.jpg has been converted to an image. Will OCR it now...\n",
      "conversion_img/Mar-19_page_1.jpg\n",
      "Converting image 1 of 1 to text!\n",
      "Grabbing 'found_docs/Mar_2020_FB.pdf' (file 14 of 20) from your list....\n",
      "Give me a second...converting 'found_docs/Mar_2020_FB.pdf' to a JPEG\n",
      "Mar_2020_FB_page_1.jpg has been converted to an image. Will OCR it now...\n",
      "conversion_img/Mar_2020_FB_page_1.jpg\n",
      "Converting image 1 of 1 to text!\n",
      "Grabbing 'found_docs/Nov-19_Finance_Bulletin.pdf' (file 15 of 20) from your list....\n",
      "Give me a second...converting 'found_docs/Nov-19_Finance_Bulletin.pdf' to a JPEG\n",
      "Nov-19_Finance_Bulletin_page_1.jpg has been converted to an image. Will OCR it now...\n",
      "conversion_img/Nov-19_Finance_Bulletin_page_1.jpg\n",
      "Converting image 1 of 1 to text!\n",
      "Grabbing 'found_docs/Nov-20.pdf' (file 16 of 20) from your list....\n",
      "Give me a second...converting 'found_docs/Nov-20.pdf' to a JPEG\n",
      "Nov-20_page_1.jpg has been converted to an image. Will OCR it now...\n",
      "conversion_img/Nov-20_page_1.jpg\n",
      "Converting image 1 of 1 to text!\n",
      "Grabbing 'found_docs/Oct-19_Finance_Bulletin.pdf' (file 17 of 20) from your list....\n",
      "Give me a second...converting 'found_docs/Oct-19_Finance_Bulletin.pdf' to a JPEG\n",
      "Oct-19_Finance_Bulletin_page_1.jpg has been converted to an image. Will OCR it now...\n",
      "conversion_img/Oct-19_Finance_Bulletin_page_1.jpg\n",
      "Converting image 1 of 1 to text!\n",
      "Grabbing 'found_docs/Oct-20.pdf' (file 18 of 20) from your list....\n",
      "Give me a second...converting 'found_docs/Oct-20.pdf' to a JPEG\n",
      "Oct-20_page_1.jpg has been converted to an image. Will OCR it now...\n",
      "conversion_img/Oct-20_page_1.jpg\n",
      "Converting image 1 of 1 to text!\n",
      "Grabbing 'found_docs/Sep-20.pdf' (file 19 of 20) from your list....\n",
      "Give me a second...converting 'found_docs/Sep-20.pdf' to a JPEG\n",
      "Sep-20_page_1.jpg has been converted to an image. Will OCR it now...\n",
      "conversion_img/Sep-20_page_1.jpg\n",
      "Converting image 1 of 1 to text!\n",
      "Grabbing 'found_docs/Sept-19_Finance_Bulletin.pdf' (file 20 of 20) from your list....\n",
      "Give me a second...converting 'found_docs/Sept-19_Finance_Bulletin.pdf' to a JPEG\n",
      "Sept-19_Finance_Bulletin_page_1.jpg has been converted to an image. Will OCR it now...\n",
      "conversion_img/Sept-19_Finance_Bulletin_page_1.jpg\n",
      "Converting image 1 of 1 to text!\n",
      "A text file called 'cal_revenue.txt' is ready for you....\n"
     ]
    }
   ],
   "source": [
    "##calls on the function to iterate through all the pdfs and puts them all in a single txt file\n",
    "process_files(myfiles, \"cal_revenue.txt\")"
   ]
  },
  {
   "cell_type": "markdown",
   "id": "90b7d9fb",
   "metadata": {},
   "source": [
    "# Using REGEX to get the required text"
   ]
  },
  {
   "cell_type": "code",
   "execution_count": 20,
   "id": "51a3db99",
   "metadata": {},
   "outputs": [],
   "source": [
    "## create patterns from regex expressions from regex101 that targets the required text\n",
    "date_pat = re.compile (\"^((JANUARY|FEBRUARY|MARCH|MAY|JUNE|JULY|AUGUST|SEPTEMBER|OCTOBER|NOVEMBER)\\s\\d{4})\", re.I|re.M)\n",
    "alcohol_pat = re.compile (\"^(Alcoholic Beverages)\\s(\\w{2})\\s(\\d[\\d]*[\\W]?)\", re.I|re.M)"
   ]
  },
  {
   "cell_type": "code",
   "execution_count": 21,
   "id": "495c7761",
   "metadata": {},
   "outputs": [],
   "source": [
    "##open and read the single and newly created txt file\n",
    "with open(\"output/cal_revenue.txt\", 'r') as tdoc:\n",
    "        file = tdoc.read()"
   ]
  },
  {
   "cell_type": "code",
   "execution_count": 22,
   "id": "3e8945cf",
   "metadata": {},
   "outputs": [
    {
     "data": {
      "text/plain": [
       "[('MARCH 2019', 'MARCH'),\n",
       " ('JULY 2019', 'JULY'),\n",
       " ('JULY 2020', 'JULY'),\n",
       " ('NOVEMBER 2019', 'NOVEMBER'),\n",
       " ('NOVEMBER 2020', 'NOVEMBER'),\n",
       " ('MARCH 2020', 'MARCH'),\n",
       " ('JANUARY 2019', 'JANUARY'),\n",
       " ('JANUARY 2020', 'JANUARY'),\n",
       " ('JUNE 2019', 'JUNE'),\n",
       " ('JUNE 2020', 'JUNE'),\n",
       " ('MAY\\n2019', 'MAY'),\n",
       " ('MAY 2020', 'MAY'),\n",
       " ('FEBRUARY 2019', 'FEBRUARY'),\n",
       " ('FEBRUARY 2020', 'FEBRUARY'),\n",
       " ('OCTOBER 2019', 'OCTOBER'),\n",
       " ('OCTOBER 2020', 'OCTOBER'),\n",
       " ('SEPTEMBER 2019', 'SEPTEMBER'),\n",
       " ('SEPTEMBER 2020', 'SEPTEMBER'),\n",
       " ('AUGUST 2020', 'AUGUST'),\n",
       " ('AUGUST 2019', 'AUGUST')]"
      ]
     },
     "execution_count": 22,
     "metadata": {},
     "output_type": "execute_result"
    }
   ],
   "source": [
    "##puts the found patterns in a list\n",
    "date_list = list(date_pat.findall(file))   \n",
    "alcohol_list = list(alcohol_pat.findall(file))   \n",
    "date_list"
   ]
  },
  {
   "cell_type": "code",
   "execution_count": 23,
   "id": "c9f07588",
   "metadata": {},
   "outputs": [
    {
     "name": "stdout",
     "output_type": "stream",
     "text": [
      "MARCH 2019\n",
      "JULY 2019\n",
      "JULY 2020\n",
      "NOVEMBER 2019\n",
      "NOVEMBER 2020\n",
      "MARCH 2020\n",
      "JANUARY 2019\n",
      "JANUARY 2020\n",
      "JUNE 2019\n",
      "JUNE 2020\n",
      "MAY\n",
      "2019\n",
      "MAY 2020\n",
      "FEBRUARY 2019\n",
      "FEBRUARY 2020\n",
      "OCTOBER 2019\n",
      "OCTOBER 2020\n",
      "SEPTEMBER 2019\n",
      "SEPTEMBER 2020\n",
      "AUGUST 2020\n",
      "AUGUST 2019\n"
     ]
    }
   ],
   "source": [
    "##the patterns comes out as a tuple\n",
    "date_list\n",
    "for a,b in date_list:\n",
    "    print(a)"
   ]
  },
  {
   "cell_type": "code",
   "execution_count": 24,
   "id": "2984ddb8",
   "metadata": {},
   "outputs": [
    {
     "data": {
      "text/plain": [
       "['MARCH 2019',\n",
       " 'JULY 2019',\n",
       " 'JULY 2020',\n",
       " 'NOVEMBER 2019',\n",
       " 'NOVEMBER 2020',\n",
       " 'MARCH 2020',\n",
       " 'JANUARY 2019',\n",
       " 'JANUARY 2020',\n",
       " 'JUNE 2019',\n",
       " 'JUNE 2020',\n",
       " 'MAY\\n2019',\n",
       " 'MAY 2020',\n",
       " 'FEBRUARY 2019',\n",
       " 'FEBRUARY 2020',\n",
       " 'OCTOBER 2019',\n",
       " 'OCTOBER 2020',\n",
       " 'SEPTEMBER 2019',\n",
       " 'SEPTEMBER 2020',\n",
       " 'AUGUST 2020',\n",
       " 'AUGUST 2019']"
      ]
     },
     "execution_count": 24,
     "metadata": {},
     "output_type": "execute_result"
    }
   ],
   "source": [
    "##unpack the tuples in the first list\n",
    "date = []\n",
    "\n",
    "for a,b in date_list:\n",
    "    date.append(a)\n",
    "date\n"
   ]
  },
  {
   "cell_type": "code",
   "execution_count": 25,
   "id": "f60f3b4b",
   "metadata": {},
   "outputs": [
    {
     "data": {
      "text/plain": [
       "['22 ',\n",
       " '35 ',\n",
       " '4]',\n",
       " '39 ',\n",
       " '35 ',\n",
       " '25 ',\n",
       " '38 ',\n",
       " '41 ',\n",
       " '28 ',\n",
       " '28 ',\n",
       " '24 ',\n",
       " '28 ',\n",
       " '22 ',\n",
       " '28 ',\n",
       " '33 ',\n",
       " '37 ',\n",
       " '29 ',\n",
       " '33 ',\n",
       " '34 ',\n",
       " '30 ']"
      ]
     },
     "execution_count": 25,
     "metadata": {},
     "output_type": "execute_result"
    }
   ],
   "source": [
    "##unpack the tuples in the second list\n",
    "forecast = []\n",
    "actual=[]\n",
    "for a,b,c in alcohol_list:\n",
    "    forecast.append(b)\n",
    "    actual.append(c)\n",
    "actual"
   ]
  },
  {
   "cell_type": "code",
   "execution_count": 26,
   "id": "9e9de7a6",
   "metadata": {},
   "outputs": [],
   "source": [
    "import pandas as pd"
   ]
  },
  {
   "cell_type": "code",
   "execution_count": 27,
   "id": "0be727f0",
   "metadata": {
    "scrolled": true
   },
   "outputs": [
    {
     "data": {
      "text/plain": [
       "[('MARCH 2019', 'QT', '22 '),\n",
       " ('JULY 2019', '38', '35 '),\n",
       " ('JULY 2020', '39', '4]'),\n",
       " ('NOVEMBER 2019', '33', '39 '),\n",
       " ('NOVEMBER 2020', '33', '35 '),\n",
       " ('MARCH 2020', '26', '25 '),\n",
       " ('JANUARY 2019', '41', '38 '),\n",
       " ('JANUARY 2020', '40', '41 '),\n",
       " ('JUNE 2019', '50', '28 '),\n",
       " ('JUNE 2020', '33', '28 '),\n",
       " ('MAY\\n2019', '31', '24 '),\n",
       " ('MAY 2020', '31', '28 '),\n",
       " ('FEBRUARY 2019', '24', '22 '),\n",
       " ('FEBRUARY 2020', '25', '28 '),\n",
       " ('OCTOBER 2019', '33', '33 '),\n",
       " ('OCTOBER 2020', '33', '37 '),\n",
       " ('SEPTEMBER 2019', '33', '29 '),\n",
       " ('SEPTEMBER 2020', '33', '33 '),\n",
       " ('AUGUST 2020', '30', '34 '),\n",
       " ('AUGUST 2019', '30', '30 ')]"
      ]
     },
     "execution_count": 27,
     "metadata": {},
     "output_type": "execute_result"
    }
   ],
   "source": [
    "## zip the variables and store in a list called txt_list\n",
    "txt_list = []\n",
    "for item in zip (date, forecast, actual):\n",
    "    txt_list.append(item)\n",
    "txt_list"
   ]
  },
  {
   "cell_type": "code",
   "execution_count": 46,
   "id": "7c19f263",
   "metadata": {},
   "outputs": [
    {
     "data": {
      "text/plain": [
       "[('AUGUST 2019', '30', '30 '),\n",
       " ('AUGUST 2020', '30', '34 '),\n",
       " ('FEBRUARY 2019', '24', '22 '),\n",
       " ('FEBRUARY 2020', '25', '28 '),\n",
       " ('JANUARY 2019', '41', '38 '),\n",
       " ('JANUARY 2020', '40', '41 '),\n",
       " ('JULY 2019', '38', '35 '),\n",
       " ('JULY 2020', '39', '4]'),\n",
       " ('JUNE 2019', '50', '28 '),\n",
       " ('JUNE 2020', '33', '28 '),\n",
       " ('MARCH 2019', 'QT', '22 '),\n",
       " ('MARCH 2020', '26', '25 '),\n",
       " ('MAY\\n2019', '31', '24 '),\n",
       " ('MAY 2020', '31', '28 '),\n",
       " ('NOVEMBER 2019', '33', '39 '),\n",
       " ('NOVEMBER 2020', '33', '35 '),\n",
       " ('OCTOBER 2019', '33', '33 '),\n",
       " ('OCTOBER 2020', '33', '37 '),\n",
       " ('SEPTEMBER 2019', '33', '29 '),\n",
       " ('SEPTEMBER 2020', '33', '33 ')]"
      ]
     },
     "execution_count": 46,
     "metadata": {},
     "output_type": "execute_result"
    }
   ],
   "source": [
    "##sorts the list, alphabetically\n",
    "txt_list_sort = natsorted(txt_list)\n",
    "txt_list_sort"
   ]
  },
  {
   "cell_type": "code",
   "execution_count": 47,
   "id": "13126527",
   "metadata": {
    "scrolled": true
   },
   "outputs": [
    {
     "data": {
      "text/html": [
       "<div>\n",
       "<style scoped>\n",
       "    .dataframe tbody tr th:only-of-type {\n",
       "        vertical-align: middle;\n",
       "    }\n",
       "\n",
       "    .dataframe tbody tr th {\n",
       "        vertical-align: top;\n",
       "    }\n",
       "\n",
       "    .dataframe thead th {\n",
       "        text-align: right;\n",
       "    }\n",
       "</style>\n",
       "<table border=\"1\" class=\"dataframe\">\n",
       "  <thead>\n",
       "    <tr style=\"text-align: right;\">\n",
       "      <th></th>\n",
       "      <th>Date</th>\n",
       "      <th>Alcohol_Forecast</th>\n",
       "      <th>Alcohol_Actual</th>\n",
       "    </tr>\n",
       "  </thead>\n",
       "  <tbody>\n",
       "    <tr>\n",
       "      <th>0</th>\n",
       "      <td>AUGUST 2019</td>\n",
       "      <td>30</td>\n",
       "      <td>30</td>\n",
       "    </tr>\n",
       "    <tr>\n",
       "      <th>1</th>\n",
       "      <td>AUGUST 2020</td>\n",
       "      <td>30</td>\n",
       "      <td>34</td>\n",
       "    </tr>\n",
       "    <tr>\n",
       "      <th>2</th>\n",
       "      <td>FEBRUARY 2019</td>\n",
       "      <td>24</td>\n",
       "      <td>22</td>\n",
       "    </tr>\n",
       "    <tr>\n",
       "      <th>3</th>\n",
       "      <td>FEBRUARY 2020</td>\n",
       "      <td>25</td>\n",
       "      <td>28</td>\n",
       "    </tr>\n",
       "    <tr>\n",
       "      <th>4</th>\n",
       "      <td>JANUARY 2019</td>\n",
       "      <td>41</td>\n",
       "      <td>38</td>\n",
       "    </tr>\n",
       "    <tr>\n",
       "      <th>5</th>\n",
       "      <td>JANUARY 2020</td>\n",
       "      <td>40</td>\n",
       "      <td>41</td>\n",
       "    </tr>\n",
       "    <tr>\n",
       "      <th>6</th>\n",
       "      <td>JULY 2019</td>\n",
       "      <td>38</td>\n",
       "      <td>35</td>\n",
       "    </tr>\n",
       "    <tr>\n",
       "      <th>7</th>\n",
       "      <td>JULY 2020</td>\n",
       "      <td>39</td>\n",
       "      <td>4]</td>\n",
       "    </tr>\n",
       "    <tr>\n",
       "      <th>8</th>\n",
       "      <td>JUNE 2019</td>\n",
       "      <td>50</td>\n",
       "      <td>28</td>\n",
       "    </tr>\n",
       "    <tr>\n",
       "      <th>9</th>\n",
       "      <td>JUNE 2020</td>\n",
       "      <td>33</td>\n",
       "      <td>28</td>\n",
       "    </tr>\n",
       "    <tr>\n",
       "      <th>10</th>\n",
       "      <td>MARCH 2019</td>\n",
       "      <td>QT</td>\n",
       "      <td>22</td>\n",
       "    </tr>\n",
       "    <tr>\n",
       "      <th>11</th>\n",
       "      <td>MARCH 2020</td>\n",
       "      <td>26</td>\n",
       "      <td>25</td>\n",
       "    </tr>\n",
       "    <tr>\n",
       "      <th>12</th>\n",
       "      <td>MAY\\n2019</td>\n",
       "      <td>31</td>\n",
       "      <td>24</td>\n",
       "    </tr>\n",
       "    <tr>\n",
       "      <th>13</th>\n",
       "      <td>MAY 2020</td>\n",
       "      <td>31</td>\n",
       "      <td>28</td>\n",
       "    </tr>\n",
       "    <tr>\n",
       "      <th>14</th>\n",
       "      <td>NOVEMBER 2019</td>\n",
       "      <td>33</td>\n",
       "      <td>39</td>\n",
       "    </tr>\n",
       "    <tr>\n",
       "      <th>15</th>\n",
       "      <td>NOVEMBER 2020</td>\n",
       "      <td>33</td>\n",
       "      <td>35</td>\n",
       "    </tr>\n",
       "    <tr>\n",
       "      <th>16</th>\n",
       "      <td>OCTOBER 2019</td>\n",
       "      <td>33</td>\n",
       "      <td>33</td>\n",
       "    </tr>\n",
       "    <tr>\n",
       "      <th>17</th>\n",
       "      <td>OCTOBER 2020</td>\n",
       "      <td>33</td>\n",
       "      <td>37</td>\n",
       "    </tr>\n",
       "    <tr>\n",
       "      <th>18</th>\n",
       "      <td>SEPTEMBER 2019</td>\n",
       "      <td>33</td>\n",
       "      <td>29</td>\n",
       "    </tr>\n",
       "    <tr>\n",
       "      <th>19</th>\n",
       "      <td>SEPTEMBER 2020</td>\n",
       "      <td>33</td>\n",
       "      <td>33</td>\n",
       "    </tr>\n",
       "  </tbody>\n",
       "</table>\n",
       "</div>"
      ],
      "text/plain": [
       "              Date Alcohol_Forecast Alcohol_Actual\n",
       "0      AUGUST 2019               30            30 \n",
       "1      AUGUST 2020               30            34 \n",
       "2    FEBRUARY 2019               24            22 \n",
       "3    FEBRUARY 2020               25            28 \n",
       "4     JANUARY 2019               41            38 \n",
       "5     JANUARY 2020               40            41 \n",
       "6        JULY 2019               38            35 \n",
       "7        JULY 2020               39             4]\n",
       "8        JUNE 2019               50            28 \n",
       "9        JUNE 2020               33            28 \n",
       "10      MARCH 2019               QT            22 \n",
       "11      MARCH 2020               26            25 \n",
       "12       MAY\\n2019               31            24 \n",
       "13        MAY 2020               31            28 \n",
       "14   NOVEMBER 2019               33            39 \n",
       "15   NOVEMBER 2020               33            35 \n",
       "16    OCTOBER 2019               33            33 \n",
       "17    OCTOBER 2020               33            37 \n",
       "18  SEPTEMBER 2019               33            29 \n",
       "19  SEPTEMBER 2020               33            33 "
      ]
     },
     "execution_count": 47,
     "metadata": {},
     "output_type": "execute_result"
    }
   ],
   "source": [
    "##convert the list into a dataframe\n",
    "df = pd.DataFrame (txt_list_sort)\n",
    "df.columns = [\"Date\", \"Alcohol_Forecast\", \"Alcohol_Actual\"]\n",
    "df\n"
   ]
  },
  {
   "cell_type": "code",
   "execution_count": 50,
   "id": "064626c5",
   "metadata": {
    "scrolled": true
   },
   "outputs": [],
   "source": [
    "df.at[7,'Alcohol_Actual']= 41"
   ]
  },
  {
   "cell_type": "code",
   "execution_count": 48,
   "id": "aebb94c5",
   "metadata": {
    "scrolled": false
   },
   "outputs": [],
   "source": [
    "df.at[10,'Alcohol_Forecast']= 27"
   ]
  },
  {
   "cell_type": "code",
   "execution_count": 51,
   "id": "aced9855",
   "metadata": {},
   "outputs": [
    {
     "data": {
      "text/html": [
       "<div>\n",
       "<style scoped>\n",
       "    .dataframe tbody tr th:only-of-type {\n",
       "        vertical-align: middle;\n",
       "    }\n",
       "\n",
       "    .dataframe tbody tr th {\n",
       "        vertical-align: top;\n",
       "    }\n",
       "\n",
       "    .dataframe thead th {\n",
       "        text-align: right;\n",
       "    }\n",
       "</style>\n",
       "<table border=\"1\" class=\"dataframe\">\n",
       "  <thead>\n",
       "    <tr style=\"text-align: right;\">\n",
       "      <th></th>\n",
       "      <th>Date</th>\n",
       "      <th>Alcohol_Forecast</th>\n",
       "      <th>Alcohol_Actual</th>\n",
       "    </tr>\n",
       "  </thead>\n",
       "  <tbody>\n",
       "    <tr>\n",
       "      <th>0</th>\n",
       "      <td>AUGUST 2019</td>\n",
       "      <td>30</td>\n",
       "      <td>30</td>\n",
       "    </tr>\n",
       "    <tr>\n",
       "      <th>1</th>\n",
       "      <td>AUGUST 2020</td>\n",
       "      <td>30</td>\n",
       "      <td>34</td>\n",
       "    </tr>\n",
       "    <tr>\n",
       "      <th>2</th>\n",
       "      <td>FEBRUARY 2019</td>\n",
       "      <td>24</td>\n",
       "      <td>22</td>\n",
       "    </tr>\n",
       "    <tr>\n",
       "      <th>3</th>\n",
       "      <td>FEBRUARY 2020</td>\n",
       "      <td>25</td>\n",
       "      <td>28</td>\n",
       "    </tr>\n",
       "    <tr>\n",
       "      <th>4</th>\n",
       "      <td>JANUARY 2019</td>\n",
       "      <td>41</td>\n",
       "      <td>38</td>\n",
       "    </tr>\n",
       "    <tr>\n",
       "      <th>5</th>\n",
       "      <td>JANUARY 2020</td>\n",
       "      <td>40</td>\n",
       "      <td>41</td>\n",
       "    </tr>\n",
       "    <tr>\n",
       "      <th>6</th>\n",
       "      <td>JULY 2019</td>\n",
       "      <td>38</td>\n",
       "      <td>35</td>\n",
       "    </tr>\n",
       "    <tr>\n",
       "      <th>7</th>\n",
       "      <td>JULY 2020</td>\n",
       "      <td>39</td>\n",
       "      <td>41</td>\n",
       "    </tr>\n",
       "    <tr>\n",
       "      <th>8</th>\n",
       "      <td>JUNE 2019</td>\n",
       "      <td>50</td>\n",
       "      <td>28</td>\n",
       "    </tr>\n",
       "    <tr>\n",
       "      <th>9</th>\n",
       "      <td>JUNE 2020</td>\n",
       "      <td>33</td>\n",
       "      <td>28</td>\n",
       "    </tr>\n",
       "    <tr>\n",
       "      <th>10</th>\n",
       "      <td>MARCH 2019</td>\n",
       "      <td>27</td>\n",
       "      <td>22</td>\n",
       "    </tr>\n",
       "    <tr>\n",
       "      <th>11</th>\n",
       "      <td>MARCH 2020</td>\n",
       "      <td>26</td>\n",
       "      <td>25</td>\n",
       "    </tr>\n",
       "    <tr>\n",
       "      <th>12</th>\n",
       "      <td>MAY\\n2019</td>\n",
       "      <td>31</td>\n",
       "      <td>24</td>\n",
       "    </tr>\n",
       "    <tr>\n",
       "      <th>13</th>\n",
       "      <td>MAY 2020</td>\n",
       "      <td>31</td>\n",
       "      <td>28</td>\n",
       "    </tr>\n",
       "    <tr>\n",
       "      <th>14</th>\n",
       "      <td>NOVEMBER 2019</td>\n",
       "      <td>33</td>\n",
       "      <td>39</td>\n",
       "    </tr>\n",
       "    <tr>\n",
       "      <th>15</th>\n",
       "      <td>NOVEMBER 2020</td>\n",
       "      <td>33</td>\n",
       "      <td>35</td>\n",
       "    </tr>\n",
       "    <tr>\n",
       "      <th>16</th>\n",
       "      <td>OCTOBER 2019</td>\n",
       "      <td>33</td>\n",
       "      <td>33</td>\n",
       "    </tr>\n",
       "    <tr>\n",
       "      <th>17</th>\n",
       "      <td>OCTOBER 2020</td>\n",
       "      <td>33</td>\n",
       "      <td>37</td>\n",
       "    </tr>\n",
       "    <tr>\n",
       "      <th>18</th>\n",
       "      <td>SEPTEMBER 2019</td>\n",
       "      <td>33</td>\n",
       "      <td>29</td>\n",
       "    </tr>\n",
       "    <tr>\n",
       "      <th>19</th>\n",
       "      <td>SEPTEMBER 2020</td>\n",
       "      <td>33</td>\n",
       "      <td>33</td>\n",
       "    </tr>\n",
       "  </tbody>\n",
       "</table>\n",
       "</div>"
      ],
      "text/plain": [
       "              Date Alcohol_Forecast Alcohol_Actual\n",
       "0      AUGUST 2019               30            30 \n",
       "1      AUGUST 2020               30            34 \n",
       "2    FEBRUARY 2019               24            22 \n",
       "3    FEBRUARY 2020               25            28 \n",
       "4     JANUARY 2019               41            38 \n",
       "5     JANUARY 2020               40            41 \n",
       "6        JULY 2019               38            35 \n",
       "7        JULY 2020               39             41\n",
       "8        JUNE 2019               50            28 \n",
       "9        JUNE 2020               33            28 \n",
       "10      MARCH 2019               27            22 \n",
       "11      MARCH 2020               26            25 \n",
       "12       MAY\\n2019               31            24 \n",
       "13        MAY 2020               31            28 \n",
       "14   NOVEMBER 2019               33            39 \n",
       "15   NOVEMBER 2020               33            35 \n",
       "16    OCTOBER 2019               33            33 \n",
       "17    OCTOBER 2020               33            37 \n",
       "18  SEPTEMBER 2019               33            29 \n",
       "19  SEPTEMBER 2020               33            33 "
      ]
     },
     "execution_count": 51,
     "metadata": {},
     "output_type": "execute_result"
    }
   ],
   "source": [
    "df"
   ]
  },
  {
   "cell_type": "code",
   "execution_count": 52,
   "id": "aca6330b",
   "metadata": {},
   "outputs": [],
   "source": [
    "##convert the dateframe into a csv\n",
    "file_name = \"cal_alcohol_revenues.csv\"\n",
    "df.to_csv(file_name, encoding = \"UTF-8\", index = False)"
   ]
  },
  {
   "cell_type": "code",
   "execution_count": null,
   "id": "df2282e2",
   "metadata": {},
   "outputs": [],
   "source": []
  }
 ],
 "metadata": {
  "kernelspec": {
   "display_name": "Python 3",
   "language": "python",
   "name": "python3"
  },
  "language_info": {
   "codemirror_mode": {
    "name": "ipython",
    "version": 3
   },
   "file_extension": ".py",
   "mimetype": "text/x-python",
   "name": "python",
   "nbconvert_exporter": "python",
   "pygments_lexer": "ipython3",
   "version": "3.8.8"
  }
 },
 "nbformat": 4,
 "nbformat_minor": 5
}
