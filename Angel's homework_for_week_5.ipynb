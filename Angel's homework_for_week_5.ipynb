{
 "cells": [
  {
   "cell_type": "markdown",
   "metadata": {
    "id": "TG0YzMY9Dt8w"
   },
   "source": [
    "You will scrape this <a href=\"https://sandeepmj.github.io/scrape-example-page/homework-site.html\">mockup site</a> that lists a few data points for addiction centers."
   ]
  },
  {
   "cell_type": "code",
   "execution_count": 4,
   "metadata": {
    "id": "cXQW0IJoDt8x"
   },
   "outputs": [],
   "source": [
    "## import library(ies)\n",
    "from bs4 import BeautifulSoup \n",
    "import icecream as ic \n",
    "import requests "
   ]
  },
  {
   "cell_type": "code",
   "execution_count": 7,
   "metadata": {},
   "outputs": [
    {
     "data": {
      "text/plain": [
       "200"
      ]
     },
     "execution_count": 7,
     "metadata": {},
     "output_type": "execute_result"
    }
   ],
   "source": [
    "## capture the contents of the site in a response object\n",
    "url = \"https://sandeepmj.github.io/scrape-example-page/homework-site.html\"\n",
    "response = requests.get(url)\n",
    "response.status_code"
   ]
  },
  {
   "cell_type": "code",
   "execution_count": 9,
   "metadata": {
    "id": "cgMlKxSADt8x"
   },
   "outputs": [
    {
     "name": "stdout",
     "output_type": "stream",
     "text": [
      "<html>\n",
      " <body>\n",
      "  <div class=\"register-list\">\n",
      "   <div class=\"container\">\n",
      "    <h1>\n",
      "     Addiction Treatment Center Inspections\n",
      "    </h1>\n",
      "    <div class=\"wrap\">\n",
      "     <h4>\n",
      "      <a href=\"/public-register/recovery-foundation/\">\n",
      "       Recovery Foundation\n",
      "      </a>\n",
      "     </h4>\n",
      "     <div class=\"row\">\n",
      "      <p class=\"status\">\n",
      "       Inspection: Passed\n",
      "      </p>\n",
      "      <p class=\"registration\">\n",
      "       Registration# 4235\n",
      "      </p>\n",
      "      <p class=\"regulation\">\n",
      "       Non Regulated\n",
      "      </p>\n",
      "      <p class=\"cost\">\n",
      "       $10,000\n",
      "      </p>\n",
      "      <p class=\"loans\">\n",
      "       Loans available\n",
      "      </p>\n",
      "     </div>\n",
      "    </div>\n",
      "    <div class=\"wrap\">\n",
      "     <h4>\n",
      "      <a href=\"/public-register/new-horizons/\">\n",
      "       New Horizons\n",
      "      </a>\n",
      "     </h4>\n",
      "     <div class=\"row\">\n",
      "      <p class=\"status\">\n",
      "       Inspection: Failed\n",
      "      </p>\n",
      "      <p class=\"registration\">\n",
      "       Registration# 4234\n",
      "      </p>\n",
      "      <p class=\"regulation\">\n",
      "       Non Regulated\n",
      "      </p>\n",
      "      <p class=\"cost\">\n",
      "       $15,000\n",
      "      </p>\n",
      "      <p class=\"loans\">\n",
      "       Loans available\n",
      "      </p>\n",
      "     </div>\n",
      "    </div>\n",
      "    <div class=\"wrap\">\n",
      "     <h4>\n",
      "      <a href=\"/public-register/renewal-light/\">\n",
      "       Renewable Light\n",
      "      </a>\n",
      "     </h4>\n",
      "     <div class=\"row\">\n",
      "      <p class=\"status\">\n",
      "       Inspection: Passed\n",
      "      </p>\n",
      "      <p class=\"registration\">\n",
      "       Registration# 4231\n",
      "      </p>\n",
      "      <p class=\"regulation\">\n",
      "       Regulated\n",
      "      </p>\n",
      "      <p class=\"cost\">\n",
      "       $11,000\n",
      "      </p>\n",
      "      <p class=\"loans\">\n",
      "       Loans available\n",
      "      </p>\n",
      "     </div>\n",
      "    </div>\n",
      "   </div>\n",
      "  </div>\n",
      " </body>\n",
      "</html>\n",
      "\n"
     ]
    }
   ],
   "source": [
    "## generate and print soup\n",
    "soup = BeautifulSoup (response.text, \"html.parser\")\n",
    "print(soup.prettify())"
   ]
  },
  {
   "cell_type": "code",
   "execution_count": 10,
   "metadata": {
    "id": "RLW9lFCyDt8x"
   },
   "outputs": [
    {
     "data": {
      "text/plain": [
       "bs4.BeautifulSoup"
      ]
     },
     "execution_count": 10,
     "metadata": {},
     "output_type": "execute_result"
    }
   ],
   "source": [
    "## check data type of soup\n",
    "type(soup)"
   ]
  },
  {
   "cell_type": "code",
   "execution_count": 11,
   "metadata": {
    "id": "H8nE6kaADt8x"
   },
   "outputs": [
    {
     "data": {
      "text/plain": [
       "<h4><a href=\"/public-register/recovery-foundation/\">Recovery Foundation</a></h4>"
      ]
     },
     "execution_count": 11,
     "metadata": {},
     "output_type": "execute_result"
    }
   ],
   "source": [
    "### Return the name of the first center (including the html)\n",
    "soup.h4"
   ]
  },
  {
   "cell_type": "code",
   "execution_count": 12,
   "metadata": {
    "id": "yuyqylpRDt8x"
   },
   "outputs": [
    {
     "data": {
      "text/plain": [
       "'Recovery Foundation'"
      ]
     },
     "execution_count": 12,
     "metadata": {},
     "output_type": "execute_result"
    }
   ],
   "source": [
    "### Return only the name of the first center (remove all the html)\n",
    "soup.h4.get_text()"
   ]
  },
  {
   "cell_type": "code",
   "execution_count": 113,
   "metadata": {
    "id": "KeXhNlUxDt8x"
   },
   "outputs": [
    {
     "data": {
      "text/plain": [
       "<a href=\"/public-register/recovery-foundation/\">Recovery Foundation</a>"
      ]
     },
     "execution_count": 113,
     "metadata": {},
     "output_type": "execute_result"
    }
   ],
   "source": [
    "### Return only the URL of the first center\n",
    "soup.a"
   ]
  },
  {
   "cell_type": "code",
   "execution_count": 92,
   "metadata": {
    "id": "A5Z8R5DLDt8x"
   },
   "outputs": [
    {
     "data": {
      "text/plain": [
       "[<div class=\"row\">\n",
       " <p class=\"status\">Inspection: Passed</p>\n",
       " <p class=\"registration\">Registration# 4235</p>\n",
       " <p class=\"regulation\">Non Regulated</p>\n",
       " <p class=\"cost\">$10,000</p>\n",
       " <p class=\"loans\">Loans available</p>\n",
       " </div>,\n",
       " <div class=\"row\">\n",
       " <p class=\"status\">Inspection: Failed</p>\n",
       " <p class=\"registration\">Registration# 4234</p>\n",
       " <p class=\"regulation\">Non Regulated</p>\n",
       " <p class=\"cost\">$15,000</p>\n",
       " <p class=\"loans\">Loans available</p>\n",
       " </div>,\n",
       " <div class=\"row\">\n",
       " <p class=\"status\">Inspection: Passed</p>\n",
       " <p class=\"registration\">Registration# 4231</p>\n",
       " <p class=\"regulation\">Regulated</p>\n",
       " <p class=\"cost\">$11,000</p>\n",
       " <p class=\"loans\">Loans available</p>\n",
       " </div>]"
      ]
     },
     "execution_count": 92,
     "metadata": {},
     "output_type": "execute_result"
    }
   ],
   "source": [
    "### Find first instance of ALL a center's data                                                        \n",
    "### Think of this as the first group of data associated with a company\n",
    "soup.find_all (\"div\", class_= \"row\")"
   ]
  },
  {
   "cell_type": "code",
   "execution_count": 93,
   "metadata": {
    "id": "mf9-Io-ODt8x"
   },
   "outputs": [
    {
     "data": {
      "text/plain": [
       "[<div class=\"wrap\">\n",
       " <h4><a href=\"/public-register/recovery-foundation/\">Recovery Foundation</a></h4>\n",
       " <div class=\"row\">\n",
       " <p class=\"status\">Inspection: Passed</p>\n",
       " <p class=\"registration\">Registration# 4235</p>\n",
       " <p class=\"regulation\">Non Regulated</p>\n",
       " <p class=\"cost\">$10,000</p>\n",
       " <p class=\"loans\">Loans available</p>\n",
       " </div>\n",
       " </div>,\n",
       " <div class=\"wrap\">\n",
       " <h4><a href=\"/public-register/new-horizons/\">New Horizons</a></h4>\n",
       " <div class=\"row\">\n",
       " <p class=\"status\">Inspection: Failed</p>\n",
       " <p class=\"registration\">Registration# 4234</p>\n",
       " <p class=\"regulation\">Non Regulated</p>\n",
       " <p class=\"cost\">$15,000</p>\n",
       " <p class=\"loans\">Loans available</p>\n",
       " </div>\n",
       " </div>,\n",
       " <div class=\"wrap\">\n",
       " <h4><a href=\"/public-register/renewal-light/\">Renewable Light</a></h4>\n",
       " <div class=\"row\">\n",
       " <p class=\"status\">Inspection: Passed</p>\n",
       " <p class=\"registration\">Registration# 4231</p>\n",
       " <p class=\"regulation\">Regulated</p>\n",
       " <p class=\"cost\">$11,000</p>\n",
       " <p class=\"loans\">Loans available</p>\n",
       " </div>\n",
       " </div>]"
      ]
     },
     "execution_count": 93,
     "metadata": {},
     "output_type": "execute_result"
    }
   ],
   "source": [
    "#### Find all the instances of every centers' data points.                                 \n",
    "soup.find_all (\"div\", class_= \"wrap\")"
   ]
  },
  {
   "cell_type": "code",
   "execution_count": 65,
   "metadata": {
    "id": "PFHFs6v1Dt8x"
   },
   "outputs": [
    {
     "data": {
      "text/plain": [
       "[<p class=\"registration\">Registration# 4235</p>,\n",
       " <p class=\"registration\">Registration# 4234</p>,\n",
       " <p class=\"registration\">Registration# 4231</p>]"
      ]
     },
     "execution_count": 65,
     "metadata": {},
     "output_type": "execute_result"
    }
   ],
   "source": [
    "### Find all the registration data                 \n",
    "registration = soup.find_all (\"p\", class_= \"registration\")\n",
    "registration"
   ]
  },
  {
   "cell_type": "markdown",
   "metadata": {
    "id": "DtuuSUA5Dt8x"
   },
   "source": [
    "### Place all the registration data into a list with only the numbers in the format.\n",
    "It should look like this:\n",
    "\n",
    "```['4235', '4234', '4231']```"
   ]
  },
  {
   "cell_type": "code",
   "execution_count": 79,
   "metadata": {
    "id": "5cDY4G7tDt8x"
   },
   "outputs": [
    {
     "data": {
      "text/plain": [
       "['4235', '4234', '4231']"
      ]
     },
     "execution_count": 79,
     "metadata": {},
     "output_type": "execute_result"
    }
   ],
   "source": [
    "## do it here (create more cells if you need them)                                          \n",
    "registration_lc = [number.get_text()[-4:] for number in registration]\n",
    "registration_lc"
   ]
  },
  {
   "cell_type": "markdown",
   "metadata": {
    "id": "D2nbZQEWDt8x"
   },
   "source": [
    "### Place all the company names into a list.\n",
    "It should look like this:\n",
    "\n",
    "```['Recovery Foundation','New Horizons','Renewable Light']```"
   ]
  },
  {
   "cell_type": "code",
   "execution_count": 52,
   "metadata": {
    "id": "9l8Hru7SDt8x"
   },
   "outputs": [
    {
     "data": {
      "text/plain": [
       "[<h4><a href=\"/public-register/recovery-foundation/\">Recovery Foundation</a></h4>,\n",
       " <h4><a href=\"/public-register/new-horizons/\">New Horizons</a></h4>,\n",
       " <h4><a href=\"/public-register/renewal-light/\">Renewable Light</a></h4>]"
      ]
     },
     "execution_count": 52,
     "metadata": {},
     "output_type": "execute_result"
    }
   ],
   "source": [
    "## do it here (create more cells if you need them)\n",
    "companies = soup.find_all (\"h4\") \n",
    "\n",
    "companies"
   ]
  },
  {
   "cell_type": "code",
   "execution_count": 53,
   "metadata": {
    "id": "DVdyGc5xDt8x"
   },
   "outputs": [
    {
     "data": {
      "text/plain": [
       "['Recovery Foundation', 'New Horizons', 'Renewable Light']"
      ]
     },
     "execution_count": 53,
     "metadata": {},
     "output_type": "execute_result"
    }
   ],
   "source": [
    "### lc\n",
    "companies_lc = [each.get_text() for each in companies]\n",
    "companies_lc"
   ]
  },
  {
   "cell_type": "markdown",
   "metadata": {
    "id": "-34M-wKGDt8x"
   },
   "source": [
    "### Place all the URLS into a list.\n"
   ]
  },
  {
   "cell_type": "code",
   "execution_count": 109,
   "metadata": {
    "id": "ENfvN2DFDt8x"
   },
   "outputs": [],
   "source": [
    "## do it here (create more cells if you need them)                                          \n",
    "links = soup.find_all (\"a\") "
   ]
  },
  {
   "cell_type": "code",
   "execution_count": 83,
   "metadata": {},
   "outputs": [
    {
     "data": {
      "text/plain": [
       "['/public-register/recovery-foundation/',\n",
       " '/public-register/new-horizons/',\n",
       " '/public-register/renewal-light/']"
      ]
     },
     "execution_count": 83,
     "metadata": {},
     "output_type": "execute_result"
    }
   ],
   "source": [
    "all_urls_lc = [link.get(\"href\") for link in links]\n",
    "all_urls_lc"
   ]
  },
  {
   "cell_type": "markdown",
   "metadata": {
    "id": "UDg9QjNPDt8x"
   },
   "source": [
    "### Place all the status into a list.\n",
    "It should look like this:\n",
    "\n",
    "```['Active', 'Inactive', 'Active']```"
   ]
  },
  {
   "cell_type": "code",
   "execution_count": 85,
   "metadata": {
    "id": "n8HN_649Dt8x"
   },
   "outputs": [
    {
     "data": {
      "text/plain": [
       "[<p class=\"status\">Inspection: Passed</p>,\n",
       " <p class=\"status\">Inspection: Failed</p>,\n",
       " <p class=\"status\">Inspection: Passed</p>]"
      ]
     },
     "execution_count": 85,
     "metadata": {},
     "output_type": "execute_result"
    }
   ],
   "source": [
    "## do it here (create more cells if you need them)                                      \n",
    "status = soup.find_all (\"p\", class_= \"status\") \n",
    "status"
   ]
  },
  {
   "cell_type": "code",
   "execution_count": 87,
   "metadata": {
    "id": "d6uTdY9FDt8x"
   },
   "outputs": [
    {
     "data": {
      "text/plain": [
       "['Passed', 'Failed', 'Passed']"
      ]
     },
     "execution_count": 87,
     "metadata": {},
     "output_type": "execute_result"
    }
   ],
   "source": [
    "status_lc = [each.get_text()[-6:] for each in status]\n",
    "status_lc"
   ]
  },
  {
   "cell_type": "markdown",
   "metadata": {
    "id": "mjfohXEFDt8x"
   },
   "source": [
    "### Turn these lists into dataframes and export to a csv"
   ]
  },
  {
   "cell_type": "code",
   "execution_count": 59,
   "metadata": {
    "id": "zc_fxl_sDt8x"
   },
   "outputs": [],
   "source": [
    "## import pandas\n",
    "import pandas as pd"
   ]
  },
  {
   "cell_type": "code",
   "execution_count": 63,
   "metadata": {
    "id": "1QhFU-AyDt8x"
   },
   "outputs": [],
   "source": [
    "### use pandas DataFrame method to zip files into a dataframe\n",
    "filename = \"addiction_centers.csv\""
   ]
  },
  {
   "cell_type": "code",
   "execution_count": 88,
   "metadata": {},
   "outputs": [
    {
     "data": {
      "text/plain": [
       "[{'place': 'Recovery Foundation',\n",
       "  'tag': '4235',\n",
       "  'link': '/public-register/recovery-foundation/',\n",
       "  'position': 'Passed'},\n",
       " {'place': 'New Horizons',\n",
       "  'tag': '4234',\n",
       "  'link': '/public-register/new-horizons/',\n",
       "  'position': 'Failed'},\n",
       " {'place': 'Renewable Light',\n",
       "  'tag': '4231',\n",
       "  'link': '/public-register/renewal-light/',\n",
       "  'position': 'Passed'}]"
      ]
     },
     "execution_count": 88,
     "metadata": {},
     "output_type": "execute_result"
    }
   ],
   "source": [
    "\n",
    "addict_cent_list = []\n",
    "for (center, number, url, status) in zip (companies_lc, registration_lc, all_urls_lc, status_lc):\n",
    "    \n",
    "    addict = {\"place\": center, \"tag\": number, \"link\": url, \"position\": status}\n",
    "        \n",
    "    addict_cent_list.append(addict)\n",
    "addict_cent_list"
   ]
  },
  {
   "cell_type": "code",
   "execution_count": 89,
   "metadata": {},
   "outputs": [],
   "source": [
    "df = pd.DataFrame (addict_cent_list)"
   ]
  },
  {
   "cell_type": "code",
   "execution_count": 90,
   "metadata": {},
   "outputs": [],
   "source": [
    "df.columns = [\"place\", \"tag\", \"link\", \"position\"]"
   ]
  },
  {
   "cell_type": "code",
   "execution_count": 91,
   "metadata": {
    "id": "_kGECyfbDt8x"
   },
   "outputs": [],
   "source": [
    "## export to csv\n",
    "df.to_csv (filename, index= False, encoding = \"UTF-8\")"
   ]
  },
  {
   "cell_type": "code",
   "execution_count": null,
   "metadata": {
    "id": "R64FKfZADt8x"
   },
   "outputs": [],
   "source": []
  }
 ],
 "metadata": {
  "colab": {
   "collapsed_sections": [],
   "name": "homework-for-week-5_BLANKS.ipynb",
   "provenance": []
  },
  "kernelspec": {
   "display_name": "Python 3",
   "language": "python",
   "name": "python3"
  },
  "language_info": {
   "codemirror_mode": {
    "name": "ipython",
    "version": 3
   },
   "file_extension": ".py",
   "mimetype": "text/x-python",
   "name": "python",
   "nbconvert_exporter": "python",
   "pygments_lexer": "ipython3",
   "version": "3.8.8"
  }
 },
 "nbformat": 4,
 "nbformat_minor": 1
}
